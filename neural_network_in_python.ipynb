{
  "metadata": {
    "kernelspec": {
      "language": "python",
      "display_name": "Python 3",
      "name": "python3"
    },
    "language_info": {
      "name": "python",
      "version": "3.10.12",
      "mimetype": "text/x-python",
      "codemirror_mode": {
        "name": "ipython",
        "version": 3
      },
      "pygments_lexer": "ipython3",
      "nbconvert_exporter": "python",
      "file_extension": ".py"
    },
    "colab": {
      "provenance": []
    }
  },
  "nbformat_minor": 0,
  "nbformat": 4,
  "cells": [
    {
      "cell_type": "code",
      "source": [
        "import pandas as pd\n",
        "\n",
        "data = pd.read_csv(\"/content/clean_weather.csv\", index_col=0)\n",
        "data = data.ffill()\n",
        "\n",
        "data.plot.scatter(\"tmax\", \"tmax_tomorrow\")"
      ],
      "metadata": {
        "execution": {
          "iopub.status.busy": "2023-08-03T00:31:00.334647Z",
          "iopub.execute_input": "2023-08-03T00:31:00.335328Z",
          "iopub.status.idle": "2023-08-03T00:31:00.789011Z",
          "shell.execute_reply.started": "2023-08-03T00:31:00.335292Z",
          "shell.execute_reply": "2023-08-03T00:31:00.787794Z"
        },
        "trusted": true,
        "colab": {
          "base_uri": "https://localhost:8080/",
          "height": 466
        },
        "id": "Zw7F0rPYGEhI",
        "outputId": "3bb3db5b-f86f-415e-a3d5-585193f85814"
      },
      "execution_count": 4,
      "outputs": [
        {
          "output_type": "execute_result",
          "data": {
            "text/plain": [
              "<Axes: xlabel='tmax', ylabel='tmax_tomorrow'>"
            ]
          },
          "metadata": {},
          "execution_count": 4
        },
        {
          "output_type": "display_data",
          "data": {
            "text/plain": [
              "<Figure size 640x480 with 1 Axes>"
            ],
            "image/png": "[encoded data removed]"
          },
          "metadata": {}
        }
      ]
    },
    {
      "cell_type": "code",
      "source": [
        "data.corr()"
      ],
      "metadata": {
        "execution": {
          "iopub.status.busy": "2023-08-03T00:31:22.756830Z",
          "iopub.execute_input": "2023-08-03T00:31:22.757401Z",
          "iopub.status.idle": "2023-08-03T00:31:22.780431Z",
          "shell.execute_reply.started": "2023-08-03T00:31:22.757369Z",
          "shell.execute_reply": "2023-08-03T00:31:22.779022Z"
        },
        "trusted": true,
        "id": "BJlwXUltGEhJ",
        "outputId": "82e61865-cc18-4066-e537-39d42460052c",
        "colab": {
          "base_uri": "https://localhost:8080/",
          "height": 175
        }
      },
      "execution_count": 5,
      "outputs": [
        {
          "output_type": "execute_result",
          "data": {
            "text/plain": [
              "                   tmax      tmin      rain  tmax_tomorrow\n",
              "tmax           1.000000  0.615604 -0.219941       0.818561\n",
              "tmin           0.615604  1.000000 -0.019546       0.585572\n",
              "rain          -0.219941 -0.019546  1.000000      -0.211799\n",
              "tmax_tomorrow  0.818561  0.585572 -0.211799       1.000000"
            ],
            "text/html": [
              "\n",
              "\n",
              "  <div id=\"df-d422d7d6-d20e-458a-a328-0cf0757cda22\">\n",
              "    <div class=\"colab-df-container\">\n",
              "      <div>\n",
              "<style scoped>\n",
              "    .dataframe tbody tr th:only-of-type {\n",
              "        vertical-align: middle;\n",
              "    }\n",
              "\n",
              "    .dataframe tbody tr th {\n",
              "        vertical-align: top;\n",
              "    }\n",
              "\n",
              "    .dataframe thead th {\n",
              "        text-align: right;\n",
              "    }\n",
              "</style>\n",
              "<table border=\"1\" class=\"dataframe\">\n",
              "  <thead>\n",
              "    <tr style=\"text-align: right;\">\n",
              "      <th></th>\n",
              "      <th>tmax</th>\n",
              "      <th>tmin</th>\n",
              "      <th>rain</th>\n",
              "      <th>tmax_tomorrow</th>\n",
              "    </tr>\n",
              "  </thead>\n",
              "  <tbody>\n",
              "    <tr>\n",
              "      <th>tmax</th>\n",
              "      <td>1.000000</td>\n",
              "      <td>0.615604</td>\n",
              "      <td>-0.219941</td>\n",
              "      <td>0.818561</td>\n",
              "    </tr>\n",
              "    <tr>\n",
              "      <th>tmin</th>\n",
              "      <td>0.615604</td>\n",
              "      <td>1.000000</td>\n",
              "      <td>-0.019546</td>\n",
              "      <td>0.585572</td>\n",
              "    </tr>\n",
              "    <tr>\n",
              "      <th>rain</th>\n",
              "      <td>-0.219941</td>\n",
              "      <td>-0.019546</td>\n",
              "      <td>1.000000</td>\n",
              "      <td>-0.211799</td>\n",
              "    </tr>\n",
              "    <tr>\n",
              "      <th>tmax_tomorrow</th>\n",
              "      <td>0.818561</td>\n",
              "      <td>0.585572</td>\n",
              "      <td>-0.211799</td>\n",
              "      <td>1.000000</td>\n",
              "    </tr>\n",
              "  </tbody>\n",
              "</table>\n",
              "</div>\n",
              "      <button class=\"colab-df-convert\" onclick=\"convertToInteractive('df-d422d7d6-d20e-458a-a328-0cf0757cda22')\"\n",
              "              title=\"Convert this dataframe to an interactive table.\"\n",
              "              style=\"display:none;\">\n",
              "\n",
              "  <svg xmlns=\"http://www.w3.org/2000/svg\" height=\"24px\"viewBox=\"0 0 24 24\"\n",
              "       width=\"24px\">\n",
              "    <path d=\"M0 0h24v24H0V0z\" fill=\"none\"/>\n",
              "    <path d=\"M18.56 5.44l.94 2.06.94-2.06 2.06-.94-2.06-.94-.94-2.06-.94 2.06-2.06.94zm-11 1L8.5 8.5l.94-2.06 2.06-.94-2.06-.94L8.5 2.5l-.94 2.06-2.06.94zm10 10l.94 2.06.94-2.06 2.06-.94-2.06-.94-.94-2.06-.94 2.06-2.06.94z\"/><path d=\"M17.41 7.96l-1.37-1.37c-.4-.4-.92-.59-1.43-.59-.52 0-1.04.2-1.43.59L10.3 9.45l-7.72 7.72c-.78.78-.78 2.05 0 2.83L4 21.41c.39.39.9.59 1.41.59.51 0 1.02-.2 1.41-.59l7.78-7.78 2.81-2.81c.8-.78.8-2.07 0-2.86zM5.41 20L4 18.59l7.72-7.72 1.47 1.35L5.41 20z\"/>\n",
              "  </svg>\n",
              "      </button>\n",
              "\n",
              "\n",
              "\n",
              "    <div id=\"df-8bbc228b-779f-479a-b733-831b1cfc2b84\">\n",
              "      <button class=\"colab-df-quickchart\" onclick=\"quickchart('df-8bbc228b-779f-479a-b733-831b1cfc2b84')\"\n",
              "              title=\"Suggest charts.\"\n",
              "              style=\"display:none;\">\n",
              "\n",
              "<svg xmlns=\"http://www.w3.org/2000/svg\" height=\"24px\"viewBox=\"0 0 24 24\"\n",
              "     width=\"24px\">\n",
              "    <g>\n",
              "        <path d=\"M19 3H5c-1.1 0-2 .9-2 2v14c0 1.1.9 2 2 2h14c1.1 0 2-.9 2-2V5c0-1.1-.9-2-2-2zM9 17H7v-7h2v7zm4 0h-2V7h2v10zm4 0h-2v-4h2v4z\"/>\n",
              "    </g>\n",
              "</svg>\n",
              "      </button>\n",
              "    </div>\n",
              "\n",
              "<style>\n",
              "  .colab-df-quickchart {\n",
              "    background-color: #E8F0FE;\n",
              "    border: none;\n",
              "    border-radius: 50%;\n",
              "    cursor: pointer;\n",
              "    display: none;\n",
              "    fill: #1967D2;\n",
              "    height: 32px;\n",
              "    padding: 0 0 0 0;\n",
              "    width: 32px;\n",
              "  }\n",
              "\n",
              "  .colab-df-quickchart:hover {\n",
              "    background-color: #E2EBFA;\n",
              "    box-shadow: 0px 1px 2px rgba(60, 64, 67, 0.3), 0px 1px 3px 1px rgba(60, 64, 67, 0.15);\n",
              "    fill: #174EA6;\n",
              "  }\n",
              "\n",
              "  [theme=dark] .colab-df-quickchart {\n",
              "    background-color: #3B4455;\n",
              "    fill: #D2E3FC;\n",
              "  }\n",
              "\n",
              "  [theme=dark] .colab-df-quickchart:hover {\n",
              "    background-color: #434B5C;\n",
              "    box-shadow: 0px 1px 3px 1px rgba(0, 0, 0, 0.15);\n",
              "    filter: drop-shadow(0px 1px 2px rgba(0, 0, 0, 0.3));\n",
              "    fill: #FFFFFF;\n",
              "  }\n",
              "</style>\n",
              "\n",
              "    <script>\n",
              "      async function quickchart(key) {\n",
              "        const containerElement = document.querySelector('#' + key);\n",
              "        const charts = await google.colab.kernel.invokeFunction(\n",
              "            'suggestCharts', [key], {});\n",
              "      }\n",
              "    </script>\n",
              "\n",
              "      <script>\n",
              "\n",
              "function displayQuickchartButton(domScope) {\n",
              "  let quickchartButtonEl =\n",
              "    domScope.querySelector('#df-8bbc228b-779f-479a-b733-831b1cfc2b84 button.colab-df-quickchart');\n",
              "  quickchartButtonEl.style.display =\n",
              "    google.colab.kernel.accessAllowed ? 'block' : 'none';\n",
              "}\n",
              "\n",
              "        displayQuickchartButton(document);\n",
              "      </script>\n",
              "      <style>\n",
              "    .colab-df-container {\n",
              "      display:flex;\n",
              "      flex-wrap:wrap;\n",
              "      gap: 12px;\n",
              "    }\n",
              "\n",
              "    .colab-df-convert {\n",
              "      background-color: #E8F0FE;\n",
              "      border: none;\n",
              "      border-radius: 50%;\n",
              "      cursor: pointer;\n",
              "      display: none;\n",
              "      fill: #1967D2;\n",
              "      height: 32px;\n",
              "      padding: 0 0 0 0;\n",
              "      width: 32px;\n",
              "    }\n",
              "\n",
              "    .colab-df-convert:hover {\n",
              "      background-color: #E2EBFA;\n",
              "      box-shadow: 0px 1px 2px rgba(60, 64, 67, 0.3), 0px 1px 3px 1px rgba(60, 64, 67, 0.15);\n",
              "      fill: #174EA6;\n",
              "    }\n",
              "\n",
              "    [theme=dark] .colab-df-convert {\n",
              "      background-color: #3B4455;\n",
              "      fill: #D2E3FC;\n",
              "    }\n",
              "\n",
              "    [theme=dark] .colab-df-convert:hover {\n",
              "      background-color: #434B5C;\n",
              "      box-shadow: 0px 1px 3px 1px rgba(0, 0, 0, 0.15);\n",
              "      filter: drop-shadow(0px 1px 2px rgba(0, 0, 0, 0.3));\n",
              "      fill: #FFFFFF;\n",
              "    }\n",
              "  </style>\n",
              "\n",
              "      <script>\n",
              "        const buttonEl =\n",
              "          document.querySelector('#df-d422d7d6-d20e-458a-a328-0cf0757cda22 button.colab-df-convert');\n",
              "        buttonEl.style.display =\n",
              "          google.colab.kernel.accessAllowed ? 'block' : 'none';\n",
              "\n",
              "        async function convertToInteractive(key) {\n",
              "          const element = document.querySelector('#df-d422d7d6-d20e-458a-a328-0cf0757cda22');\n",
              "          const dataTable =\n",
              "            await google.colab.kernel.invokeFunction('convertToInteractive',\n",
              "                                                     [key], {});\n",
              "          if (!dataTable) return;\n",
              "\n",
              "          const docLinkHtml = 'Like what you see? Visit the ' +\n",
              "            '<a target=\"_blank\" href=https://colab.research.google.com/notebooks/data_table.ipynb>data table notebook</a>'\n",
              "            + ' to learn more about interactive tables.';\n",
              "          element.innerHTML = '';\n",
              "          dataTable['output_type'] = 'display_data';\n",
              "          await google.colab.output.renderOutput(dataTable, element);\n",
              "          const docLink = document.createElement('div');\n",
              "          docLink.innerHTML = docLinkHtml;\n",
              "          element.appendChild(docLink);\n",
              "        }\n",
              "      </script>\n",
              "    </div>\n",
              "  </div>\n"
            ]
          },
          "metadata": {},
          "execution_count": 5
        }
      ]
    },
    {
      "cell_type": "code",
      "source": [
        "import matplotlib.pyplot as plt\n",
        "\n",
        "data.plot.scatter(\"tmax\", \"tmax_tomorrow\")\n",
        "\n",
        "prediction = lambda x, wl=.82, b=11.99: x * wl +b\n",
        "plt.plot([30, 120], [prediction(30), prediction(120)], 'green')\n"
      ],
      "metadata": {
        "execution": {
          "iopub.status.busy": "2023-08-03T00:36:05.373522Z",
          "iopub.execute_input": "2023-08-03T00:36:05.374045Z",
          "iopub.status.idle": "2023-08-03T00:36:05.748906Z",
          "shell.execute_reply.started": "2023-08-03T00:36:05.374009Z",
          "shell.execute_reply": "2023-08-03T00:36:05.747257Z"
        },
        "trusted": true,
        "colab": {
          "base_uri": "https://localhost:8080/",
          "height": 466
        },
        "id": "6B9zJEgtGEhJ",
        "outputId": "bf305c0d-68e5-4727-d906-72d5aeefd177"
      },
      "execution_count": 6,
      "outputs": [
        {
          "output_type": "execute_result",
          "data": {
            "text/plain": [
              "[<matplotlib.lines.Line2D at 0x7fc2e5eb2a70>]"
            ]
          },
          "metadata": {},
          "execution_count": 6
        },
        {
          "output_type": "display_data",
          "data": {
            "text/plain": [
              "<Figure size 640x480 with 1 Axes>"
            ],
            "image/png": "[encoded data removed]"
          },
          "metadata": {}
        }
      ]
    },
    {
      "cell_type": "code",
      "source": [
        "import numpy as np\n",
        "\n",
        "def mse(actual, predicted):\n",
        "    return np.mean((actual - predicted) ** 2)\n",
        "\n",
        "print(mse(data[\"tmax_tomorrow\"], prediction(data[\"tmax\"])))\n",
        "print(mse(data[\"tmax_tomorrow\"], prediction(data[\"tmax\"], .82, 13)))"
      ],
      "metadata": {
        "execution": {
          "iopub.status.busy": "2023-08-03T00:40:20.927043Z",
          "iopub.execute_input": "2023-08-03T00:40:20.927450Z",
          "iopub.status.idle": "2023-08-03T00:40:20.940658Z",
          "shell.execute_reply.started": "2023-08-03T00:40:20.927418Z",
          "shell.execute_reply": "2023-08-03T00:40:20.939382Z"
        },
        "trusted": true,
        "colab": {
          "base_uri": "https://localhost:8080/"
        },
        "id": "PjdVNd9OGEhK",
        "outputId": "ce77d35a-68b1-4c73-e914-9753a54f8bd0"
      },
      "execution_count": 7,
      "outputs": [
        {
          "output_type": "stream",
          "name": "stdout",
          "text": [
            "22.897335324598416\n",
            "24.118285439336727\n"
          ]
        }
      ]
    },
    {
      "cell_type": "code",
      "source": [
        "tmax_bins = pd.cut(data[\"tmax\"], 25)\n",
        "\n",
        "ratios = (data[\"tmax_tomorrow\"] - 11.99 / data[\"tmax\"])\n",
        "binned_ratio = ratios.groupby(tmax_bins).mean()\n",
        "binned_tmax = data[\"tmax\"].groupby(tmax_bins).mean()\n",
        "plt.scatter(binned_tmax, binned_ratio)"
      ],
      "metadata": {
        "execution": {
          "iopub.status.busy": "2023-08-03T00:45:27.013780Z",
          "iopub.execute_input": "2023-08-03T00:45:27.014246Z",
          "iopub.status.idle": "2023-08-03T00:45:27.298289Z",
          "shell.execute_reply.started": "2023-08-03T00:45:27.014212Z",
          "shell.execute_reply": "2023-08-03T00:45:27.297017Z"
        },
        "trusted": true,
        "colab": {
          "base_uri": "https://localhost:8080/",
          "height": 447
        },
        "id": "Jr6_89R4GEhK",
        "outputId": "6d770e1a-f3aa-4860-ad52-5d337a13ec74"
      },
      "execution_count": 8,
      "outputs": [
        {
          "output_type": "execute_result",
          "data": {
            "text/plain": [
              "<matplotlib.collections.PathCollection at 0x7fc2e3dbd270>"
            ]
          },
          "metadata": {},
          "execution_count": 8
        },
        {
          "output_type": "display_data",
          "data": {
            "text/plain": [
              "<Figure size 640x480 with 1 Axes>"
            ],
            "image/png": "[encoded data removed]"
          },
          "metadata": {}
        }
      ]
    },
    {
      "cell_type": "markdown",
      "source": [
        "A nonlinear transformation on top of the linear transformation.\n",
        "Multiple layers, which can capture interactions between features.\n",
        "Multiple hidden units, which each have slightly differenct linear and nonlinear transformation."
      ],
      "metadata": {
        "id": "MnMwAT2hGEhK"
      }
    },
    {
      "cell_type": "markdown",
      "source": [
        "$y = wx +b$\n",
        "\n",
        "$y = relu(wx +b)$"
      ],
      "metadata": {
        "id": "WYWtIpr7GEhL"
      }
    },
    {
      "cell_type": "code",
      "source": [
        "temps = np.arange(-50, 50)\n",
        "plt.plot(temps, np.maximum(0, prediction(temps)))"
      ],
      "metadata": {
        "execution": {
          "iopub.status.busy": "2023-08-03T00:52:37.991363Z",
          "iopub.execute_input": "2023-08-03T00:52:37.991828Z",
          "iopub.status.idle": "2023-08-03T00:52:38.268056Z",
          "shell.execute_reply.started": "2023-08-03T00:52:37.991790Z",
          "shell.execute_reply": "2023-08-03T00:52:38.266791Z"
        },
        "trusted": true,
        "colab": {
          "base_uri": "https://localhost:8080/",
          "height": 447
        },
        "id": "pXWvohrSGEhL",
        "outputId": "a3316d4d-c9c1-41b3-ccb6-c3f748ee88f7"
      },
      "execution_count": 9,
      "outputs": [
        {
          "output_type": "execute_result",
          "data": {
            "text/plain": [
              "[<matplotlib.lines.Line2D at 0x7fc2e3c93b20>]"
            ]
          },
          "metadata": {},
          "execution_count": 9
        },
        {
          "output_type": "display_data",
          "data": {
            "text/plain": [
              "<Figure size 640x480 with 1 Axes>"
            ],
            "image/png": "[encoded data removed]"
          },
          "metadata": {}
        }
      ]
    },
    {
      "cell_type": "markdown",
      "source": [
        "$\\hat{y} = w_{2} relu(w_{1}x +b_{1}) + b_{2}$"
      ],
      "metadata": {
        "id": "NLV8QJWdGEhL"
      }
    },
    {
      "cell_type": "code",
      "source": [
        "temps = np.arange(-50, 50)\n",
        "\n",
        "layer1 = np.maximum(0, prediction(temps))\n",
        "layer2 = prediction(layer1, .5, 10)\n",
        "\n",
        "plt.plot(temps, layer2)\n",
        "plt.ylim((0, 40))"
      ],
      "metadata": {
        "execution": {
          "iopub.status.busy": "2023-08-03T00:59:52.918015Z",
          "iopub.execute_input": "2023-08-03T00:59:52.918438Z",
          "iopub.status.idle": "2023-08-03T00:59:53.195602Z",
          "shell.execute_reply.started": "2023-08-03T00:59:52.918404Z",
          "shell.execute_reply": "2023-08-03T00:59:53.194602Z"
        },
        "trusted": true,
        "colab": {
          "base_uri": "https://localhost:8080/",
          "height": 452
        },
        "id": "eW0K3feDGEhM",
        "outputId": "2a59f06d-3e6d-4aaf-9f2f-a732864d769d"
      },
      "execution_count": 10,
      "outputs": [
        {
          "output_type": "execute_result",
          "data": {
            "text/plain": [
              "(0.0, 40.0)"
            ]
          },
          "metadata": {},
          "execution_count": 10
        },
        {
          "output_type": "display_data",
          "data": {
            "text/plain": [
              "<Figure size 640x480 with 1 Axes>"
            ],
            "image/png": "[encoded data removed]"
          },
          "metadata": {}
        }
      ]
    },
    {
      "cell_type": "code",
      "source": [
        "layer1_1 = np.maximum(0, prediction(temps))\n",
        "layer1_2 = np.maximum(0, prediction(temps, .1, 10))\n",
        "layer1_3 = np.maximum(0, prediction(temps, 2, -30))\n",
        "\n",
        "layer2 = layer1_1 * 0.1 + layer1_2 * .3 + layer1_3 * 0.4 +20\n",
        "plt.plot(temps, layer2)\n"
      ],
      "metadata": {
        "execution": {
          "iopub.status.busy": "2023-08-03T01:06:25.500500Z",
          "iopub.execute_input": "2023-08-03T01:06:25.501036Z",
          "iopub.status.idle": "2023-08-03T01:06:25.780834Z",
          "shell.execute_reply.started": "2023-08-03T01:06:25.501000Z",
          "shell.execute_reply": "2023-08-03T01:06:25.779610Z"
        },
        "trusted": true,
        "colab": {
          "base_uri": "https://localhost:8080/",
          "height": 447
        },
        "id": "StoB-Ug7GEhM",
        "outputId": "b008446b-2a84-4171-e1db-8d79eec44f0e"
      },
      "execution_count": 11,
      "outputs": [
        {
          "output_type": "execute_result",
          "data": {
            "text/plain": [
              "[<matplotlib.lines.Line2D at 0x7fc2e3b95b70>]"
            ]
          },
          "metadata": {},
          "execution_count": 11
        },
        {
          "output_type": "display_data",
          "data": {
            "text/plain": [
              "<Figure size 640x480 with 1 Axes>"
            ],
            "image/png": "[encoded data removed]"
          },
          "metadata": {}
        }
      ]
    },
    {
      "cell_type": "code",
      "source": [
        "!pip install tensor-sensor\n",
        "import tsensor"
      ],
      "metadata": {
        "execution": {
          "iopub.status.busy": "2023-08-03T01:41:21.976753Z",
          "iopub.execute_input": "2023-08-03T01:41:21.977386Z",
          "iopub.status.idle": "2023-08-03T01:41:25.217670Z",
          "shell.execute_reply.started": "2023-08-03T01:41:21.977333Z",
          "shell.execute_reply": "2023-08-03T01:41:25.215519Z"
        },
        "trusted": true,
        "colab": {
          "base_uri": "https://localhost:8080/"
        },
        "id": "8HGcmw5nGEhM",
        "outputId": "4291a60a-9b1a-46f6-f3a5-a998e836a8a9"
      },
      "execution_count": 12,
      "outputs": [
        {
          "output_type": "stream",
          "name": "stdout",
          "text": [
            "Collecting tensor-sensor\n",
            "  Downloading tensor-sensor-1.0.tar.gz (23 kB)\n",
            "  Preparing metadata (setup.py) ... \u001b[?25l\u001b[?25hdone\n",
            "Requirement already satisfied: graphviz>=0.14.1 in /usr/local/lib/python3.10/dist-packages (from tensor-sensor) (0.20.1)\n",
            "Requirement already satisfied: numpy in /usr/local/lib/python3.10/dist-packages (from tensor-sensor) (1.22.4)\n",
            "Requirement already satisfied: IPython in /usr/local/lib/python3.10/dist-packages (from tensor-sensor) (7.34.0)\n",
            "Requirement already satisfied: matplotlib in /usr/local/lib/python3.10/dist-packages (from tensor-sensor) (3.7.1)\n",
            "Requirement already satisfied: setuptools>=18.5 in /usr/local/lib/python3.10/dist-packages (from IPython->tensor-sensor) (67.7.2)\n",
            "Collecting jedi>=0.16 (from IPython->tensor-sensor)\n",
            "  Downloading jedi-0.19.0-py2.py3-none-any.whl (1.6 MB)\n",
            "\u001b[2K     \u001b[90m━━━━━━━━━━━━━━━━━━━━━━━━━━━━━━━━━━━━━━━━\u001b[0m \u001b[32m1.6/1.6 MB\u001b[0m \u001b[31m26.4 MB/s\u001b[0m eta \u001b[36m0:00:00\u001b[0m\n",
            "\u001b[?25hRequirement already satisfied: decorator in /usr/local/lib/python3.10/dist-packages (from IPython->tensor-sensor) (4.4.2)\n",
            "Requirement already satisfied: pickleshare in /usr/local/lib/python3.10/dist-packages (from IPython->tensor-sensor) (0.7.5)\n",
            "Requirement already satisfied: traitlets>=4.2 in /usr/local/lib/python3.10/dist-packages (from IPython->tensor-sensor) (5.7.1)\n",
            "Requirement already satisfied: prompt-toolkit!=3.0.0,!=3.0.1,<3.1.0,>=2.0.0 in /usr/local/lib/python3.10/dist-packages (from IPython->tensor-sensor) (3.0.39)\n",
            "Requirement already satisfied: pygments in /usr/local/lib/python3.10/dist-packages (from IPython->tensor-sensor) (2.14.0)\n",
            "Requirement already satisfied: backcall in /usr/local/lib/python3.10/dist-packages (from IPython->tensor-sensor) (0.2.0)\n",
            "Requirement already satisfied: matplotlib-inline in /usr/local/lib/python3.10/dist-packages (from IPython->tensor-sensor) (0.1.6)\n",
            "Requirement already satisfied: pexpect>4.3 in /usr/local/lib/python3.10/dist-packages (from IPython->tensor-sensor) (4.8.0)\n",
            "Requirement already satisfied: contourpy>=1.0.1 in /usr/local/lib/python3.10/dist-packages (from matplotlib->tensor-sensor) (1.1.0)\n",
            "Requirement already satisfied: cycler>=0.10 in /usr/local/lib/python3.10/dist-packages (from matplotlib->tensor-sensor) (0.11.0)\n",
            "Requirement already satisfied: fonttools>=4.22.0 in /usr/local/lib/python3.10/dist-packages (from matplotlib->tensor-sensor) (4.41.1)\n",
            "Requirement already satisfied: kiwisolver>=1.0.1 in /usr/local/lib/python3.10/dist-packages (from matplotlib->tensor-sensor) (1.4.4)\n",
            "Requirement already satisfied: packaging>=20.0 in /usr/local/lib/python3.10/dist-packages (from matplotlib->tensor-sensor) (23.1)\n",
            "Requirement already satisfied: pillow>=6.2.0 in /usr/local/lib/python3.10/dist-packages (from matplotlib->tensor-sensor) (9.4.0)\n",
            "Requirement already satisfied: pyparsing>=2.3.1 in /usr/local/lib/python3.10/dist-packages (from matplotlib->tensor-sensor) (3.1.0)\n",
            "Requirement already satisfied: python-dateutil>=2.7 in /usr/local/lib/python3.10/dist-packages (from matplotlib->tensor-sensor) (2.8.2)\n",
            "Requirement already satisfied: parso<0.9.0,>=0.8.3 in /usr/local/lib/python3.10/dist-packages (from jedi>=0.16->IPython->tensor-sensor) (0.8.3)\n",
            "Requirement already satisfied: ptyprocess>=0.5 in /usr/local/lib/python3.10/dist-packages (from pexpect>4.3->IPython->tensor-sensor) (0.7.0)\n",
            "Requirement already satisfied: wcwidth in /usr/local/lib/python3.10/dist-packages (from prompt-toolkit!=3.0.0,!=3.0.1,<3.1.0,>=2.0.0->IPython->tensor-sensor) (0.2.6)\n",
            "Requirement already satisfied: six>=1.5 in /usr/local/lib/python3.10/dist-packages (from python-dateutil>=2.7->matplotlib->tensor-sensor) (1.16.0)\n",
            "Building wheels for collected packages: tensor-sensor\n",
            "  Building wheel for tensor-sensor (setup.py) ... \u001b[?25l\u001b[?25hdone\n",
            "  Created wheel for tensor-sensor: filename=tensor_sensor-1.0-py3-none-any.whl size=26895 sha256=f8e3279260b20dc1a6e01879cd00c68d448f07320a55c451719a4bc1154a6046\n",
            "  Stored in directory: /root/.cache/pip/wheels/cc/56/c8/0c0e7d4ea1b23ae2935bb71ab39b4c1af9f71d4287f6566ecd\n",
            "Successfully built tensor-sensor\n",
            "Installing collected packages: jedi, tensor-sensor\n",
            "Successfully installed jedi-0.19.0 tensor-sensor-1.0\n"
          ]
        }
      ]
    },
    {
      "cell_type": "code",
      "source": [
        "input = np.array([[80], [90], [100], [-20], [-10]])\n",
        "\n",
        "l1_weights = np.array([[.82, .1]])\n",
        "l1_bias = np.array([[11.99, 10]])\n",
        "\n",
        "with tsensor.explain():\n",
        "    l1_output = input @ l1_weights + l1_bias\n",
        "\n",
        "l1_output"
      ],
      "metadata": {
        "execution": {
          "iopub.status.busy": "2023-08-03T01:29:51.707028Z",
          "iopub.execute_input": "2023-08-03T01:29:51.707494Z",
          "iopub.status.idle": "2023-08-03T01:29:51.765024Z",
          "shell.execute_reply.started": "2023-08-03T01:29:51.707448Z",
          "shell.execute_reply": "2023-08-03T01:29:51.762987Z"
        },
        "trusted": true,
        "colab": {
          "base_uri": "https://localhost:8080/",
          "height": 1000
        },
        "id": "d83erpbzGEhM",
        "outputId": "8b8b7b91-a9d6-486a-8d46-a7a38f029912"
      },
      "execution_count": 38,
      "outputs": [
        {
          "output_type": "stream",
          "name": "stderr",
          "text": [
            "WARNING:matplotlib.font_manager:findfont: Font family 'Consolas' not found.\n",
            "WARNING:matplotlib.font_manager:findfont: Font family 'Consolas' not found.\n",
            "WARNING:matplotlib.font_manager:findfont: Font family 'Consolas' not found.\n",
            "WARNING:matplotlib.font_manager:findfont: Font family 'Consolas' not found.\n",
            "WARNING:matplotlib.font_manager:findfont: Font family 'Consolas' not found.\n",
            "WARNING:matplotlib.font_manager:findfont: Font family 'Consolas' not found.\n",
            "WARNING:matplotlib.font_manager:findfont: Font family 'Consolas' not found.\n",
            "WARNING:matplotlib.font_manager:findfont: Font family 'Consolas' not found.\n",
            "WARNING:matplotlib.font_manager:findfont: Font family 'Consolas' not found.\n",
            "WARNING:matplotlib.font_manager:findfont: Font family 'Consolas' not found.\n",
            "WARNING:matplotlib.font_manager:findfont: Font family 'Consolas' not found.\n",
            "WARNING:matplotlib.font_manager:findfont: Font family 'Consolas' not found.\n",
            "WARNING:matplotlib.font_manager:findfont: Font family 'Consolas' not found.\n",
            "WARNING:matplotlib.font_manager:findfont: Font family 'Consolas' not found.\n",
            "WARNING:matplotlib.font_manager:findfont: Font family 'Consolas' not found.\n",
            "WARNING:matplotlib.font_manager:findfont: Font family 'Consolas' not found.\n",
            "WARNING:matplotlib.font_manager:findfont: Font family 'Consolas' not found.\n",
            "WARNING:matplotlib.font_manager:findfont: Font family 'Consolas' not found.\n",
            "WARNING:matplotlib.font_manager:findfont: Font family 'Consolas' not found.\n",
            "WARNING:matplotlib.font_manager:findfont: Font family 'Consolas' not found.\n",
            "WARNING:matplotlib.font_manager:findfont: Font family 'Consolas' not found.\n",
            "WARNING:matplotlib.font_manager:findfont: Font family 'Arial' not found.\n",
            "WARNING:matplotlib.font_manager:findfont: Font family 'Arial' not found.\n",
            "WARNING:matplotlib.font_manager:findfont: Font family 'Arial' not found.\n",
            "WARNING:matplotlib.font_manager:findfont: Font family 'Arial' not found.\n",
            "WARNING:matplotlib.font_manager:findfont: Font family 'Arial' not found.\n",
            "WARNING:matplotlib.font_manager:findfont: Font family 'Consolas' not found.\n",
            "WARNING:matplotlib.font_manager:findfont: Font family 'Consolas' not found.\n",
            "WARNING:matplotlib.font_manager:findfont: Font family 'Consolas' not found.\n",
            "WARNING:matplotlib.font_manager:findfont: Font family 'Consolas' not found.\n",
            "WARNING:matplotlib.font_manager:findfont: Font family 'Consolas' not found.\n",
            "WARNING:matplotlib.font_manager:findfont: Font family 'Consolas' not found.\n",
            "WARNING:matplotlib.font_manager:findfont: Font family 'Consolas' not found.\n",
            "WARNING:matplotlib.font_manager:findfont: Font family 'Consolas' not found.\n",
            "WARNING:matplotlib.font_manager:findfont: Font family 'Consolas' not found.\n",
            "WARNING:matplotlib.font_manager:findfont: Font family 'Consolas' not found.\n",
            "WARNING:matplotlib.font_manager:findfont: Font family 'Consolas' not found.\n",
            "WARNING:matplotlib.font_manager:findfont: Font family 'Consolas' not found.\n",
            "WARNING:matplotlib.font_manager:findfont: Font family 'Consolas' not found.\n",
            "WARNING:matplotlib.font_manager:findfont: Font family 'Consolas' not found.\n",
            "WARNING:matplotlib.font_manager:findfont: Font family 'Consolas' not found.\n",
            "WARNING:matplotlib.font_manager:findfont: Font family 'Consolas' not found.\n",
            "WARNING:matplotlib.font_manager:findfont: Font family 'Consolas' not found.\n",
            "WARNING:matplotlib.font_manager:findfont: Font family 'Consolas' not found.\n",
            "WARNING:matplotlib.font_manager:findfont: Font family 'Consolas' not found.\n",
            "WARNING:matplotlib.font_manager:findfont: Font family 'Consolas' not found.\n",
            "WARNING:matplotlib.font_manager:findfont: Font family 'Consolas' not found.\n",
            "WARNING:matplotlib.font_manager:findfont: Font family 'Consolas' not found.\n",
            "WARNING:matplotlib.font_manager:findfont: Font family 'Consolas' not found.\n",
            "WARNING:matplotlib.font_manager:findfont: Font family 'Consolas' not found.\n",
            "WARNING:matplotlib.font_manager:findfont: Font family 'Consolas' not found.\n",
            "WARNING:matplotlib.font_manager:findfont: Font family 'Consolas' not found.\n",
            "WARNING:matplotlib.font_manager:findfont: Font family 'Consolas' not found.\n",
            "WARNING:matplotlib.font_manager:findfont: Font family 'Consolas' not found.\n",
            "WARNING:matplotlib.font_manager:findfont: Font family 'Consolas' not found.\n",
            "WARNING:matplotlib.font_manager:findfont: Font family 'Consolas' not found.\n",
            "WARNING:matplotlib.font_manager:findfont: Font family 'Consolas' not found.\n",
            "WARNING:matplotlib.font_manager:findfont: Font family 'Consolas' not found.\n",
            "WARNING:matplotlib.font_manager:findfont: Font family 'Consolas' not found.\n",
            "WARNING:matplotlib.font_manager:findfont: Font family 'Consolas' not found.\n",
            "WARNING:matplotlib.font_manager:findfont: Font family 'Consolas' not found.\n",
            "WARNING:matplotlib.font_manager:findfont: Font family 'Consolas' not found.\n",
            "WARNING:matplotlib.font_manager:findfont: Font family 'Consolas' not found.\n",
            "WARNING:matplotlib.font_manager:findfont: Font family 'Consolas' not found.\n",
            "WARNING:matplotlib.font_manager:findfont: Font family 'Consolas' not found.\n",
            "WARNING:matplotlib.font_manager:findfont: Font family 'Consolas' not found.\n",
            "WARNING:matplotlib.font_manager:findfont: Font family 'Consolas' not found.\n",
            "WARNING:matplotlib.font_manager:findfont: Font family 'Consolas' not found.\n",
            "WARNING:matplotlib.font_manager:findfont: Font family 'Consolas' not found.\n",
            "WARNING:matplotlib.font_manager:findfont: Font family 'Consolas' not found.\n",
            "WARNING:matplotlib.font_manager:findfont: Font family 'Consolas' not found.\n",
            "WARNING:matplotlib.font_manager:findfont: Font family 'Consolas' not found.\n",
            "WARNING:matplotlib.font_manager:findfont: Font family 'Consolas' not found.\n",
            "WARNING:matplotlib.font_manager:findfont: Font family 'Consolas' not found.\n",
            "WARNING:matplotlib.font_manager:findfont: Font family 'Consolas' not found.\n",
            "WARNING:matplotlib.font_manager:findfont: Font family 'Consolas' not found.\n",
            "WARNING:matplotlib.font_manager:findfont: Font family 'Consolas' not found.\n",
            "WARNING:matplotlib.font_manager:findfont: Font family 'Consolas' not found.\n",
            "WARNING:matplotlib.font_manager:findfont: Font family 'Consolas' not found.\n",
            "WARNING:matplotlib.font_manager:findfont: Font family 'Consolas' not found.\n",
            "WARNING:matplotlib.font_manager:findfont: Font family 'Consolas' not found.\n",
            "WARNING:matplotlib.font_manager:findfont: Font family 'Consolas' not found.\n",
            "WARNING:matplotlib.font_manager:findfont: Font family 'Consolas' not found.\n",
            "WARNING:matplotlib.font_manager:findfont: Font family 'Consolas' not found.\n",
            "WARNING:matplotlib.font_manager:findfont: Font family 'Consolas' not found.\n",
            "WARNING:matplotlib.font_manager:findfont: Font family 'Consolas' not found.\n",
            "WARNING:matplotlib.font_manager:findfont: Font family 'Consolas' not found.\n",
            "WARNING:matplotlib.font_manager:findfont: Font family 'Arial' not found.\n",
            "WARNING:matplotlib.font_manager:findfont: Font family 'Arial' not found.\n",
            "WARNING:matplotlib.font_manager:findfont: Font family 'Arial' not found.\n",
            "WARNING:matplotlib.font_manager:findfont: Font family 'Arial' not found.\n",
            "WARNING:matplotlib.font_manager:findfont: Font family 'Arial' not found.\n",
            "WARNING:matplotlib.font_manager:findfont: Font family 'Arial' not found.\n",
            "WARNING:matplotlib.font_manager:findfont: Font family 'Arial' not found.\n",
            "WARNING:matplotlib.font_manager:findfont: Font family 'Arial' not found.\n",
            "WARNING:matplotlib.font_manager:findfont: Font family 'Arial' not found.\n",
            "WARNING:matplotlib.font_manager:findfont: Font family 'Arial' not found.\n",
            "WARNING:matplotlib.font_manager:findfont: Font family 'Arial' not found.\n",
            "WARNING:matplotlib.font_manager:findfont: Font family 'Arial' not found.\n",
            "WARNING:matplotlib.font_manager:findfont: Font family 'Arial' not found.\n",
            "WARNING:matplotlib.font_manager:findfont: Font family 'Consolas' not found.\n",
            "WARNING:matplotlib.font_manager:findfont: Font family 'Consolas' not found.\n",
            "WARNING:matplotlib.font_manager:findfont: Font family 'Consolas' not found.\n",
            "WARNING:matplotlib.font_manager:findfont: Font family 'Consolas' not found.\n",
            "WARNING:matplotlib.font_manager:findfont: Font family 'Consolas' not found.\n",
            "WARNING:matplotlib.font_manager:findfont: Font family 'Consolas' not found.\n",
            "WARNING:matplotlib.font_manager:findfont: Font family 'Consolas' not found.\n",
            "WARNING:matplotlib.font_manager:findfont: Font family 'Consolas' not found.\n",
            "WARNING:matplotlib.font_manager:findfont: Font family 'Consolas' not found.\n",
            "WARNING:matplotlib.font_manager:findfont: Font family 'Consolas' not found.\n",
            "WARNING:matplotlib.font_manager:findfont: Font family 'Consolas' not found.\n",
            "WARNING:matplotlib.font_manager:findfont: Font family 'Consolas' not found.\n",
            "WARNING:matplotlib.font_manager:findfont: Font family 'Consolas' not found.\n",
            "WARNING:matplotlib.font_manager:findfont: Font family 'Consolas' not found.\n",
            "WARNING:matplotlib.font_manager:findfont: Font family 'Consolas' not found.\n",
            "WARNING:matplotlib.font_manager:findfont: Font family 'Consolas' not found.\n",
            "WARNING:matplotlib.font_manager:findfont: Font family 'Consolas' not found.\n",
            "WARNING:matplotlib.font_manager:findfont: Font family 'Consolas' not found.\n",
            "WARNING:matplotlib.font_manager:findfont: Font family 'Consolas' not found.\n",
            "WARNING:matplotlib.font_manager:findfont: Font family 'Consolas' not found.\n",
            "WARNING:matplotlib.font_manager:findfont: Font family 'Consolas' not found.\n",
            "WARNING:matplotlib.font_manager:findfont: Font family 'Consolas' not found.\n",
            "WARNING:matplotlib.font_manager:findfont: Font family 'Consolas' not found.\n",
            "WARNING:matplotlib.font_manager:findfont: Font family 'Consolas' not found.\n",
            "WARNING:matplotlib.font_manager:findfont: Font family 'Consolas' not found.\n",
            "WARNING:matplotlib.font_manager:findfont: Font family 'Consolas' not found.\n",
            "WARNING:matplotlib.font_manager:findfont: Font family 'Consolas' not found.\n",
            "WARNING:matplotlib.font_manager:findfont: Font family 'Consolas' not found.\n",
            "WARNING:matplotlib.font_manager:findfont: Font family 'Consolas' not found.\n",
            "WARNING:matplotlib.font_manager:findfont: Font family 'Consolas' not found.\n",
            "WARNING:matplotlib.font_manager:findfont: Font family 'Consolas' not found.\n",
            "WARNING:matplotlib.font_manager:findfont: Font family 'Consolas' not found.\n",
            "WARNING:matplotlib.font_manager:findfont: Font family 'Consolas' not found.\n",
            "WARNING:matplotlib.font_manager:findfont: Font family 'Consolas' not found.\n",
            "WARNING:matplotlib.font_manager:findfont: Font family 'Consolas' not found.\n",
            "WARNING:matplotlib.font_manager:findfont: Font family 'Consolas' not found.\n",
            "WARNING:matplotlib.font_manager:findfont: Font family 'Consolas' not found.\n",
            "WARNING:matplotlib.font_manager:findfont: Font family 'Consolas' not found.\n",
            "WARNING:matplotlib.font_manager:findfont: Font family 'Consolas' not found.\n",
            "WARNING:matplotlib.font_manager:findfont: Font family 'Consolas' not found.\n",
            "WARNING:matplotlib.font_manager:findfont: Font family 'Consolas' not found.\n",
            "WARNING:matplotlib.font_manager:findfont: Font family 'Consolas' not found.\n",
            "WARNING:matplotlib.font_manager:findfont: Font family 'Consolas' not found.\n",
            "WARNING:matplotlib.font_manager:findfont: Font family 'Consolas' not found.\n",
            "WARNING:matplotlib.font_manager:findfont: Font family 'Consolas' not found.\n",
            "WARNING:matplotlib.font_manager:findfont: Font family 'Consolas' not found.\n",
            "WARNING:matplotlib.font_manager:findfont: Font family 'Consolas' not found.\n",
            "WARNING:matplotlib.font_manager:findfont: Font family 'Consolas' not found.\n",
            "WARNING:matplotlib.font_manager:findfont: Font family 'Consolas' not found.\n",
            "WARNING:matplotlib.font_manager:findfont: Font family 'Consolas' not found.\n",
            "WARNING:matplotlib.font_manager:findfont: Font family 'Consolas' not found.\n",
            "WARNING:matplotlib.font_manager:findfont: Font family 'Consolas' not found.\n",
            "WARNING:matplotlib.font_manager:findfont: Font family 'Consolas' not found.\n",
            "WARNING:matplotlib.font_manager:findfont: Font family 'Consolas' not found.\n",
            "WARNING:matplotlib.font_manager:findfont: Font family 'Consolas' not found.\n",
            "WARNING:matplotlib.font_manager:findfont: Font family 'Consolas' not found.\n",
            "WARNING:matplotlib.font_manager:findfont: Font family 'Consolas' not found.\n",
            "WARNING:matplotlib.font_manager:findfont: Font family 'Consolas' not found.\n",
            "WARNING:matplotlib.font_manager:findfont: Font family 'Consolas' not found.\n",
            "WARNING:matplotlib.font_manager:findfont: Font family 'Consolas' not found.\n",
            "WARNING:matplotlib.font_manager:findfont: Font family 'Consolas' not found.\n",
            "WARNING:matplotlib.font_manager:findfont: Font family 'Arial' not found.\n",
            "WARNING:matplotlib.font_manager:findfont: Font family 'Arial' not found.\n",
            "WARNING:matplotlib.font_manager:findfont: Font family 'Arial' not found.\n",
            "WARNING:matplotlib.font_manager:findfont: Font family 'Arial' not found.\n",
            "WARNING:matplotlib.font_manager:findfont: Font family 'Arial' not found.\n",
            "WARNING:matplotlib.font_manager:findfont: Font family 'Arial' not found.\n",
            "WARNING:matplotlib.font_manager:findfont: Font family 'Arial' not found.\n",
            "WARNING:matplotlib.font_manager:findfont: Font family 'Arial' not found.\n",
            "WARNING:matplotlib.font_manager:findfont: Font family 'Arial' not found.\n",
            "WARNING:matplotlib.font_manager:findfont: Font family 'Arial' not found.\n",
            "WARNING:matplotlib.font_manager:findfont: Font family 'Arial' not found.\n",
            "WARNING:matplotlib.font_manager:findfont: Font family 'Arial' not found.\n",
            "WARNING:matplotlib.font_manager:findfont: Font family 'Arial' not found.\n"
          ]
        },
        {
          "output_type": "display_data",
          "data": {
            "text/plain": [
              "<IPython.core.display.SVG object>"
            ],
            "image/svg+xml": "<svg xmlns:xlink=\"http://www.w3.org/1999/xlink\" xmlns=\"http://www.w3.org/2000/svg\" width=\"269.416806pt\" height=\"54.546474pt\" viewBox=\"0 0 269.416806 54.546474\" version=\"1.1\">\n <metadata>\n  <rdf:RDF xmlns:dc=\"http://purl.org/dc/elements/1.1/\" xmlns:cc=\"http://creativecommons.org/ns#\" xmlns:rdf=\"http://www.w3.org/1999/02/22-rdf-syntax-ns#\">\n   <cc:Work>\n    <dc:type rdf:resource=\"http://purl.org/dc/dcmitype/StillImage\"/>\n    <dc:date>2023-08-04T02:09:41.668978</dc:date>\n    <dc:format>image/svg+xml</dc:format>\n    <dc:creator>\n     <cc:Agent>\n      <dc:title>Matplotlib v3.7.1, https://matplotlib.org/</dc:title>\n     </cc:Agent>\n    </dc:creator>\n   </cc:Work>\n  </rdf:RDF>\n </metadata>\n <defs>\n  <style type=\"text/css\">*{stroke-linejoin: round; stroke-linecap: butt}</style>\n </defs>\n <g id=\"figure_1\">\n  <g id=\"patch_1\">\n   <path d=\"M 0 54.546474  L 269.416806 54.546474  L 269.416806 0  L 0 0  z \" style=\"fill: #ffffff\"/>\n  </g>\n  <g id=\"axes_1\">\n   <g id=\"patch_2\">\n    <path d=\"M 24.92865 46.385787  L 47.77875 46.385787  L 47.77875 23.683107  L 24.92865 23.683107  z \" clip-path=\"url(#p4395cf353a)\" style=\"fill: #a8e1b0; fill-opacity: 0.75; stroke: #808080; stroke-width: 0.7; stroke-linejoin: miter\"/>\n   </g>\n   <g id=\"patch_3\">\n    <path d=\"M 99.02826 46.385787  L 104.25114 46.385787  L 104.25114 23.683107  L 99.02826 23.683107  z \" clip-path=\"url(#p4395cf353a)\" style=\"fill: #7fa4d3; fill-opacity: 0.75; stroke: #808080; stroke-width: 0.7; stroke-linejoin: miter\"/>\n   </g>\n   <g id=\"patch_4\">\n    <path d=\"M 158.76495 28.872291  L 181.61505 28.872291  L 181.61505 23.683107  L 158.76495 23.683107  z \" clip-path=\"url(#p4395cf353a)\" style=\"fill: #a8e1b0; fill-opacity: 0.75; stroke: #808080; stroke-width: 0.7; stroke-linejoin: miter\"/>\n   </g>\n   <g id=\"patch_5\">\n    <path d=\"M 233.84385 28.872291  L 256.69395 28.872291  L 256.69395 23.683107  L 233.84385 23.683107  z \" clip-path=\"url(#p4395cf353a)\" style=\"fill: #a8e1b0; fill-opacity: 0.75; stroke: #808080; stroke-width: 0.7; stroke-linejoin: miter\"/>\n   </g>\n   <g id=\"line2d_1\">\n    <path d=\"M 6.32214 13.762608  L 66.38526 13.762608  \" clip-path=\"url(#p4395cf353a)\" style=\"fill: none; stroke: #c2c2c2; stroke-width: 0.5; stroke-linecap: square\"/>\n   </g>\n   <g id=\"line2d_2\">\n    <path d=\"M 84.66534 13.762608  L 118.61406 13.762608  \" clip-path=\"url(#p4395cf353a)\" style=\"fill: none; stroke: #c2c2c2; stroke-width: 0.5; stroke-linecap: square\"/>\n   </g>\n   <g id=\"line2d_3\">\n    <path d=\"M 136.89414 13.762608  L 203.48586 13.762608  \" clip-path=\"url(#p4395cf353a)\" style=\"fill: none; stroke: #c2c2c2; stroke-width: 0.5; stroke-linecap: square\"/>\n   </g>\n   <g id=\"line2d_4\">\n    <path d=\"M 221.76594 13.762608  L 268.77186 13.762608  \" clip-path=\"url(#p4395cf353a)\" style=\"fill: none; stroke: #c2c2c2; stroke-width: 0.5; stroke-linecap: square\"/>\n   </g>\n   <g id=\"text_1\">\n    <!-- l -->\n    <g style=\"fill: #444443\" transform=\"translate(6.975 9.947031) scale(0.13 -0.13)\">\n     <defs>\n      <path id=\"DejaVuSansMono-6c\" d=\"M 1997 1269  Q 1997 881 2139 684  Q 2281 488 2559 488  L 3231 488  L 3231 0  L 2503 0  Q 1988 0 1705 331  Q 1422 663 1422 1269  L 1422 4447  L 500 4447  L 500 4897  L 1997 4897  L 1997 1269  z \" transform=\"scale(0.015625)\"/>\n     </defs>\n     <use xlink:href=\"#DejaVuSansMono-6c\"/>\n    </g>\n   </g>\n   <g id=\"text_2\">\n    <!-- 1 -->\n    <g style=\"fill: #444443\" transform=\"translate(13.5036 9.947031) scale(0.13 -0.13)\">\n     <defs>\n      <path id=\"DejaVuSansMono-31\" d=\"M 844 531  L 1825 531  L 1825 4097  L 769 3859  L 769 4434  L 1819 4666  L 2450 4666  L 2450 531  L 3419 531  L 3419 0  L 844 0  L 844 531  z \" transform=\"scale(0.015625)\"/>\n     </defs>\n     <use xlink:href=\"#DejaVuSansMono-31\"/>\n    </g>\n   </g>\n   <g id=\"text_3\">\n    <!-- _ -->\n    <g style=\"fill: #444443\" transform=\"translate(20.0322 9.947031) scale(0.13 -0.13)\">\n     <defs>\n      <path id=\"DejaVuSansMono-5f\" d=\"M 3853 -1259  L 3853 -1509  L 0 -1509  L 0 -1259  L 3853 -1259  z \" transform=\"scale(0.015625)\"/>\n     </defs>\n     <use xlink:href=\"#DejaVuSansMono-5f\"/>\n    </g>\n   </g>\n   <g id=\"text_4\">\n    <!-- o -->\n    <g style=\"fill: #444443\" transform=\"translate(26.5608 9.947031) scale(0.13 -0.13)\">\n     <defs>\n      <path id=\"DejaVuSansMono-6f\" d=\"M 1925 3097  Q 1488 3097 1263 2756  Q 1038 2416 1038 1747  Q 1038 1081 1263 739  Q 1488 397 1925 397  Q 2366 397 2591 739  Q 2816 1081 2816 1747  Q 2816 2416 2591 2756  Q 2366 3097 1925 3097  z M 1925 3584  Q 2653 3584 3039 3112  Q 3425 2641 3425 1747  Q 3425 850 3040 379  Q 2656 -91 1925 -91  Q 1197 -91 812 379  Q 428 850 428 1747  Q 428 2641 812 3112  Q 1197 3584 1925 3584  z \" transform=\"scale(0.015625)\"/>\n     </defs>\n     <use xlink:href=\"#DejaVuSansMono-6f\"/>\n    </g>\n   </g>\n   <g id=\"text_5\">\n    <!-- u -->\n    <g style=\"fill: #444443\" transform=\"translate(33.0894 9.947031) scale(0.13 -0.13)\">\n     <defs>\n      <path id=\"DejaVuSansMono-75\" d=\"M 609 1325  L 609 3494  L 1184 3494  L 1184 1325  Q 1184 853 1351 631  Q 1519 409 1869 409  Q 2275 409 2490 695  Q 2706 981 2706 1516  L 2706 3494  L 3284 3494  L 3284 0  L 2706 0  L 2706 525  Q 2553 222 2289 65  Q 2025 -91 1672 -91  Q 1134 -91 871 261  Q 609 613 609 1325  z \" transform=\"scale(0.015625)\"/>\n     </defs>\n     <use xlink:href=\"#DejaVuSansMono-75\"/>\n    </g>\n   </g>\n   <g id=\"text_6\">\n    <!-- t -->\n    <g style=\"fill: #444443\" transform=\"translate(39.618 9.947031) scale(0.13 -0.13)\">\n     <defs>\n      <path id=\"DejaVuSansMono-74\" d=\"M 1919 4494  L 1919 3500  L 3225 3500  L 3225 3053  L 1919 3053  L 1919 1153  Q 1919 766 2066 612  Q 2213 459 2578 459  L 3225 459  L 3225 0  L 2522 0  Q 1875 0 1609 259  Q 1344 519 1344 1153  L 1344 3053  L 409 3053  L 409 3500  L 1344 3500  L 1344 4494  L 1919 4494  z \" transform=\"scale(0.015625)\"/>\n     </defs>\n     <use xlink:href=\"#DejaVuSansMono-74\"/>\n    </g>\n   </g>\n   <g id=\"text_7\">\n    <!-- p -->\n    <g style=\"fill: #444443\" transform=\"translate(46.1466 9.947031) scale(0.13 -0.13)\">\n     <defs>\n      <path id=\"DejaVuSansMono-70\" d=\"M 1172 441  L 1172 -1331  L 594 -1331  L 594 3500  L 1172 3500  L 1172 3053  Q 1316 3313 1555 3448  Q 1794 3584 2106 3584  Q 2741 3584 3102 3093  Q 3463 2603 3463 1734  Q 3463 881 3100 395  Q 2738 -91 2106 -91  Q 1788 -91 1548 45  Q 1309 181 1172 441  z M 2859 1747  Q 2859 2416 2648 2756  Q 2438 3097 2022 3097  Q 1603 3097 1387 2755  Q 1172 2413 1172 1747  Q 1172 1084 1387 740  Q 1603 397 2022 397  Q 2438 397 2648 737  Q 2859 1078 2859 1747  z \" transform=\"scale(0.015625)\"/>\n     </defs>\n     <use xlink:href=\"#DejaVuSansMono-70\"/>\n    </g>\n   </g>\n   <g id=\"text_8\">\n    <!-- u -->\n    <g style=\"fill: #444443\" transform=\"translate(52.6752 9.947031) scale(0.13 -0.13)\">\n     <use xlink:href=\"#DejaVuSansMono-75\"/>\n    </g>\n   </g>\n   <g id=\"text_9\">\n    <!-- t -->\n    <g style=\"fill: #444443\" transform=\"translate(59.2038 9.947031) scale(0.13 -0.13)\">\n     <use xlink:href=\"#DejaVuSansMono-74\"/>\n    </g>\n   </g>\n   <g id=\"text_10\">\n    <!--   -->\n    <g style=\"fill: #444443\" transform=\"translate(65.7324 9.947031) scale(0.13 -0.13)\">\n     <defs>\n      <path id=\"DejaVuSansMono-20\" transform=\"scale(0.015625)\"/>\n     </defs>\n     <use xlink:href=\"#DejaVuSansMono-20\"/>\n    </g>\n   </g>\n   <g id=\"text_11\">\n    <!-- = -->\n    <g style=\"fill: #444443\" transform=\"translate(72.261 9.947031) scale(0.13 -0.13)\">\n     <defs>\n      <path id=\"DejaVuSansMono-3d\" d=\"M 275 1638  L 3578 1638  L 3578 1100  L 275 1100  L 275 1638  z M 275 2906  L 3578 2906  L 3578 2375  L 275 2375  L 275 2906  z \" transform=\"scale(0.015625)\"/>\n     </defs>\n     <use xlink:href=\"#DejaVuSansMono-3d\"/>\n    </g>\n   </g>\n   <g id=\"text_12\">\n    <!--   -->\n    <g style=\"fill: #444443\" transform=\"translate(78.7896 9.947031) scale(0.13 -0.13)\">\n     <use xlink:href=\"#DejaVuSansMono-20\"/>\n    </g>\n   </g>\n   <g id=\"text_13\">\n    <!-- i -->\n    <g style=\"fill: #444443\" transform=\"translate(85.3182 9.947031) scale(0.13 -0.13)\">\n     <defs>\n      <path id=\"DejaVuSansMono-69\" d=\"M 800 3500  L 2272 3500  L 2272 447  L 3413 447  L 3413 0  L 556 0  L 556 447  L 1697 447  L 1697 3053  L 800 3053  L 800 3500  z M 1697 4863  L 2272 4863  L 2272 4134  L 1697 4134  L 1697 4863  z \" transform=\"scale(0.015625)\"/>\n     </defs>\n     <use xlink:href=\"#DejaVuSansMono-69\"/>\n    </g>\n   </g>\n   <g id=\"text_14\">\n    <!-- n -->\n    <g style=\"fill: #444443\" transform=\"translate(91.8468 9.947031) scale(0.13 -0.13)\">\n     <defs>\n      <path id=\"DejaVuSansMono-6e\" d=\"M 3284 2169  L 3284 0  L 2706 0  L 2706 2169  Q 2706 2641 2540 2862  Q 2375 3084 2022 3084  Q 1619 3084 1401 2798  Q 1184 2513 1184 1978  L 1184 0  L 609 0  L 609 3500  L 1184 3500  L 1184 2975  Q 1338 3275 1600 3429  Q 1863 3584 2222 3584  Q 2756 3584 3020 3232  Q 3284 2881 3284 2169  z \" transform=\"scale(0.015625)\"/>\n     </defs>\n     <use xlink:href=\"#DejaVuSansMono-6e\"/>\n    </g>\n   </g>\n   <g id=\"text_15\">\n    <!-- p -->\n    <g style=\"fill: #444443\" transform=\"translate(98.3754 9.947031) scale(0.13 -0.13)\">\n     <use xlink:href=\"#DejaVuSansMono-70\"/>\n    </g>\n   </g>\n   <g id=\"text_16\">\n    <!-- u -->\n    <g style=\"fill: #444443\" transform=\"translate(104.904 9.947031) scale(0.13 -0.13)\">\n     <use xlink:href=\"#DejaVuSansMono-75\"/>\n    </g>\n   </g>\n   <g id=\"text_17\">\n    <!-- t -->\n    <g style=\"fill: #444443\" transform=\"translate(111.4326 9.947031) scale(0.13 -0.13)\">\n     <use xlink:href=\"#DejaVuSansMono-74\"/>\n    </g>\n   </g>\n   <g id=\"text_18\">\n    <!--   -->\n    <g style=\"fill: #444443\" transform=\"translate(117.9612 9.947031) scale(0.13 -0.13)\">\n     <use xlink:href=\"#DejaVuSansMono-20\"/>\n    </g>\n   </g>\n   <g id=\"text_19\">\n    <!-- @ -->\n    <g style=\"fill: #444443\" transform=\"translate(124.4898 9.947031) scale(0.13 -0.13)\">\n     <defs>\n      <path id=\"DejaVuSansMono-40\" d=\"M 3244 1703  Q 3244 2106 3044 2348  Q 2844 2591 2509 2591  Q 2175 2591 1973 2348  Q 1772 2106 1772 1703  Q 1772 1297 1973 1055  Q 2175 813 2509 813  Q 2844 813 3044 1055  Q 3244 1297 3244 1703  z M 3681 422  L 3231 422  L 3231 769  Q 3116 572 2911 465  Q 2706 359 2450 359  Q 1947 359 1617 737  Q 1288 1116 1288 1703  Q 1288 2291 1617 2669  Q 1947 3047 2450 3047  Q 2700 3047 2909 2937  Q 3119 2828 3231 2638  L 3231 2834  Q 3231 3322 2956 3619  Q 2681 3916 2228 3916  Q 1459 3916 1004 3317  Q 550 2719 550 1697  Q 550 669 1065 59  Q 1581 -550 2438 -550  Q 2606 -550 2775 -519  Q 2944 -488 3122 -422  L 3272 -844  Q 3075 -922 2883 -959  Q 2691 -997 2509 -997  Q 1394 -997 739 -269  Q 84 459 84 1697  Q 84 2916 671 3637  Q 1259 4359 2247 4359  Q 2900 4359 3290 3943  Q 3681 3528 3681 2828  L 3681 422  z \" transform=\"scale(0.015625)\"/>\n     </defs>\n     <use xlink:href=\"#DejaVuSansMono-40\"/>\n    </g>\n   </g>\n   <g id=\"text_20\">\n    <!--   -->\n    <g style=\"fill: #444443\" transform=\"translate(131.0184 9.947031) scale(0.13 -0.13)\">\n     <use xlink:href=\"#DejaVuSansMono-20\"/>\n    </g>\n   </g>\n   <g id=\"text_21\">\n    <!-- l -->\n    <g style=\"fill: #444443\" transform=\"translate(137.547 9.947031) scale(0.13 -0.13)\">\n     <use xlink:href=\"#DejaVuSansMono-6c\"/>\n    </g>\n   </g>\n   <g id=\"text_22\">\n    <!-- 1 -->\n    <g style=\"fill: #444443\" transform=\"translate(144.0756 9.947031) scale(0.13 -0.13)\">\n     <use xlink:href=\"#DejaVuSansMono-31\"/>\n    </g>\n   </g>\n   <g id=\"text_23\">\n    <!-- _ -->\n    <g style=\"fill: #444443\" transform=\"translate(150.6042 9.947031) scale(0.13 -0.13)\">\n     <use xlink:href=\"#DejaVuSansMono-5f\"/>\n    </g>\n   </g>\n   <g id=\"text_24\">\n    <!-- w -->\n    <g style=\"fill: #444443\" transform=\"translate(157.1328 9.947031) scale(0.13 -0.13)\">\n     <defs>\n      <path id=\"DejaVuSansMono-77\" d=\"M 0 3500  L 569 3500  L 1178 672  L 1678 2478  L 2169 2478  L 2675 672  L 3284 3500  L 3853 3500  L 3034 0  L 2484 0  L 1925 1919  L 1369 0  L 819 0  L 0 3500  z \" transform=\"scale(0.015625)\"/>\n     </defs>\n     <use xlink:href=\"#DejaVuSansMono-77\"/>\n    </g>\n   </g>\n   <g id=\"text_25\">\n    <!-- e -->\n    <g style=\"fill: #444443\" transform=\"translate(163.6614 9.947031) scale(0.13 -0.13)\">\n     <defs>\n      <path id=\"DejaVuSansMono-65\" d=\"M 3475 1894  L 3475 1613  L 984 1613  L 984 1594  Q 984 1022 1282 709  Q 1581 397 2125 397  Q 2400 397 2700 484  Q 3000 572 3341 750  L 3341 178  Q 3013 44 2708 -23  Q 2403 -91 2119 -91  Q 1303 -91 843 398  Q 384 888 384 1747  Q 384 2584 834 3084  Q 1284 3584 2034 3584  Q 2703 3584 3089 3131  Q 3475 2678 3475 1894  z M 2900 2063  Q 2888 2569 2661 2833  Q 2434 3097 2009 3097  Q 1594 3097 1325 2822  Q 1056 2547 1006 2059  L 2900 2063  z \" transform=\"scale(0.015625)\"/>\n     </defs>\n     <use xlink:href=\"#DejaVuSansMono-65\"/>\n    </g>\n   </g>\n   <g id=\"text_26\">\n    <!-- i -->\n    <g style=\"fill: #444443\" transform=\"translate(170.19 9.947031) scale(0.13 -0.13)\">\n     <use xlink:href=\"#DejaVuSansMono-69\"/>\n    </g>\n   </g>\n   <g id=\"text_27\">\n    <!-- g -->\n    <g style=\"fill: #444443\" transform=\"translate(176.7186 9.947031) scale(0.13 -0.13)\">\n     <defs>\n      <path id=\"DejaVuSansMono-67\" d=\"M 2681 1778  Q 2681 2425 2470 2761  Q 2259 3097 1856 3097  Q 1434 3097 1212 2761  Q 991 2425 991 1778  Q 991 1131 1214 792  Q 1438 453 1863 453  Q 2259 453 2470 793  Q 2681 1134 2681 1778  z M 3256 225  Q 3256 -563 2884 -969  Q 2513 -1375 1791 -1375  Q 1553 -1375 1293 -1331  Q 1034 -1288 775 -1203  L 775 -634  Q 1081 -778 1331 -847  Q 1581 -916 1791 -916  Q 2256 -916 2468 -662  Q 2681 -409 2681 141  L 2681 166  L 2681 556  Q 2544 263 2306 119  Q 2069 -25 1728 -25  Q 1116 -25 750 465  Q 384 956 384 1778  Q 384 2603 750 3093  Q 1116 3584 1728 3584  Q 2066 3584 2300 3450  Q 2534 3316 2681 3034  L 2681 3488  L 3256 3488  L 3256 225  z \" transform=\"scale(0.015625)\"/>\n     </defs>\n     <use xlink:href=\"#DejaVuSansMono-67\"/>\n    </g>\n   </g>\n   <g id=\"text_28\">\n    <!-- h -->\n    <g style=\"fill: #444443\" transform=\"translate(183.2472 9.947031) scale(0.13 -0.13)\">\n     <defs>\n      <path id=\"DejaVuSansMono-68\" d=\"M 3284 2169  L 3284 0  L 2706 0  L 2706 2169  Q 2706 2641 2540 2862  Q 2375 3084 2022 3084  Q 1619 3084 1401 2798  Q 1184 2513 1184 1978  L 1184 0  L 609 0  L 609 4863  L 1184 4863  L 1184 2975  Q 1338 3275 1600 3429  Q 1863 3584 2222 3584  Q 2756 3584 3020 3232  Q 3284 2881 3284 2169  z \" transform=\"scale(0.015625)\"/>\n     </defs>\n     <use xlink:href=\"#DejaVuSansMono-68\"/>\n    </g>\n   </g>\n   <g id=\"text_29\">\n    <!-- t -->\n    <g style=\"fill: #444443\" transform=\"translate(189.7758 9.947031) scale(0.13 -0.13)\">\n     <use xlink:href=\"#DejaVuSansMono-74\"/>\n    </g>\n   </g>\n   <g id=\"text_30\">\n    <!-- s -->\n    <g style=\"fill: #444443\" transform=\"translate(196.3044 9.947031) scale(0.13 -0.13)\">\n     <defs>\n      <path id=\"DejaVuSansMono-73\" d=\"M 3041 3378  L 3041 2816  Q 2794 2959 2544 3031  Q 2294 3103 2034 3103  Q 1644 3103 1451 2976  Q 1259 2850 1259 2591  Q 1259 2356 1403 2240  Q 1547 2125 2119 2016  L 2350 1972  Q 2778 1891 2998 1647  Q 3219 1403 3219 1013  Q 3219 494 2850 201  Q 2481 -91 1825 -91  Q 1566 -91 1281 -36  Q 997 19 666 128  L 666 722  Q 988 556 1281 473  Q 1575 391 1838 391  Q 2219 391 2428 545  Q 2638 700 2638 978  Q 2638 1378 1872 1531  L 1847 1538  L 1631 1581  Q 1134 1678 906 1908  Q 678 2138 678 2534  Q 678 3038 1018 3311  Q 1359 3584 1991 3584  Q 2272 3584 2531 3532  Q 2791 3481 3041 3378  z \" transform=\"scale(0.015625)\"/>\n     </defs>\n     <use xlink:href=\"#DejaVuSansMono-73\"/>\n    </g>\n   </g>\n   <g id=\"text_31\">\n    <!--   -->\n    <g style=\"fill: #444443\" transform=\"translate(202.833 9.947031) scale(0.13 -0.13)\">\n     <use xlink:href=\"#DejaVuSansMono-20\"/>\n    </g>\n   </g>\n   <g id=\"text_32\">\n    <!-- + -->\n    <g style=\"fill: #444443\" transform=\"translate(209.3616 9.947031) scale(0.13 -0.13)\">\n     <defs>\n      <path id=\"DejaVuSansMono-2b\" d=\"M 2188 3659  L 2188 2272  L 3578 2272  L 3578 1741  L 2188 1741  L 2188 353  L 1663 353  L 1663 1741  L 275 1741  L 275 2272  L 1663 2272  L 1663 3659  L 2188 3659  z \" transform=\"scale(0.015625)\"/>\n     </defs>\n     <use xlink:href=\"#DejaVuSansMono-2b\"/>\n    </g>\n   </g>\n   <g id=\"text_33\">\n    <!--   -->\n    <g style=\"fill: #444443\" transform=\"translate(215.8902 9.947031) scale(0.13 -0.13)\">\n     <use xlink:href=\"#DejaVuSansMono-20\"/>\n    </g>\n   </g>\n   <g id=\"text_34\">\n    <!-- l -->\n    <g style=\"fill: #444443\" transform=\"translate(222.4188 9.947031) scale(0.13 -0.13)\">\n     <use xlink:href=\"#DejaVuSansMono-6c\"/>\n    </g>\n   </g>\n   <g id=\"text_35\">\n    <!-- 1 -->\n    <g style=\"fill: #444443\" transform=\"translate(228.9474 9.947031) scale(0.13 -0.13)\">\n     <use xlink:href=\"#DejaVuSansMono-31\"/>\n    </g>\n   </g>\n   <g id=\"text_36\">\n    <!-- _ -->\n    <g style=\"fill: #444443\" transform=\"translate(235.476 9.947031) scale(0.13 -0.13)\">\n     <use xlink:href=\"#DejaVuSansMono-5f\"/>\n    </g>\n   </g>\n   <g id=\"text_37\">\n    <!-- b -->\n    <g style=\"fill: #444443\" transform=\"translate(242.0046 9.947031) scale(0.13 -0.13)\">\n     <defs>\n      <path id=\"DejaVuSansMono-62\" d=\"M 2869 1747  Q 2869 2416 2656 2756  Q 2444 3097 2028 3097  Q 1609 3097 1393 2755  Q 1178 2413 1178 1747  Q 1178 1084 1393 740  Q 1609 397 2028 397  Q 2444 397 2656 737  Q 2869 1078 2869 1747  z M 1178 3053  Q 1316 3309 1558 3446  Q 1800 3584 2119 3584  Q 2750 3584 3112 3098  Q 3475 2613 3475 1759  Q 3475 894 3111 401  Q 2747 -91 2113 -91  Q 1800 -91 1561 45  Q 1322 181 1178 441  L 1178 0  L 603 0  L 603 4863  L 1178 4863  L 1178 3053  z \" transform=\"scale(0.015625)\"/>\n     </defs>\n     <use xlink:href=\"#DejaVuSansMono-62\"/>\n    </g>\n   </g>\n   <g id=\"text_38\">\n    <!-- i -->\n    <g style=\"fill: #444443\" transform=\"translate(248.5332 9.947031) scale(0.13 -0.13)\">\n     <use xlink:href=\"#DejaVuSansMono-69\"/>\n    </g>\n   </g>\n   <g id=\"text_39\">\n    <!-- a -->\n    <g style=\"fill: #444443\" transform=\"translate(255.0618 9.947031) scale(0.13 -0.13)\">\n     <defs>\n      <path id=\"DejaVuSansMono-61\" d=\"M 2194 1759  L 2003 1759  Q 1500 1759 1245 1582  Q 991 1406 991 1056  Q 991 741 1181 566  Q 1372 391 1709 391  Q 2184 391 2456 720  Q 2728 1050 2731 1631  L 2731 1759  L 2194 1759  z M 3309 1997  L 3309 0  L 2731 0  L 2731 519  Q 2547 206 2267 57  Q 1988 -91 1588 -91  Q 1053 -91 734 211  Q 416 513 416 1019  Q 416 1603 808 1906  Q 1200 2209 1959 2209  L 2731 2209  L 2731 2300  Q 2728 2719 2518 2908  Q 2309 3097 1850 3097  Q 1556 3097 1256 3012  Q 956 2928 672 2766  L 672 3341  Q 991 3463 1283 3523  Q 1575 3584 1850 3584  Q 2284 3584 2592 3456  Q 2900 3328 3091 3072  Q 3209 2916 3259 2686  Q 3309 2456 3309 1997  z \" transform=\"scale(0.015625)\"/>\n     </defs>\n     <use xlink:href=\"#DejaVuSansMono-61\"/>\n    </g>\n   </g>\n   <g id=\"text_40\">\n    <!-- s -->\n    <g style=\"fill: #444443\" transform=\"translate(261.5904 9.947031) scale(0.13 -0.13)\">\n     <use xlink:href=\"#DejaVuSansMono-73\"/>\n    </g>\n   </g>\n   <g id=\"text_41\">\n    <!-- 5 -->\n    <g transform=\"translate(23.056931 37.897572) rotate(-90) scale(0.09 -0.09)\">\n     <defs>\n      <path id=\"DejaVuSans-35\" d=\"M 691 4666  L 3169 4666  L 3169 4134  L 1269 4134  L 1269 2991  Q 1406 3038 1543 3061  Q 1681 3084 1819 3084  Q 2600 3084 3056 2656  Q 3513 2228 3513 1497  Q 3513 744 3044 326  Q 2575 -91 1722 -91  Q 1428 -91 1123 -41  Q 819 9 494 109  L 494 744  Q 775 591 1075 516  Q 1375 441 1709 441  Q 2250 441 2565 725  Q 2881 1009 2881 1497  Q 2881 1984 2565 2268  Q 2250 2553 1709 2553  Q 1456 2553 1204 2497  Q 953 2441 691 2322  L 691 4666  z \" transform=\"scale(0.015625)\"/>\n     </defs>\n     <use xlink:href=\"#DejaVuSans-35\"/>\n    </g>\n   </g>\n   <g id=\"text_42\">\n    <!-- 2 -->\n    <g transform=\"translate(33.490575 22.297107) scale(0.09 -0.09)\">\n     <defs>\n      <path id=\"DejaVuSans-32\" d=\"M 1228 531  L 3431 531  L 3431 0  L 469 0  L 469 531  Q 828 903 1448 1529  Q 2069 2156 2228 2338  Q 2531 2678 2651 2914  Q 2772 3150 2772 3378  Q 2772 3750 2511 3984  Q 2250 4219 1831 4219  Q 1534 4219 1204 4116  Q 875 4013 500 3803  L 500 4441  Q 881 4594 1212 4672  Q 1544 4750 1819 4750  Q 2544 4750 2975 4387  Q 3406 4025 3406 3419  Q 3406 3131 3298 2873  Q 3191 2616 2906 2266  Q 2828 2175 2409 1742  Q 1991 1309 1228 531  z \" transform=\"scale(0.015625)\"/>\n     </defs>\n     <use xlink:href=\"#DejaVuSans-32\"/>\n    </g>\n   </g>\n   <g id=\"text_43\">\n    <!-- &lt;${\\mathit{float64}}$&gt; -->\n    <g transform=\"translate(18.1537 53.090693) scale(0.07 -0.07)\">\n     <defs>\n      <path id=\"DejaVuSans-3c\" d=\"M 4684 3150  L 1459 2003  L 4684 863  L 4684 294  L 678 1747  L 678 2266  L 4684 3719  L 4684 3150  z \" transform=\"scale(0.015625)\"/>\n      <path id=\"DejaVuSans-Oblique-66\" d=\"M 3059 4863  L 2969 4384  L 2419 4384  Q 2106 4384 1964 4261  Q 1822 4138 1753 3809  L 1691 3500  L 2638 3500  L 2553 3053  L 1606 3053  L 1013 0  L 434 0  L 1031 3053  L 481 3053  L 563 3500  L 1113 3500  L 1159 3744  Q 1278 4363 1576 4613  Q 1875 4863 2516 4863  L 3059 4863  z \" transform=\"scale(0.015625)\"/>\n      <path id=\"DejaVuSans-Oblique-6c\" d=\"M 1172 4863  L 1747 4863  L 800 0  L 225 0  L 1172 4863  z \" transform=\"scale(0.015625)\"/>\n      <path id=\"DejaVuSans-Oblique-6f\" d=\"M 1625 -91  Q 1009 -91 651 289  Q 294 669 294 1325  Q 294 1706 417 2101  Q 541 2497 738 2766  Q 1047 3184 1428 3384  Q 1809 3584 2291 3584  Q 2888 3584 3255 3212  Q 3622 2841 3622 2241  Q 3622 1825 3500 1412  Q 3378 1000 3181 728  Q 2875 309 2494 109  Q 2113 -91 1625 -91  z M 891 1344  Q 891 869 1089 633  Q 1288 397 1691 397  Q 2269 397 2648 901  Q 3028 1406 3028 2181  Q 3028 2634 2825 2865  Q 2622 3097 2228 3097  Q 1903 3097 1650 2945  Q 1397 2794 1197 2484  Q 1050 2253 970 1956  Q 891 1659 891 1344  z \" transform=\"scale(0.015625)\"/>\n      <path id=\"DejaVuSans-Oblique-61\" d=\"M 3438 1997  L 3047 0  L 2472 0  L 2578 531  Q 2325 219 2001 64  Q 1678 -91 1281 -91  Q 834 -91 548 182  Q 263 456 263 884  Q 263 1497 752 1853  Q 1241 2209 2100 2209  L 2900 2209  L 2931 2363  Q 2938 2388 2941 2417  Q 2944 2447 2944 2509  Q 2944 2788 2717 2942  Q 2491 3097 2081 3097  Q 1800 3097 1504 3025  Q 1209 2953 897 2809  L 997 3341  Q 1322 3463 1633 3523  Q 1944 3584 2234 3584  Q 2853 3584 3176 3315  Q 3500 3047 3500 2534  Q 3500 2431 3484 2292  Q 3469 2153 3438 1997  z M 2816 1759  L 2241 1759  Q 1534 1759 1195 1570  Q 856 1381 856 984  Q 856 709 1029 553  Q 1203 397 1509 397  Q 1978 397 2328 733  Q 2678 1069 2791 1631  L 2816 1759  z \" transform=\"scale(0.015625)\"/>\n      <path id=\"DejaVuSans-Oblique-74\" d=\"M 2706 3500  L 2619 3053  L 1472 3053  L 1100 1153  Q 1081 1047 1072 975  Q 1063 903 1063 863  Q 1063 663 1183 572  Q 1303 481 1569 481  L 2150 481  L 2053 0  L 1503 0  Q 991 0 739 200  Q 488 400 488 806  Q 488 878 497 964  Q 506 1050 525 1153  L 897 3053  L 409 3053  L 500 3500  L 978 3500  L 1172 4494  L 1747 4494  L 1556 3500  L 2706 3500  z \" transform=\"scale(0.015625)\"/>\n      <path id=\"DejaVuSans-36\" d=\"M 2113 2584  Q 1688 2584 1439 2293  Q 1191 2003 1191 1497  Q 1191 994 1439 701  Q 1688 409 2113 409  Q 2538 409 2786 701  Q 3034 994 3034 1497  Q 3034 2003 2786 2293  Q 2538 2584 2113 2584  z M 3366 4563  L 3366 3988  Q 3128 4100 2886 4159  Q 2644 4219 2406 4219  Q 1781 4219 1451 3797  Q 1122 3375 1075 2522  Q 1259 2794 1537 2939  Q 1816 3084 2150 3084  Q 2853 3084 3261 2657  Q 3669 2231 3669 1497  Q 3669 778 3244 343  Q 2819 -91 2113 -91  Q 1303 -91 875 529  Q 447 1150 447 2328  Q 447 3434 972 4092  Q 1497 4750 2381 4750  Q 2619 4750 2861 4703  Q 3103 4656 3366 4563  z \" transform=\"scale(0.015625)\"/>\n      <path id=\"DejaVuSans-34\" d=\"M 2419 4116  L 825 1625  L 2419 1625  L 2419 4116  z M 2253 4666  L 3047 4666  L 3047 1625  L 3713 1625  L 3713 1100  L 3047 1100  L 3047 0  L 2419 0  L 2419 1100  L 313 1100  L 313 1709  L 2253 4666  z \" transform=\"scale(0.015625)\"/>\n      <path id=\"DejaVuSans-3e\" d=\"M 678 3150  L 678 3719  L 4684 2266  L 4684 1747  L 678 294  L 678 863  L 3897 2003  L 678 3150  z \" transform=\"scale(0.015625)\"/>\n     </defs>\n     <use xlink:href=\"#DejaVuSans-3c\" transform=\"translate(0 0.015625)\"/>\n     <use xlink:href=\"#DejaVuSans-Oblique-66\" transform=\"translate(83.789062 0.015625)\"/>\n     <use xlink:href=\"#DejaVuSans-Oblique-6c\" transform=\"translate(118.994141 0.015625)\"/>\n     <use xlink:href=\"#DejaVuSans-Oblique-6f\" transform=\"translate(146.777344 0.015625)\"/>\n     <use xlink:href=\"#DejaVuSans-Oblique-61\" transform=\"translate(207.958984 0.015625)\"/>\n     <use xlink:href=\"#DejaVuSans-Oblique-74\" transform=\"translate(269.238281 0.015625)\"/>\n     <use xlink:href=\"#DejaVuSans-36\" transform=\"translate(308.447266 0.015625)\"/>\n     <use xlink:href=\"#DejaVuSans-34\" transform=\"translate(372.070312 0.015625)\"/>\n     <use xlink:href=\"#DejaVuSans-3e\" transform=\"translate(435.693359 0.015625)\"/>\n    </g>\n   </g>\n   <g id=\"text_44\">\n    <!-- 5 -->\n    <g transform=\"translate(97.156541 37.897572) rotate(-90) scale(0.09 -0.09)\">\n     <use xlink:href=\"#DejaVuSans-35\"/>\n    </g>\n   </g>\n   <g id=\"text_45\">\n    <!-- 1 -->\n    <g transform=\"translate(98.776575 22.297107) scale(0.09 -0.09)\">\n     <defs>\n      <path id=\"DejaVuSans-31\" d=\"M 794 531  L 1825 531  L 1825 4091  L 703 3866  L 703 4441  L 1819 4666  L 2450 4666  L 2450 531  L 3481 531  L 3481 0  L 794 0  L 794 531  z \" transform=\"scale(0.015625)\"/>\n     </defs>\n     <use xlink:href=\"#DejaVuSans-31\"/>\n    </g>\n   </g>\n   <g id=\"text_46\">\n    <!-- &lt;${\\mathit{int64}}$&gt; -->\n    <g transform=\"translate(86.7297 53.090693) scale(0.07 -0.07)\">\n     <defs>\n      <path id=\"DejaVuSans-Oblique-69\" d=\"M 1172 4863  L 1747 4863  L 1606 4134  L 1031 4134  L 1172 4863  z M 909 3500  L 1484 3500  L 800 0  L 225 0  L 909 3500  z \" transform=\"scale(0.015625)\"/>\n      <path id=\"DejaVuSans-Oblique-6e\" d=\"M 3566 2113  L 3156 0  L 2578 0  L 2988 2091  Q 3016 2238 3031 2350  Q 3047 2463 3047 2528  Q 3047 2791 2881 2937  Q 2716 3084 2419 3084  Q 1956 3084 1622 2776  Q 1288 2469 1184 1941  L 800 0  L 225 0  L 903 3500  L 1478 3500  L 1363 2950  Q 1603 3253 1940 3418  Q 2278 3584 2650 3584  Q 3113 3584 3367 3334  Q 3622 3084 3622 2631  Q 3622 2519 3608 2391  Q 3594 2263 3566 2113  z \" transform=\"scale(0.015625)\"/>\n     </defs>\n     <use xlink:href=\"#DejaVuSans-3c\" transform=\"translate(0 0.015625)\"/>\n     <use xlink:href=\"#DejaVuSans-Oblique-69\" transform=\"translate(83.789062 0.015625)\"/>\n     <use xlink:href=\"#DejaVuSans-Oblique-6e\" transform=\"translate(111.572266 0.015625)\"/>\n     <use xlink:href=\"#DejaVuSans-Oblique-74\" transform=\"translate(174.951172 0.015625)\"/>\n     <use xlink:href=\"#DejaVuSans-36\" transform=\"translate(214.160156 0.015625)\"/>\n     <use xlink:href=\"#DejaVuSans-34\" transform=\"translate(277.783203 0.015625)\"/>\n     <use xlink:href=\"#DejaVuSans-3e\" transform=\"translate(341.40625 0.015625)\"/>\n    </g>\n   </g>\n   <g id=\"text_47\">\n    <!-- 1 -->\n    <g transform=\"translate(156.893231 29.140824) rotate(-90) scale(0.09 -0.09)\">\n     <use xlink:href=\"#DejaVuSans-31\"/>\n    </g>\n   </g>\n   <g id=\"text_48\">\n    <!-- 2 -->\n    <g transform=\"translate(167.326875 22.297107) scale(0.09 -0.09)\">\n     <use xlink:href=\"#DejaVuSans-32\"/>\n    </g>\n   </g>\n   <g id=\"text_49\">\n    <!-- &lt;${\\mathit{float64}}$&gt; -->\n    <g transform=\"translate(151.99 35.577197) scale(0.07 -0.07)\">\n     <use xlink:href=\"#DejaVuSans-3c\" transform=\"translate(0 0.015625)\"/>\n     <use xlink:href=\"#DejaVuSans-Oblique-66\" transform=\"translate(83.789062 0.015625)\"/>\n     <use xlink:href=\"#DejaVuSans-Oblique-6c\" transform=\"translate(118.994141 0.015625)\"/>\n     <use xlink:href=\"#DejaVuSans-Oblique-6f\" transform=\"translate(146.777344 0.015625)\"/>\n     <use xlink:href=\"#DejaVuSans-Oblique-61\" transform=\"translate(207.958984 0.015625)\"/>\n     <use xlink:href=\"#DejaVuSans-Oblique-74\" transform=\"translate(269.238281 0.015625)\"/>\n     <use xlink:href=\"#DejaVuSans-36\" transform=\"translate(308.447266 0.015625)\"/>\n     <use xlink:href=\"#DejaVuSans-34\" transform=\"translate(372.070312 0.015625)\"/>\n     <use xlink:href=\"#DejaVuSans-3e\" transform=\"translate(435.693359 0.015625)\"/>\n    </g>\n   </g>\n   <g id=\"text_50\">\n    <!-- 1 -->\n    <g transform=\"translate(231.972131 29.140824) rotate(-90) scale(0.09 -0.09)\">\n     <use xlink:href=\"#DejaVuSans-31\"/>\n    </g>\n   </g>\n   <g id=\"text_51\">\n    <!-- 2 -->\n    <g transform=\"translate(242.405775 22.297107) scale(0.09 -0.09)\">\n     <use xlink:href=\"#DejaVuSans-32\"/>\n    </g>\n   </g>\n   <g id=\"text_52\">\n    <!-- &lt;${\\mathit{float64}}$&gt; -->\n    <g transform=\"translate(227.0689 35.577197) scale(0.07 -0.07)\">\n     <use xlink:href=\"#DejaVuSans-3c\" transform=\"translate(0 0.015625)\"/>\n     <use xlink:href=\"#DejaVuSans-Oblique-66\" transform=\"translate(83.789062 0.015625)\"/>\n     <use xlink:href=\"#DejaVuSans-Oblique-6c\" transform=\"translate(118.994141 0.015625)\"/>\n     <use xlink:href=\"#DejaVuSans-Oblique-6f\" transform=\"translate(146.777344 0.015625)\"/>\n     <use xlink:href=\"#DejaVuSans-Oblique-61\" transform=\"translate(207.958984 0.015625)\"/>\n     <use xlink:href=\"#DejaVuSans-Oblique-74\" transform=\"translate(269.238281 0.015625)\"/>\n     <use xlink:href=\"#DejaVuSans-36\" transform=\"translate(308.447266 0.015625)\"/>\n     <use xlink:href=\"#DejaVuSans-34\" transform=\"translate(372.070312 0.015625)\"/>\n     <use xlink:href=\"#DejaVuSans-3e\" transform=\"translate(435.693359 0.015625)\"/>\n    </g>\n   </g>\n  </g>\n </g>\n <defs>\n  <clipPath id=\"p4395cf353a\">\n   <rect x=\"0\" y=\"4.901991\" width=\"268.119\" height=\"42.315395\"/>\n  </clipPath>\n </defs>\n</svg>"
          },
          "metadata": {}
        },
        {
          "output_type": "execute_result",
          "data": {
            "text/plain": [
              "array([[77.59, 18.  ],\n",
              "       [85.79, 19.  ],\n",
              "       [93.99, 20.  ],\n",
              "       [-4.41,  8.  ],\n",
              "       [ 3.79,  9.  ]])"
            ]
          },
          "metadata": {},
          "execution_count": 38
        }
      ]
    },
    {
      "cell_type": "code",
      "source": [
        "l1_activated = np.maximum(l1_output, 0)\n",
        "l1_activated"
      ],
      "metadata": {
        "colab": {
          "base_uri": "https://localhost:8080/"
        },
        "id": "8Yjca5LXG25X",
        "outputId": "765db9db-d653-4f5f-d0b7-a5b719f71317"
      },
      "execution_count": 14,
      "outputs": [
        {
          "output_type": "execute_result",
          "data": {
            "text/plain": [
              "array([[77.59, 18.  ],\n",
              "       [85.79, 19.  ],\n",
              "       [93.99, 20.  ],\n",
              "       [ 0.  ,  8.  ],\n",
              "       [ 3.79,  9.  ]])"
            ]
          },
          "metadata": {},
          "execution_count": 14
        }
      ]
    },
    {
      "cell_type": "markdown",
      "source": [
        "$layer_{1} = relu(XW_{1} + B_{1})$"
      ],
      "metadata": {
        "id": "_HTcb5rCHVfH"
      }
    },
    {
      "cell_type": "code",
      "source": [
        "l2_weights = np.array([\n",
        "    [.5], [.2]\n",
        "])\n",
        "l2_bias = np.array([[5]])\n",
        "\n",
        "with tsensor.explain():\n",
        "  output = l1_activated @ l2_weights + l2_bias\n",
        "\n",
        "output"
      ],
      "metadata": {
        "colab": {
          "base_uri": "https://localhost:8080/",
          "height": 1000
        },
        "id": "ZeUy0NnHHdrz",
        "outputId": "b9b614cc-e5e1-42ff-dfbe-753dd43b901b"
      },
      "execution_count": 15,
      "outputs": [
        {
          "output_type": "stream",
          "name": "stderr",
          "text": [
            "WARNING:matplotlib.font_manager:findfont: Font family 'Consolas' not found.\n",
            "WARNING:matplotlib.font_manager:findfont: Font family 'Consolas' not found.\n",
            "WARNING:matplotlib.font_manager:findfont: Font family 'Consolas' not found.\n",
            "WARNING:matplotlib.font_manager:findfont: Font family 'Consolas' not found.\n",
            "WARNING:matplotlib.font_manager:findfont: Font family 'Consolas' not found.\n",
            "WARNING:matplotlib.font_manager:findfont: Font family 'Consolas' not found.\n",
            "WARNING:matplotlib.font_manager:findfont: Font family 'Consolas' not found.\n",
            "WARNING:matplotlib.font_manager:findfont: Font family 'Consolas' not found.\n",
            "WARNING:matplotlib.font_manager:findfont: Font family 'Consolas' not found.\n",
            "WARNING:matplotlib.font_manager:findfont: Font family 'Consolas' not found.\n",
            "WARNING:matplotlib.font_manager:findfont: Font family 'Consolas' not found.\n",
            "WARNING:matplotlib.font_manager:findfont: Font family 'Consolas' not found.\n",
            "WARNING:matplotlib.font_manager:findfont: Font family 'Consolas' not found.\n",
            "WARNING:matplotlib.font_manager:findfont: Font family 'Consolas' not found.\n",
            "WARNING:matplotlib.font_manager:findfont: Font family 'Consolas' not found.\n",
            "WARNING:matplotlib.font_manager:findfont: Font family 'Consolas' not found.\n",
            "WARNING:matplotlib.font_manager:findfont: Font family 'Consolas' not found.\n",
            "WARNING:matplotlib.font_manager:findfont: Font family 'Consolas' not found.\n",
            "WARNING:matplotlib.font_manager:findfont: Font family 'Consolas' not found.\n",
            "WARNING:matplotlib.font_manager:findfont: Font family 'Consolas' not found.\n",
            "WARNING:matplotlib.font_manager:findfont: Font family 'Consolas' not found.\n",
            "WARNING:matplotlib.font_manager:findfont: Font family 'Consolas' not found.\n",
            "WARNING:matplotlib.font_manager:findfont: Font family 'Consolas' not found.\n",
            "WARNING:matplotlib.font_manager:findfont: Font family 'Consolas' not found.\n",
            "WARNING:matplotlib.font_manager:findfont: Font family 'Arial' not found.\n",
            "WARNING:matplotlib.font_manager:findfont: Font family 'Arial' not found.\n",
            "WARNING:matplotlib.font_manager:findfont: Font family 'Arial' not found.\n",
            "WARNING:matplotlib.font_manager:findfont: Font family 'Arial' not found.\n",
            "WARNING:matplotlib.font_manager:findfont: Font family 'Arial' not found.\n",
            "WARNING:matplotlib.font_manager:findfont: Font family 'Consolas' not found.\n",
            "WARNING:matplotlib.font_manager:findfont: Font family 'Consolas' not found.\n",
            "WARNING:matplotlib.font_manager:findfont: Font family 'Consolas' not found.\n",
            "WARNING:matplotlib.font_manager:findfont: Font family 'Consolas' not found.\n",
            "WARNING:matplotlib.font_manager:findfont: Font family 'Consolas' not found.\n",
            "WARNING:matplotlib.font_manager:findfont: Font family 'Consolas' not found.\n",
            "WARNING:matplotlib.font_manager:findfont: Font family 'Consolas' not found.\n",
            "WARNING:matplotlib.font_manager:findfont: Font family 'Consolas' not found.\n",
            "WARNING:matplotlib.font_manager:findfont: Font family 'Consolas' not found.\n",
            "WARNING:matplotlib.font_manager:findfont: Font family 'Consolas' not found.\n",
            "WARNING:matplotlib.font_manager:findfont: Font family 'Consolas' not found.\n",
            "WARNING:matplotlib.font_manager:findfont: Font family 'Consolas' not found.\n",
            "WARNING:matplotlib.font_manager:findfont: Font family 'Consolas' not found.\n",
            "WARNING:matplotlib.font_manager:findfont: Font family 'Consolas' not found.\n",
            "WARNING:matplotlib.font_manager:findfont: Font family 'Consolas' not found.\n",
            "WARNING:matplotlib.font_manager:findfont: Font family 'Consolas' not found.\n",
            "WARNING:matplotlib.font_manager:findfont: Font family 'Consolas' not found.\n",
            "WARNING:matplotlib.font_manager:findfont: Font family 'Consolas' not found.\n",
            "WARNING:matplotlib.font_manager:findfont: Font family 'Consolas' not found.\n",
            "WARNING:matplotlib.font_manager:findfont: Font family 'Consolas' not found.\n",
            "WARNING:matplotlib.font_manager:findfont: Font family 'Consolas' not found.\n",
            "WARNING:matplotlib.font_manager:findfont: Font family 'Consolas' not found.\n",
            "WARNING:matplotlib.font_manager:findfont: Font family 'Consolas' not found.\n",
            "WARNING:matplotlib.font_manager:findfont: Font family 'Consolas' not found.\n",
            "WARNING:matplotlib.font_manager:findfont: Font family 'Consolas' not found.\n",
            "WARNING:matplotlib.font_manager:findfont: Font family 'Consolas' not found.\n",
            "WARNING:matplotlib.font_manager:findfont: Font family 'Consolas' not found.\n",
            "WARNING:matplotlib.font_manager:findfont: Font family 'Consolas' not found.\n",
            "WARNING:matplotlib.font_manager:findfont: Font family 'Consolas' not found.\n",
            "WARNING:matplotlib.font_manager:findfont: Font family 'Consolas' not found.\n",
            "WARNING:matplotlib.font_manager:findfont: Font family 'Consolas' not found.\n",
            "WARNING:matplotlib.font_manager:findfont: Font family 'Consolas' not found.\n",
            "WARNING:matplotlib.font_manager:findfont: Font family 'Consolas' not found.\n",
            "WARNING:matplotlib.font_manager:findfont: Font family 'Consolas' not found.\n",
            "WARNING:matplotlib.font_manager:findfont: Font family 'Consolas' not found.\n",
            "WARNING:matplotlib.font_manager:findfont: Font family 'Consolas' not found.\n",
            "WARNING:matplotlib.font_manager:findfont: Font family 'Consolas' not found.\n",
            "WARNING:matplotlib.font_manager:findfont: Font family 'Consolas' not found.\n",
            "WARNING:matplotlib.font_manager:findfont: Font family 'Consolas' not found.\n",
            "WARNING:matplotlib.font_manager:findfont: Font family 'Consolas' not found.\n",
            "WARNING:matplotlib.font_manager:findfont: Font family 'Consolas' not found.\n",
            "WARNING:matplotlib.font_manager:findfont: Font family 'Consolas' not found.\n",
            "WARNING:matplotlib.font_manager:findfont: Font family 'Consolas' not found.\n",
            "WARNING:matplotlib.font_manager:findfont: Font family 'Consolas' not found.\n",
            "WARNING:matplotlib.font_manager:findfont: Font family 'Consolas' not found.\n",
            "WARNING:matplotlib.font_manager:findfont: Font family 'Consolas' not found.\n",
            "WARNING:matplotlib.font_manager:findfont: Font family 'Consolas' not found.\n",
            "WARNING:matplotlib.font_manager:findfont: Font family 'Consolas' not found.\n",
            "WARNING:matplotlib.font_manager:findfont: Font family 'Consolas' not found.\n",
            "WARNING:matplotlib.font_manager:findfont: Font family 'Consolas' not found.\n",
            "WARNING:matplotlib.font_manager:findfont: Font family 'Consolas' not found.\n",
            "WARNING:matplotlib.font_manager:findfont: Font family 'Consolas' not found.\n",
            "WARNING:matplotlib.font_manager:findfont: Font family 'Consolas' not found.\n",
            "WARNING:matplotlib.font_manager:findfont: Font family 'Consolas' not found.\n",
            "WARNING:matplotlib.font_manager:findfont: Font family 'Consolas' not found.\n",
            "WARNING:matplotlib.font_manager:findfont: Font family 'Consolas' not found.\n",
            "WARNING:matplotlib.font_manager:findfont: Font family 'Consolas' not found.\n",
            "WARNING:matplotlib.font_manager:findfont: Font family 'Consolas' not found.\n",
            "WARNING:matplotlib.font_manager:findfont: Font family 'Consolas' not found.\n",
            "WARNING:matplotlib.font_manager:findfont: Font family 'Consolas' not found.\n",
            "WARNING:matplotlib.font_manager:findfont: Font family 'Consolas' not found.\n",
            "WARNING:matplotlib.font_manager:findfont: Font family 'Consolas' not found.\n",
            "WARNING:matplotlib.font_manager:findfont: Font family 'Consolas' not found.\n",
            "WARNING:matplotlib.font_manager:findfont: Font family 'Consolas' not found.\n",
            "WARNING:matplotlib.font_manager:findfont: Font family 'Consolas' not found.\n",
            "WARNING:matplotlib.font_manager:findfont: Font family 'Consolas' not found.\n",
            "WARNING:matplotlib.font_manager:findfont: Font family 'Consolas' not found.\n",
            "WARNING:matplotlib.font_manager:findfont: Font family 'Consolas' not found.\n",
            "WARNING:matplotlib.font_manager:findfont: Font family 'Arial' not found.\n",
            "WARNING:matplotlib.font_manager:findfont: Font family 'Arial' not found.\n",
            "WARNING:matplotlib.font_manager:findfont: Font family 'Arial' not found.\n",
            "WARNING:matplotlib.font_manager:findfont: Font family 'Arial' not found.\n",
            "WARNING:matplotlib.font_manager:findfont: Font family 'Arial' not found.\n",
            "WARNING:matplotlib.font_manager:findfont: Font family 'Arial' not found.\n",
            "WARNING:matplotlib.font_manager:findfont: Font family 'Arial' not found.\n",
            "WARNING:matplotlib.font_manager:findfont: Font family 'Arial' not found.\n",
            "WARNING:matplotlib.font_manager:findfont: Font family 'Arial' not found.\n",
            "WARNING:matplotlib.font_manager:findfont: Font family 'Arial' not found.\n",
            "WARNING:matplotlib.font_manager:findfont: Font family 'Arial' not found.\n",
            "WARNING:matplotlib.font_manager:findfont: Font family 'Arial' not found.\n",
            "WARNING:matplotlib.font_manager:findfont: Font family 'Arial' not found.\n",
            "WARNING:matplotlib.font_manager:findfont: Font family 'Consolas' not found.\n",
            "WARNING:matplotlib.font_manager:findfont: Font family 'Consolas' not found.\n",
            "WARNING:matplotlib.font_manager:findfont: Font family 'Consolas' not found.\n",
            "WARNING:matplotlib.font_manager:findfont: Font family 'Consolas' not found.\n",
            "WARNING:matplotlib.font_manager:findfont: Font family 'Consolas' not found.\n",
            "WARNING:matplotlib.font_manager:findfont: Font family 'Consolas' not found.\n",
            "WARNING:matplotlib.font_manager:findfont: Font family 'Consolas' not found.\n",
            "WARNING:matplotlib.font_manager:findfont: Font family 'Consolas' not found.\n",
            "WARNING:matplotlib.font_manager:findfont: Font family 'Consolas' not found.\n",
            "WARNING:matplotlib.font_manager:findfont: Font family 'Consolas' not found.\n",
            "WARNING:matplotlib.font_manager:findfont: Font family 'Consolas' not found.\n",
            "WARNING:matplotlib.font_manager:findfont: Font family 'Consolas' not found.\n",
            "WARNING:matplotlib.font_manager:findfont: Font family 'Consolas' not found.\n",
            "WARNING:matplotlib.font_manager:findfont: Font family 'Consolas' not found.\n",
            "WARNING:matplotlib.font_manager:findfont: Font family 'Consolas' not found.\n",
            "WARNING:matplotlib.font_manager:findfont: Font family 'Consolas' not found.\n",
            "WARNING:matplotlib.font_manager:findfont: Font family 'Consolas' not found.\n",
            "WARNING:matplotlib.font_manager:findfont: Font family 'Consolas' not found.\n",
            "WARNING:matplotlib.font_manager:findfont: Font family 'Consolas' not found.\n",
            "WARNING:matplotlib.font_manager:findfont: Font family 'Consolas' not found.\n",
            "WARNING:matplotlib.font_manager:findfont: Font family 'Consolas' not found.\n",
            "WARNING:matplotlib.font_manager:findfont: Font family 'Consolas' not found.\n",
            "WARNING:matplotlib.font_manager:findfont: Font family 'Consolas' not found.\n",
            "WARNING:matplotlib.font_manager:findfont: Font family 'Consolas' not found.\n",
            "WARNING:matplotlib.font_manager:findfont: Font family 'Consolas' not found.\n",
            "WARNING:matplotlib.font_manager:findfont: Font family 'Consolas' not found.\n",
            "WARNING:matplotlib.font_manager:findfont: Font family 'Consolas' not found.\n",
            "WARNING:matplotlib.font_manager:findfont: Font family 'Consolas' not found.\n",
            "WARNING:matplotlib.font_manager:findfont: Font family 'Consolas' not found.\n",
            "WARNING:matplotlib.font_manager:findfont: Font family 'Consolas' not found.\n",
            "WARNING:matplotlib.font_manager:findfont: Font family 'Consolas' not found.\n",
            "WARNING:matplotlib.font_manager:findfont: Font family 'Consolas' not found.\n",
            "WARNING:matplotlib.font_manager:findfont: Font family 'Consolas' not found.\n",
            "WARNING:matplotlib.font_manager:findfont: Font family 'Consolas' not found.\n",
            "WARNING:matplotlib.font_manager:findfont: Font family 'Consolas' not found.\n",
            "WARNING:matplotlib.font_manager:findfont: Font family 'Consolas' not found.\n",
            "WARNING:matplotlib.font_manager:findfont: Font family 'Consolas' not found.\n",
            "WARNING:matplotlib.font_manager:findfont: Font family 'Consolas' not found.\n",
            "WARNING:matplotlib.font_manager:findfont: Font family 'Consolas' not found.\n",
            "WARNING:matplotlib.font_manager:findfont: Font family 'Consolas' not found.\n",
            "WARNING:matplotlib.font_manager:findfont: Font family 'Consolas' not found.\n",
            "WARNING:matplotlib.font_manager:findfont: Font family 'Consolas' not found.\n",
            "WARNING:matplotlib.font_manager:findfont: Font family 'Consolas' not found.\n",
            "WARNING:matplotlib.font_manager:findfont: Font family 'Consolas' not found.\n",
            "WARNING:matplotlib.font_manager:findfont: Font family 'Consolas' not found.\n",
            "WARNING:matplotlib.font_manager:findfont: Font family 'Consolas' not found.\n",
            "WARNING:matplotlib.font_manager:findfont: Font family 'Consolas' not found.\n",
            "WARNING:matplotlib.font_manager:findfont: Font family 'Consolas' not found.\n",
            "WARNING:matplotlib.font_manager:findfont: Font family 'Consolas' not found.\n",
            "WARNING:matplotlib.font_manager:findfont: Font family 'Consolas' not found.\n",
            "WARNING:matplotlib.font_manager:findfont: Font family 'Consolas' not found.\n",
            "WARNING:matplotlib.font_manager:findfont: Font family 'Consolas' not found.\n",
            "WARNING:matplotlib.font_manager:findfont: Font family 'Consolas' not found.\n",
            "WARNING:matplotlib.font_manager:findfont: Font family 'Consolas' not found.\n",
            "WARNING:matplotlib.font_manager:findfont: Font family 'Consolas' not found.\n",
            "WARNING:matplotlib.font_manager:findfont: Font family 'Consolas' not found.\n",
            "WARNING:matplotlib.font_manager:findfont: Font family 'Consolas' not found.\n",
            "WARNING:matplotlib.font_manager:findfont: Font family 'Consolas' not found.\n",
            "WARNING:matplotlib.font_manager:findfont: Font family 'Consolas' not found.\n",
            "WARNING:matplotlib.font_manager:findfont: Font family 'Consolas' not found.\n",
            "WARNING:matplotlib.font_manager:findfont: Font family 'Consolas' not found.\n",
            "WARNING:matplotlib.font_manager:findfont: Font family 'Consolas' not found.\n",
            "WARNING:matplotlib.font_manager:findfont: Font family 'Consolas' not found.\n",
            "WARNING:matplotlib.font_manager:findfont: Font family 'Consolas' not found.\n",
            "WARNING:matplotlib.font_manager:findfont: Font family 'Consolas' not found.\n",
            "WARNING:matplotlib.font_manager:findfont: Font family 'Consolas' not found.\n",
            "WARNING:matplotlib.font_manager:findfont: Font family 'Consolas' not found.\n",
            "WARNING:matplotlib.font_manager:findfont: Font family 'Consolas' not found.\n",
            "WARNING:matplotlib.font_manager:findfont: Font family 'Arial' not found.\n",
            "WARNING:matplotlib.font_manager:findfont: Font family 'Arial' not found.\n",
            "WARNING:matplotlib.font_manager:findfont: Font family 'Arial' not found.\n",
            "WARNING:matplotlib.font_manager:findfont: Font family 'Arial' not found.\n",
            "WARNING:matplotlib.font_manager:findfont: Font family 'Arial' not found.\n",
            "WARNING:matplotlib.font_manager:findfont: Font family 'Arial' not found.\n",
            "WARNING:matplotlib.font_manager:findfont: Font family 'Arial' not found.\n",
            "WARNING:matplotlib.font_manager:findfont: Font family 'Arial' not found.\n",
            "WARNING:matplotlib.font_manager:findfont: Font family 'Arial' not found.\n",
            "WARNING:matplotlib.font_manager:findfont: Font family 'Arial' not found.\n",
            "WARNING:matplotlib.font_manager:findfont: Font family 'Arial' not found.\n",
            "WARNING:matplotlib.font_manager:findfont: Font family 'Arial' not found.\n",
            "WARNING:matplotlib.font_manager:findfont: Font family 'Arial' not found.\n"
          ]
        },
        {
          "output_type": "display_data",
          "data": {
            "text/plain": [
              "<IPython.core.display.SVG object>"
            ],
            "image/svg+xml": "<svg xmlns:xlink=\"http://www.w3.org/1999/xlink\" xmlns=\"http://www.w3.org/2000/svg\" width=\"295.531206pt\" height=\"54.546474pt\" viewBox=\"0 0 295.531206 54.546474\" version=\"1.1\">\n <metadata>\n  <rdf:RDF xmlns:dc=\"http://purl.org/dc/elements/1.1/\" xmlns:cc=\"http://creativecommons.org/ns#\" xmlns:rdf=\"http://www.w3.org/1999/02/22-rdf-syntax-ns#\">\n   <cc:Work>\n    <dc:type rdf:resource=\"http://purl.org/dc/dcmitype/StillImage\"/>\n    <dc:date>2023-08-04T00:44:54.160872</dc:date>\n    <dc:format>image/svg+xml</dc:format>\n    <dc:creator>\n     <cc:Agent>\n      <dc:title>Matplotlib v3.7.1, https://matplotlib.org/</dc:title>\n     </cc:Agent>\n    </dc:creator>\n   </cc:Work>\n  </rdf:RDF>\n </metadata>\n <defs>\n  <style type=\"text/css\">*{stroke-linejoin: round; stroke-linecap: butt}</style>\n </defs>\n <g id=\"figure_1\">\n  <g id=\"patch_1\">\n   <path d=\"M 0 54.546474  L 295.531206 54.546474  L 295.531206 0  L 0 0  z \" style=\"fill: #ffffff\"/>\n  </g>\n  <g id=\"axes_1\">\n   <g id=\"patch_2\">\n    <path d=\"M 23.94936 46.385787  L 29.17224 46.385787  L 29.17224 23.683107  L 23.94936 23.683107  z \" clip-path=\"url(#p1c1ded1182)\" style=\"fill: #a8e1b0; fill-opacity: 0.75; stroke: #808080; stroke-width: 0.7; stroke-linejoin: miter\"/>\n   </g>\n   <g id=\"patch_3\">\n    <path d=\"M 93.47895 46.385787  L 116.32905 46.385787  L 116.32905 23.683107  L 93.47895 23.683107  z \" clip-path=\"url(#p1c1ded1182)\" style=\"fill: #a8e1b0; fill-opacity: 0.75; stroke: #808080; stroke-width: 0.7; stroke-linejoin: miter\"/>\n   </g>\n   <g id=\"patch_4\">\n    <path d=\"M 193.69296 46.385787  L 198.91584 46.385787  L 198.91584 23.683107  L 193.69296 23.683107  z \" clip-path=\"url(#p1c1ded1182)\" style=\"fill: #a8e1b0; fill-opacity: 0.75; stroke: #808080; stroke-width: 0.7; stroke-linejoin: miter\"/>\n   </g>\n   <g id=\"patch_5\">\n    <path d=\"M 266.16042 34.061475  L 276.60618 34.061475  L 276.60618 23.683107  L 266.16042 23.683107  z \" clip-path=\"url(#p1c1ded1182)\" style=\"fill: #7fa4d3; fill-opacity: 0.75; stroke: #808080; stroke-width: 0.7; stroke-linejoin: miter\"/>\n   </g>\n   <g id=\"line2d_1\">\n    <path d=\"M 6.32214 13.762608  L 46.79946 13.762608  \" clip-path=\"url(#p1c1ded1182)\" style=\"fill: none; stroke: #c2c2c2; stroke-width: 0.5; stroke-linecap: square\"/>\n   </g>\n   <g id=\"line2d_2\">\n    <path d=\"M 65.07954 13.762608  L 144.72846 13.762608  \" clip-path=\"url(#p1c1ded1182)\" style=\"fill: none; stroke: #c2c2c2; stroke-width: 0.5; stroke-linecap: square\"/>\n   </g>\n   <g id=\"line2d_3\">\n    <path d=\"M 163.00854 13.762608  L 229.60026 13.762608  \" clip-path=\"url(#p1c1ded1182)\" style=\"fill: none; stroke: #c2c2c2; stroke-width: 0.5; stroke-linecap: square\"/>\n   </g>\n   <g id=\"line2d_4\">\n    <path d=\"M 247.88034 13.762608  L 294.88626 13.762608  \" clip-path=\"url(#p1c1ded1182)\" style=\"fill: none; stroke: #c2c2c2; stroke-width: 0.5; stroke-linecap: square\"/>\n   </g>\n   <g id=\"text_1\">\n    <!-- o -->\n    <g style=\"fill: #444443\" transform=\"translate(6.975 9.947031) scale(0.13 -0.13)\">\n     <defs>\n      <path id=\"DejaVuSansMono-6f\" d=\"M 1925 3097  Q 1488 3097 1263 2756  Q 1038 2416 1038 1747  Q 1038 1081 1263 739  Q 1488 397 1925 397  Q 2366 397 2591 739  Q 2816 1081 2816 1747  Q 2816 2416 2591 2756  Q 2366 3097 1925 3097  z M 1925 3584  Q 2653 3584 3039 3112  Q 3425 2641 3425 1747  Q 3425 850 3040 379  Q 2656 -91 1925 -91  Q 1197 -91 812 379  Q 428 850 428 1747  Q 428 2641 812 3112  Q 1197 3584 1925 3584  z \" transform=\"scale(0.015625)\"/>\n     </defs>\n     <use xlink:href=\"#DejaVuSansMono-6f\"/>\n    </g>\n   </g>\n   <g id=\"text_2\">\n    <!-- u -->\n    <g style=\"fill: #444443\" transform=\"translate(13.5036 9.947031) scale(0.13 -0.13)\">\n     <defs>\n      <path id=\"DejaVuSansMono-75\" d=\"M 609 1325  L 609 3494  L 1184 3494  L 1184 1325  Q 1184 853 1351 631  Q 1519 409 1869 409  Q 2275 409 2490 695  Q 2706 981 2706 1516  L 2706 3494  L 3284 3494  L 3284 0  L 2706 0  L 2706 525  Q 2553 222 2289 65  Q 2025 -91 1672 -91  Q 1134 -91 871 261  Q 609 613 609 1325  z \" transform=\"scale(0.015625)\"/>\n     </defs>\n     <use xlink:href=\"#DejaVuSansMono-75\"/>\n    </g>\n   </g>\n   <g id=\"text_3\">\n    <!-- t -->\n    <g style=\"fill: #444443\" transform=\"translate(20.0322 9.947031) scale(0.13 -0.13)\">\n     <defs>\n      <path id=\"DejaVuSansMono-74\" d=\"M 1919 4494  L 1919 3500  L 3225 3500  L 3225 3053  L 1919 3053  L 1919 1153  Q 1919 766 2066 612  Q 2213 459 2578 459  L 3225 459  L 3225 0  L 2522 0  Q 1875 0 1609 259  Q 1344 519 1344 1153  L 1344 3053  L 409 3053  L 409 3500  L 1344 3500  L 1344 4494  L 1919 4494  z \" transform=\"scale(0.015625)\"/>\n     </defs>\n     <use xlink:href=\"#DejaVuSansMono-74\"/>\n    </g>\n   </g>\n   <g id=\"text_4\">\n    <!-- p -->\n    <g style=\"fill: #444443\" transform=\"translate(26.5608 9.947031) scale(0.13 -0.13)\">\n     <defs>\n      <path id=\"DejaVuSansMono-70\" d=\"M 1172 441  L 1172 -1331  L 594 -1331  L 594 3500  L 1172 3500  L 1172 3053  Q 1316 3313 1555 3448  Q 1794 3584 2106 3584  Q 2741 3584 3102 3093  Q 3463 2603 3463 1734  Q 3463 881 3100 395  Q 2738 -91 2106 -91  Q 1788 -91 1548 45  Q 1309 181 1172 441  z M 2859 1747  Q 2859 2416 2648 2756  Q 2438 3097 2022 3097  Q 1603 3097 1387 2755  Q 1172 2413 1172 1747  Q 1172 1084 1387 740  Q 1603 397 2022 397  Q 2438 397 2648 737  Q 2859 1078 2859 1747  z \" transform=\"scale(0.015625)\"/>\n     </defs>\n     <use xlink:href=\"#DejaVuSansMono-70\"/>\n    </g>\n   </g>\n   <g id=\"text_5\">\n    <!-- u -->\n    <g style=\"fill: #444443\" transform=\"translate(33.0894 9.947031) scale(0.13 -0.13)\">\n     <use xlink:href=\"#DejaVuSansMono-75\"/>\n    </g>\n   </g>\n   <g id=\"text_6\">\n    <!-- t -->\n    <g style=\"fill: #444443\" transform=\"translate(39.618 9.947031) scale(0.13 -0.13)\">\n     <use xlink:href=\"#DejaVuSansMono-74\"/>\n    </g>\n   </g>\n   <g id=\"text_7\">\n    <!--   -->\n    <g style=\"fill: #444443\" transform=\"translate(46.1466 9.947031) scale(0.13 -0.13)\">\n     <defs>\n      <path id=\"DejaVuSansMono-20\" transform=\"scale(0.015625)\"/>\n     </defs>\n     <use xlink:href=\"#DejaVuSansMono-20\"/>\n    </g>\n   </g>\n   <g id=\"text_8\">\n    <!-- = -->\n    <g style=\"fill: #444443\" transform=\"translate(52.6752 9.947031) scale(0.13 -0.13)\">\n     <defs>\n      <path id=\"DejaVuSansMono-3d\" d=\"M 275 1638  L 3578 1638  L 3578 1100  L 275 1100  L 275 1638  z M 275 2906  L 3578 2906  L 3578 2375  L 275 2375  L 275 2906  z \" transform=\"scale(0.015625)\"/>\n     </defs>\n     <use xlink:href=\"#DejaVuSansMono-3d\"/>\n    </g>\n   </g>\n   <g id=\"text_9\">\n    <!--   -->\n    <g style=\"fill: #444443\" transform=\"translate(59.2038 9.947031) scale(0.13 -0.13)\">\n     <use xlink:href=\"#DejaVuSansMono-20\"/>\n    </g>\n   </g>\n   <g id=\"text_10\">\n    <!-- l -->\n    <g style=\"fill: #444443\" transform=\"translate(65.7324 9.947031) scale(0.13 -0.13)\">\n     <defs>\n      <path id=\"DejaVuSansMono-6c\" d=\"M 1997 1269  Q 1997 881 2139 684  Q 2281 488 2559 488  L 3231 488  L 3231 0  L 2503 0  Q 1988 0 1705 331  Q 1422 663 1422 1269  L 1422 4447  L 500 4447  L 500 4897  L 1997 4897  L 1997 1269  z \" transform=\"scale(0.015625)\"/>\n     </defs>\n     <use xlink:href=\"#DejaVuSansMono-6c\"/>\n    </g>\n   </g>\n   <g id=\"text_11\">\n    <!-- 1 -->\n    <g style=\"fill: #444443\" transform=\"translate(72.261 9.947031) scale(0.13 -0.13)\">\n     <defs>\n      <path id=\"DejaVuSansMono-31\" d=\"M 844 531  L 1825 531  L 1825 4097  L 769 3859  L 769 4434  L 1819 4666  L 2450 4666  L 2450 531  L 3419 531  L 3419 0  L 844 0  L 844 531  z \" transform=\"scale(0.015625)\"/>\n     </defs>\n     <use xlink:href=\"#DejaVuSansMono-31\"/>\n    </g>\n   </g>\n   <g id=\"text_12\">\n    <!-- _ -->\n    <g style=\"fill: #444443\" transform=\"translate(78.7896 9.947031) scale(0.13 -0.13)\">\n     <defs>\n      <path id=\"DejaVuSansMono-5f\" d=\"M 3853 -1259  L 3853 -1509  L 0 -1509  L 0 -1259  L 3853 -1259  z \" transform=\"scale(0.015625)\"/>\n     </defs>\n     <use xlink:href=\"#DejaVuSansMono-5f\"/>\n    </g>\n   </g>\n   <g id=\"text_13\">\n    <!-- a -->\n    <g style=\"fill: #444443\" transform=\"translate(85.3182 9.947031) scale(0.13 -0.13)\">\n     <defs>\n      <path id=\"DejaVuSansMono-61\" d=\"M 2194 1759  L 2003 1759  Q 1500 1759 1245 1582  Q 991 1406 991 1056  Q 991 741 1181 566  Q 1372 391 1709 391  Q 2184 391 2456 720  Q 2728 1050 2731 1631  L 2731 1759  L 2194 1759  z M 3309 1997  L 3309 0  L 2731 0  L 2731 519  Q 2547 206 2267 57  Q 1988 -91 1588 -91  Q 1053 -91 734 211  Q 416 513 416 1019  Q 416 1603 808 1906  Q 1200 2209 1959 2209  L 2731 2209  L 2731 2300  Q 2728 2719 2518 2908  Q 2309 3097 1850 3097  Q 1556 3097 1256 3012  Q 956 2928 672 2766  L 672 3341  Q 991 3463 1283 3523  Q 1575 3584 1850 3584  Q 2284 3584 2592 3456  Q 2900 3328 3091 3072  Q 3209 2916 3259 2686  Q 3309 2456 3309 1997  z \" transform=\"scale(0.015625)\"/>\n     </defs>\n     <use xlink:href=\"#DejaVuSansMono-61\"/>\n    </g>\n   </g>\n   <g id=\"text_14\">\n    <!-- c -->\n    <g style=\"fill: #444443\" transform=\"translate(91.8468 9.947031) scale(0.13 -0.13)\">\n     <defs>\n      <path id=\"DejaVuSansMono-63\" d=\"M 3316 178  Q 3084 44 2839 -23  Q 2594 -91 2338 -91  Q 1525 -91 1067 396  Q 609 884 609 1747  Q 609 2609 1067 3096  Q 1525 3584 2338 3584  Q 2591 3584 2831 3518  Q 3072 3453 3316 3316  L 3316 2713  Q 3088 2916 2858 3006  Q 2628 3097 2338 3097  Q 1797 3097 1506 2747  Q 1216 2397 1216 1747  Q 1216 1100 1508 748  Q 1800 397 2338 397  Q 2638 397 2875 489  Q 3113 581 3316 775  L 3316 178  z \" transform=\"scale(0.015625)\"/>\n     </defs>\n     <use xlink:href=\"#DejaVuSansMono-63\"/>\n    </g>\n   </g>\n   <g id=\"text_15\">\n    <!-- t -->\n    <g style=\"fill: #444443\" transform=\"translate(98.3754 9.947031) scale(0.13 -0.13)\">\n     <use xlink:href=\"#DejaVuSansMono-74\"/>\n    </g>\n   </g>\n   <g id=\"text_16\">\n    <!-- i -->\n    <g style=\"fill: #444443\" transform=\"translate(104.904 9.947031) scale(0.13 -0.13)\">\n     <defs>\n      <path id=\"DejaVuSansMono-69\" d=\"M 800 3500  L 2272 3500  L 2272 447  L 3413 447  L 3413 0  L 556 0  L 556 447  L 1697 447  L 1697 3053  L 800 3053  L 800 3500  z M 1697 4863  L 2272 4863  L 2272 4134  L 1697 4134  L 1697 4863  z \" transform=\"scale(0.015625)\"/>\n     </defs>\n     <use xlink:href=\"#DejaVuSansMono-69\"/>\n    </g>\n   </g>\n   <g id=\"text_17\">\n    <!-- v -->\n    <g style=\"fill: #444443\" transform=\"translate(111.4326 9.947031) scale(0.13 -0.13)\">\n     <defs>\n      <path id=\"DejaVuSansMono-76\" d=\"M 313 3500  L 909 3500  L 1925 563  L 2944 3500  L 3541 3500  L 2297 0  L 1556 0  L 313 3500  z \" transform=\"scale(0.015625)\"/>\n     </defs>\n     <use xlink:href=\"#DejaVuSansMono-76\"/>\n    </g>\n   </g>\n   <g id=\"text_18\">\n    <!-- a -->\n    <g style=\"fill: #444443\" transform=\"translate(117.9612 9.947031) scale(0.13 -0.13)\">\n     <use xlink:href=\"#DejaVuSansMono-61\"/>\n    </g>\n   </g>\n   <g id=\"text_19\">\n    <!-- t -->\n    <g style=\"fill: #444443\" transform=\"translate(124.4898 9.947031) scale(0.13 -0.13)\">\n     <use xlink:href=\"#DejaVuSansMono-74\"/>\n    </g>\n   </g>\n   <g id=\"text_20\">\n    <!-- e -->\n    <g style=\"fill: #444443\" transform=\"translate(131.0184 9.947031) scale(0.13 -0.13)\">\n     <defs>\n      <path id=\"DejaVuSansMono-65\" d=\"M 3475 1894  L 3475 1613  L 984 1613  L 984 1594  Q 984 1022 1282 709  Q 1581 397 2125 397  Q 2400 397 2700 484  Q 3000 572 3341 750  L 3341 178  Q 3013 44 2708 -23  Q 2403 -91 2119 -91  Q 1303 -91 843 398  Q 384 888 384 1747  Q 384 2584 834 3084  Q 1284 3584 2034 3584  Q 2703 3584 3089 3131  Q 3475 2678 3475 1894  z M 2900 2063  Q 2888 2569 2661 2833  Q 2434 3097 2009 3097  Q 1594 3097 1325 2822  Q 1056 2547 1006 2059  L 2900 2063  z \" transform=\"scale(0.015625)\"/>\n     </defs>\n     <use xlink:href=\"#DejaVuSansMono-65\"/>\n    </g>\n   </g>\n   <g id=\"text_21\">\n    <!-- d -->\n    <g style=\"fill: #444443\" transform=\"translate(137.547 9.947031) scale(0.13 -0.13)\">\n     <defs>\n      <path id=\"DejaVuSansMono-64\" d=\"M 2681 3053  L 2681 4863  L 3256 4863  L 3256 0  L 2681 0  L 2681 441  Q 2538 181 2298 45  Q 2059 -91 1747 -91  Q 1113 -91 748 401  Q 384 894 384 1759  Q 384 2613 750 3098  Q 1116 3584 1747 3584  Q 2063 3584 2303 3448  Q 2544 3313 2681 3053  z M 991 1747  Q 991 1078 1203 737  Q 1416 397 1831 397  Q 2247 397 2464 740  Q 2681 1084 2681 1747  Q 2681 2413 2464 2755  Q 2247 3097 1831 3097  Q 1416 3097 1203 2756  Q 991 2416 991 1747  z \" transform=\"scale(0.015625)\"/>\n     </defs>\n     <use xlink:href=\"#DejaVuSansMono-64\"/>\n    </g>\n   </g>\n   <g id=\"text_22\">\n    <!--   -->\n    <g style=\"fill: #444443\" transform=\"translate(144.0756 9.947031) scale(0.13 -0.13)\">\n     <use xlink:href=\"#DejaVuSansMono-20\"/>\n    </g>\n   </g>\n   <g id=\"text_23\">\n    <!-- @ -->\n    <g style=\"fill: #444443\" transform=\"translate(150.6042 9.947031) scale(0.13 -0.13)\">\n     <defs>\n      <path id=\"DejaVuSansMono-40\" d=\"M 3244 1703  Q 3244 2106 3044 2348  Q 2844 2591 2509 2591  Q 2175 2591 1973 2348  Q 1772 2106 1772 1703  Q 1772 1297 1973 1055  Q 2175 813 2509 813  Q 2844 813 3044 1055  Q 3244 1297 3244 1703  z M 3681 422  L 3231 422  L 3231 769  Q 3116 572 2911 465  Q 2706 359 2450 359  Q 1947 359 1617 737  Q 1288 1116 1288 1703  Q 1288 2291 1617 2669  Q 1947 3047 2450 3047  Q 2700 3047 2909 2937  Q 3119 2828 3231 2638  L 3231 2834  Q 3231 3322 2956 3619  Q 2681 3916 2228 3916  Q 1459 3916 1004 3317  Q 550 2719 550 1697  Q 550 669 1065 59  Q 1581 -550 2438 -550  Q 2606 -550 2775 -519  Q 2944 -488 3122 -422  L 3272 -844  Q 3075 -922 2883 -959  Q 2691 -997 2509 -997  Q 1394 -997 739 -269  Q 84 459 84 1697  Q 84 2916 671 3637  Q 1259 4359 2247 4359  Q 2900 4359 3290 3943  Q 3681 3528 3681 2828  L 3681 422  z \" transform=\"scale(0.015625)\"/>\n     </defs>\n     <use xlink:href=\"#DejaVuSansMono-40\"/>\n    </g>\n   </g>\n   <g id=\"text_24\">\n    <!--   -->\n    <g style=\"fill: #444443\" transform=\"translate(157.1328 9.947031) scale(0.13 -0.13)\">\n     <use xlink:href=\"#DejaVuSansMono-20\"/>\n    </g>\n   </g>\n   <g id=\"text_25\">\n    <!-- l -->\n    <g style=\"fill: #444443\" transform=\"translate(163.6614 9.947031) scale(0.13 -0.13)\">\n     <use xlink:href=\"#DejaVuSansMono-6c\"/>\n    </g>\n   </g>\n   <g id=\"text_26\">\n    <!-- 2 -->\n    <g style=\"fill: #444443\" transform=\"translate(170.19 9.947031) scale(0.13 -0.13)\">\n     <defs>\n      <path id=\"DejaVuSansMono-32\" d=\"M 1166 531  L 3309 531  L 3309 0  L 475 0  L 475 531  Q 1059 1147 1496 1619  Q 1934 2091 2100 2284  Q 2413 2666 2522 2902  Q 2631 3138 2631 3384  Q 2631 3775 2401 3997  Q 2172 4219 1772 4219  Q 1488 4219 1175 4116  Q 863 4013 513 3803  L 513 4441  Q 834 4594 1145 4672  Q 1456 4750 1759 4750  Q 2444 4750 2861 4386  Q 3278 4022 3278 3431  Q 3278 3131 3139 2831  Q 3000 2531 2688 2169  Q 2513 1966 2180 1606  Q 1847 1247 1166 531  z \" transform=\"scale(0.015625)\"/>\n     </defs>\n     <use xlink:href=\"#DejaVuSansMono-32\"/>\n    </g>\n   </g>\n   <g id=\"text_27\">\n    <!-- _ -->\n    <g style=\"fill: #444443\" transform=\"translate(176.7186 9.947031) scale(0.13 -0.13)\">\n     <use xlink:href=\"#DejaVuSansMono-5f\"/>\n    </g>\n   </g>\n   <g id=\"text_28\">\n    <!-- w -->\n    <g style=\"fill: #444443\" transform=\"translate(183.2472 9.947031) scale(0.13 -0.13)\">\n     <defs>\n      <path id=\"DejaVuSansMono-77\" d=\"M 0 3500  L 569 3500  L 1178 672  L 1678 2478  L 2169 2478  L 2675 672  L 3284 3500  L 3853 3500  L 3034 0  L 2484 0  L 1925 1919  L 1369 0  L 819 0  L 0 3500  z \" transform=\"scale(0.015625)\"/>\n     </defs>\n     <use xlink:href=\"#DejaVuSansMono-77\"/>\n    </g>\n   </g>\n   <g id=\"text_29\">\n    <!-- e -->\n    <g style=\"fill: #444443\" transform=\"translate(189.7758 9.947031) scale(0.13 -0.13)\">\n     <use xlink:href=\"#DejaVuSansMono-65\"/>\n    </g>\n   </g>\n   <g id=\"text_30\">\n    <!-- i -->\n    <g style=\"fill: #444443\" transform=\"translate(196.3044 9.947031) scale(0.13 -0.13)\">\n     <use xlink:href=\"#DejaVuSansMono-69\"/>\n    </g>\n   </g>\n   <g id=\"text_31\">\n    <!-- g -->\n    <g style=\"fill: #444443\" transform=\"translate(202.833 9.947031) scale(0.13 -0.13)\">\n     <defs>\n      <path id=\"DejaVuSansMono-67\" d=\"M 2681 1778  Q 2681 2425 2470 2761  Q 2259 3097 1856 3097  Q 1434 3097 1212 2761  Q 991 2425 991 1778  Q 991 1131 1214 792  Q 1438 453 1863 453  Q 2259 453 2470 793  Q 2681 1134 2681 1778  z M 3256 225  Q 3256 -563 2884 -969  Q 2513 -1375 1791 -1375  Q 1553 -1375 1293 -1331  Q 1034 -1288 775 -1203  L 775 -634  Q 1081 -778 1331 -847  Q 1581 -916 1791 -916  Q 2256 -916 2468 -662  Q 2681 -409 2681 141  L 2681 166  L 2681 556  Q 2544 263 2306 119  Q 2069 -25 1728 -25  Q 1116 -25 750 465  Q 384 956 384 1778  Q 384 2603 750 3093  Q 1116 3584 1728 3584  Q 2066 3584 2300 3450  Q 2534 3316 2681 3034  L 2681 3488  L 3256 3488  L 3256 225  z \" transform=\"scale(0.015625)\"/>\n     </defs>\n     <use xlink:href=\"#DejaVuSansMono-67\"/>\n    </g>\n   </g>\n   <g id=\"text_32\">\n    <!-- h -->\n    <g style=\"fill: #444443\" transform=\"translate(209.3616 9.947031) scale(0.13 -0.13)\">\n     <defs>\n      <path id=\"DejaVuSansMono-68\" d=\"M 3284 2169  L 3284 0  L 2706 0  L 2706 2169  Q 2706 2641 2540 2862  Q 2375 3084 2022 3084  Q 1619 3084 1401 2798  Q 1184 2513 1184 1978  L 1184 0  L 609 0  L 609 4863  L 1184 4863  L 1184 2975  Q 1338 3275 1600 3429  Q 1863 3584 2222 3584  Q 2756 3584 3020 3232  Q 3284 2881 3284 2169  z \" transform=\"scale(0.015625)\"/>\n     </defs>\n     <use xlink:href=\"#DejaVuSansMono-68\"/>\n    </g>\n   </g>\n   <g id=\"text_33\">\n    <!-- t -->\n    <g style=\"fill: #444443\" transform=\"translate(215.8902 9.947031) scale(0.13 -0.13)\">\n     <use xlink:href=\"#DejaVuSansMono-74\"/>\n    </g>\n   </g>\n   <g id=\"text_34\">\n    <!-- s -->\n    <g style=\"fill: #444443\" transform=\"translate(222.4188 9.947031) scale(0.13 -0.13)\">\n     <defs>\n      <path id=\"DejaVuSansMono-73\" d=\"M 3041 3378  L 3041 2816  Q 2794 2959 2544 3031  Q 2294 3103 2034 3103  Q 1644 3103 1451 2976  Q 1259 2850 1259 2591  Q 1259 2356 1403 2240  Q 1547 2125 2119 2016  L 2350 1972  Q 2778 1891 2998 1647  Q 3219 1403 3219 1013  Q 3219 494 2850 201  Q 2481 -91 1825 -91  Q 1566 -91 1281 -36  Q 997 19 666 128  L 666 722  Q 988 556 1281 473  Q 1575 391 1838 391  Q 2219 391 2428 545  Q 2638 700 2638 978  Q 2638 1378 1872 1531  L 1847 1538  L 1631 1581  Q 1134 1678 906 1908  Q 678 2138 678 2534  Q 678 3038 1018 3311  Q 1359 3584 1991 3584  Q 2272 3584 2531 3532  Q 2791 3481 3041 3378  z \" transform=\"scale(0.015625)\"/>\n     </defs>\n     <use xlink:href=\"#DejaVuSansMono-73\"/>\n    </g>\n   </g>\n   <g id=\"text_35\">\n    <!--   -->\n    <g style=\"fill: #444443\" transform=\"translate(228.9474 9.947031) scale(0.13 -0.13)\">\n     <use xlink:href=\"#DejaVuSansMono-20\"/>\n    </g>\n   </g>\n   <g id=\"text_36\">\n    <!-- + -->\n    <g style=\"fill: #444443\" transform=\"translate(235.476 9.947031) scale(0.13 -0.13)\">\n     <defs>\n      <path id=\"DejaVuSansMono-2b\" d=\"M 2188 3659  L 2188 2272  L 3578 2272  L 3578 1741  L 2188 1741  L 2188 353  L 1663 353  L 1663 1741  L 275 1741  L 275 2272  L 1663 2272  L 1663 3659  L 2188 3659  z \" transform=\"scale(0.015625)\"/>\n     </defs>\n     <use xlink:href=\"#DejaVuSansMono-2b\"/>\n    </g>\n   </g>\n   <g id=\"text_37\">\n    <!--   -->\n    <g style=\"fill: #444443\" transform=\"translate(242.0046 9.947031) scale(0.13 -0.13)\">\n     <use xlink:href=\"#DejaVuSansMono-20\"/>\n    </g>\n   </g>\n   <g id=\"text_38\">\n    <!-- l -->\n    <g style=\"fill: #444443\" transform=\"translate(248.5332 9.947031) scale(0.13 -0.13)\">\n     <use xlink:href=\"#DejaVuSansMono-6c\"/>\n    </g>\n   </g>\n   <g id=\"text_39\">\n    <!-- 2 -->\n    <g style=\"fill: #444443\" transform=\"translate(255.0618 9.947031) scale(0.13 -0.13)\">\n     <use xlink:href=\"#DejaVuSansMono-32\"/>\n    </g>\n   </g>\n   <g id=\"text_40\">\n    <!-- _ -->\n    <g style=\"fill: #444443\" transform=\"translate(261.5904 9.947031) scale(0.13 -0.13)\">\n     <use xlink:href=\"#DejaVuSansMono-5f\"/>\n    </g>\n   </g>\n   <g id=\"text_41\">\n    <!-- b -->\n    <g style=\"fill: #444443\" transform=\"translate(268.119 9.947031) scale(0.13 -0.13)\">\n     <defs>\n      <path id=\"DejaVuSansMono-62\" d=\"M 2869 1747  Q 2869 2416 2656 2756  Q 2444 3097 2028 3097  Q 1609 3097 1393 2755  Q 1178 2413 1178 1747  Q 1178 1084 1393 740  Q 1609 397 2028 397  Q 2444 397 2656 737  Q 2869 1078 2869 1747  z M 1178 3053  Q 1316 3309 1558 3446  Q 1800 3584 2119 3584  Q 2750 3584 3112 3098  Q 3475 2613 3475 1759  Q 3475 894 3111 401  Q 2747 -91 2113 -91  Q 1800 -91 1561 45  Q 1322 181 1178 441  L 1178 0  L 603 0  L 603 4863  L 1178 4863  L 1178 3053  z \" transform=\"scale(0.015625)\"/>\n     </defs>\n     <use xlink:href=\"#DejaVuSansMono-62\"/>\n    </g>\n   </g>\n   <g id=\"text_42\">\n    <!-- i -->\n    <g style=\"fill: #444443\" transform=\"translate(274.6476 9.947031) scale(0.13 -0.13)\">\n     <use xlink:href=\"#DejaVuSansMono-69\"/>\n    </g>\n   </g>\n   <g id=\"text_43\">\n    <!-- a -->\n    <g style=\"fill: #444443\" transform=\"translate(281.1762 9.947031) scale(0.13 -0.13)\">\n     <use xlink:href=\"#DejaVuSansMono-61\"/>\n    </g>\n   </g>\n   <g id=\"text_44\">\n    <!-- s -->\n    <g style=\"fill: #444443\" transform=\"translate(287.7048 9.947031) scale(0.13 -0.13)\">\n     <use xlink:href=\"#DejaVuSansMono-73\"/>\n    </g>\n   </g>\n   <g id=\"text_45\">\n    <!-- 5 -->\n    <g transform=\"translate(22.077641 37.897572) rotate(-90) scale(0.09 -0.09)\">\n     <defs>\n      <path id=\"DejaVuSans-35\" d=\"M 691 4666  L 3169 4666  L 3169 4134  L 1269 4134  L 1269 2991  Q 1406 3038 1543 3061  Q 1681 3084 1819 3084  Q 2600 3084 3056 2656  Q 3513 2228 3513 1497  Q 3513 744 3044 326  Q 2575 -91 1722 -91  Q 1428 -91 1123 -41  Q 819 9 494 109  L 494 744  Q 775 591 1075 516  Q 1375 441 1709 441  Q 2250 441 2565 725  Q 2881 1009 2881 1497  Q 2881 1984 2565 2268  Q 2250 2553 1709 2553  Q 1456 2553 1204 2497  Q 953 2441 691 2322  L 691 4666  z \" transform=\"scale(0.015625)\"/>\n     </defs>\n     <use xlink:href=\"#DejaVuSans-35\"/>\n    </g>\n   </g>\n   <g id=\"text_46\">\n    <!-- 1 -->\n    <g transform=\"translate(23.697675 22.297107) scale(0.09 -0.09)\">\n     <defs>\n      <path id=\"DejaVuSans-31\" d=\"M 794 531  L 1825 531  L 1825 4091  L 703 3866  L 703 4441  L 1819 4666  L 2450 4666  L 2450 531  L 3481 531  L 3481 0  L 794 0  L 794 531  z \" transform=\"scale(0.015625)\"/>\n     </defs>\n     <use xlink:href=\"#DejaVuSans-31\"/>\n    </g>\n   </g>\n   <g id=\"text_47\">\n    <!-- &lt;${\\mathit{float64}}$&gt; -->\n    <g transform=\"translate(8.3608 53.090693) scale(0.07 -0.07)\">\n     <defs>\n      <path id=\"DejaVuSans-3c\" d=\"M 4684 3150  L 1459 2003  L 4684 863  L 4684 294  L 678 1747  L 678 2266  L 4684 3719  L 4684 3150  z \" transform=\"scale(0.015625)\"/>\n      <path id=\"DejaVuSans-Oblique-66\" d=\"M 3059 4863  L 2969 4384  L 2419 4384  Q 2106 4384 1964 4261  Q 1822 4138 1753 3809  L 1691 3500  L 2638 3500  L 2553 3053  L 1606 3053  L 1013 0  L 434 0  L 1031 3053  L 481 3053  L 563 3500  L 1113 3500  L 1159 3744  Q 1278 4363 1576 4613  Q 1875 4863 2516 4863  L 3059 4863  z \" transform=\"scale(0.015625)\"/>\n      <path id=\"DejaVuSans-Oblique-6c\" d=\"M 1172 4863  L 1747 4863  L 800 0  L 225 0  L 1172 4863  z \" transform=\"scale(0.015625)\"/>\n      <path id=\"DejaVuSans-Oblique-6f\" d=\"M 1625 -91  Q 1009 -91 651 289  Q 294 669 294 1325  Q 294 1706 417 2101  Q 541 2497 738 2766  Q 1047 3184 1428 3384  Q 1809 3584 2291 3584  Q 2888 3584 3255 3212  Q 3622 2841 3622 2241  Q 3622 1825 3500 1412  Q 3378 1000 3181 728  Q 2875 309 2494 109  Q 2113 -91 1625 -91  z M 891 1344  Q 891 869 1089 633  Q 1288 397 1691 397  Q 2269 397 2648 901  Q 3028 1406 3028 2181  Q 3028 2634 2825 2865  Q 2622 3097 2228 3097  Q 1903 3097 1650 2945  Q 1397 2794 1197 2484  Q 1050 2253 970 1956  Q 891 1659 891 1344  z \" transform=\"scale(0.015625)\"/>\n      <path id=\"DejaVuSans-Oblique-61\" d=\"M 3438 1997  L 3047 0  L 2472 0  L 2578 531  Q 2325 219 2001 64  Q 1678 -91 1281 -91  Q 834 -91 548 182  Q 263 456 263 884  Q 263 1497 752 1853  Q 1241 2209 2100 2209  L 2900 2209  L 2931 2363  Q 2938 2388 2941 2417  Q 2944 2447 2944 2509  Q 2944 2788 2717 2942  Q 2491 3097 2081 3097  Q 1800 3097 1504 3025  Q 1209 2953 897 2809  L 997 3341  Q 1322 3463 1633 3523  Q 1944 3584 2234 3584  Q 2853 3584 3176 3315  Q 3500 3047 3500 2534  Q 3500 2431 3484 2292  Q 3469 2153 3438 1997  z M 2816 1759  L 2241 1759  Q 1534 1759 1195 1570  Q 856 1381 856 984  Q 856 709 1029 553  Q 1203 397 1509 397  Q 1978 397 2328 733  Q 2678 1069 2791 1631  L 2816 1759  z \" transform=\"scale(0.015625)\"/>\n      <path id=\"DejaVuSans-Oblique-74\" d=\"M 2706 3500  L 2619 3053  L 1472 3053  L 1100 1153  Q 1081 1047 1072 975  Q 1063 903 1063 863  Q 1063 663 1183 572  Q 1303 481 1569 481  L 2150 481  L 2053 0  L 1503 0  Q 991 0 739 200  Q 488 400 488 806  Q 488 878 497 964  Q 506 1050 525 1153  L 897 3053  L 409 3053  L 500 3500  L 978 3500  L 1172 4494  L 1747 4494  L 1556 3500  L 2706 3500  z \" transform=\"scale(0.015625)\"/>\n      <path id=\"DejaVuSans-36\" d=\"M 2113 2584  Q 1688 2584 1439 2293  Q 1191 2003 1191 1497  Q 1191 994 1439 701  Q 1688 409 2113 409  Q 2538 409 2786 701  Q 3034 994 3034 1497  Q 3034 2003 2786 2293  Q 2538 2584 2113 2584  z M 3366 4563  L 3366 3988  Q 3128 4100 2886 4159  Q 2644 4219 2406 4219  Q 1781 4219 1451 3797  Q 1122 3375 1075 2522  Q 1259 2794 1537 2939  Q 1816 3084 2150 3084  Q 2853 3084 3261 2657  Q 3669 2231 3669 1497  Q 3669 778 3244 343  Q 2819 -91 2113 -91  Q 1303 -91 875 529  Q 447 1150 447 2328  Q 447 3434 972 4092  Q 1497 4750 2381 4750  Q 2619 4750 2861 4703  Q 3103 4656 3366 4563  z \" transform=\"scale(0.015625)\"/>\n      <path id=\"DejaVuSans-34\" d=\"M 2419 4116  L 825 1625  L 2419 1625  L 2419 4116  z M 2253 4666  L 3047 4666  L 3047 1625  L 3713 1625  L 3713 1100  L 3047 1100  L 3047 0  L 2419 0  L 2419 1100  L 313 1100  L 313 1709  L 2253 4666  z \" transform=\"scale(0.015625)\"/>\n      <path id=\"DejaVuSans-3e\" d=\"M 678 3150  L 678 3719  L 4684 2266  L 4684 1747  L 678 294  L 678 863  L 3897 2003  L 678 3150  z \" transform=\"scale(0.015625)\"/>\n     </defs>\n     <use xlink:href=\"#DejaVuSans-3c\" transform=\"translate(0 0.015625)\"/>\n     <use xlink:href=\"#DejaVuSans-Oblique-66\" transform=\"translate(83.789062 0.015625)\"/>\n     <use xlink:href=\"#DejaVuSans-Oblique-6c\" transform=\"translate(118.994141 0.015625)\"/>\n     <use xlink:href=\"#DejaVuSans-Oblique-6f\" transform=\"translate(146.777344 0.015625)\"/>\n     <use xlink:href=\"#DejaVuSans-Oblique-61\" transform=\"translate(207.958984 0.015625)\"/>\n     <use xlink:href=\"#DejaVuSans-Oblique-74\" transform=\"translate(269.238281 0.015625)\"/>\n     <use xlink:href=\"#DejaVuSans-36\" transform=\"translate(308.447266 0.015625)\"/>\n     <use xlink:href=\"#DejaVuSans-34\" transform=\"translate(372.070312 0.015625)\"/>\n     <use xlink:href=\"#DejaVuSans-3e\" transform=\"translate(435.693359 0.015625)\"/>\n    </g>\n   </g>\n   <g id=\"text_48\">\n    <!-- 5 -->\n    <g transform=\"translate(91.607231 37.897572) rotate(-90) scale(0.09 -0.09)\">\n     <use xlink:href=\"#DejaVuSans-35\"/>\n    </g>\n   </g>\n   <g id=\"text_49\">\n    <!-- 2 -->\n    <g transform=\"translate(102.040875 22.297107) scale(0.09 -0.09)\">\n     <defs>\n      <path id=\"DejaVuSans-32\" d=\"M 1228 531  L 3431 531  L 3431 0  L 469 0  L 469 531  Q 828 903 1448 1529  Q 2069 2156 2228 2338  Q 2531 2678 2651 2914  Q 2772 3150 2772 3378  Q 2772 3750 2511 3984  Q 2250 4219 1831 4219  Q 1534 4219 1204 4116  Q 875 4013 500 3803  L 500 4441  Q 881 4594 1212 4672  Q 1544 4750 1819 4750  Q 2544 4750 2975 4387  Q 3406 4025 3406 3419  Q 3406 3131 3298 2873  Q 3191 2616 2906 2266  Q 2828 2175 2409 1742  Q 1991 1309 1228 531  z \" transform=\"scale(0.015625)\"/>\n     </defs>\n     <use xlink:href=\"#DejaVuSans-32\"/>\n    </g>\n   </g>\n   <g id=\"text_50\">\n    <!-- &lt;${\\mathit{float64}}$&gt; -->\n    <g transform=\"translate(86.704 53.090693) scale(0.07 -0.07)\">\n     <use xlink:href=\"#DejaVuSans-3c\" transform=\"translate(0 0.015625)\"/>\n     <use xlink:href=\"#DejaVuSans-Oblique-66\" transform=\"translate(83.789062 0.015625)\"/>\n     <use xlink:href=\"#DejaVuSans-Oblique-6c\" transform=\"translate(118.994141 0.015625)\"/>\n     <use xlink:href=\"#DejaVuSans-Oblique-6f\" transform=\"translate(146.777344 0.015625)\"/>\n     <use xlink:href=\"#DejaVuSans-Oblique-61\" transform=\"translate(207.958984 0.015625)\"/>\n     <use xlink:href=\"#DejaVuSans-Oblique-74\" transform=\"translate(269.238281 0.015625)\"/>\n     <use xlink:href=\"#DejaVuSans-36\" transform=\"translate(308.447266 0.015625)\"/>\n     <use xlink:href=\"#DejaVuSans-34\" transform=\"translate(372.070312 0.015625)\"/>\n     <use xlink:href=\"#DejaVuSans-3e\" transform=\"translate(435.693359 0.015625)\"/>\n    </g>\n   </g>\n   <g id=\"text_51\">\n    <!-- 2 -->\n    <g transform=\"translate(191.821241 37.897572) rotate(-90) scale(0.09 -0.09)\">\n     <use xlink:href=\"#DejaVuSans-32\"/>\n    </g>\n   </g>\n   <g id=\"text_52\">\n    <!-- 1 -->\n    <g transform=\"translate(193.441275 22.297107) scale(0.09 -0.09)\">\n     <use xlink:href=\"#DejaVuSans-31\"/>\n    </g>\n   </g>\n   <g id=\"text_53\">\n    <!-- &lt;${\\mathit{float64}}$&gt; -->\n    <g transform=\"translate(178.1044 53.090693) scale(0.07 -0.07)\">\n     <use xlink:href=\"#DejaVuSans-3c\" transform=\"translate(0 0.015625)\"/>\n     <use xlink:href=\"#DejaVuSans-Oblique-66\" transform=\"translate(83.789062 0.015625)\"/>\n     <use xlink:href=\"#DejaVuSans-Oblique-6c\" transform=\"translate(118.994141 0.015625)\"/>\n     <use xlink:href=\"#DejaVuSans-Oblique-6f\" transform=\"translate(146.777344 0.015625)\"/>\n     <use xlink:href=\"#DejaVuSans-Oblique-61\" transform=\"translate(207.958984 0.015625)\"/>\n     <use xlink:href=\"#DejaVuSans-Oblique-74\" transform=\"translate(269.238281 0.015625)\"/>\n     <use xlink:href=\"#DejaVuSans-36\" transform=\"translate(308.447266 0.015625)\"/>\n     <use xlink:href=\"#DejaVuSans-34\" transform=\"translate(372.070312 0.015625)\"/>\n     <use xlink:href=\"#DejaVuSans-3e\" transform=\"translate(435.693359 0.015625)\"/>\n    </g>\n   </g>\n   <g id=\"text_54\">\n    <!-- 1 -->\n    <g transform=\"translate(264.288701 31.735416) rotate(-90) scale(0.09 -0.09)\">\n     <use xlink:href=\"#DejaVuSans-31\"/>\n    </g>\n   </g>\n   <g id=\"text_55\">\n    <!-- 1 -->\n    <g transform=\"translate(268.520175 22.297107) scale(0.09 -0.09)\">\n     <use xlink:href=\"#DejaVuSans-31\"/>\n    </g>\n   </g>\n   <g id=\"text_56\">\n    <!-- &lt;${\\mathit{int64}}$&gt; -->\n    <g transform=\"translate(256.4733 40.766381) scale(0.07 -0.07)\">\n     <defs>\n      <path id=\"DejaVuSans-Oblique-69\" d=\"M 1172 4863  L 1747 4863  L 1606 4134  L 1031 4134  L 1172 4863  z M 909 3500  L 1484 3500  L 800 0  L 225 0  L 909 3500  z \" transform=\"scale(0.015625)\"/>\n      <path id=\"DejaVuSans-Oblique-6e\" d=\"M 3566 2113  L 3156 0  L 2578 0  L 2988 2091  Q 3016 2238 3031 2350  Q 3047 2463 3047 2528  Q 3047 2791 2881 2937  Q 2716 3084 2419 3084  Q 1956 3084 1622 2776  Q 1288 2469 1184 1941  L 800 0  L 225 0  L 903 3500  L 1478 3500  L 1363 2950  Q 1603 3253 1940 3418  Q 2278 3584 2650 3584  Q 3113 3584 3367 3334  Q 3622 3084 3622 2631  Q 3622 2519 3608 2391  Q 3594 2263 3566 2113  z \" transform=\"scale(0.015625)\"/>\n     </defs>\n     <use xlink:href=\"#DejaVuSans-3c\" transform=\"translate(0 0.015625)\"/>\n     <use xlink:href=\"#DejaVuSans-Oblique-69\" transform=\"translate(83.789062 0.015625)\"/>\n     <use xlink:href=\"#DejaVuSans-Oblique-6e\" transform=\"translate(111.572266 0.015625)\"/>\n     <use xlink:href=\"#DejaVuSans-Oblique-74\" transform=\"translate(174.951172 0.015625)\"/>\n     <use xlink:href=\"#DejaVuSans-36\" transform=\"translate(214.160156 0.015625)\"/>\n     <use xlink:href=\"#DejaVuSans-34\" transform=\"translate(277.783203 0.015625)\"/>\n     <use xlink:href=\"#DejaVuSans-3e\" transform=\"translate(341.40625 0.015625)\"/>\n    </g>\n   </g>\n  </g>\n </g>\n <defs>\n  <clipPath id=\"p1c1ded1182\">\n   <rect x=\"0\" y=\"4.901991\" width=\"294.2334\" height=\"42.315395\"/>\n  </clipPath>\n </defs>\n</svg>"
          },
          "metadata": {}
        },
        {
          "output_type": "execute_result",
          "data": {
            "text/plain": [
              "array([[47.395],\n",
              "       [51.695],\n",
              "       [55.995],\n",
              "       [ 6.6  ],\n",
              "       [ 8.695]])"
            ]
          },
          "metadata": {},
          "execution_count": 15
        }
      ]
    },
    {
      "cell_type": "code",
      "source": [
        "tmax = np.array([[80], [90], [100], [-20], [-10]])\n",
        "tmax_tomorrow = np.array([[83], [89], [95], [-22], [-9]])"
      ],
      "metadata": {
        "id": "qo4xhdR1IIBZ"
      },
      "execution_count": 16,
      "outputs": []
    },
    {
      "cell_type": "code",
      "source": [
        "def mse(actual, predicted):\n",
        "  return (actual - predicted) **2\n",
        "\n",
        "mse(tmax_tomorrow, output)"
      ],
      "metadata": {
        "colab": {
          "base_uri": "https://localhost:8080/"
        },
        "id": "vtRTCX8aIjGB",
        "outputId": "328bc6ab-24f7-49e0-8c33-1210c5381f6a"
      },
      "execution_count": 17,
      "outputs": [
        {
          "output_type": "execute_result",
          "data": {
            "text/plain": [
              "array([[1267.716025],\n",
              "       [1391.663025],\n",
              "       [1521.390025],\n",
              "       [ 817.96    ],\n",
              "       [ 313.113025]])"
            ]
          },
          "metadata": {},
          "execution_count": 17
        }
      ]
    },
    {
      "cell_type": "code",
      "source": [
        "def mse_grad(actual, predicted):\n",
        "  return predicted - actual\n",
        "\n",
        "mse_grad(tmax_tomorrow, output)"
      ],
      "metadata": {
        "colab": {
          "base_uri": "https://localhost:8080/"
        },
        "id": "3s-_6P-OI3q3",
        "outputId": "0fb67d19-0fc4-4cf0-91ef-d9fbbc51476f"
      },
      "execution_count": 18,
      "outputs": [
        {
          "output_type": "execute_result",
          "data": {
            "text/plain": [
              "array([[-35.605],\n",
              "       [-37.305],\n",
              "       [-39.005],\n",
              "       [ 28.6  ],\n",
              "       [ 17.695]])"
            ]
          },
          "metadata": {},
          "execution_count": 18
        }
      ]
    },
    {
      "cell_type": "code",
      "source": [
        "output_gradient = mse_grad(tmax_tomorrow, output)"
      ],
      "metadata": {
        "id": "1n6x2KAH-tQc"
      },
      "execution_count": 19,
      "outputs": []
    },
    {
      "cell_type": "code",
      "source": [
        "from tsensor import explain as exp\n",
        "\n",
        "with exp():\n",
        "  l2_w_gradient = l1_activated.T @ output_gradient\n",
        "\n",
        "l2_w_gradient"
      ],
      "metadata": {
        "colab": {
          "base_uri": "https://localhost:8080/",
          "height": 1000
        },
        "id": "txIxYjhd_cSs",
        "outputId": "c3a794ea-f8ec-4c5e-a044-1e8b0084a32d"
      },
      "execution_count": 20,
      "outputs": [
        {
          "output_type": "stream",
          "name": "stderr",
          "text": [
            "WARNING:matplotlib.font_manager:findfont: Font family 'Consolas' not found.\n",
            "WARNING:matplotlib.font_manager:findfont: Font family 'Consolas' not found.\n",
            "WARNING:matplotlib.font_manager:findfont: Font family 'Consolas' not found.\n",
            "WARNING:matplotlib.font_manager:findfont: Font family 'Consolas' not found.\n",
            "WARNING:matplotlib.font_manager:findfont: Font family 'Consolas' not found.\n",
            "WARNING:matplotlib.font_manager:findfont: Font family 'Consolas' not found.\n",
            "WARNING:matplotlib.font_manager:findfont: Font family 'Consolas' not found.\n",
            "WARNING:matplotlib.font_manager:findfont: Font family 'Consolas' not found.\n",
            "WARNING:matplotlib.font_manager:findfont: Font family 'Consolas' not found.\n",
            "WARNING:matplotlib.font_manager:findfont: Font family 'Consolas' not found.\n",
            "WARNING:matplotlib.font_manager:findfont: Font family 'Consolas' not found.\n",
            "WARNING:matplotlib.font_manager:findfont: Font family 'Consolas' not found.\n",
            "WARNING:matplotlib.font_manager:findfont: Font family 'Consolas' not found.\n",
            "WARNING:matplotlib.font_manager:findfont: Font family 'Consolas' not found.\n",
            "WARNING:matplotlib.font_manager:findfont: Font family 'Consolas' not found.\n",
            "WARNING:matplotlib.font_manager:findfont: Font family 'Consolas' not found.\n",
            "WARNING:matplotlib.font_manager:findfont: Font family 'Consolas' not found.\n",
            "WARNING:matplotlib.font_manager:findfont: Font family 'Consolas' not found.\n",
            "WARNING:matplotlib.font_manager:findfont: Font family 'Consolas' not found.\n",
            "WARNING:matplotlib.font_manager:findfont: Font family 'Consolas' not found.\n",
            "WARNING:matplotlib.font_manager:findfont: Font family 'Consolas' not found.\n",
            "WARNING:matplotlib.font_manager:findfont: Font family 'Consolas' not found.\n",
            "WARNING:matplotlib.font_manager:findfont: Font family 'Consolas' not found.\n",
            "WARNING:matplotlib.font_manager:findfont: Font family 'Consolas' not found.\n",
            "WARNING:matplotlib.font_manager:findfont: Font family 'Arial' not found.\n",
            "WARNING:matplotlib.font_manager:findfont: Font family 'Arial' not found.\n",
            "WARNING:matplotlib.font_manager:findfont: Font family 'Arial' not found.\n",
            "WARNING:matplotlib.font_manager:findfont: Font family 'Arial' not found.\n",
            "WARNING:matplotlib.font_manager:findfont: Font family 'Arial' not found.\n",
            "WARNING:matplotlib.font_manager:findfont: Font family 'Consolas' not found.\n",
            "WARNING:matplotlib.font_manager:findfont: Font family 'Consolas' not found.\n",
            "WARNING:matplotlib.font_manager:findfont: Font family 'Consolas' not found.\n",
            "WARNING:matplotlib.font_manager:findfont: Font family 'Consolas' not found.\n",
            "WARNING:matplotlib.font_manager:findfont: Font family 'Consolas' not found.\n",
            "WARNING:matplotlib.font_manager:findfont: Font family 'Consolas' not found.\n",
            "WARNING:matplotlib.font_manager:findfont: Font family 'Consolas' not found.\n",
            "WARNING:matplotlib.font_manager:findfont: Font family 'Consolas' not found.\n",
            "WARNING:matplotlib.font_manager:findfont: Font family 'Consolas' not found.\n",
            "WARNING:matplotlib.font_manager:findfont: Font family 'Consolas' not found.\n",
            "WARNING:matplotlib.font_manager:findfont: Font family 'Consolas' not found.\n",
            "WARNING:matplotlib.font_manager:findfont: Font family 'Consolas' not found.\n",
            "WARNING:matplotlib.font_manager:findfont: Font family 'Consolas' not found.\n",
            "WARNING:matplotlib.font_manager:findfont: Font family 'Consolas' not found.\n",
            "WARNING:matplotlib.font_manager:findfont: Font family 'Consolas' not found.\n",
            "WARNING:matplotlib.font_manager:findfont: Font family 'Consolas' not found.\n",
            "WARNING:matplotlib.font_manager:findfont: Font family 'Consolas' not found.\n",
            "WARNING:matplotlib.font_manager:findfont: Font family 'Consolas' not found.\n",
            "WARNING:matplotlib.font_manager:findfont: Font family 'Consolas' not found.\n",
            "WARNING:matplotlib.font_manager:findfont: Font family 'Consolas' not found.\n",
            "WARNING:matplotlib.font_manager:findfont: Font family 'Consolas' not found.\n",
            "WARNING:matplotlib.font_manager:findfont: Font family 'Consolas' not found.\n",
            "WARNING:matplotlib.font_manager:findfont: Font family 'Consolas' not found.\n",
            "WARNING:matplotlib.font_manager:findfont: Font family 'Consolas' not found.\n",
            "WARNING:matplotlib.font_manager:findfont: Font family 'Consolas' not found.\n",
            "WARNING:matplotlib.font_manager:findfont: Font family 'Consolas' not found.\n",
            "WARNING:matplotlib.font_manager:findfont: Font family 'Consolas' not found.\n",
            "WARNING:matplotlib.font_manager:findfont: Font family 'Consolas' not found.\n",
            "WARNING:matplotlib.font_manager:findfont: Font family 'Consolas' not found.\n",
            "WARNING:matplotlib.font_manager:findfont: Font family 'Consolas' not found.\n",
            "WARNING:matplotlib.font_manager:findfont: Font family 'Consolas' not found.\n",
            "WARNING:matplotlib.font_manager:findfont: Font family 'Consolas' not found.\n",
            "WARNING:matplotlib.font_manager:findfont: Font family 'Consolas' not found.\n",
            "WARNING:matplotlib.font_manager:findfont: Font family 'Consolas' not found.\n",
            "WARNING:matplotlib.font_manager:findfont: Font family 'Consolas' not found.\n",
            "WARNING:matplotlib.font_manager:findfont: Font family 'Consolas' not found.\n",
            "WARNING:matplotlib.font_manager:findfont: Font family 'Consolas' not found.\n",
            "WARNING:matplotlib.font_manager:findfont: Font family 'Consolas' not found.\n",
            "WARNING:matplotlib.font_manager:findfont: Font family 'Consolas' not found.\n",
            "WARNING:matplotlib.font_manager:findfont: Font family 'Consolas' not found.\n",
            "WARNING:matplotlib.font_manager:findfont: Font family 'Consolas' not found.\n",
            "WARNING:matplotlib.font_manager:findfont: Font family 'Consolas' not found.\n",
            "WARNING:matplotlib.font_manager:findfont: Font family 'Consolas' not found.\n",
            "WARNING:matplotlib.font_manager:findfont: Font family 'Consolas' not found.\n",
            "WARNING:matplotlib.font_manager:findfont: Font family 'Consolas' not found.\n",
            "WARNING:matplotlib.font_manager:findfont: Font family 'Consolas' not found.\n",
            "WARNING:matplotlib.font_manager:findfont: Font family 'Consolas' not found.\n",
            "WARNING:matplotlib.font_manager:findfont: Font family 'Consolas' not found.\n",
            "WARNING:matplotlib.font_manager:findfont: Font family 'Consolas' not found.\n",
            "WARNING:matplotlib.font_manager:findfont: Font family 'Consolas' not found.\n",
            "WARNING:matplotlib.font_manager:findfont: Font family 'Consolas' not found.\n",
            "WARNING:matplotlib.font_manager:findfont: Font family 'Consolas' not found.\n",
            "WARNING:matplotlib.font_manager:findfont: Font family 'Consolas' not found.\n",
            "WARNING:matplotlib.font_manager:findfont: Font family 'Consolas' not found.\n",
            "WARNING:matplotlib.font_manager:findfont: Font family 'Consolas' not found.\n",
            "WARNING:matplotlib.font_manager:findfont: Font family 'Consolas' not found.\n",
            "WARNING:matplotlib.font_manager:findfont: Font family 'Consolas' not found.\n",
            "WARNING:matplotlib.font_manager:findfont: Font family 'Consolas' not found.\n",
            "WARNING:matplotlib.font_manager:findfont: Font family 'Consolas' not found.\n",
            "WARNING:matplotlib.font_manager:findfont: Font family 'Consolas' not found.\n",
            "WARNING:matplotlib.font_manager:findfont: Font family 'Consolas' not found.\n",
            "WARNING:matplotlib.font_manager:findfont: Font family 'Consolas' not found.\n",
            "WARNING:matplotlib.font_manager:findfont: Font family 'Consolas' not found.\n",
            "WARNING:matplotlib.font_manager:findfont: Font family 'Consolas' not found.\n",
            "WARNING:matplotlib.font_manager:findfont: Font family 'Consolas' not found.\n",
            "WARNING:matplotlib.font_manager:findfont: Font family 'Consolas' not found.\n",
            "WARNING:matplotlib.font_manager:findfont: Font family 'Consolas' not found.\n",
            "WARNING:matplotlib.font_manager:findfont: Font family 'Consolas' not found.\n",
            "WARNING:matplotlib.font_manager:findfont: Font family 'Consolas' not found.\n",
            "WARNING:matplotlib.font_manager:findfont: Font family 'Consolas' not found.\n",
            "WARNING:matplotlib.font_manager:findfont: Font family 'Consolas' not found.\n",
            "WARNING:matplotlib.font_manager:findfont: Font family 'Consolas' not found.\n",
            "WARNING:matplotlib.font_manager:findfont: Font family 'Arial' not found.\n",
            "WARNING:matplotlib.font_manager:findfont: Font family 'Arial' not found.\n",
            "WARNING:matplotlib.font_manager:findfont: Font family 'Arial' not found.\n",
            "WARNING:matplotlib.font_manager:findfont: Font family 'Arial' not found.\n",
            "WARNING:matplotlib.font_manager:findfont: Font family 'Arial' not found.\n",
            "WARNING:matplotlib.font_manager:findfont: Font family 'Arial' not found.\n",
            "WARNING:matplotlib.font_manager:findfont: Font family 'Arial' not found.\n",
            "WARNING:matplotlib.font_manager:findfont: Font family 'Arial' not found.\n",
            "WARNING:matplotlib.font_manager:findfont: Font family 'Arial' not found.\n",
            "WARNING:matplotlib.font_manager:findfont: Font family 'Arial' not found.\n",
            "WARNING:matplotlib.font_manager:findfont: Font family 'Arial' not found.\n",
            "WARNING:matplotlib.font_manager:findfont: Font family 'Consolas' not found.\n",
            "WARNING:matplotlib.font_manager:findfont: Font family 'Consolas' not found.\n",
            "WARNING:matplotlib.font_manager:findfont: Font family 'Consolas' not found.\n",
            "WARNING:matplotlib.font_manager:findfont: Font family 'Consolas' not found.\n",
            "WARNING:matplotlib.font_manager:findfont: Font family 'Consolas' not found.\n",
            "WARNING:matplotlib.font_manager:findfont: Font family 'Consolas' not found.\n",
            "WARNING:matplotlib.font_manager:findfont: Font family 'Consolas' not found.\n",
            "WARNING:matplotlib.font_manager:findfont: Font family 'Consolas' not found.\n",
            "WARNING:matplotlib.font_manager:findfont: Font family 'Consolas' not found.\n",
            "WARNING:matplotlib.font_manager:findfont: Font family 'Consolas' not found.\n",
            "WARNING:matplotlib.font_manager:findfont: Font family 'Consolas' not found.\n",
            "WARNING:matplotlib.font_manager:findfont: Font family 'Consolas' not found.\n",
            "WARNING:matplotlib.font_manager:findfont: Font family 'Consolas' not found.\n",
            "WARNING:matplotlib.font_manager:findfont: Font family 'Consolas' not found.\n",
            "WARNING:matplotlib.font_manager:findfont: Font family 'Consolas' not found.\n",
            "WARNING:matplotlib.font_manager:findfont: Font family 'Consolas' not found.\n",
            "WARNING:matplotlib.font_manager:findfont: Font family 'Consolas' not found.\n",
            "WARNING:matplotlib.font_manager:findfont: Font family 'Consolas' not found.\n",
            "WARNING:matplotlib.font_manager:findfont: Font family 'Consolas' not found.\n",
            "WARNING:matplotlib.font_manager:findfont: Font family 'Consolas' not found.\n",
            "WARNING:matplotlib.font_manager:findfont: Font family 'Consolas' not found.\n",
            "WARNING:matplotlib.font_manager:findfont: Font family 'Consolas' not found.\n",
            "WARNING:matplotlib.font_manager:findfont: Font family 'Consolas' not found.\n",
            "WARNING:matplotlib.font_manager:findfont: Font family 'Consolas' not found.\n",
            "WARNING:matplotlib.font_manager:findfont: Font family 'Consolas' not found.\n",
            "WARNING:matplotlib.font_manager:findfont: Font family 'Consolas' not found.\n",
            "WARNING:matplotlib.font_manager:findfont: Font family 'Consolas' not found.\n",
            "WARNING:matplotlib.font_manager:findfont: Font family 'Consolas' not found.\n",
            "WARNING:matplotlib.font_manager:findfont: Font family 'Consolas' not found.\n",
            "WARNING:matplotlib.font_manager:findfont: Font family 'Consolas' not found.\n",
            "WARNING:matplotlib.font_manager:findfont: Font family 'Consolas' not found.\n",
            "WARNING:matplotlib.font_manager:findfont: Font family 'Consolas' not found.\n",
            "WARNING:matplotlib.font_manager:findfont: Font family 'Consolas' not found.\n",
            "WARNING:matplotlib.font_manager:findfont: Font family 'Consolas' not found.\n",
            "WARNING:matplotlib.font_manager:findfont: Font family 'Consolas' not found.\n",
            "WARNING:matplotlib.font_manager:findfont: Font family 'Consolas' not found.\n",
            "WARNING:matplotlib.font_manager:findfont: Font family 'Consolas' not found.\n",
            "WARNING:matplotlib.font_manager:findfont: Font family 'Consolas' not found.\n",
            "WARNING:matplotlib.font_manager:findfont: Font family 'Consolas' not found.\n",
            "WARNING:matplotlib.font_manager:findfont: Font family 'Consolas' not found.\n",
            "WARNING:matplotlib.font_manager:findfont: Font family 'Consolas' not found.\n",
            "WARNING:matplotlib.font_manager:findfont: Font family 'Consolas' not found.\n",
            "WARNING:matplotlib.font_manager:findfont: Font family 'Consolas' not found.\n",
            "WARNING:matplotlib.font_manager:findfont: Font family 'Consolas' not found.\n",
            "WARNING:matplotlib.font_manager:findfont: Font family 'Consolas' not found.\n",
            "WARNING:matplotlib.font_manager:findfont: Font family 'Consolas' not found.\n",
            "WARNING:matplotlib.font_manager:findfont: Font family 'Consolas' not found.\n",
            "WARNING:matplotlib.font_manager:findfont: Font family 'Consolas' not found.\n",
            "WARNING:matplotlib.font_manager:findfont: Font family 'Consolas' not found.\n",
            "WARNING:matplotlib.font_manager:findfont: Font family 'Consolas' not found.\n",
            "WARNING:matplotlib.font_manager:findfont: Font family 'Consolas' not found.\n",
            "WARNING:matplotlib.font_manager:findfont: Font family 'Consolas' not found.\n",
            "WARNING:matplotlib.font_manager:findfont: Font family 'Consolas' not found.\n",
            "WARNING:matplotlib.font_manager:findfont: Font family 'Consolas' not found.\n",
            "WARNING:matplotlib.font_manager:findfont: Font family 'Consolas' not found.\n",
            "WARNING:matplotlib.font_manager:findfont: Font family 'Consolas' not found.\n",
            "WARNING:matplotlib.font_manager:findfont: Font family 'Consolas' not found.\n",
            "WARNING:matplotlib.font_manager:findfont: Font family 'Consolas' not found.\n",
            "WARNING:matplotlib.font_manager:findfont: Font family 'Consolas' not found.\n",
            "WARNING:matplotlib.font_manager:findfont: Font family 'Consolas' not found.\n",
            "WARNING:matplotlib.font_manager:findfont: Font family 'Consolas' not found.\n",
            "WARNING:matplotlib.font_manager:findfont: Font family 'Consolas' not found.\n",
            "WARNING:matplotlib.font_manager:findfont: Font family 'Consolas' not found.\n",
            "WARNING:matplotlib.font_manager:findfont: Font family 'Consolas' not found.\n",
            "WARNING:matplotlib.font_manager:findfont: Font family 'Consolas' not found.\n",
            "WARNING:matplotlib.font_manager:findfont: Font family 'Consolas' not found.\n",
            "WARNING:matplotlib.font_manager:findfont: Font family 'Consolas' not found.\n",
            "WARNING:matplotlib.font_manager:findfont: Font family 'Consolas' not found.\n",
            "WARNING:matplotlib.font_manager:findfont: Font family 'Consolas' not found.\n",
            "WARNING:matplotlib.font_manager:findfont: Font family 'Consolas' not found.\n",
            "WARNING:matplotlib.font_manager:findfont: Font family 'Consolas' not found.\n",
            "WARNING:matplotlib.font_manager:findfont: Font family 'Consolas' not found.\n",
            "WARNING:matplotlib.font_manager:findfont: Font family 'Arial' not found.\n",
            "WARNING:matplotlib.font_manager:findfont: Font family 'Arial' not found.\n",
            "WARNING:matplotlib.font_manager:findfont: Font family 'Arial' not found.\n",
            "WARNING:matplotlib.font_manager:findfont: Font family 'Arial' not found.\n",
            "WARNING:matplotlib.font_manager:findfont: Font family 'Arial' not found.\n",
            "WARNING:matplotlib.font_manager:findfont: Font family 'Arial' not found.\n",
            "WARNING:matplotlib.font_manager:findfont: Font family 'Arial' not found.\n",
            "WARNING:matplotlib.font_manager:findfont: Font family 'Arial' not found.\n",
            "WARNING:matplotlib.font_manager:findfont: Font family 'Arial' not found.\n",
            "WARNING:matplotlib.font_manager:findfont: Font family 'Arial' not found.\n",
            "WARNING:matplotlib.font_manager:findfont: Font family 'Arial' not found.\n"
          ]
        },
        {
          "output_type": "display_data",
          "data": {
            "text/plain": [
              "<IPython.core.display.SVG object>"
            ],
            "image/svg+xml": "<svg xmlns:xlink=\"http://www.w3.org/1999/xlink\" xmlns=\"http://www.w3.org/2000/svg\" width=\"321.645606pt\" height=\"54.546474pt\" viewBox=\"0 0 321.645606 54.546474\" version=\"1.1\">\n <metadata>\n  <rdf:RDF xmlns:dc=\"http://purl.org/dc/elements/1.1/\" xmlns:cc=\"http://creativecommons.org/ns#\" xmlns:rdf=\"http://www.w3.org/1999/02/22-rdf-syntax-ns#\">\n   <cc:Work>\n    <dc:type rdf:resource=\"http://purl.org/dc/dcmitype/StillImage\"/>\n    <dc:date>2023-08-04T00:45:15.196047</dc:date>\n    <dc:format>image/svg+xml</dc:format>\n    <dc:creator>\n     <cc:Agent>\n      <dc:title>Matplotlib v3.7.1, https://matplotlib.org/</dc:title>\n     </cc:Agent>\n    </dc:creator>\n   </cc:Work>\n  </rdf:RDF>\n </metadata>\n <defs>\n  <style type=\"text/css\">*{stroke-linejoin: round; stroke-linecap: butt}</style>\n </defs>\n <g id=\"figure_1\">\n  <g id=\"patch_1\">\n   <path d=\"M 0 54.546474  L 321.645606 54.546474  L 321.645606 0  L 0 0  z \" style=\"fill: #ffffff\"/>\n  </g>\n  <g id=\"axes_1\">\n   <g id=\"patch_2\">\n    <path d=\"M 46.79946 46.385787  L 52.02234 46.385787  L 52.02234 23.683107  L 46.79946 23.683107  z \" clip-path=\"url(#p53db380636)\" style=\"fill: #a8e1b0; fill-opacity: 0.75; stroke: #808080; stroke-width: 0.7; stroke-linejoin: miter\"/>\n   </g>\n   <g id=\"patch_3\">\n    <path d=\"M 145.70775 46.385787  L 168.55785 46.385787  L 168.55785 23.683107  L 145.70775 23.683107  z \" clip-path=\"url(#p53db380636)\" style=\"fill: #a8e1b0; fill-opacity: 0.75; stroke: #808080; stroke-width: 0.7; stroke-linejoin: miter\"/>\n   </g>\n   <g id=\"patch_4\">\n    <path d=\"M 268.77186 46.385787  L 273.99474 46.385787  L 273.99474 23.683107  L 268.77186 23.683107  z \" clip-path=\"url(#p53db380636)\" style=\"fill: #a8e1b0; fill-opacity: 0.75; stroke: #808080; stroke-width: 0.7; stroke-linejoin: miter\"/>\n   </g>\n   <g id=\"line2d_1\">\n    <path d=\"M 6.32214 13.762608  L 92.49966 13.762608  \" clip-path=\"url(#p53db380636)\" style=\"fill: none; stroke: #c2c2c2; stroke-width: 0.5; stroke-linecap: square\"/>\n   </g>\n   <g id=\"line2d_2\">\n    <path d=\"M 110.77974 13.762608  L 203.48586 13.762608  \" clip-path=\"url(#p53db380636)\" style=\"fill: none; stroke: #c2c2c2; stroke-width: 0.5; stroke-linecap: square\"/>\n   </g>\n   <g id=\"line2d_3\">\n    <path d=\"M 221.76594 13.762608  L 321.00066 13.762608  \" clip-path=\"url(#p53db380636)\" style=\"fill: none; stroke: #c2c2c2; stroke-width: 0.5; stroke-linecap: square\"/>\n   </g>\n   <g id=\"text_1\">\n    <!-- l -->\n    <g style=\"fill: #444443\" transform=\"translate(6.975 9.947031) scale(0.13 -0.13)\">\n     <defs>\n      <path id=\"DejaVuSansMono-6c\" d=\"M 1997 1269  Q 1997 881 2139 684  Q 2281 488 2559 488  L 3231 488  L 3231 0  L 2503 0  Q 1988 0 1705 331  Q 1422 663 1422 1269  L 1422 4447  L 500 4447  L 500 4897  L 1997 4897  L 1997 1269  z \" transform=\"scale(0.015625)\"/>\n     </defs>\n     <use xlink:href=\"#DejaVuSansMono-6c\"/>\n    </g>\n   </g>\n   <g id=\"text_2\">\n    <!-- 2 -->\n    <g style=\"fill: #444443\" transform=\"translate(13.5036 9.947031) scale(0.13 -0.13)\">\n     <defs>\n      <path id=\"DejaVuSansMono-32\" d=\"M 1166 531  L 3309 531  L 3309 0  L 475 0  L 475 531  Q 1059 1147 1496 1619  Q 1934 2091 2100 2284  Q 2413 2666 2522 2902  Q 2631 3138 2631 3384  Q 2631 3775 2401 3997  Q 2172 4219 1772 4219  Q 1488 4219 1175 4116  Q 863 4013 513 3803  L 513 4441  Q 834 4594 1145 4672  Q 1456 4750 1759 4750  Q 2444 4750 2861 4386  Q 3278 4022 3278 3431  Q 3278 3131 3139 2831  Q 3000 2531 2688 2169  Q 2513 1966 2180 1606  Q 1847 1247 1166 531  z \" transform=\"scale(0.015625)\"/>\n     </defs>\n     <use xlink:href=\"#DejaVuSansMono-32\"/>\n    </g>\n   </g>\n   <g id=\"text_3\">\n    <!-- _ -->\n    <g style=\"fill: #444443\" transform=\"translate(20.0322 9.947031) scale(0.13 -0.13)\">\n     <defs>\n      <path id=\"DejaVuSansMono-5f\" d=\"M 3853 -1259  L 3853 -1509  L 0 -1509  L 0 -1259  L 3853 -1259  z \" transform=\"scale(0.015625)\"/>\n     </defs>\n     <use xlink:href=\"#DejaVuSansMono-5f\"/>\n    </g>\n   </g>\n   <g id=\"text_4\">\n    <!-- w -->\n    <g style=\"fill: #444443\" transform=\"translate(26.5608 9.947031) scale(0.13 -0.13)\">\n     <defs>\n      <path id=\"DejaVuSansMono-77\" d=\"M 0 3500  L 569 3500  L 1178 672  L 1678 2478  L 2169 2478  L 2675 672  L 3284 3500  L 3853 3500  L 3034 0  L 2484 0  L 1925 1919  L 1369 0  L 819 0  L 0 3500  z \" transform=\"scale(0.015625)\"/>\n     </defs>\n     <use xlink:href=\"#DejaVuSansMono-77\"/>\n    </g>\n   </g>\n   <g id=\"text_5\">\n    <!-- _ -->\n    <g style=\"fill: #444443\" transform=\"translate(33.0894 9.947031) scale(0.13 -0.13)\">\n     <use xlink:href=\"#DejaVuSansMono-5f\"/>\n    </g>\n   </g>\n   <g id=\"text_6\">\n    <!-- g -->\n    <g style=\"fill: #444443\" transform=\"translate(39.618 9.947031) scale(0.13 -0.13)\">\n     <defs>\n      <path id=\"DejaVuSansMono-67\" d=\"M 2681 1778  Q 2681 2425 2470 2761  Q 2259 3097 1856 3097  Q 1434 3097 1212 2761  Q 991 2425 991 1778  Q 991 1131 1214 792  Q 1438 453 1863 453  Q 2259 453 2470 793  Q 2681 1134 2681 1778  z M 3256 225  Q 3256 -563 2884 -969  Q 2513 -1375 1791 -1375  Q 1553 -1375 1293 -1331  Q 1034 -1288 775 -1203  L 775 -634  Q 1081 -778 1331 -847  Q 1581 -916 1791 -916  Q 2256 -916 2468 -662  Q 2681 -409 2681 141  L 2681 166  L 2681 556  Q 2544 263 2306 119  Q 2069 -25 1728 -25  Q 1116 -25 750 465  Q 384 956 384 1778  Q 384 2603 750 3093  Q 1116 3584 1728 3584  Q 2066 3584 2300 3450  Q 2534 3316 2681 3034  L 2681 3488  L 3256 3488  L 3256 225  z \" transform=\"scale(0.015625)\"/>\n     </defs>\n     <use xlink:href=\"#DejaVuSansMono-67\"/>\n    </g>\n   </g>\n   <g id=\"text_7\">\n    <!-- r -->\n    <g style=\"fill: #444443\" transform=\"translate(46.1466 9.947031) scale(0.13 -0.13)\">\n     <defs>\n      <path id=\"DejaVuSansMono-72\" d=\"M 3609 2778  Q 3425 2922 3234 2987  Q 3044 3053 2816 3053  Q 2278 3053 1993 2715  Q 1709 2378 1709 1741  L 1709 0  L 1131 0  L 1131 3500  L 1709 3500  L 1709 2816  Q 1853 3188 2151 3386  Q 2450 3584 2859 3584  Q 3072 3584 3256 3531  Q 3441 3478 3609 3366  L 3609 2778  z \" transform=\"scale(0.015625)\"/>\n     </defs>\n     <use xlink:href=\"#DejaVuSansMono-72\"/>\n    </g>\n   </g>\n   <g id=\"text_8\">\n    <!-- a -->\n    <g style=\"fill: #444443\" transform=\"translate(52.6752 9.947031) scale(0.13 -0.13)\">\n     <defs>\n      <path id=\"DejaVuSansMono-61\" d=\"M 2194 1759  L 2003 1759  Q 1500 1759 1245 1582  Q 991 1406 991 1056  Q 991 741 1181 566  Q 1372 391 1709 391  Q 2184 391 2456 720  Q 2728 1050 2731 1631  L 2731 1759  L 2194 1759  z M 3309 1997  L 3309 0  L 2731 0  L 2731 519  Q 2547 206 2267 57  Q 1988 -91 1588 -91  Q 1053 -91 734 211  Q 416 513 416 1019  Q 416 1603 808 1906  Q 1200 2209 1959 2209  L 2731 2209  L 2731 2300  Q 2728 2719 2518 2908  Q 2309 3097 1850 3097  Q 1556 3097 1256 3012  Q 956 2928 672 2766  L 672 3341  Q 991 3463 1283 3523  Q 1575 3584 1850 3584  Q 2284 3584 2592 3456  Q 2900 3328 3091 3072  Q 3209 2916 3259 2686  Q 3309 2456 3309 1997  z \" transform=\"scale(0.015625)\"/>\n     </defs>\n     <use xlink:href=\"#DejaVuSansMono-61\"/>\n    </g>\n   </g>\n   <g id=\"text_9\">\n    <!-- d -->\n    <g style=\"fill: #444443\" transform=\"translate(59.2038 9.947031) scale(0.13 -0.13)\">\n     <defs>\n      <path id=\"DejaVuSansMono-64\" d=\"M 2681 3053  L 2681 4863  L 3256 4863  L 3256 0  L 2681 0  L 2681 441  Q 2538 181 2298 45  Q 2059 -91 1747 -91  Q 1113 -91 748 401  Q 384 894 384 1759  Q 384 2613 750 3098  Q 1116 3584 1747 3584  Q 2063 3584 2303 3448  Q 2544 3313 2681 3053  z M 991 1747  Q 991 1078 1203 737  Q 1416 397 1831 397  Q 2247 397 2464 740  Q 2681 1084 2681 1747  Q 2681 2413 2464 2755  Q 2247 3097 1831 3097  Q 1416 3097 1203 2756  Q 991 2416 991 1747  z \" transform=\"scale(0.015625)\"/>\n     </defs>\n     <use xlink:href=\"#DejaVuSansMono-64\"/>\n    </g>\n   </g>\n   <g id=\"text_10\">\n    <!-- i -->\n    <g style=\"fill: #444443\" transform=\"translate(65.7324 9.947031) scale(0.13 -0.13)\">\n     <defs>\n      <path id=\"DejaVuSansMono-69\" d=\"M 800 3500  L 2272 3500  L 2272 447  L 3413 447  L 3413 0  L 556 0  L 556 447  L 1697 447  L 1697 3053  L 800 3053  L 800 3500  z M 1697 4863  L 2272 4863  L 2272 4134  L 1697 4134  L 1697 4863  z \" transform=\"scale(0.015625)\"/>\n     </defs>\n     <use xlink:href=\"#DejaVuSansMono-69\"/>\n    </g>\n   </g>\n   <g id=\"text_11\">\n    <!-- e -->\n    <g style=\"fill: #444443\" transform=\"translate(72.261 9.947031) scale(0.13 -0.13)\">\n     <defs>\n      <path id=\"DejaVuSansMono-65\" d=\"M 3475 1894  L 3475 1613  L 984 1613  L 984 1594  Q 984 1022 1282 709  Q 1581 397 2125 397  Q 2400 397 2700 484  Q 3000 572 3341 750  L 3341 178  Q 3013 44 2708 -23  Q 2403 -91 2119 -91  Q 1303 -91 843 398  Q 384 888 384 1747  Q 384 2584 834 3084  Q 1284 3584 2034 3584  Q 2703 3584 3089 3131  Q 3475 2678 3475 1894  z M 2900 2063  Q 2888 2569 2661 2833  Q 2434 3097 2009 3097  Q 1594 3097 1325 2822  Q 1056 2547 1006 2059  L 2900 2063  z \" transform=\"scale(0.015625)\"/>\n     </defs>\n     <use xlink:href=\"#DejaVuSansMono-65\"/>\n    </g>\n   </g>\n   <g id=\"text_12\">\n    <!-- n -->\n    <g style=\"fill: #444443\" transform=\"translate(78.7896 9.947031) scale(0.13 -0.13)\">\n     <defs>\n      <path id=\"DejaVuSansMono-6e\" d=\"M 3284 2169  L 3284 0  L 2706 0  L 2706 2169  Q 2706 2641 2540 2862  Q 2375 3084 2022 3084  Q 1619 3084 1401 2798  Q 1184 2513 1184 1978  L 1184 0  L 609 0  L 609 3500  L 1184 3500  L 1184 2975  Q 1338 3275 1600 3429  Q 1863 3584 2222 3584  Q 2756 3584 3020 3232  Q 3284 2881 3284 2169  z \" transform=\"scale(0.015625)\"/>\n     </defs>\n     <use xlink:href=\"#DejaVuSansMono-6e\"/>\n    </g>\n   </g>\n   <g id=\"text_13\">\n    <!-- t -->\n    <g style=\"fill: #444443\" transform=\"translate(85.3182 9.947031) scale(0.13 -0.13)\">\n     <defs>\n      <path id=\"DejaVuSansMono-74\" d=\"M 1919 4494  L 1919 3500  L 3225 3500  L 3225 3053  L 1919 3053  L 1919 1153  Q 1919 766 2066 612  Q 2213 459 2578 459  L 3225 459  L 3225 0  L 2522 0  Q 1875 0 1609 259  Q 1344 519 1344 1153  L 1344 3053  L 409 3053  L 409 3500  L 1344 3500  L 1344 4494  L 1919 4494  z \" transform=\"scale(0.015625)\"/>\n     </defs>\n     <use xlink:href=\"#DejaVuSansMono-74\"/>\n    </g>\n   </g>\n   <g id=\"text_14\">\n    <!--   -->\n    <g style=\"fill: #444443\" transform=\"translate(91.8468 9.947031) scale(0.13 -0.13)\">\n     <defs>\n      <path id=\"DejaVuSansMono-20\" transform=\"scale(0.015625)\"/>\n     </defs>\n     <use xlink:href=\"#DejaVuSansMono-20\"/>\n    </g>\n   </g>\n   <g id=\"text_15\">\n    <!-- = -->\n    <g style=\"fill: #444443\" transform=\"translate(98.3754 9.947031) scale(0.13 -0.13)\">\n     <defs>\n      <path id=\"DejaVuSansMono-3d\" d=\"M 275 1638  L 3578 1638  L 3578 1100  L 275 1100  L 275 1638  z M 275 2906  L 3578 2906  L 3578 2375  L 275 2375  L 275 2906  z \" transform=\"scale(0.015625)\"/>\n     </defs>\n     <use xlink:href=\"#DejaVuSansMono-3d\"/>\n    </g>\n   </g>\n   <g id=\"text_16\">\n    <!--   -->\n    <g style=\"fill: #444443\" transform=\"translate(104.904 9.947031) scale(0.13 -0.13)\">\n     <use xlink:href=\"#DejaVuSansMono-20\"/>\n    </g>\n   </g>\n   <g id=\"text_17\">\n    <!-- l -->\n    <g style=\"fill: #444443\" transform=\"translate(111.4326 9.947031) scale(0.13 -0.13)\">\n     <use xlink:href=\"#DejaVuSansMono-6c\"/>\n    </g>\n   </g>\n   <g id=\"text_18\">\n    <!-- 1 -->\n    <g style=\"fill: #444443\" transform=\"translate(117.9612 9.947031) scale(0.13 -0.13)\">\n     <defs>\n      <path id=\"DejaVuSansMono-31\" d=\"M 844 531  L 1825 531  L 1825 4097  L 769 3859  L 769 4434  L 1819 4666  L 2450 4666  L 2450 531  L 3419 531  L 3419 0  L 844 0  L 844 531  z \" transform=\"scale(0.015625)\"/>\n     </defs>\n     <use xlink:href=\"#DejaVuSansMono-31\"/>\n    </g>\n   </g>\n   <g id=\"text_19\">\n    <!-- _ -->\n    <g style=\"fill: #444443\" transform=\"translate(124.4898 9.947031) scale(0.13 -0.13)\">\n     <use xlink:href=\"#DejaVuSansMono-5f\"/>\n    </g>\n   </g>\n   <g id=\"text_20\">\n    <!-- a -->\n    <g style=\"fill: #444443\" transform=\"translate(131.0184 9.947031) scale(0.13 -0.13)\">\n     <use xlink:href=\"#DejaVuSansMono-61\"/>\n    </g>\n   </g>\n   <g id=\"text_21\">\n    <!-- c -->\n    <g style=\"fill: #444443\" transform=\"translate(137.547 9.947031) scale(0.13 -0.13)\">\n     <defs>\n      <path id=\"DejaVuSansMono-63\" d=\"M 3316 178  Q 3084 44 2839 -23  Q 2594 -91 2338 -91  Q 1525 -91 1067 396  Q 609 884 609 1747  Q 609 2609 1067 3096  Q 1525 3584 2338 3584  Q 2591 3584 2831 3518  Q 3072 3453 3316 3316  L 3316 2713  Q 3088 2916 2858 3006  Q 2628 3097 2338 3097  Q 1797 3097 1506 2747  Q 1216 2397 1216 1747  Q 1216 1100 1508 748  Q 1800 397 2338 397  Q 2638 397 2875 489  Q 3113 581 3316 775  L 3316 178  z \" transform=\"scale(0.015625)\"/>\n     </defs>\n     <use xlink:href=\"#DejaVuSansMono-63\"/>\n    </g>\n   </g>\n   <g id=\"text_22\">\n    <!-- t -->\n    <g style=\"fill: #444443\" transform=\"translate(144.0756 9.947031) scale(0.13 -0.13)\">\n     <use xlink:href=\"#DejaVuSansMono-74\"/>\n    </g>\n   </g>\n   <g id=\"text_23\">\n    <!-- i -->\n    <g style=\"fill: #444443\" transform=\"translate(150.6042 9.947031) scale(0.13 -0.13)\">\n     <use xlink:href=\"#DejaVuSansMono-69\"/>\n    </g>\n   </g>\n   <g id=\"text_24\">\n    <!-- v -->\n    <g style=\"fill: #444443\" transform=\"translate(157.1328 9.947031) scale(0.13 -0.13)\">\n     <defs>\n      <path id=\"DejaVuSansMono-76\" d=\"M 313 3500  L 909 3500  L 1925 563  L 2944 3500  L 3541 3500  L 2297 0  L 1556 0  L 313 3500  z \" transform=\"scale(0.015625)\"/>\n     </defs>\n     <use xlink:href=\"#DejaVuSansMono-76\"/>\n    </g>\n   </g>\n   <g id=\"text_25\">\n    <!-- a -->\n    <g style=\"fill: #444443\" transform=\"translate(163.6614 9.947031) scale(0.13 -0.13)\">\n     <use xlink:href=\"#DejaVuSansMono-61\"/>\n    </g>\n   </g>\n   <g id=\"text_26\">\n    <!-- t -->\n    <g style=\"fill: #444443\" transform=\"translate(170.19 9.947031) scale(0.13 -0.13)\">\n     <use xlink:href=\"#DejaVuSansMono-74\"/>\n    </g>\n   </g>\n   <g id=\"text_27\">\n    <!-- e -->\n    <g style=\"fill: #444443\" transform=\"translate(176.7186 9.947031) scale(0.13 -0.13)\">\n     <use xlink:href=\"#DejaVuSansMono-65\"/>\n    </g>\n   </g>\n   <g id=\"text_28\">\n    <!-- d -->\n    <g style=\"fill: #444443\" transform=\"translate(183.2472 9.947031) scale(0.13 -0.13)\">\n     <use xlink:href=\"#DejaVuSansMono-64\"/>\n    </g>\n   </g>\n   <g id=\"text_29\">\n    <!-- . -->\n    <g style=\"fill: #444443\" transform=\"translate(189.7758 9.947031) scale(0.13 -0.13)\">\n     <defs>\n      <path id=\"DejaVuSansMono-2e\" d=\"M 1528 953  L 2316 953  L 2316 0  L 1528 0  L 1528 953  z \" transform=\"scale(0.015625)\"/>\n     </defs>\n     <use xlink:href=\"#DejaVuSansMono-2e\"/>\n    </g>\n   </g>\n   <g id=\"text_30\">\n    <!-- T -->\n    <g style=\"fill: #444443\" transform=\"translate(196.3044 9.947031) scale(0.13 -0.13)\">\n     <defs>\n      <path id=\"DejaVuSansMono-54\" d=\"M 147 4666  L 3706 4666  L 3706 4134  L 2247 4134  L 2247 0  L 1613 0  L 1613 4134  L 147 4134  L 147 4666  z \" transform=\"scale(0.015625)\"/>\n     </defs>\n     <use xlink:href=\"#DejaVuSansMono-54\"/>\n    </g>\n   </g>\n   <g id=\"text_31\">\n    <!--   -->\n    <g style=\"fill: #444443\" transform=\"translate(202.833 9.947031) scale(0.13 -0.13)\">\n     <use xlink:href=\"#DejaVuSansMono-20\"/>\n    </g>\n   </g>\n   <g id=\"text_32\">\n    <!-- @ -->\n    <g style=\"fill: #444443\" transform=\"translate(209.3616 9.947031) scale(0.13 -0.13)\">\n     <defs>\n      <path id=\"DejaVuSansMono-40\" d=\"M 3244 1703  Q 3244 2106 3044 2348  Q 2844 2591 2509 2591  Q 2175 2591 1973 2348  Q 1772 2106 1772 1703  Q 1772 1297 1973 1055  Q 2175 813 2509 813  Q 2844 813 3044 1055  Q 3244 1297 3244 1703  z M 3681 422  L 3231 422  L 3231 769  Q 3116 572 2911 465  Q 2706 359 2450 359  Q 1947 359 1617 737  Q 1288 1116 1288 1703  Q 1288 2291 1617 2669  Q 1947 3047 2450 3047  Q 2700 3047 2909 2937  Q 3119 2828 3231 2638  L 3231 2834  Q 3231 3322 2956 3619  Q 2681 3916 2228 3916  Q 1459 3916 1004 3317  Q 550 2719 550 1697  Q 550 669 1065 59  Q 1581 -550 2438 -550  Q 2606 -550 2775 -519  Q 2944 -488 3122 -422  L 3272 -844  Q 3075 -922 2883 -959  Q 2691 -997 2509 -997  Q 1394 -997 739 -269  Q 84 459 84 1697  Q 84 2916 671 3637  Q 1259 4359 2247 4359  Q 2900 4359 3290 3943  Q 3681 3528 3681 2828  L 3681 422  z \" transform=\"scale(0.015625)\"/>\n     </defs>\n     <use xlink:href=\"#DejaVuSansMono-40\"/>\n    </g>\n   </g>\n   <g id=\"text_33\">\n    <!--   -->\n    <g style=\"fill: #444443\" transform=\"translate(215.8902 9.947031) scale(0.13 -0.13)\">\n     <use xlink:href=\"#DejaVuSansMono-20\"/>\n    </g>\n   </g>\n   <g id=\"text_34\">\n    <!-- o -->\n    <g style=\"fill: #444443\" transform=\"translate(222.4188 9.947031) scale(0.13 -0.13)\">\n     <defs>\n      <path id=\"DejaVuSansMono-6f\" d=\"M 1925 3097  Q 1488 3097 1263 2756  Q 1038 2416 1038 1747  Q 1038 1081 1263 739  Q 1488 397 1925 397  Q 2366 397 2591 739  Q 2816 1081 2816 1747  Q 2816 2416 2591 2756  Q 2366 3097 1925 3097  z M 1925 3584  Q 2653 3584 3039 3112  Q 3425 2641 3425 1747  Q 3425 850 3040 379  Q 2656 -91 1925 -91  Q 1197 -91 812 379  Q 428 850 428 1747  Q 428 2641 812 3112  Q 1197 3584 1925 3584  z \" transform=\"scale(0.015625)\"/>\n     </defs>\n     <use xlink:href=\"#DejaVuSansMono-6f\"/>\n    </g>\n   </g>\n   <g id=\"text_35\">\n    <!-- u -->\n    <g style=\"fill: #444443\" transform=\"translate(228.9474 9.947031) scale(0.13 -0.13)\">\n     <defs>\n      <path id=\"DejaVuSansMono-75\" d=\"M 609 1325  L 609 3494  L 1184 3494  L 1184 1325  Q 1184 853 1351 631  Q 1519 409 1869 409  Q 2275 409 2490 695  Q 2706 981 2706 1516  L 2706 3494  L 3284 3494  L 3284 0  L 2706 0  L 2706 525  Q 2553 222 2289 65  Q 2025 -91 1672 -91  Q 1134 -91 871 261  Q 609 613 609 1325  z \" transform=\"scale(0.015625)\"/>\n     </defs>\n     <use xlink:href=\"#DejaVuSansMono-75\"/>\n    </g>\n   </g>\n   <g id=\"text_36\">\n    <!-- t -->\n    <g style=\"fill: #444443\" transform=\"translate(235.476 9.947031) scale(0.13 -0.13)\">\n     <use xlink:href=\"#DejaVuSansMono-74\"/>\n    </g>\n   </g>\n   <g id=\"text_37\">\n    <!-- p -->\n    <g style=\"fill: #444443\" transform=\"translate(242.0046 9.947031) scale(0.13 -0.13)\">\n     <defs>\n      <path id=\"DejaVuSansMono-70\" d=\"M 1172 441  L 1172 -1331  L 594 -1331  L 594 3500  L 1172 3500  L 1172 3053  Q 1316 3313 1555 3448  Q 1794 3584 2106 3584  Q 2741 3584 3102 3093  Q 3463 2603 3463 1734  Q 3463 881 3100 395  Q 2738 -91 2106 -91  Q 1788 -91 1548 45  Q 1309 181 1172 441  z M 2859 1747  Q 2859 2416 2648 2756  Q 2438 3097 2022 3097  Q 1603 3097 1387 2755  Q 1172 2413 1172 1747  Q 1172 1084 1387 740  Q 1603 397 2022 397  Q 2438 397 2648 737  Q 2859 1078 2859 1747  z \" transform=\"scale(0.015625)\"/>\n     </defs>\n     <use xlink:href=\"#DejaVuSansMono-70\"/>\n    </g>\n   </g>\n   <g id=\"text_38\">\n    <!-- u -->\n    <g style=\"fill: #444443\" transform=\"translate(248.5332 9.947031) scale(0.13 -0.13)\">\n     <use xlink:href=\"#DejaVuSansMono-75\"/>\n    </g>\n   </g>\n   <g id=\"text_39\">\n    <!-- t -->\n    <g style=\"fill: #444443\" transform=\"translate(255.0618 9.947031) scale(0.13 -0.13)\">\n     <use xlink:href=\"#DejaVuSansMono-74\"/>\n    </g>\n   </g>\n   <g id=\"text_40\">\n    <!-- _ -->\n    <g style=\"fill: #444443\" transform=\"translate(261.5904 9.947031) scale(0.13 -0.13)\">\n     <use xlink:href=\"#DejaVuSansMono-5f\"/>\n    </g>\n   </g>\n   <g id=\"text_41\">\n    <!-- g -->\n    <g style=\"fill: #444443\" transform=\"translate(268.119 9.947031) scale(0.13 -0.13)\">\n     <use xlink:href=\"#DejaVuSansMono-67\"/>\n    </g>\n   </g>\n   <g id=\"text_42\">\n    <!-- r -->\n    <g style=\"fill: #444443\" transform=\"translate(274.6476 9.947031) scale(0.13 -0.13)\">\n     <use xlink:href=\"#DejaVuSansMono-72\"/>\n    </g>\n   </g>\n   <g id=\"text_43\">\n    <!-- a -->\n    <g style=\"fill: #444443\" transform=\"translate(281.1762 9.947031) scale(0.13 -0.13)\">\n     <use xlink:href=\"#DejaVuSansMono-61\"/>\n    </g>\n   </g>\n   <g id=\"text_44\">\n    <!-- d -->\n    <g style=\"fill: #444443\" transform=\"translate(287.7048 9.947031) scale(0.13 -0.13)\">\n     <use xlink:href=\"#DejaVuSansMono-64\"/>\n    </g>\n   </g>\n   <g id=\"text_45\">\n    <!-- i -->\n    <g style=\"fill: #444443\" transform=\"translate(294.2334 9.947031) scale(0.13 -0.13)\">\n     <use xlink:href=\"#DejaVuSansMono-69\"/>\n    </g>\n   </g>\n   <g id=\"text_46\">\n    <!-- e -->\n    <g style=\"fill: #444443\" transform=\"translate(300.762 9.947031) scale(0.13 -0.13)\">\n     <use xlink:href=\"#DejaVuSansMono-65\"/>\n    </g>\n   </g>\n   <g id=\"text_47\">\n    <!-- n -->\n    <g style=\"fill: #444443\" transform=\"translate(307.2906 9.947031) scale(0.13 -0.13)\">\n     <use xlink:href=\"#DejaVuSansMono-6e\"/>\n    </g>\n   </g>\n   <g id=\"text_48\">\n    <!-- t -->\n    <g style=\"fill: #444443\" transform=\"translate(313.8192 9.947031) scale(0.13 -0.13)\">\n     <use xlink:href=\"#DejaVuSansMono-74\"/>\n    </g>\n   </g>\n   <g id=\"text_49\">\n    <!-- 2 -->\n    <g transform=\"translate(44.927741 37.897572) rotate(-90) scale(0.09 -0.09)\">\n     <defs>\n      <path id=\"DejaVuSans-32\" d=\"M 1228 531  L 3431 531  L 3431 0  L 469 0  L 469 531  Q 828 903 1448 1529  Q 2069 2156 2228 2338  Q 2531 2678 2651 2914  Q 2772 3150 2772 3378  Q 2772 3750 2511 3984  Q 2250 4219 1831 4219  Q 1534 4219 1204 4116  Q 875 4013 500 3803  L 500 4441  Q 881 4594 1212 4672  Q 1544 4750 1819 4750  Q 2544 4750 2975 4387  Q 3406 4025 3406 3419  Q 3406 3131 3298 2873  Q 3191 2616 2906 2266  Q 2828 2175 2409 1742  Q 1991 1309 1228 531  z \" transform=\"scale(0.015625)\"/>\n     </defs>\n     <use xlink:href=\"#DejaVuSans-32\"/>\n    </g>\n   </g>\n   <g id=\"text_50\">\n    <!-- 1 -->\n    <g transform=\"translate(46.547775 22.297107) scale(0.09 -0.09)\">\n     <defs>\n      <path id=\"DejaVuSans-31\" d=\"M 794 531  L 1825 531  L 1825 4091  L 703 3866  L 703 4441  L 1819 4666  L 2450 4666  L 2450 531  L 3481 531  L 3481 0  L 794 0  L 794 531  z \" transform=\"scale(0.015625)\"/>\n     </defs>\n     <use xlink:href=\"#DejaVuSans-31\"/>\n    </g>\n   </g>\n   <g id=\"text_51\">\n    <!-- &lt;${\\mathit{float64}}$&gt; -->\n    <g transform=\"translate(31.2109 53.090693) scale(0.07 -0.07)\">\n     <defs>\n      <path id=\"DejaVuSans-3c\" d=\"M 4684 3150  L 1459 2003  L 4684 863  L 4684 294  L 678 1747  L 678 2266  L 4684 3719  L 4684 3150  z \" transform=\"scale(0.015625)\"/>\n      <path id=\"DejaVuSans-Oblique-66\" d=\"M 3059 4863  L 2969 4384  L 2419 4384  Q 2106 4384 1964 4261  Q 1822 4138 1753 3809  L 1691 3500  L 2638 3500  L 2553 3053  L 1606 3053  L 1013 0  L 434 0  L 1031 3053  L 481 3053  L 563 3500  L 1113 3500  L 1159 3744  Q 1278 4363 1576 4613  Q 1875 4863 2516 4863  L 3059 4863  z \" transform=\"scale(0.015625)\"/>\n      <path id=\"DejaVuSans-Oblique-6c\" d=\"M 1172 4863  L 1747 4863  L 800 0  L 225 0  L 1172 4863  z \" transform=\"scale(0.015625)\"/>\n      <path id=\"DejaVuSans-Oblique-6f\" d=\"M 1625 -91  Q 1009 -91 651 289  Q 294 669 294 1325  Q 294 1706 417 2101  Q 541 2497 738 2766  Q 1047 3184 1428 3384  Q 1809 3584 2291 3584  Q 2888 3584 3255 3212  Q 3622 2841 3622 2241  Q 3622 1825 3500 1412  Q 3378 1000 3181 728  Q 2875 309 2494 109  Q 2113 -91 1625 -91  z M 891 1344  Q 891 869 1089 633  Q 1288 397 1691 397  Q 2269 397 2648 901  Q 3028 1406 3028 2181  Q 3028 2634 2825 2865  Q 2622 3097 2228 3097  Q 1903 3097 1650 2945  Q 1397 2794 1197 2484  Q 1050 2253 970 1956  Q 891 1659 891 1344  z \" transform=\"scale(0.015625)\"/>\n      <path id=\"DejaVuSans-Oblique-61\" d=\"M 3438 1997  L 3047 0  L 2472 0  L 2578 531  Q 2325 219 2001 64  Q 1678 -91 1281 -91  Q 834 -91 548 182  Q 263 456 263 884  Q 263 1497 752 1853  Q 1241 2209 2100 2209  L 2900 2209  L 2931 2363  Q 2938 2388 2941 2417  Q 2944 2447 2944 2509  Q 2944 2788 2717 2942  Q 2491 3097 2081 3097  Q 1800 3097 1504 3025  Q 1209 2953 897 2809  L 997 3341  Q 1322 3463 1633 3523  Q 1944 3584 2234 3584  Q 2853 3584 3176 3315  Q 3500 3047 3500 2534  Q 3500 2431 3484 2292  Q 3469 2153 3438 1997  z M 2816 1759  L 2241 1759  Q 1534 1759 1195 1570  Q 856 1381 856 984  Q 856 709 1029 553  Q 1203 397 1509 397  Q 1978 397 2328 733  Q 2678 1069 2791 1631  L 2816 1759  z \" transform=\"scale(0.015625)\"/>\n      <path id=\"DejaVuSans-Oblique-74\" d=\"M 2706 3500  L 2619 3053  L 1472 3053  L 1100 1153  Q 1081 1047 1072 975  Q 1063 903 1063 863  Q 1063 663 1183 572  Q 1303 481 1569 481  L 2150 481  L 2053 0  L 1503 0  Q 991 0 739 200  Q 488 400 488 806  Q 488 878 497 964  Q 506 1050 525 1153  L 897 3053  L 409 3053  L 500 3500  L 978 3500  L 1172 4494  L 1747 4494  L 1556 3500  L 2706 3500  z \" transform=\"scale(0.015625)\"/>\n      <path id=\"DejaVuSans-36\" d=\"M 2113 2584  Q 1688 2584 1439 2293  Q 1191 2003 1191 1497  Q 1191 994 1439 701  Q 1688 409 2113 409  Q 2538 409 2786 701  Q 3034 994 3034 1497  Q 3034 2003 2786 2293  Q 2538 2584 2113 2584  z M 3366 4563  L 3366 3988  Q 3128 4100 2886 4159  Q 2644 4219 2406 4219  Q 1781 4219 1451 3797  Q 1122 3375 1075 2522  Q 1259 2794 1537 2939  Q 1816 3084 2150 3084  Q 2853 3084 3261 2657  Q 3669 2231 3669 1497  Q 3669 778 3244 343  Q 2819 -91 2113 -91  Q 1303 -91 875 529  Q 447 1150 447 2328  Q 447 3434 972 4092  Q 1497 4750 2381 4750  Q 2619 4750 2861 4703  Q 3103 4656 3366 4563  z \" transform=\"scale(0.015625)\"/>\n      <path id=\"DejaVuSans-34\" d=\"M 2419 4116  L 825 1625  L 2419 1625  L 2419 4116  z M 2253 4666  L 3047 4666  L 3047 1625  L 3713 1625  L 3713 1100  L 3047 1100  L 3047 0  L 2419 0  L 2419 1100  L 313 1100  L 313 1709  L 2253 4666  z \" transform=\"scale(0.015625)\"/>\n      <path id=\"DejaVuSans-3e\" d=\"M 678 3150  L 678 3719  L 4684 2266  L 4684 1747  L 678 294  L 678 863  L 3897 2003  L 678 3150  z \" transform=\"scale(0.015625)\"/>\n     </defs>\n     <use xlink:href=\"#DejaVuSans-3c\" transform=\"translate(0 0.015625)\"/>\n     <use xlink:href=\"#DejaVuSans-Oblique-66\" transform=\"translate(83.789062 0.015625)\"/>\n     <use xlink:href=\"#DejaVuSans-Oblique-6c\" transform=\"translate(118.994141 0.015625)\"/>\n     <use xlink:href=\"#DejaVuSans-Oblique-6f\" transform=\"translate(146.777344 0.015625)\"/>\n     <use xlink:href=\"#DejaVuSans-Oblique-61\" transform=\"translate(207.958984 0.015625)\"/>\n     <use xlink:href=\"#DejaVuSans-Oblique-74\" transform=\"translate(269.238281 0.015625)\"/>\n     <use xlink:href=\"#DejaVuSans-36\" transform=\"translate(308.447266 0.015625)\"/>\n     <use xlink:href=\"#DejaVuSans-34\" transform=\"translate(372.070312 0.015625)\"/>\n     <use xlink:href=\"#DejaVuSans-3e\" transform=\"translate(435.693359 0.015625)\"/>\n    </g>\n   </g>\n   <g id=\"text_52\">\n    <!-- 2 -->\n    <g transform=\"translate(143.836031 37.897572) rotate(-90) scale(0.09 -0.09)\">\n     <use xlink:href=\"#DejaVuSans-32\"/>\n    </g>\n   </g>\n   <g id=\"text_53\">\n    <!-- 5 -->\n    <g transform=\"translate(154.269675 22.297107) scale(0.09 -0.09)\">\n     <defs>\n      <path id=\"DejaVuSans-35\" d=\"M 691 4666  L 3169 4666  L 3169 4134  L 1269 4134  L 1269 2991  Q 1406 3038 1543 3061  Q 1681 3084 1819 3084  Q 2600 3084 3056 2656  Q 3513 2228 3513 1497  Q 3513 744 3044 326  Q 2575 -91 1722 -91  Q 1428 -91 1123 -41  Q 819 9 494 109  L 494 744  Q 775 591 1075 516  Q 1375 441 1709 441  Q 2250 441 2565 725  Q 2881 1009 2881 1497  Q 2881 1984 2565 2268  Q 2250 2553 1709 2553  Q 1456 2553 1204 2497  Q 953 2441 691 2322  L 691 4666  z \" transform=\"scale(0.015625)\"/>\n     </defs>\n     <use xlink:href=\"#DejaVuSans-35\"/>\n    </g>\n   </g>\n   <g id=\"text_54\">\n    <!-- &lt;${\\mathit{float64}}$&gt; -->\n    <g transform=\"translate(138.9328 53.090693) scale(0.07 -0.07)\">\n     <use xlink:href=\"#DejaVuSans-3c\" transform=\"translate(0 0.015625)\"/>\n     <use xlink:href=\"#DejaVuSans-Oblique-66\" transform=\"translate(83.789062 0.015625)\"/>\n     <use xlink:href=\"#DejaVuSans-Oblique-6c\" transform=\"translate(118.994141 0.015625)\"/>\n     <use xlink:href=\"#DejaVuSans-Oblique-6f\" transform=\"translate(146.777344 0.015625)\"/>\n     <use xlink:href=\"#DejaVuSans-Oblique-61\" transform=\"translate(207.958984 0.015625)\"/>\n     <use xlink:href=\"#DejaVuSans-Oblique-74\" transform=\"translate(269.238281 0.015625)\"/>\n     <use xlink:href=\"#DejaVuSans-36\" transform=\"translate(308.447266 0.015625)\"/>\n     <use xlink:href=\"#DejaVuSans-34\" transform=\"translate(372.070312 0.015625)\"/>\n     <use xlink:href=\"#DejaVuSans-3e\" transform=\"translate(435.693359 0.015625)\"/>\n    </g>\n   </g>\n   <g id=\"text_55\">\n    <!-- 5 -->\n    <g transform=\"translate(266.900141 37.897572) rotate(-90) scale(0.09 -0.09)\">\n     <use xlink:href=\"#DejaVuSans-35\"/>\n    </g>\n   </g>\n   <g id=\"text_56\">\n    <!-- 1 -->\n    <g transform=\"translate(268.520175 22.297107) scale(0.09 -0.09)\">\n     <use xlink:href=\"#DejaVuSans-31\"/>\n    </g>\n   </g>\n   <g id=\"text_57\">\n    <!-- &lt;${\\mathit{float64}}$&gt; -->\n    <g transform=\"translate(253.1833 53.090693) scale(0.07 -0.07)\">\n     <use xlink:href=\"#DejaVuSans-3c\" transform=\"translate(0 0.015625)\"/>\n     <use xlink:href=\"#DejaVuSans-Oblique-66\" transform=\"translate(83.789062 0.015625)\"/>\n     <use xlink:href=\"#DejaVuSans-Oblique-6c\" transform=\"translate(118.994141 0.015625)\"/>\n     <use xlink:href=\"#DejaVuSans-Oblique-6f\" transform=\"translate(146.777344 0.015625)\"/>\n     <use xlink:href=\"#DejaVuSans-Oblique-61\" transform=\"translate(207.958984 0.015625)\"/>\n     <use xlink:href=\"#DejaVuSans-Oblique-74\" transform=\"translate(269.238281 0.015625)\"/>\n     <use xlink:href=\"#DejaVuSans-36\" transform=\"translate(308.447266 0.015625)\"/>\n     <use xlink:href=\"#DejaVuSans-34\" transform=\"translate(372.070312 0.015625)\"/>\n     <use xlink:href=\"#DejaVuSans-3e\" transform=\"translate(435.693359 0.015625)\"/>\n    </g>\n   </g>\n  </g>\n </g>\n <defs>\n  <clipPath id=\"p53db380636\">\n   <rect x=\"0\" y=\"4.901991\" width=\"320.3478\" height=\"42.315395\"/>\n  </clipPath>\n </defs>\n</svg>"
          },
          "metadata": {}
        },
        {
          "output_type": "execute_result",
          "data": {
            "text/plain": [
              "array([[-9562.0038],\n",
              "       [-1741.73  ]])"
            ]
          },
          "metadata": {},
          "execution_count": 20
        }
      ]
    },
    {
      "cell_type": "code",
      "source": [
        "from sympy import diff, symbols\n",
        "\n",
        "x, w = symbols('X, W')\n",
        "sympy_output = x * w\n",
        "diff(sympy_output, w)\n"
      ],
      "metadata": {
        "colab": {
          "base_uri": "https://localhost:8080/",
          "height": 39
        },
        "id": "Jg0nck4OAbya",
        "outputId": "c44e59bf-c6e7-42ec-ea74-a1243928e0b5"
      },
      "execution_count": 21,
      "outputs": [
        {
          "output_type": "execute_result",
          "data": {
            "text/plain": [
              "X"
            ],
            "text/latex": "$\\displaystyle X$"
          },
          "metadata": {},
          "execution_count": 21
        }
      ]
    },
    {
      "cell_type": "code",
      "source": [
        "with exp():\n",
        "  l2_b_gradient = np.mean(output_gradient, axis=0)\n",
        "\n",
        "l2_b_gradient"
      ],
      "metadata": {
        "colab": {
          "base_uri": "https://localhost:8080/",
          "height": 1000
        },
        "id": "pdSa86PbCiI-",
        "outputId": "52c9cb7f-5311-43ff-cc85-a14a5879054c"
      },
      "execution_count": 22,
      "outputs": [
        {
          "output_type": "stream",
          "name": "stderr",
          "text": [
            "WARNING:matplotlib.font_manager:findfont: Font family 'Consolas' not found.\n",
            "WARNING:matplotlib.font_manager:findfont: Font family 'Consolas' not found.\n",
            "WARNING:matplotlib.font_manager:findfont: Font family 'Consolas' not found.\n",
            "WARNING:matplotlib.font_manager:findfont: Font family 'Consolas' not found.\n",
            "WARNING:matplotlib.font_manager:findfont: Font family 'Consolas' not found.\n",
            "WARNING:matplotlib.font_manager:findfont: Font family 'Consolas' not found.\n",
            "WARNING:matplotlib.font_manager:findfont: Font family 'Consolas' not found.\n",
            "WARNING:matplotlib.font_manager:findfont: Font family 'Consolas' not found.\n",
            "WARNING:matplotlib.font_manager:findfont: Font family 'Consolas' not found.\n",
            "WARNING:matplotlib.font_manager:findfont: Font family 'Consolas' not found.\n",
            "WARNING:matplotlib.font_manager:findfont: Font family 'Consolas' not found.\n",
            "WARNING:matplotlib.font_manager:findfont: Font family 'Consolas' not found.\n",
            "WARNING:matplotlib.font_manager:findfont: Font family 'Consolas' not found.\n",
            "WARNING:matplotlib.font_manager:findfont: Font family 'Consolas' not found.\n",
            "WARNING:matplotlib.font_manager:findfont: Font family 'Consolas' not found.\n",
            "WARNING:matplotlib.font_manager:findfont: Font family 'Consolas' not found.\n",
            "WARNING:matplotlib.font_manager:findfont: Font family 'Consolas' not found.\n",
            "WARNING:matplotlib.font_manager:findfont: Font family 'Consolas' not found.\n",
            "WARNING:matplotlib.font_manager:findfont: Font family 'Consolas' not found.\n",
            "WARNING:matplotlib.font_manager:findfont: Font family 'Consolas' not found.\n",
            "WARNING:matplotlib.font_manager:findfont: Font family 'Consolas' not found.\n",
            "WARNING:matplotlib.font_manager:findfont: Font family 'Consolas' not found.\n",
            "WARNING:matplotlib.font_manager:findfont: Font family 'Consolas' not found.\n",
            "WARNING:matplotlib.font_manager:findfont: Font family 'Consolas' not found.\n",
            "WARNING:matplotlib.font_manager:findfont: Font family 'Consolas' not found.\n",
            "WARNING:matplotlib.font_manager:findfont: Font family 'Consolas' not found.\n",
            "WARNING:matplotlib.font_manager:findfont: Font family 'Arial' not found.\n",
            "WARNING:matplotlib.font_manager:findfont: Font family 'Arial' not found.\n",
            "WARNING:matplotlib.font_manager:findfont: Font family 'Arial' not found.\n",
            "WARNING:matplotlib.font_manager:findfont: Font family 'Arial' not found.\n",
            "WARNING:matplotlib.font_manager:findfont: Font family 'Consolas' not found.\n",
            "WARNING:matplotlib.font_manager:findfont: Font family 'Consolas' not found.\n",
            "WARNING:matplotlib.font_manager:findfont: Font family 'Consolas' not found.\n",
            "WARNING:matplotlib.font_manager:findfont: Font family 'Consolas' not found.\n",
            "WARNING:matplotlib.font_manager:findfont: Font family 'Consolas' not found.\n",
            "WARNING:matplotlib.font_manager:findfont: Font family 'Consolas' not found.\n",
            "WARNING:matplotlib.font_manager:findfont: Font family 'Consolas' not found.\n",
            "WARNING:matplotlib.font_manager:findfont: Font family 'Consolas' not found.\n",
            "WARNING:matplotlib.font_manager:findfont: Font family 'Consolas' not found.\n",
            "WARNING:matplotlib.font_manager:findfont: Font family 'Consolas' not found.\n",
            "WARNING:matplotlib.font_manager:findfont: Font family 'Consolas' not found.\n",
            "WARNING:matplotlib.font_manager:findfont: Font family 'Consolas' not found.\n",
            "WARNING:matplotlib.font_manager:findfont: Font family 'Consolas' not found.\n",
            "WARNING:matplotlib.font_manager:findfont: Font family 'Consolas' not found.\n",
            "WARNING:matplotlib.font_manager:findfont: Font family 'Consolas' not found.\n",
            "WARNING:matplotlib.font_manager:findfont: Font family 'Consolas' not found.\n",
            "WARNING:matplotlib.font_manager:findfont: Font family 'Consolas' not found.\n",
            "WARNING:matplotlib.font_manager:findfont: Font family 'Consolas' not found.\n",
            "WARNING:matplotlib.font_manager:findfont: Font family 'Consolas' not found.\n",
            "WARNING:matplotlib.font_manager:findfont: Font family 'Consolas' not found.\n",
            "WARNING:matplotlib.font_manager:findfont: Font family 'Consolas' not found.\n",
            "WARNING:matplotlib.font_manager:findfont: Font family 'Consolas' not found.\n",
            "WARNING:matplotlib.font_manager:findfont: Font family 'Consolas' not found.\n",
            "WARNING:matplotlib.font_manager:findfont: Font family 'Consolas' not found.\n",
            "WARNING:matplotlib.font_manager:findfont: Font family 'Consolas' not found.\n",
            "WARNING:matplotlib.font_manager:findfont: Font family 'Consolas' not found.\n",
            "WARNING:matplotlib.font_manager:findfont: Font family 'Consolas' not found.\n",
            "WARNING:matplotlib.font_manager:findfont: Font family 'Consolas' not found.\n",
            "WARNING:matplotlib.font_manager:findfont: Font family 'Consolas' not found.\n",
            "WARNING:matplotlib.font_manager:findfont: Font family 'Consolas' not found.\n",
            "WARNING:matplotlib.font_manager:findfont: Font family 'Consolas' not found.\n",
            "WARNING:matplotlib.font_manager:findfont: Font family 'Consolas' not found.\n",
            "WARNING:matplotlib.font_manager:findfont: Font family 'Consolas' not found.\n",
            "WARNING:matplotlib.font_manager:findfont: Font family 'Consolas' not found.\n",
            "WARNING:matplotlib.font_manager:findfont: Font family 'Consolas' not found.\n",
            "WARNING:matplotlib.font_manager:findfont: Font family 'Consolas' not found.\n",
            "WARNING:matplotlib.font_manager:findfont: Font family 'Consolas' not found.\n",
            "WARNING:matplotlib.font_manager:findfont: Font family 'Consolas' not found.\n",
            "WARNING:matplotlib.font_manager:findfont: Font family 'Consolas' not found.\n",
            "WARNING:matplotlib.font_manager:findfont: Font family 'Consolas' not found.\n",
            "WARNING:matplotlib.font_manager:findfont: Font family 'Consolas' not found.\n",
            "WARNING:matplotlib.font_manager:findfont: Font family 'Consolas' not found.\n",
            "WARNING:matplotlib.font_manager:findfont: Font family 'Consolas' not found.\n",
            "WARNING:matplotlib.font_manager:findfont: Font family 'Consolas' not found.\n",
            "WARNING:matplotlib.font_manager:findfont: Font family 'Consolas' not found.\n",
            "WARNING:matplotlib.font_manager:findfont: Font family 'Consolas' not found.\n",
            "WARNING:matplotlib.font_manager:findfont: Font family 'Consolas' not found.\n",
            "WARNING:matplotlib.font_manager:findfont: Font family 'Consolas' not found.\n",
            "WARNING:matplotlib.font_manager:findfont: Font family 'Consolas' not found.\n",
            "WARNING:matplotlib.font_manager:findfont: Font family 'Consolas' not found.\n",
            "WARNING:matplotlib.font_manager:findfont: Font family 'Consolas' not found.\n",
            "WARNING:matplotlib.font_manager:findfont: Font family 'Consolas' not found.\n",
            "WARNING:matplotlib.font_manager:findfont: Font family 'Consolas' not found.\n",
            "WARNING:matplotlib.font_manager:findfont: Font family 'Consolas' not found.\n",
            "WARNING:matplotlib.font_manager:findfont: Font family 'Consolas' not found.\n",
            "WARNING:matplotlib.font_manager:findfont: Font family 'Consolas' not found.\n",
            "WARNING:matplotlib.font_manager:findfont: Font family 'Consolas' not found.\n",
            "WARNING:matplotlib.font_manager:findfont: Font family 'Consolas' not found.\n",
            "WARNING:matplotlib.font_manager:findfont: Font family 'Consolas' not found.\n",
            "WARNING:matplotlib.font_manager:findfont: Font family 'Consolas' not found.\n",
            "WARNING:matplotlib.font_manager:findfont: Font family 'Consolas' not found.\n",
            "WARNING:matplotlib.font_manager:findfont: Font family 'Consolas' not found.\n",
            "WARNING:matplotlib.font_manager:findfont: Font family 'Consolas' not found.\n",
            "WARNING:matplotlib.font_manager:findfont: Font family 'Consolas' not found.\n",
            "WARNING:matplotlib.font_manager:findfont: Font family 'Consolas' not found.\n",
            "WARNING:matplotlib.font_manager:findfont: Font family 'Consolas' not found.\n",
            "WARNING:matplotlib.font_manager:findfont: Font family 'Consolas' not found.\n",
            "WARNING:matplotlib.font_manager:findfont: Font family 'Consolas' not found.\n",
            "WARNING:matplotlib.font_manager:findfont: Font family 'Consolas' not found.\n",
            "WARNING:matplotlib.font_manager:findfont: Font family 'Consolas' not found.\n",
            "WARNING:matplotlib.font_manager:findfont: Font family 'Consolas' not found.\n",
            "WARNING:matplotlib.font_manager:findfont: Font family 'Consolas' not found.\n",
            "WARNING:matplotlib.font_manager:findfont: Font family 'Consolas' not found.\n",
            "WARNING:matplotlib.font_manager:findfont: Font family 'Consolas' not found.\n",
            "WARNING:matplotlib.font_manager:findfont: Font family 'Arial' not found.\n",
            "WARNING:matplotlib.font_manager:findfont: Font family 'Arial' not found.\n",
            "WARNING:matplotlib.font_manager:findfont: Font family 'Arial' not found.\n",
            "WARNING:matplotlib.font_manager:findfont: Font family 'Arial' not found.\n",
            "WARNING:matplotlib.font_manager:findfont: Font family 'Arial' not found.\n",
            "WARNING:matplotlib.font_manager:findfont: Font family 'Arial' not found.\n",
            "WARNING:matplotlib.font_manager:findfont: Font family 'Arial' not found.\n",
            "WARNING:matplotlib.font_manager:findfont: Font family 'Consolas' not found.\n",
            "WARNING:matplotlib.font_manager:findfont: Font family 'Consolas' not found.\n",
            "WARNING:matplotlib.font_manager:findfont: Font family 'Consolas' not found.\n",
            "WARNING:matplotlib.font_manager:findfont: Font family 'Consolas' not found.\n",
            "WARNING:matplotlib.font_manager:findfont: Font family 'Consolas' not found.\n",
            "WARNING:matplotlib.font_manager:findfont: Font family 'Consolas' not found.\n",
            "WARNING:matplotlib.font_manager:findfont: Font family 'Consolas' not found.\n",
            "WARNING:matplotlib.font_manager:findfont: Font family 'Consolas' not found.\n",
            "WARNING:matplotlib.font_manager:findfont: Font family 'Consolas' not found.\n",
            "WARNING:matplotlib.font_manager:findfont: Font family 'Consolas' not found.\n",
            "WARNING:matplotlib.font_manager:findfont: Font family 'Consolas' not found.\n",
            "WARNING:matplotlib.font_manager:findfont: Font family 'Consolas' not found.\n",
            "WARNING:matplotlib.font_manager:findfont: Font family 'Consolas' not found.\n",
            "WARNING:matplotlib.font_manager:findfont: Font family 'Consolas' not found.\n",
            "WARNING:matplotlib.font_manager:findfont: Font family 'Consolas' not found.\n",
            "WARNING:matplotlib.font_manager:findfont: Font family 'Consolas' not found.\n",
            "WARNING:matplotlib.font_manager:findfont: Font family 'Consolas' not found.\n",
            "WARNING:matplotlib.font_manager:findfont: Font family 'Consolas' not found.\n",
            "WARNING:matplotlib.font_manager:findfont: Font family 'Consolas' not found.\n",
            "WARNING:matplotlib.font_manager:findfont: Font family 'Consolas' not found.\n",
            "WARNING:matplotlib.font_manager:findfont: Font family 'Consolas' not found.\n",
            "WARNING:matplotlib.font_manager:findfont: Font family 'Consolas' not found.\n",
            "WARNING:matplotlib.font_manager:findfont: Font family 'Consolas' not found.\n",
            "WARNING:matplotlib.font_manager:findfont: Font family 'Consolas' not found.\n",
            "WARNING:matplotlib.font_manager:findfont: Font family 'Consolas' not found.\n",
            "WARNING:matplotlib.font_manager:findfont: Font family 'Consolas' not found.\n",
            "WARNING:matplotlib.font_manager:findfont: Font family 'Consolas' not found.\n",
            "WARNING:matplotlib.font_manager:findfont: Font family 'Consolas' not found.\n",
            "WARNING:matplotlib.font_manager:findfont: Font family 'Consolas' not found.\n",
            "WARNING:matplotlib.font_manager:findfont: Font family 'Consolas' not found.\n",
            "WARNING:matplotlib.font_manager:findfont: Font family 'Consolas' not found.\n",
            "WARNING:matplotlib.font_manager:findfont: Font family 'Consolas' not found.\n",
            "WARNING:matplotlib.font_manager:findfont: Font family 'Consolas' not found.\n",
            "WARNING:matplotlib.font_manager:findfont: Font family 'Consolas' not found.\n",
            "WARNING:matplotlib.font_manager:findfont: Font family 'Consolas' not found.\n",
            "WARNING:matplotlib.font_manager:findfont: Font family 'Consolas' not found.\n",
            "WARNING:matplotlib.font_manager:findfont: Font family 'Consolas' not found.\n",
            "WARNING:matplotlib.font_manager:findfont: Font family 'Consolas' not found.\n",
            "WARNING:matplotlib.font_manager:findfont: Font family 'Consolas' not found.\n",
            "WARNING:matplotlib.font_manager:findfont: Font family 'Consolas' not found.\n",
            "WARNING:matplotlib.font_manager:findfont: Font family 'Consolas' not found.\n",
            "WARNING:matplotlib.font_manager:findfont: Font family 'Consolas' not found.\n",
            "WARNING:matplotlib.font_manager:findfont: Font family 'Consolas' not found.\n",
            "WARNING:matplotlib.font_manager:findfont: Font family 'Consolas' not found.\n",
            "WARNING:matplotlib.font_manager:findfont: Font family 'Consolas' not found.\n",
            "WARNING:matplotlib.font_manager:findfont: Font family 'Consolas' not found.\n",
            "WARNING:matplotlib.font_manager:findfont: Font family 'Consolas' not found.\n",
            "WARNING:matplotlib.font_manager:findfont: Font family 'Consolas' not found.\n",
            "WARNING:matplotlib.font_manager:findfont: Font family 'Consolas' not found.\n",
            "WARNING:matplotlib.font_manager:findfont: Font family 'Consolas' not found.\n",
            "WARNING:matplotlib.font_manager:findfont: Font family 'Consolas' not found.\n",
            "WARNING:matplotlib.font_manager:findfont: Font family 'Consolas' not found.\n",
            "WARNING:matplotlib.font_manager:findfont: Font family 'Consolas' not found.\n",
            "WARNING:matplotlib.font_manager:findfont: Font family 'Consolas' not found.\n",
            "WARNING:matplotlib.font_manager:findfont: Font family 'Consolas' not found.\n",
            "WARNING:matplotlib.font_manager:findfont: Font family 'Consolas' not found.\n",
            "WARNING:matplotlib.font_manager:findfont: Font family 'Consolas' not found.\n",
            "WARNING:matplotlib.font_manager:findfont: Font family 'Consolas' not found.\n",
            "WARNING:matplotlib.font_manager:findfont: Font family 'Consolas' not found.\n",
            "WARNING:matplotlib.font_manager:findfont: Font family 'Consolas' not found.\n",
            "WARNING:matplotlib.font_manager:findfont: Font family 'Consolas' not found.\n",
            "WARNING:matplotlib.font_manager:findfont: Font family 'Consolas' not found.\n",
            "WARNING:matplotlib.font_manager:findfont: Font family 'Consolas' not found.\n",
            "WARNING:matplotlib.font_manager:findfont: Font family 'Consolas' not found.\n",
            "WARNING:matplotlib.font_manager:findfont: Font family 'Consolas' not found.\n",
            "WARNING:matplotlib.font_manager:findfont: Font family 'Consolas' not found.\n",
            "WARNING:matplotlib.font_manager:findfont: Font family 'Consolas' not found.\n",
            "WARNING:matplotlib.font_manager:findfont: Font family 'Consolas' not found.\n",
            "WARNING:matplotlib.font_manager:findfont: Font family 'Consolas' not found.\n",
            "WARNING:matplotlib.font_manager:findfont: Font family 'Consolas' not found.\n",
            "WARNING:matplotlib.font_manager:findfont: Font family 'Consolas' not found.\n",
            "WARNING:matplotlib.font_manager:findfont: Font family 'Consolas' not found.\n",
            "WARNING:matplotlib.font_manager:findfont: Font family 'Consolas' not found.\n",
            "WARNING:matplotlib.font_manager:findfont: Font family 'Consolas' not found.\n",
            "WARNING:matplotlib.font_manager:findfont: Font family 'Arial' not found.\n",
            "WARNING:matplotlib.font_manager:findfont: Font family 'Arial' not found.\n",
            "WARNING:matplotlib.font_manager:findfont: Font family 'Arial' not found.\n",
            "WARNING:matplotlib.font_manager:findfont: Font family 'Arial' not found.\n",
            "WARNING:matplotlib.font_manager:findfont: Font family 'Arial' not found.\n",
            "WARNING:matplotlib.font_manager:findfont: Font family 'Arial' not found.\n",
            "WARNING:matplotlib.font_manager:findfont: Font family 'Arial' not found.\n"
          ]
        },
        {
          "output_type": "display_data",
          "data": {
            "text/plain": [
              "<IPython.core.display.SVG object>"
            ],
            "image/svg+xml": "<svg xmlns:xlink=\"http://www.w3.org/1999/xlink\" xmlns=\"http://www.w3.org/2000/svg\" width=\"321.645606pt\" height=\"54.546474pt\" viewBox=\"0 0 321.645606 54.546474\" version=\"1.1\">\n <metadata>\n  <rdf:RDF xmlns:dc=\"http://purl.org/dc/elements/1.1/\" xmlns:cc=\"http://creativecommons.org/ns#\" xmlns:rdf=\"http://www.w3.org/1999/02/22-rdf-syntax-ns#\">\n   <cc:Work>\n    <dc:type rdf:resource=\"http://purl.org/dc/dcmitype/StillImage\"/>\n    <dc:date>2023-08-04T00:55:45.642920</dc:date>\n    <dc:format>image/svg+xml</dc:format>\n    <dc:creator>\n     <cc:Agent>\n      <dc:title>Matplotlib v3.7.1, https://matplotlib.org/</dc:title>\n     </cc:Agent>\n    </dc:creator>\n   </cc:Work>\n  </rdf:RDF>\n </metadata>\n <defs>\n  <style type=\"text/css\">*{stroke-linejoin: round; stroke-linecap: butt}</style>\n </defs>\n <g id=\"figure_1\">\n  <g id=\"patch_1\">\n   <path d=\"M 0 54.546474  L 321.645606 54.546474  L 321.645606 0  L 0 0  z \" style=\"fill: #ffffff\"/>\n  </g>\n  <g id=\"axes_1\">\n   <g id=\"patch_2\">\n    <path d=\"M 37.98585 28.872291  L 60.83595 28.872291  L 60.83595 23.683107  L 37.98585 23.683107  z \" clip-path=\"url(#p34238d475c)\" style=\"fill: #a8e1b0; fill-opacity: 0.75; stroke: #808080; stroke-width: 0.7; stroke-linejoin: miter\"/>\n   </g>\n   <g id=\"patch_3\">\n    <path d=\"M 210.01446 46.385787  L 215.23734 46.385787  L 215.23734 23.683107  L 210.01446 23.683107  z \" clip-path=\"url(#p34238d475c)\" style=\"fill: #a8e1b0; fill-opacity: 0.75; stroke: #808080; stroke-width: 0.7; stroke-linejoin: miter\"/>\n   </g>\n   <g id=\"line2d_1\">\n    <path d=\"M 6.32214 13.762608  L 92.49966 13.762608  \" clip-path=\"url(#p34238d475c)\" style=\"fill: none; stroke: #c2c2c2; stroke-width: 0.5; stroke-linecap: square\"/>\n   </g>\n   <g id=\"line2d_2\">\n    <path d=\"M 163.00854 13.762608  L 262.24326 13.762608  \" clip-path=\"url(#p34238d475c)\" style=\"fill: none; stroke: #c2c2c2; stroke-width: 0.5; stroke-linecap: square\"/>\n   </g>\n   <g id=\"text_1\">\n    <!-- l -->\n    <g style=\"fill: #444443\" transform=\"translate(6.975 9.947031) scale(0.13 -0.13)\">\n     <defs>\n      <path id=\"DejaVuSansMono-6c\" d=\"M 1997 1269  Q 1997 881 2139 684  Q 2281 488 2559 488  L 3231 488  L 3231 0  L 2503 0  Q 1988 0 1705 331  Q 1422 663 1422 1269  L 1422 4447  L 500 4447  L 500 4897  L 1997 4897  L 1997 1269  z \" transform=\"scale(0.015625)\"/>\n     </defs>\n     <use xlink:href=\"#DejaVuSansMono-6c\"/>\n    </g>\n   </g>\n   <g id=\"text_2\">\n    <!-- 2 -->\n    <g style=\"fill: #444443\" transform=\"translate(13.5036 9.947031) scale(0.13 -0.13)\">\n     <defs>\n      <path id=\"DejaVuSansMono-32\" d=\"M 1166 531  L 3309 531  L 3309 0  L 475 0  L 475 531  Q 1059 1147 1496 1619  Q 1934 2091 2100 2284  Q 2413 2666 2522 2902  Q 2631 3138 2631 3384  Q 2631 3775 2401 3997  Q 2172 4219 1772 4219  Q 1488 4219 1175 4116  Q 863 4013 513 3803  L 513 4441  Q 834 4594 1145 4672  Q 1456 4750 1759 4750  Q 2444 4750 2861 4386  Q 3278 4022 3278 3431  Q 3278 3131 3139 2831  Q 3000 2531 2688 2169  Q 2513 1966 2180 1606  Q 1847 1247 1166 531  z \" transform=\"scale(0.015625)\"/>\n     </defs>\n     <use xlink:href=\"#DejaVuSansMono-32\"/>\n    </g>\n   </g>\n   <g id=\"text_3\">\n    <!-- _ -->\n    <g style=\"fill: #444443\" transform=\"translate(20.0322 9.947031) scale(0.13 -0.13)\">\n     <defs>\n      <path id=\"DejaVuSansMono-5f\" d=\"M 3853 -1259  L 3853 -1509  L 0 -1509  L 0 -1259  L 3853 -1259  z \" transform=\"scale(0.015625)\"/>\n     </defs>\n     <use xlink:href=\"#DejaVuSansMono-5f\"/>\n    </g>\n   </g>\n   <g id=\"text_4\">\n    <!-- b -->\n    <g style=\"fill: #444443\" transform=\"translate(26.5608 9.947031) scale(0.13 -0.13)\">\n     <defs>\n      <path id=\"DejaVuSansMono-62\" d=\"M 2869 1747  Q 2869 2416 2656 2756  Q 2444 3097 2028 3097  Q 1609 3097 1393 2755  Q 1178 2413 1178 1747  Q 1178 1084 1393 740  Q 1609 397 2028 397  Q 2444 397 2656 737  Q 2869 1078 2869 1747  z M 1178 3053  Q 1316 3309 1558 3446  Q 1800 3584 2119 3584  Q 2750 3584 3112 3098  Q 3475 2613 3475 1759  Q 3475 894 3111 401  Q 2747 -91 2113 -91  Q 1800 -91 1561 45  Q 1322 181 1178 441  L 1178 0  L 603 0  L 603 4863  L 1178 4863  L 1178 3053  z \" transform=\"scale(0.015625)\"/>\n     </defs>\n     <use xlink:href=\"#DejaVuSansMono-62\"/>\n    </g>\n   </g>\n   <g id=\"text_5\">\n    <!-- _ -->\n    <g style=\"fill: #444443\" transform=\"translate(33.0894 9.947031) scale(0.13 -0.13)\">\n     <use xlink:href=\"#DejaVuSansMono-5f\"/>\n    </g>\n   </g>\n   <g id=\"text_6\">\n    <!-- g -->\n    <g style=\"fill: #444443\" transform=\"translate(39.618 9.947031) scale(0.13 -0.13)\">\n     <defs>\n      <path id=\"DejaVuSansMono-67\" d=\"M 2681 1778  Q 2681 2425 2470 2761  Q 2259 3097 1856 3097  Q 1434 3097 1212 2761  Q 991 2425 991 1778  Q 991 1131 1214 792  Q 1438 453 1863 453  Q 2259 453 2470 793  Q 2681 1134 2681 1778  z M 3256 225  Q 3256 -563 2884 -969  Q 2513 -1375 1791 -1375  Q 1553 -1375 1293 -1331  Q 1034 -1288 775 -1203  L 775 -634  Q 1081 -778 1331 -847  Q 1581 -916 1791 -916  Q 2256 -916 2468 -662  Q 2681 -409 2681 141  L 2681 166  L 2681 556  Q 2544 263 2306 119  Q 2069 -25 1728 -25  Q 1116 -25 750 465  Q 384 956 384 1778  Q 384 2603 750 3093  Q 1116 3584 1728 3584  Q 2066 3584 2300 3450  Q 2534 3316 2681 3034  L 2681 3488  L 3256 3488  L 3256 225  z \" transform=\"scale(0.015625)\"/>\n     </defs>\n     <use xlink:href=\"#DejaVuSansMono-67\"/>\n    </g>\n   </g>\n   <g id=\"text_7\">\n    <!-- r -->\n    <g style=\"fill: #444443\" transform=\"translate(46.1466 9.947031) scale(0.13 -0.13)\">\n     <defs>\n      <path id=\"DejaVuSansMono-72\" d=\"M 3609 2778  Q 3425 2922 3234 2987  Q 3044 3053 2816 3053  Q 2278 3053 1993 2715  Q 1709 2378 1709 1741  L 1709 0  L 1131 0  L 1131 3500  L 1709 3500  L 1709 2816  Q 1853 3188 2151 3386  Q 2450 3584 2859 3584  Q 3072 3584 3256 3531  Q 3441 3478 3609 3366  L 3609 2778  z \" transform=\"scale(0.015625)\"/>\n     </defs>\n     <use xlink:href=\"#DejaVuSansMono-72\"/>\n    </g>\n   </g>\n   <g id=\"text_8\">\n    <!-- a -->\n    <g style=\"fill: #444443\" transform=\"translate(52.6752 9.947031) scale(0.13 -0.13)\">\n     <defs>\n      <path id=\"DejaVuSansMono-61\" d=\"M 2194 1759  L 2003 1759  Q 1500 1759 1245 1582  Q 991 1406 991 1056  Q 991 741 1181 566  Q 1372 391 1709 391  Q 2184 391 2456 720  Q 2728 1050 2731 1631  L 2731 1759  L 2194 1759  z M 3309 1997  L 3309 0  L 2731 0  L 2731 519  Q 2547 206 2267 57  Q 1988 -91 1588 -91  Q 1053 -91 734 211  Q 416 513 416 1019  Q 416 1603 808 1906  Q 1200 2209 1959 2209  L 2731 2209  L 2731 2300  Q 2728 2719 2518 2908  Q 2309 3097 1850 3097  Q 1556 3097 1256 3012  Q 956 2928 672 2766  L 672 3341  Q 991 3463 1283 3523  Q 1575 3584 1850 3584  Q 2284 3584 2592 3456  Q 2900 3328 3091 3072  Q 3209 2916 3259 2686  Q 3309 2456 3309 1997  z \" transform=\"scale(0.015625)\"/>\n     </defs>\n     <use xlink:href=\"#DejaVuSansMono-61\"/>\n    </g>\n   </g>\n   <g id=\"text_9\">\n    <!-- d -->\n    <g style=\"fill: #444443\" transform=\"translate(59.2038 9.947031) scale(0.13 -0.13)\">\n     <defs>\n      <path id=\"DejaVuSansMono-64\" d=\"M 2681 3053  L 2681 4863  L 3256 4863  L 3256 0  L 2681 0  L 2681 441  Q 2538 181 2298 45  Q 2059 -91 1747 -91  Q 1113 -91 748 401  Q 384 894 384 1759  Q 384 2613 750 3098  Q 1116 3584 1747 3584  Q 2063 3584 2303 3448  Q 2544 3313 2681 3053  z M 991 1747  Q 991 1078 1203 737  Q 1416 397 1831 397  Q 2247 397 2464 740  Q 2681 1084 2681 1747  Q 2681 2413 2464 2755  Q 2247 3097 1831 3097  Q 1416 3097 1203 2756  Q 991 2416 991 1747  z \" transform=\"scale(0.015625)\"/>\n     </defs>\n     <use xlink:href=\"#DejaVuSansMono-64\"/>\n    </g>\n   </g>\n   <g id=\"text_10\">\n    <!-- i -->\n    <g style=\"fill: #444443\" transform=\"translate(65.7324 9.947031) scale(0.13 -0.13)\">\n     <defs>\n      <path id=\"DejaVuSansMono-69\" d=\"M 800 3500  L 2272 3500  L 2272 447  L 3413 447  L 3413 0  L 556 0  L 556 447  L 1697 447  L 1697 3053  L 800 3053  L 800 3500  z M 1697 4863  L 2272 4863  L 2272 4134  L 1697 4134  L 1697 4863  z \" transform=\"scale(0.015625)\"/>\n     </defs>\n     <use xlink:href=\"#DejaVuSansMono-69\"/>\n    </g>\n   </g>\n   <g id=\"text_11\">\n    <!-- e -->\n    <g style=\"fill: #444443\" transform=\"translate(72.261 9.947031) scale(0.13 -0.13)\">\n     <defs>\n      <path id=\"DejaVuSansMono-65\" d=\"M 3475 1894  L 3475 1613  L 984 1613  L 984 1594  Q 984 1022 1282 709  Q 1581 397 2125 397  Q 2400 397 2700 484  Q 3000 572 3341 750  L 3341 178  Q 3013 44 2708 -23  Q 2403 -91 2119 -91  Q 1303 -91 843 398  Q 384 888 384 1747  Q 384 2584 834 3084  Q 1284 3584 2034 3584  Q 2703 3584 3089 3131  Q 3475 2678 3475 1894  z M 2900 2063  Q 2888 2569 2661 2833  Q 2434 3097 2009 3097  Q 1594 3097 1325 2822  Q 1056 2547 1006 2059  L 2900 2063  z \" transform=\"scale(0.015625)\"/>\n     </defs>\n     <use xlink:href=\"#DejaVuSansMono-65\"/>\n    </g>\n   </g>\n   <g id=\"text_12\">\n    <!-- n -->\n    <g style=\"fill: #444443\" transform=\"translate(78.7896 9.947031) scale(0.13 -0.13)\">\n     <defs>\n      <path id=\"DejaVuSansMono-6e\" d=\"M 3284 2169  L 3284 0  L 2706 0  L 2706 2169  Q 2706 2641 2540 2862  Q 2375 3084 2022 3084  Q 1619 3084 1401 2798  Q 1184 2513 1184 1978  L 1184 0  L 609 0  L 609 3500  L 1184 3500  L 1184 2975  Q 1338 3275 1600 3429  Q 1863 3584 2222 3584  Q 2756 3584 3020 3232  Q 3284 2881 3284 2169  z \" transform=\"scale(0.015625)\"/>\n     </defs>\n     <use xlink:href=\"#DejaVuSansMono-6e\"/>\n    </g>\n   </g>\n   <g id=\"text_13\">\n    <!-- t -->\n    <g style=\"fill: #444443\" transform=\"translate(85.3182 9.947031) scale(0.13 -0.13)\">\n     <defs>\n      <path id=\"DejaVuSansMono-74\" d=\"M 1919 4494  L 1919 3500  L 3225 3500  L 3225 3053  L 1919 3053  L 1919 1153  Q 1919 766 2066 612  Q 2213 459 2578 459  L 3225 459  L 3225 0  L 2522 0  Q 1875 0 1609 259  Q 1344 519 1344 1153  L 1344 3053  L 409 3053  L 409 3500  L 1344 3500  L 1344 4494  L 1919 4494  z \" transform=\"scale(0.015625)\"/>\n     </defs>\n     <use xlink:href=\"#DejaVuSansMono-74\"/>\n    </g>\n   </g>\n   <g id=\"text_14\">\n    <!--   -->\n    <g style=\"fill: #444443\" transform=\"translate(91.8468 9.947031) scale(0.13 -0.13)\">\n     <defs>\n      <path id=\"DejaVuSansMono-20\" transform=\"scale(0.015625)\"/>\n     </defs>\n     <use xlink:href=\"#DejaVuSansMono-20\"/>\n    </g>\n   </g>\n   <g id=\"text_15\">\n    <!-- = -->\n    <g style=\"fill: #444443\" transform=\"translate(98.3754 9.947031) scale(0.13 -0.13)\">\n     <defs>\n      <path id=\"DejaVuSansMono-3d\" d=\"M 275 1638  L 3578 1638  L 3578 1100  L 275 1100  L 275 1638  z M 275 2906  L 3578 2906  L 3578 2375  L 275 2375  L 275 2906  z \" transform=\"scale(0.015625)\"/>\n     </defs>\n     <use xlink:href=\"#DejaVuSansMono-3d\"/>\n    </g>\n   </g>\n   <g id=\"text_16\">\n    <!--   -->\n    <g style=\"fill: #444443\" transform=\"translate(104.904 9.947031) scale(0.13 -0.13)\">\n     <use xlink:href=\"#DejaVuSansMono-20\"/>\n    </g>\n   </g>\n   <g id=\"text_17\">\n    <!-- n -->\n    <g style=\"fill: #444443\" transform=\"translate(111.4326 9.947031) scale(0.13 -0.13)\">\n     <use xlink:href=\"#DejaVuSansMono-6e\"/>\n    </g>\n   </g>\n   <g id=\"text_18\">\n    <!-- p -->\n    <g style=\"fill: #444443\" transform=\"translate(117.9612 9.947031) scale(0.13 -0.13)\">\n     <defs>\n      <path id=\"DejaVuSansMono-70\" d=\"M 1172 441  L 1172 -1331  L 594 -1331  L 594 3500  L 1172 3500  L 1172 3053  Q 1316 3313 1555 3448  Q 1794 3584 2106 3584  Q 2741 3584 3102 3093  Q 3463 2603 3463 1734  Q 3463 881 3100 395  Q 2738 -91 2106 -91  Q 1788 -91 1548 45  Q 1309 181 1172 441  z M 2859 1747  Q 2859 2416 2648 2756  Q 2438 3097 2022 3097  Q 1603 3097 1387 2755  Q 1172 2413 1172 1747  Q 1172 1084 1387 740  Q 1603 397 2022 397  Q 2438 397 2648 737  Q 2859 1078 2859 1747  z \" transform=\"scale(0.015625)\"/>\n     </defs>\n     <use xlink:href=\"#DejaVuSansMono-70\"/>\n    </g>\n   </g>\n   <g id=\"text_19\">\n    <!-- . -->\n    <g style=\"fill: #444443\" transform=\"translate(124.4898 9.947031) scale(0.13 -0.13)\">\n     <defs>\n      <path id=\"DejaVuSansMono-2e\" d=\"M 1528 953  L 2316 953  L 2316 0  L 1528 0  L 1528 953  z \" transform=\"scale(0.015625)\"/>\n     </defs>\n     <use xlink:href=\"#DejaVuSansMono-2e\"/>\n    </g>\n   </g>\n   <g id=\"text_20\">\n    <!-- m -->\n    <g style=\"fill: #444443\" transform=\"translate(131.0184 9.947031) scale(0.13 -0.13)\">\n     <defs>\n      <path id=\"DejaVuSansMono-6d\" d=\"M 2113 3144  Q 2219 3369 2383 3476  Q 2547 3584 2778 3584  Q 3200 3584 3373 3257  Q 3547 2931 3547 2028  L 3547 0  L 3022 0  L 3022 2003  Q 3022 2744 2939 2923  Q 2856 3103 2638 3103  Q 2388 3103 2295 2911  Q 2203 2719 2203 2003  L 2203 0  L 1678 0  L 1678 2003  Q 1678 2753 1589 2928  Q 1500 3103 1269 3103  Q 1041 3103 952 2911  Q 863 2719 863 2003  L 863 0  L 341 0  L 341 3500  L 863 3500  L 863 3200  Q 966 3388 1120 3486  Q 1275 3584 1472 3584  Q 1709 3584 1867 3475  Q 2025 3366 2113 3144  z \" transform=\"scale(0.015625)\"/>\n     </defs>\n     <use xlink:href=\"#DejaVuSansMono-6d\"/>\n    </g>\n   </g>\n   <g id=\"text_21\">\n    <!-- e -->\n    <g style=\"fill: #444443\" transform=\"translate(137.547 9.947031) scale(0.13 -0.13)\">\n     <use xlink:href=\"#DejaVuSansMono-65\"/>\n    </g>\n   </g>\n   <g id=\"text_22\">\n    <!-- a -->\n    <g style=\"fill: #444443\" transform=\"translate(144.0756 9.947031) scale(0.13 -0.13)\">\n     <use xlink:href=\"#DejaVuSansMono-61\"/>\n    </g>\n   </g>\n   <g id=\"text_23\">\n    <!-- n -->\n    <g style=\"fill: #444443\" transform=\"translate(150.6042 9.947031) scale(0.13 -0.13)\">\n     <use xlink:href=\"#DejaVuSansMono-6e\"/>\n    </g>\n   </g>\n   <g id=\"text_24\">\n    <!-- ( -->\n    <g style=\"fill: #444443\" transform=\"translate(157.1328 9.947031) scale(0.13 -0.13)\">\n     <defs>\n      <path id=\"DejaVuSansMono-28\" d=\"M 2766 4856  Q 2350 4144 2145 3436  Q 1941 2728 1941 2009  Q 1941 1294 2145 584  Q 2350 -125 2766 -844  L 2266 -844  Q 1794 -100 1562 604  Q 1331 1309 1331 2009  Q 1331 2706 1562 3412  Q 1794 4119 2266 4856  L 2766 4856  z \" transform=\"scale(0.015625)\"/>\n     </defs>\n     <use xlink:href=\"#DejaVuSansMono-28\"/>\n    </g>\n   </g>\n   <g id=\"text_25\">\n    <!-- o -->\n    <g style=\"fill: #444443\" transform=\"translate(163.6614 9.947031) scale(0.13 -0.13)\">\n     <defs>\n      <path id=\"DejaVuSansMono-6f\" d=\"M 1925 3097  Q 1488 3097 1263 2756  Q 1038 2416 1038 1747  Q 1038 1081 1263 739  Q 1488 397 1925 397  Q 2366 397 2591 739  Q 2816 1081 2816 1747  Q 2816 2416 2591 2756  Q 2366 3097 1925 3097  z M 1925 3584  Q 2653 3584 3039 3112  Q 3425 2641 3425 1747  Q 3425 850 3040 379  Q 2656 -91 1925 -91  Q 1197 -91 812 379  Q 428 850 428 1747  Q 428 2641 812 3112  Q 1197 3584 1925 3584  z \" transform=\"scale(0.015625)\"/>\n     </defs>\n     <use xlink:href=\"#DejaVuSansMono-6f\"/>\n    </g>\n   </g>\n   <g id=\"text_26\">\n    <!-- u -->\n    <g style=\"fill: #444443\" transform=\"translate(170.19 9.947031) scale(0.13 -0.13)\">\n     <defs>\n      <path id=\"DejaVuSansMono-75\" d=\"M 609 1325  L 609 3494  L 1184 3494  L 1184 1325  Q 1184 853 1351 631  Q 1519 409 1869 409  Q 2275 409 2490 695  Q 2706 981 2706 1516  L 2706 3494  L 3284 3494  L 3284 0  L 2706 0  L 2706 525  Q 2553 222 2289 65  Q 2025 -91 1672 -91  Q 1134 -91 871 261  Q 609 613 609 1325  z \" transform=\"scale(0.015625)\"/>\n     </defs>\n     <use xlink:href=\"#DejaVuSansMono-75\"/>\n    </g>\n   </g>\n   <g id=\"text_27\">\n    <!-- t -->\n    <g style=\"fill: #444443\" transform=\"translate(176.7186 9.947031) scale(0.13 -0.13)\">\n     <use xlink:href=\"#DejaVuSansMono-74\"/>\n    </g>\n   </g>\n   <g id=\"text_28\">\n    <!-- p -->\n    <g style=\"fill: #444443\" transform=\"translate(183.2472 9.947031) scale(0.13 -0.13)\">\n     <use xlink:href=\"#DejaVuSansMono-70\"/>\n    </g>\n   </g>\n   <g id=\"text_29\">\n    <!-- u -->\n    <g style=\"fill: #444443\" transform=\"translate(189.7758 9.947031) scale(0.13 -0.13)\">\n     <use xlink:href=\"#DejaVuSansMono-75\"/>\n    </g>\n   </g>\n   <g id=\"text_30\">\n    <!-- t -->\n    <g style=\"fill: #444443\" transform=\"translate(196.3044 9.947031) scale(0.13 -0.13)\">\n     <use xlink:href=\"#DejaVuSansMono-74\"/>\n    </g>\n   </g>\n   <g id=\"text_31\">\n    <!-- _ -->\n    <g style=\"fill: #444443\" transform=\"translate(202.833 9.947031) scale(0.13 -0.13)\">\n     <use xlink:href=\"#DejaVuSansMono-5f\"/>\n    </g>\n   </g>\n   <g id=\"text_32\">\n    <!-- g -->\n    <g style=\"fill: #444443\" transform=\"translate(209.3616 9.947031) scale(0.13 -0.13)\">\n     <use xlink:href=\"#DejaVuSansMono-67\"/>\n    </g>\n   </g>\n   <g id=\"text_33\">\n    <!-- r -->\n    <g style=\"fill: #444443\" transform=\"translate(215.8902 9.947031) scale(0.13 -0.13)\">\n     <use xlink:href=\"#DejaVuSansMono-72\"/>\n    </g>\n   </g>\n   <g id=\"text_34\">\n    <!-- a -->\n    <g style=\"fill: #444443\" transform=\"translate(222.4188 9.947031) scale(0.13 -0.13)\">\n     <use xlink:href=\"#DejaVuSansMono-61\"/>\n    </g>\n   </g>\n   <g id=\"text_35\">\n    <!-- d -->\n    <g style=\"fill: #444443\" transform=\"translate(228.9474 9.947031) scale(0.13 -0.13)\">\n     <use xlink:href=\"#DejaVuSansMono-64\"/>\n    </g>\n   </g>\n   <g id=\"text_36\">\n    <!-- i -->\n    <g style=\"fill: #444443\" transform=\"translate(235.476 9.947031) scale(0.13 -0.13)\">\n     <use xlink:href=\"#DejaVuSansMono-69\"/>\n    </g>\n   </g>\n   <g id=\"text_37\">\n    <!-- e -->\n    <g style=\"fill: #444443\" transform=\"translate(242.0046 9.947031) scale(0.13 -0.13)\">\n     <use xlink:href=\"#DejaVuSansMono-65\"/>\n    </g>\n   </g>\n   <g id=\"text_38\">\n    <!-- n -->\n    <g style=\"fill: #444443\" transform=\"translate(248.5332 9.947031) scale(0.13 -0.13)\">\n     <use xlink:href=\"#DejaVuSansMono-6e\"/>\n    </g>\n   </g>\n   <g id=\"text_39\">\n    <!-- t -->\n    <g style=\"fill: #444443\" transform=\"translate(255.0618 9.947031) scale(0.13 -0.13)\">\n     <use xlink:href=\"#DejaVuSansMono-74\"/>\n    </g>\n   </g>\n   <g id=\"text_40\">\n    <!-- , -->\n    <g style=\"fill: #444443\" transform=\"translate(261.5904 9.947031) scale(0.13 -0.13)\">\n     <defs>\n      <path id=\"DejaVuSansMono-2c\" d=\"M 1569 947  L 2356 947  L 2356 300  L 1741 -897  L 1259 -897  L 1569 300  L 1569 947  z \" transform=\"scale(0.015625)\"/>\n     </defs>\n     <use xlink:href=\"#DejaVuSansMono-2c\"/>\n    </g>\n   </g>\n   <g id=\"text_41\">\n    <!--   -->\n    <g style=\"fill: #444443\" transform=\"translate(268.119 9.947031) scale(0.13 -0.13)\">\n     <use xlink:href=\"#DejaVuSansMono-20\"/>\n    </g>\n   </g>\n   <g id=\"text_42\">\n    <!-- a -->\n    <g style=\"fill: #444443\" transform=\"translate(274.6476 9.947031) scale(0.13 -0.13)\">\n     <use xlink:href=\"#DejaVuSansMono-61\"/>\n    </g>\n   </g>\n   <g id=\"text_43\">\n    <!-- x -->\n    <g style=\"fill: #444443\" transform=\"translate(281.1762 9.947031) scale(0.13 -0.13)\">\n     <defs>\n      <path id=\"DejaVuSansMono-78\" d=\"M 3494 3500  L 2241 1825  L 3616 0  L 2950 0  L 1925 1403  L 903 0  L 238 0  L 1613 1825  L 359 3500  L 997 3500  L 1925 2234  L 2847 3500  L 3494 3500  z \" transform=\"scale(0.015625)\"/>\n     </defs>\n     <use xlink:href=\"#DejaVuSansMono-78\"/>\n    </g>\n   </g>\n   <g id=\"text_44\">\n    <!-- i -->\n    <g style=\"fill: #444443\" transform=\"translate(287.7048 9.947031) scale(0.13 -0.13)\">\n     <use xlink:href=\"#DejaVuSansMono-69\"/>\n    </g>\n   </g>\n   <g id=\"text_45\">\n    <!-- s -->\n    <g style=\"fill: #444443\" transform=\"translate(294.2334 9.947031) scale(0.13 -0.13)\">\n     <defs>\n      <path id=\"DejaVuSansMono-73\" d=\"M 3041 3378  L 3041 2816  Q 2794 2959 2544 3031  Q 2294 3103 2034 3103  Q 1644 3103 1451 2976  Q 1259 2850 1259 2591  Q 1259 2356 1403 2240  Q 1547 2125 2119 2016  L 2350 1972  Q 2778 1891 2998 1647  Q 3219 1403 3219 1013  Q 3219 494 2850 201  Q 2481 -91 1825 -91  Q 1566 -91 1281 -36  Q 997 19 666 128  L 666 722  Q 988 556 1281 473  Q 1575 391 1838 391  Q 2219 391 2428 545  Q 2638 700 2638 978  Q 2638 1378 1872 1531  L 1847 1538  L 1631 1581  Q 1134 1678 906 1908  Q 678 2138 678 2534  Q 678 3038 1018 3311  Q 1359 3584 1991 3584  Q 2272 3584 2531 3532  Q 2791 3481 3041 3378  z \" transform=\"scale(0.015625)\"/>\n     </defs>\n     <use xlink:href=\"#DejaVuSansMono-73\"/>\n    </g>\n   </g>\n   <g id=\"text_46\">\n    <!-- = -->\n    <g style=\"fill: #444443\" transform=\"translate(300.762 9.947031) scale(0.13 -0.13)\">\n     <use xlink:href=\"#DejaVuSansMono-3d\"/>\n    </g>\n   </g>\n   <g id=\"text_47\">\n    <!-- 0 -->\n    <g style=\"fill: #444443\" transform=\"translate(307.2906 9.947031) scale(0.13 -0.13)\">\n     <defs>\n      <path id=\"DejaVuSansMono-30\" d=\"M 1509 2344  Q 1509 2516 1629 2641  Q 1750 2766 1919 2766  Q 2094 2766 2219 2641  Q 2344 2516 2344 2344  Q 2344 2169 2220 2047  Q 2097 1925 1919 1925  Q 1744 1925 1626 2044  Q 1509 2163 1509 2344  z M 1925 4250  Q 1484 4250 1267 3775  Q 1050 3300 1050 2328  Q 1050 1359 1267 884  Q 1484 409 1925 409  Q 2369 409 2586 884  Q 2803 1359 2803 2328  Q 2803 3300 2586 3775  Q 2369 4250 1925 4250  z M 1925 4750  Q 2672 4750 3055 4137  Q 3438 3525 3438 2328  Q 3438 1134 3055 521  Q 2672 -91 1925 -91  Q 1178 -91 797 521  Q 416 1134 416 2328  Q 416 3525 797 4137  Q 1178 4750 1925 4750  z \" transform=\"scale(0.015625)\"/>\n     </defs>\n     <use xlink:href=\"#DejaVuSansMono-30\"/>\n    </g>\n   </g>\n   <g id=\"text_48\">\n    <!-- ) -->\n    <g style=\"fill: #444443\" transform=\"translate(313.8192 9.947031) scale(0.13 -0.13)\">\n     <defs>\n      <path id=\"DejaVuSansMono-29\" d=\"M 1088 4856  L 1588 4856  Q 2059 4119 2290 3412  Q 2522 2706 2522 2009  Q 2522 1306 2290 600  Q 2059 -106 1588 -844  L 1088 -844  Q 1503 -119 1708 590  Q 1913 1300 1913 2009  Q 1913 2722 1708 3431  Q 1503 4141 1088 4856  z \" transform=\"scale(0.015625)\"/>\n     </defs>\n     <use xlink:href=\"#DejaVuSansMono-29\"/>\n    </g>\n   </g>\n   <g id=\"text_49\">\n    <!-- 1 -->\n    <g transform=\"translate(46.547775 22.297107) scale(0.09 -0.09)\">\n     <defs>\n      <path id=\"DejaVuSans-31\" d=\"M 794 531  L 1825 531  L 1825 4091  L 703 3866  L 703 4441  L 1819 4666  L 2450 4666  L 2450 531  L 3481 531  L 3481 0  L 794 0  L 794 531  z \" transform=\"scale(0.015625)\"/>\n     </defs>\n     <use xlink:href=\"#DejaVuSans-31\"/>\n    </g>\n   </g>\n   <g id=\"text_50\">\n    <!-- &lt;${\\mathit{float64}}$&gt; -->\n    <g transform=\"translate(31.2109 35.488493) scale(0.07 -0.07)\">\n     <defs>\n      <path id=\"DejaVuSans-3c\" d=\"M 4684 3150  L 1459 2003  L 4684 863  L 4684 294  L 678 1747  L 678 2266  L 4684 3719  L 4684 3150  z \" transform=\"scale(0.015625)\"/>\n      <path id=\"DejaVuSans-Oblique-66\" d=\"M 3059 4863  L 2969 4384  L 2419 4384  Q 2106 4384 1964 4261  Q 1822 4138 1753 3809  L 1691 3500  L 2638 3500  L 2553 3053  L 1606 3053  L 1013 0  L 434 0  L 1031 3053  L 481 3053  L 563 3500  L 1113 3500  L 1159 3744  Q 1278 4363 1576 4613  Q 1875 4863 2516 4863  L 3059 4863  z \" transform=\"scale(0.015625)\"/>\n      <path id=\"DejaVuSans-Oblique-6c\" d=\"M 1172 4863  L 1747 4863  L 800 0  L 225 0  L 1172 4863  z \" transform=\"scale(0.015625)\"/>\n      <path id=\"DejaVuSans-Oblique-6f\" d=\"M 1625 -91  Q 1009 -91 651 289  Q 294 669 294 1325  Q 294 1706 417 2101  Q 541 2497 738 2766  Q 1047 3184 1428 3384  Q 1809 3584 2291 3584  Q 2888 3584 3255 3212  Q 3622 2841 3622 2241  Q 3622 1825 3500 1412  Q 3378 1000 3181 728  Q 2875 309 2494 109  Q 2113 -91 1625 -91  z M 891 1344  Q 891 869 1089 633  Q 1288 397 1691 397  Q 2269 397 2648 901  Q 3028 1406 3028 2181  Q 3028 2634 2825 2865  Q 2622 3097 2228 3097  Q 1903 3097 1650 2945  Q 1397 2794 1197 2484  Q 1050 2253 970 1956  Q 891 1659 891 1344  z \" transform=\"scale(0.015625)\"/>\n      <path id=\"DejaVuSans-Oblique-61\" d=\"M 3438 1997  L 3047 0  L 2472 0  L 2578 531  Q 2325 219 2001 64  Q 1678 -91 1281 -91  Q 834 -91 548 182  Q 263 456 263 884  Q 263 1497 752 1853  Q 1241 2209 2100 2209  L 2900 2209  L 2931 2363  Q 2938 2388 2941 2417  Q 2944 2447 2944 2509  Q 2944 2788 2717 2942  Q 2491 3097 2081 3097  Q 1800 3097 1504 3025  Q 1209 2953 897 2809  L 997 3341  Q 1322 3463 1633 3523  Q 1944 3584 2234 3584  Q 2853 3584 3176 3315  Q 3500 3047 3500 2534  Q 3500 2431 3484 2292  Q 3469 2153 3438 1997  z M 2816 1759  L 2241 1759  Q 1534 1759 1195 1570  Q 856 1381 856 984  Q 856 709 1029 553  Q 1203 397 1509 397  Q 1978 397 2328 733  Q 2678 1069 2791 1631  L 2816 1759  z \" transform=\"scale(0.015625)\"/>\n      <path id=\"DejaVuSans-Oblique-74\" d=\"M 2706 3500  L 2619 3053  L 1472 3053  L 1100 1153  Q 1081 1047 1072 975  Q 1063 903 1063 863  Q 1063 663 1183 572  Q 1303 481 1569 481  L 2150 481  L 2053 0  L 1503 0  Q 991 0 739 200  Q 488 400 488 806  Q 488 878 497 964  Q 506 1050 525 1153  L 897 3053  L 409 3053  L 500 3500  L 978 3500  L 1172 4494  L 1747 4494  L 1556 3500  L 2706 3500  z \" transform=\"scale(0.015625)\"/>\n      <path id=\"DejaVuSans-36\" d=\"M 2113 2584  Q 1688 2584 1439 2293  Q 1191 2003 1191 1497  Q 1191 994 1439 701  Q 1688 409 2113 409  Q 2538 409 2786 701  Q 3034 994 3034 1497  Q 3034 2003 2786 2293  Q 2538 2584 2113 2584  z M 3366 4563  L 3366 3988  Q 3128 4100 2886 4159  Q 2644 4219 2406 4219  Q 1781 4219 1451 3797  Q 1122 3375 1075 2522  Q 1259 2794 1537 2939  Q 1816 3084 2150 3084  Q 2853 3084 3261 2657  Q 3669 2231 3669 1497  Q 3669 778 3244 343  Q 2819 -91 2113 -91  Q 1303 -91 875 529  Q 447 1150 447 2328  Q 447 3434 972 4092  Q 1497 4750 2381 4750  Q 2619 4750 2861 4703  Q 3103 4656 3366 4563  z \" transform=\"scale(0.015625)\"/>\n      <path id=\"DejaVuSans-34\" d=\"M 2419 4116  L 825 1625  L 2419 1625  L 2419 4116  z M 2253 4666  L 3047 4666  L 3047 1625  L 3713 1625  L 3713 1100  L 3047 1100  L 3047 0  L 2419 0  L 2419 1100  L 313 1100  L 313 1709  L 2253 4666  z \" transform=\"scale(0.015625)\"/>\n      <path id=\"DejaVuSans-3e\" d=\"M 678 3150  L 678 3719  L 4684 2266  L 4684 1747  L 678 294  L 678 863  L 3897 2003  L 678 3150  z \" transform=\"scale(0.015625)\"/>\n     </defs>\n     <use xlink:href=\"#DejaVuSans-3c\" transform=\"translate(0 0.015625)\"/>\n     <use xlink:href=\"#DejaVuSans-Oblique-66\" transform=\"translate(83.789062 0.015625)\"/>\n     <use xlink:href=\"#DejaVuSans-Oblique-6c\" transform=\"translate(118.994141 0.015625)\"/>\n     <use xlink:href=\"#DejaVuSans-Oblique-6f\" transform=\"translate(146.777344 0.015625)\"/>\n     <use xlink:href=\"#DejaVuSans-Oblique-61\" transform=\"translate(207.958984 0.015625)\"/>\n     <use xlink:href=\"#DejaVuSans-Oblique-74\" transform=\"translate(269.238281 0.015625)\"/>\n     <use xlink:href=\"#DejaVuSans-36\" transform=\"translate(308.447266 0.015625)\"/>\n     <use xlink:href=\"#DejaVuSans-34\" transform=\"translate(372.070312 0.015625)\"/>\n     <use xlink:href=\"#DejaVuSans-3e\" transform=\"translate(435.693359 0.015625)\"/>\n    </g>\n   </g>\n   <g id=\"text_51\">\n    <!-- 5 -->\n    <g transform=\"translate(208.142741 37.897572) rotate(-90) scale(0.09 -0.09)\">\n     <defs>\n      <path id=\"DejaVuSans-35\" d=\"M 691 4666  L 3169 4666  L 3169 4134  L 1269 4134  L 1269 2991  Q 1406 3038 1543 3061  Q 1681 3084 1819 3084  Q 2600 3084 3056 2656  Q 3513 2228 3513 1497  Q 3513 744 3044 326  Q 2575 -91 1722 -91  Q 1428 -91 1123 -41  Q 819 9 494 109  L 494 744  Q 775 591 1075 516  Q 1375 441 1709 441  Q 2250 441 2565 725  Q 2881 1009 2881 1497  Q 2881 1984 2565 2268  Q 2250 2553 1709 2553  Q 1456 2553 1204 2497  Q 953 2441 691 2322  L 691 4666  z \" transform=\"scale(0.015625)\"/>\n     </defs>\n     <use xlink:href=\"#DejaVuSans-35\"/>\n    </g>\n   </g>\n   <g id=\"text_52\">\n    <!-- 1 -->\n    <g transform=\"translate(209.762775 22.297107) scale(0.09 -0.09)\">\n     <use xlink:href=\"#DejaVuSans-31\"/>\n    </g>\n   </g>\n   <g id=\"text_53\">\n    <!-- &lt;${\\mathit{float64}}$&gt; -->\n    <g transform=\"translate(194.4259 53.090693) scale(0.07 -0.07)\">\n     <use xlink:href=\"#DejaVuSans-3c\" transform=\"translate(0 0.015625)\"/>\n     <use xlink:href=\"#DejaVuSans-Oblique-66\" transform=\"translate(83.789062 0.015625)\"/>\n     <use xlink:href=\"#DejaVuSans-Oblique-6c\" transform=\"translate(118.994141 0.015625)\"/>\n     <use xlink:href=\"#DejaVuSans-Oblique-6f\" transform=\"translate(146.777344 0.015625)\"/>\n     <use xlink:href=\"#DejaVuSans-Oblique-61\" transform=\"translate(207.958984 0.015625)\"/>\n     <use xlink:href=\"#DejaVuSans-Oblique-74\" transform=\"translate(269.238281 0.015625)\"/>\n     <use xlink:href=\"#DejaVuSans-36\" transform=\"translate(308.447266 0.015625)\"/>\n     <use xlink:href=\"#DejaVuSans-34\" transform=\"translate(372.070312 0.015625)\"/>\n     <use xlink:href=\"#DejaVuSans-3e\" transform=\"translate(435.693359 0.015625)\"/>\n    </g>\n   </g>\n  </g>\n </g>\n <defs>\n  <clipPath id=\"p34238d475c\">\n   <rect x=\"0\" y=\"4.901991\" width=\"320.3478\" height=\"42.315395\"/>\n  </clipPath>\n </defs>\n</svg>"
          },
          "metadata": {}
        },
        {
          "output_type": "execute_result",
          "data": {
            "text/plain": [
              "array([-13.124])"
            ]
          },
          "metadata": {},
          "execution_count": 22
        }
      ]
    },
    {
      "cell_type": "code",
      "source": [
        "l2_weights"
      ],
      "metadata": {
        "colab": {
          "base_uri": "https://localhost:8080/"
        },
        "id": "yKR9TgBVCzec",
        "outputId": "45176850-e59c-4fc4-d5b6-b58c210b116b"
      },
      "execution_count": 23,
      "outputs": [
        {
          "output_type": "execute_result",
          "data": {
            "text/plain": [
              "array([[0.5],\n",
              "       [0.2]])"
            ]
          },
          "metadata": {},
          "execution_count": 23
        }
      ]
    },
    {
      "cell_type": "code",
      "source": [
        "lr = 1e-5\n",
        "\n",
        "with exp():\n",
        "  l2_bias = l2_bias - l2_b_gradient * lr\n",
        "  l2_weights = l2_weights + l2_w_gradient * lr\n",
        "\n",
        "l2_weights"
      ],
      "metadata": {
        "colab": {
          "base_uri": "https://localhost:8080/",
          "height": 1000
        },
        "id": "lYRhL-fZC2Do",
        "outputId": "1da1fca6-a13b-4cbb-faa8-dc7f64ab46dd"
      },
      "execution_count": 26,
      "outputs": [
        {
          "output_type": "stream",
          "name": "stderr",
          "text": [
            "WARNING:matplotlib.font_manager:findfont: Font family 'Consolas' not found.\n",
            "WARNING:matplotlib.font_manager:findfont: Font family 'Consolas' not found.\n",
            "WARNING:matplotlib.font_manager:findfont: Font family 'Consolas' not found.\n",
            "WARNING:matplotlib.font_manager:findfont: Font family 'Consolas' not found.\n",
            "WARNING:matplotlib.font_manager:findfont: Font family 'Consolas' not found.\n",
            "WARNING:matplotlib.font_manager:findfont: Font family 'Consolas' not found.\n",
            "WARNING:matplotlib.font_manager:findfont: Font family 'Consolas' not found.\n",
            "WARNING:matplotlib.font_manager:findfont: Font family 'Consolas' not found.\n",
            "WARNING:matplotlib.font_manager:findfont: Font family 'Consolas' not found.\n",
            "WARNING:matplotlib.font_manager:findfont: Font family 'Consolas' not found.\n",
            "WARNING:matplotlib.font_manager:findfont: Font family 'Consolas' not found.\n",
            "WARNING:matplotlib.font_manager:findfont: Font family 'Consolas' not found.\n",
            "WARNING:matplotlib.font_manager:findfont: Font family 'Consolas' not found.\n",
            "WARNING:matplotlib.font_manager:findfont: Font family 'Consolas' not found.\n",
            "WARNING:matplotlib.font_manager:findfont: Font family 'Consolas' not found.\n",
            "WARNING:matplotlib.font_manager:findfont: Font family 'Consolas' not found.\n",
            "WARNING:matplotlib.font_manager:findfont: Font family 'Consolas' not found.\n",
            "WARNING:matplotlib.font_manager:findfont: Font family 'Consolas' not found.\n",
            "WARNING:matplotlib.font_manager:findfont: Font family 'Arial' not found.\n",
            "WARNING:matplotlib.font_manager:findfont: Font family 'Arial' not found.\n",
            "WARNING:matplotlib.font_manager:findfont: Font family 'Arial' not found.\n",
            "WARNING:matplotlib.font_manager:findfont: Font family 'Consolas' not found.\n",
            "WARNING:matplotlib.font_manager:findfont: Font family 'Consolas' not found.\n",
            "WARNING:matplotlib.font_manager:findfont: Font family 'Consolas' not found.\n",
            "WARNING:matplotlib.font_manager:findfont: Font family 'Consolas' not found.\n",
            "WARNING:matplotlib.font_manager:findfont: Font family 'Consolas' not found.\n",
            "WARNING:matplotlib.font_manager:findfont: Font family 'Consolas' not found.\n",
            "WARNING:matplotlib.font_manager:findfont: Font family 'Consolas' not found.\n",
            "WARNING:matplotlib.font_manager:findfont: Font family 'Consolas' not found.\n",
            "WARNING:matplotlib.font_manager:findfont: Font family 'Consolas' not found.\n",
            "WARNING:matplotlib.font_manager:findfont: Font family 'Consolas' not found.\n",
            "WARNING:matplotlib.font_manager:findfont: Font family 'Consolas' not found.\n",
            "WARNING:matplotlib.font_manager:findfont: Font family 'Consolas' not found.\n",
            "WARNING:matplotlib.font_manager:findfont: Font family 'Consolas' not found.\n",
            "WARNING:matplotlib.font_manager:findfont: Font family 'Consolas' not found.\n",
            "WARNING:matplotlib.font_manager:findfont: Font family 'Consolas' not found.\n",
            "WARNING:matplotlib.font_manager:findfont: Font family 'Consolas' not found.\n",
            "WARNING:matplotlib.font_manager:findfont: Font family 'Consolas' not found.\n",
            "WARNING:matplotlib.font_manager:findfont: Font family 'Consolas' not found.\n",
            "WARNING:matplotlib.font_manager:findfont: Font family 'Consolas' not found.\n",
            "WARNING:matplotlib.font_manager:findfont: Font family 'Consolas' not found.\n",
            "WARNING:matplotlib.font_manager:findfont: Font family 'Consolas' not found.\n",
            "WARNING:matplotlib.font_manager:findfont: Font family 'Consolas' not found.\n",
            "WARNING:matplotlib.font_manager:findfont: Font family 'Consolas' not found.\n",
            "WARNING:matplotlib.font_manager:findfont: Font family 'Consolas' not found.\n",
            "WARNING:matplotlib.font_manager:findfont: Font family 'Consolas' not found.\n",
            "WARNING:matplotlib.font_manager:findfont: Font family 'Consolas' not found.\n",
            "WARNING:matplotlib.font_manager:findfont: Font family 'Consolas' not found.\n",
            "WARNING:matplotlib.font_manager:findfont: Font family 'Consolas' not found.\n",
            "WARNING:matplotlib.font_manager:findfont: Font family 'Consolas' not found.\n",
            "WARNING:matplotlib.font_manager:findfont: Font family 'Consolas' not found.\n",
            "WARNING:matplotlib.font_manager:findfont: Font family 'Consolas' not found.\n",
            "WARNING:matplotlib.font_manager:findfont: Font family 'Consolas' not found.\n",
            "WARNING:matplotlib.font_manager:findfont: Font family 'Consolas' not found.\n",
            "WARNING:matplotlib.font_manager:findfont: Font family 'Consolas' not found.\n",
            "WARNING:matplotlib.font_manager:findfont: Font family 'Consolas' not found.\n",
            "WARNING:matplotlib.font_manager:findfont: Font family 'Consolas' not found.\n",
            "WARNING:matplotlib.font_manager:findfont: Font family 'Consolas' not found.\n",
            "WARNING:matplotlib.font_manager:findfont: Font family 'Consolas' not found.\n",
            "WARNING:matplotlib.font_manager:findfont: Font family 'Consolas' not found.\n",
            "WARNING:matplotlib.font_manager:findfont: Font family 'Consolas' not found.\n",
            "WARNING:matplotlib.font_manager:findfont: Font family 'Consolas' not found.\n",
            "WARNING:matplotlib.font_manager:findfont: Font family 'Consolas' not found.\n",
            "WARNING:matplotlib.font_manager:findfont: Font family 'Consolas' not found.\n",
            "WARNING:matplotlib.font_manager:findfont: Font family 'Consolas' not found.\n",
            "WARNING:matplotlib.font_manager:findfont: Font family 'Consolas' not found.\n",
            "WARNING:matplotlib.font_manager:findfont: Font family 'Consolas' not found.\n",
            "WARNING:matplotlib.font_manager:findfont: Font family 'Consolas' not found.\n",
            "WARNING:matplotlib.font_manager:findfont: Font family 'Consolas' not found.\n",
            "WARNING:matplotlib.font_manager:findfont: Font family 'Consolas' not found.\n",
            "WARNING:matplotlib.font_manager:findfont: Font family 'Consolas' not found.\n",
            "WARNING:matplotlib.font_manager:findfont: Font family 'Consolas' not found.\n",
            "WARNING:matplotlib.font_manager:findfont: Font family 'Consolas' not found.\n",
            "WARNING:matplotlib.font_manager:findfont: Font family 'Consolas' not found.\n",
            "WARNING:matplotlib.font_manager:findfont: Font family 'Consolas' not found.\n",
            "WARNING:matplotlib.font_manager:findfont: Font family 'Consolas' not found.\n",
            "WARNING:matplotlib.font_manager:findfont: Font family 'Consolas' not found.\n",
            "WARNING:matplotlib.font_manager:findfont: Font family 'Arial' not found.\n",
            "WARNING:matplotlib.font_manager:findfont: Font family 'Arial' not found.\n",
            "WARNING:matplotlib.font_manager:findfont: Font family 'Arial' not found.\n",
            "WARNING:matplotlib.font_manager:findfont: Font family 'Arial' not found.\n",
            "WARNING:matplotlib.font_manager:findfont: Font family 'Arial' not found.\n",
            "WARNING:matplotlib.font_manager:findfont: Font family 'Arial' not found.\n",
            "WARNING:matplotlib.font_manager:findfont: Font family 'Arial' not found.\n",
            "WARNING:matplotlib.font_manager:findfont: Font family 'Arial' not found.\n",
            "WARNING:matplotlib.font_manager:findfont: Font family 'Consolas' not found.\n",
            "WARNING:matplotlib.font_manager:findfont: Font family 'Consolas' not found.\n",
            "WARNING:matplotlib.font_manager:findfont: Font family 'Consolas' not found.\n",
            "WARNING:matplotlib.font_manager:findfont: Font family 'Consolas' not found.\n",
            "WARNING:matplotlib.font_manager:findfont: Font family 'Consolas' not found.\n",
            "WARNING:matplotlib.font_manager:findfont: Font family 'Consolas' not found.\n",
            "WARNING:matplotlib.font_manager:findfont: Font family 'Consolas' not found.\n",
            "WARNING:matplotlib.font_manager:findfont: Font family 'Consolas' not found.\n",
            "WARNING:matplotlib.font_manager:findfont: Font family 'Consolas' not found.\n",
            "WARNING:matplotlib.font_manager:findfont: Font family 'Consolas' not found.\n",
            "WARNING:matplotlib.font_manager:findfont: Font family 'Consolas' not found.\n",
            "WARNING:matplotlib.font_manager:findfont: Font family 'Consolas' not found.\n",
            "WARNING:matplotlib.font_manager:findfont: Font family 'Consolas' not found.\n",
            "WARNING:matplotlib.font_manager:findfont: Font family 'Consolas' not found.\n",
            "WARNING:matplotlib.font_manager:findfont: Font family 'Consolas' not found.\n",
            "WARNING:matplotlib.font_manager:findfont: Font family 'Consolas' not found.\n",
            "WARNING:matplotlib.font_manager:findfont: Font family 'Consolas' not found.\n",
            "WARNING:matplotlib.font_manager:findfont: Font family 'Consolas' not found.\n",
            "WARNING:matplotlib.font_manager:findfont: Font family 'Consolas' not found.\n",
            "WARNING:matplotlib.font_manager:findfont: Font family 'Consolas' not found.\n",
            "WARNING:matplotlib.font_manager:findfont: Font family 'Consolas' not found.\n",
            "WARNING:matplotlib.font_manager:findfont: Font family 'Consolas' not found.\n",
            "WARNING:matplotlib.font_manager:findfont: Font family 'Consolas' not found.\n",
            "WARNING:matplotlib.font_manager:findfont: Font family 'Consolas' not found.\n",
            "WARNING:matplotlib.font_manager:findfont: Font family 'Consolas' not found.\n",
            "WARNING:matplotlib.font_manager:findfont: Font family 'Consolas' not found.\n",
            "WARNING:matplotlib.font_manager:findfont: Font family 'Consolas' not found.\n",
            "WARNING:matplotlib.font_manager:findfont: Font family 'Consolas' not found.\n",
            "WARNING:matplotlib.font_manager:findfont: Font family 'Consolas' not found.\n",
            "WARNING:matplotlib.font_manager:findfont: Font family 'Consolas' not found.\n",
            "WARNING:matplotlib.font_manager:findfont: Font family 'Consolas' not found.\n",
            "WARNING:matplotlib.font_manager:findfont: Font family 'Consolas' not found.\n",
            "WARNING:matplotlib.font_manager:findfont: Font family 'Consolas' not found.\n",
            "WARNING:matplotlib.font_manager:findfont: Font family 'Consolas' not found.\n",
            "WARNING:matplotlib.font_manager:findfont: Font family 'Consolas' not found.\n",
            "WARNING:matplotlib.font_manager:findfont: Font family 'Consolas' not found.\n",
            "WARNING:matplotlib.font_manager:findfont: Font family 'Consolas' not found.\n",
            "WARNING:matplotlib.font_manager:findfont: Font family 'Consolas' not found.\n",
            "WARNING:matplotlib.font_manager:findfont: Font family 'Consolas' not found.\n",
            "WARNING:matplotlib.font_manager:findfont: Font family 'Consolas' not found.\n",
            "WARNING:matplotlib.font_manager:findfont: Font family 'Consolas' not found.\n",
            "WARNING:matplotlib.font_manager:findfont: Font family 'Consolas' not found.\n",
            "WARNING:matplotlib.font_manager:findfont: Font family 'Consolas' not found.\n",
            "WARNING:matplotlib.font_manager:findfont: Font family 'Consolas' not found.\n",
            "WARNING:matplotlib.font_manager:findfont: Font family 'Consolas' not found.\n",
            "WARNING:matplotlib.font_manager:findfont: Font family 'Consolas' not found.\n",
            "WARNING:matplotlib.font_manager:findfont: Font family 'Consolas' not found.\n",
            "WARNING:matplotlib.font_manager:findfont: Font family 'Consolas' not found.\n",
            "WARNING:matplotlib.font_manager:findfont: Font family 'Consolas' not found.\n",
            "WARNING:matplotlib.font_manager:findfont: Font family 'Consolas' not found.\n",
            "WARNING:matplotlib.font_manager:findfont: Font family 'Consolas' not found.\n",
            "WARNING:matplotlib.font_manager:findfont: Font family 'Consolas' not found.\n",
            "WARNING:matplotlib.font_manager:findfont: Font family 'Consolas' not found.\n",
            "WARNING:matplotlib.font_manager:findfont: Font family 'Consolas' not found.\n",
            "WARNING:matplotlib.font_manager:findfont: Font family 'Consolas' not found.\n",
            "WARNING:matplotlib.font_manager:findfont: Font family 'Consolas' not found.\n",
            "WARNING:matplotlib.font_manager:findfont: Font family 'Arial' not found.\n",
            "WARNING:matplotlib.font_manager:findfont: Font family 'Arial' not found.\n",
            "WARNING:matplotlib.font_manager:findfont: Font family 'Arial' not found.\n",
            "WARNING:matplotlib.font_manager:findfont: Font family 'Arial' not found.\n",
            "WARNING:matplotlib.font_manager:findfont: Font family 'Arial' not found.\n",
            "WARNING:matplotlib.font_manager:findfont: Font family 'Arial' not found.\n",
            "WARNING:matplotlib.font_manager:findfont: Font family 'Arial' not found.\n",
            "WARNING:matplotlib.font_manager:findfont: Font family 'Arial' not found.\n"
          ]
        },
        {
          "output_type": "display_data",
          "data": {
            "text/plain": [
              "<IPython.core.display.SVG object>"
            ],
            "image/svg+xml": "<svg xmlns:xlink=\"http://www.w3.org/1999/xlink\" xmlns=\"http://www.w3.org/2000/svg\" width=\"256.359606pt\" height=\"42.222162pt\" viewBox=\"0 0 256.359606 42.222162\" version=\"1.1\">\n <metadata>\n  <rdf:RDF xmlns:dc=\"http://purl.org/dc/elements/1.1/\" xmlns:cc=\"http://creativecommons.org/ns#\" xmlns:rdf=\"http://www.w3.org/1999/02/22-rdf-syntax-ns#\">\n   <cc:Work>\n    <dc:type rdf:resource=\"http://purl.org/dc/dcmitype/StillImage\"/>\n    <dc:date>2023-08-04T00:59:52.844565</dc:date>\n    <dc:format>image/svg+xml</dc:format>\n    <dc:creator>\n     <cc:Agent>\n      <dc:title>Matplotlib v3.7.1, https://matplotlib.org/</dc:title>\n     </cc:Agent>\n    </dc:creator>\n   </cc:Work>\n  </rdf:RDF>\n </metadata>\n <defs>\n  <style type=\"text/css\">*{stroke-linejoin: round; stroke-linecap: butt}</style>\n </defs>\n <g id=\"figure_1\">\n  <g id=\"patch_1\">\n   <path d=\"M 0 42.222162  L 256.359606 42.222162  L 256.359606 0  L 0 0  z \" style=\"fill: #ffffff\"/>\n  </g>\n  <g id=\"axes_1\">\n   <g id=\"patch_2\">\n    <path d=\"M 24.60222 34.061475  L 35.04798 34.061475  L 35.04798 23.683107  L 24.60222 23.683107  z \" clip-path=\"url(#p01641cab37)\" style=\"fill: #a8e1b0; fill-opacity: 0.75; stroke: #808080; stroke-width: 0.7; stroke-linejoin: miter\"/>\n   </g>\n   <g id=\"patch_3\">\n    <path d=\"M 89.88822 34.061475  L 100.33398 34.061475  L 100.33398 23.683107  L 89.88822 23.683107  z \" clip-path=\"url(#p01641cab37)\" style=\"fill: #a8e1b0; fill-opacity: 0.75; stroke: #808080; stroke-width: 0.7; stroke-linejoin: miter\"/>\n   </g>\n   <g id=\"patch_4\">\n    <path d=\"M 168.55785 28.872291  L 191.40795 28.872291  L 191.40795 23.683107  L 168.55785 23.683107  z \" clip-path=\"url(#p01641cab37)\" style=\"fill: #a8e1b0; fill-opacity: 0.75; stroke: #808080; stroke-width: 0.7; stroke-linejoin: miter\"/>\n   </g>\n   <g id=\"line2d_1\">\n    <path d=\"M 6.32214 13.762608  L 53.32806 13.762608  \" clip-path=\"url(#p01641cab37)\" style=\"fill: none; stroke: #c2c2c2; stroke-width: 0.5; stroke-linecap: square\"/>\n   </g>\n   <g id=\"line2d_2\">\n    <path d=\"M 71.60814 13.762608  L 118.61406 13.762608  \" clip-path=\"url(#p01641cab37)\" style=\"fill: none; stroke: #c2c2c2; stroke-width: 0.5; stroke-linecap: square\"/>\n   </g>\n   <g id=\"line2d_3\">\n    <path d=\"M 136.89414 13.762608  L 223.07166 13.762608  \" clip-path=\"url(#p01641cab37)\" style=\"fill: none; stroke: #c2c2c2; stroke-width: 0.5; stroke-linecap: square\"/>\n   </g>\n   <g id=\"text_1\">\n    <!-- l -->\n    <g style=\"fill: #444443\" transform=\"translate(6.975 9.947031) scale(0.13 -0.13)\">\n     <defs>\n      <path id=\"DejaVuSansMono-6c\" d=\"M 1997 1269  Q 1997 881 2139 684  Q 2281 488 2559 488  L 3231 488  L 3231 0  L 2503 0  Q 1988 0 1705 331  Q 1422 663 1422 1269  L 1422 4447  L 500 4447  L 500 4897  L 1997 4897  L 1997 1269  z \" transform=\"scale(0.015625)\"/>\n     </defs>\n     <use xlink:href=\"#DejaVuSansMono-6c\"/>\n    </g>\n   </g>\n   <g id=\"text_2\">\n    <!-- 2 -->\n    <g style=\"fill: #444443\" transform=\"translate(13.5036 9.947031) scale(0.13 -0.13)\">\n     <defs>\n      <path id=\"DejaVuSansMono-32\" d=\"M 1166 531  L 3309 531  L 3309 0  L 475 0  L 475 531  Q 1059 1147 1496 1619  Q 1934 2091 2100 2284  Q 2413 2666 2522 2902  Q 2631 3138 2631 3384  Q 2631 3775 2401 3997  Q 2172 4219 1772 4219  Q 1488 4219 1175 4116  Q 863 4013 513 3803  L 513 4441  Q 834 4594 1145 4672  Q 1456 4750 1759 4750  Q 2444 4750 2861 4386  Q 3278 4022 3278 3431  Q 3278 3131 3139 2831  Q 3000 2531 2688 2169  Q 2513 1966 2180 1606  Q 1847 1247 1166 531  z \" transform=\"scale(0.015625)\"/>\n     </defs>\n     <use xlink:href=\"#DejaVuSansMono-32\"/>\n    </g>\n   </g>\n   <g id=\"text_3\">\n    <!-- _ -->\n    <g style=\"fill: #444443\" transform=\"translate(20.0322 9.947031) scale(0.13 -0.13)\">\n     <defs>\n      <path id=\"DejaVuSansMono-5f\" d=\"M 3853 -1259  L 3853 -1509  L 0 -1509  L 0 -1259  L 3853 -1259  z \" transform=\"scale(0.015625)\"/>\n     </defs>\n     <use xlink:href=\"#DejaVuSansMono-5f\"/>\n    </g>\n   </g>\n   <g id=\"text_4\">\n    <!-- b -->\n    <g style=\"fill: #444443\" transform=\"translate(26.5608 9.947031) scale(0.13 -0.13)\">\n     <defs>\n      <path id=\"DejaVuSansMono-62\" d=\"M 2869 1747  Q 2869 2416 2656 2756  Q 2444 3097 2028 3097  Q 1609 3097 1393 2755  Q 1178 2413 1178 1747  Q 1178 1084 1393 740  Q 1609 397 2028 397  Q 2444 397 2656 737  Q 2869 1078 2869 1747  z M 1178 3053  Q 1316 3309 1558 3446  Q 1800 3584 2119 3584  Q 2750 3584 3112 3098  Q 3475 2613 3475 1759  Q 3475 894 3111 401  Q 2747 -91 2113 -91  Q 1800 -91 1561 45  Q 1322 181 1178 441  L 1178 0  L 603 0  L 603 4863  L 1178 4863  L 1178 3053  z \" transform=\"scale(0.015625)\"/>\n     </defs>\n     <use xlink:href=\"#DejaVuSansMono-62\"/>\n    </g>\n   </g>\n   <g id=\"text_5\">\n    <!-- i -->\n    <g style=\"fill: #444443\" transform=\"translate(33.0894 9.947031) scale(0.13 -0.13)\">\n     <defs>\n      <path id=\"DejaVuSansMono-69\" d=\"M 800 3500  L 2272 3500  L 2272 447  L 3413 447  L 3413 0  L 556 0  L 556 447  L 1697 447  L 1697 3053  L 800 3053  L 800 3500  z M 1697 4863  L 2272 4863  L 2272 4134  L 1697 4134  L 1697 4863  z \" transform=\"scale(0.015625)\"/>\n     </defs>\n     <use xlink:href=\"#DejaVuSansMono-69\"/>\n    </g>\n   </g>\n   <g id=\"text_6\">\n    <!-- a -->\n    <g style=\"fill: #444443\" transform=\"translate(39.618 9.947031) scale(0.13 -0.13)\">\n     <defs>\n      <path id=\"DejaVuSansMono-61\" d=\"M 2194 1759  L 2003 1759  Q 1500 1759 1245 1582  Q 991 1406 991 1056  Q 991 741 1181 566  Q 1372 391 1709 391  Q 2184 391 2456 720  Q 2728 1050 2731 1631  L 2731 1759  L 2194 1759  z M 3309 1997  L 3309 0  L 2731 0  L 2731 519  Q 2547 206 2267 57  Q 1988 -91 1588 -91  Q 1053 -91 734 211  Q 416 513 416 1019  Q 416 1603 808 1906  Q 1200 2209 1959 2209  L 2731 2209  L 2731 2300  Q 2728 2719 2518 2908  Q 2309 3097 1850 3097  Q 1556 3097 1256 3012  Q 956 2928 672 2766  L 672 3341  Q 991 3463 1283 3523  Q 1575 3584 1850 3584  Q 2284 3584 2592 3456  Q 2900 3328 3091 3072  Q 3209 2916 3259 2686  Q 3309 2456 3309 1997  z \" transform=\"scale(0.015625)\"/>\n     </defs>\n     <use xlink:href=\"#DejaVuSansMono-61\"/>\n    </g>\n   </g>\n   <g id=\"text_7\">\n    <!-- s -->\n    <g style=\"fill: #444443\" transform=\"translate(46.1466 9.947031) scale(0.13 -0.13)\">\n     <defs>\n      <path id=\"DejaVuSansMono-73\" d=\"M 3041 3378  L 3041 2816  Q 2794 2959 2544 3031  Q 2294 3103 2034 3103  Q 1644 3103 1451 2976  Q 1259 2850 1259 2591  Q 1259 2356 1403 2240  Q 1547 2125 2119 2016  L 2350 1972  Q 2778 1891 2998 1647  Q 3219 1403 3219 1013  Q 3219 494 2850 201  Q 2481 -91 1825 -91  Q 1566 -91 1281 -36  Q 997 19 666 128  L 666 722  Q 988 556 1281 473  Q 1575 391 1838 391  Q 2219 391 2428 545  Q 2638 700 2638 978  Q 2638 1378 1872 1531  L 1847 1538  L 1631 1581  Q 1134 1678 906 1908  Q 678 2138 678 2534  Q 678 3038 1018 3311  Q 1359 3584 1991 3584  Q 2272 3584 2531 3532  Q 2791 3481 3041 3378  z \" transform=\"scale(0.015625)\"/>\n     </defs>\n     <use xlink:href=\"#DejaVuSansMono-73\"/>\n    </g>\n   </g>\n   <g id=\"text_8\">\n    <!--   -->\n    <g style=\"fill: #444443\" transform=\"translate(52.6752 9.947031) scale(0.13 -0.13)\">\n     <defs>\n      <path id=\"DejaVuSansMono-20\" transform=\"scale(0.015625)\"/>\n     </defs>\n     <use xlink:href=\"#DejaVuSansMono-20\"/>\n    </g>\n   </g>\n   <g id=\"text_9\">\n    <!-- = -->\n    <g style=\"fill: #444443\" transform=\"translate(59.2038 9.947031) scale(0.13 -0.13)\">\n     <defs>\n      <path id=\"DejaVuSansMono-3d\" d=\"M 275 1638  L 3578 1638  L 3578 1100  L 275 1100  L 275 1638  z M 275 2906  L 3578 2906  L 3578 2375  L 275 2375  L 275 2906  z \" transform=\"scale(0.015625)\"/>\n     </defs>\n     <use xlink:href=\"#DejaVuSansMono-3d\"/>\n    </g>\n   </g>\n   <g id=\"text_10\">\n    <!--   -->\n    <g style=\"fill: #444443\" transform=\"translate(65.7324 9.947031) scale(0.13 -0.13)\">\n     <use xlink:href=\"#DejaVuSansMono-20\"/>\n    </g>\n   </g>\n   <g id=\"text_11\">\n    <!-- l -->\n    <g style=\"fill: #444443\" transform=\"translate(72.261 9.947031) scale(0.13 -0.13)\">\n     <use xlink:href=\"#DejaVuSansMono-6c\"/>\n    </g>\n   </g>\n   <g id=\"text_12\">\n    <!-- 2 -->\n    <g style=\"fill: #444443\" transform=\"translate(78.7896 9.947031) scale(0.13 -0.13)\">\n     <use xlink:href=\"#DejaVuSansMono-32\"/>\n    </g>\n   </g>\n   <g id=\"text_13\">\n    <!-- _ -->\n    <g style=\"fill: #444443\" transform=\"translate(85.3182 9.947031) scale(0.13 -0.13)\">\n     <use xlink:href=\"#DejaVuSansMono-5f\"/>\n    </g>\n   </g>\n   <g id=\"text_14\">\n    <!-- b -->\n    <g style=\"fill: #444443\" transform=\"translate(91.8468 9.947031) scale(0.13 -0.13)\">\n     <use xlink:href=\"#DejaVuSansMono-62\"/>\n    </g>\n   </g>\n   <g id=\"text_15\">\n    <!-- i -->\n    <g style=\"fill: #444443\" transform=\"translate(98.3754 9.947031) scale(0.13 -0.13)\">\n     <use xlink:href=\"#DejaVuSansMono-69\"/>\n    </g>\n   </g>\n   <g id=\"text_16\">\n    <!-- a -->\n    <g style=\"fill: #444443\" transform=\"translate(104.904 9.947031) scale(0.13 -0.13)\">\n     <use xlink:href=\"#DejaVuSansMono-61\"/>\n    </g>\n   </g>\n   <g id=\"text_17\">\n    <!-- s -->\n    <g style=\"fill: #444443\" transform=\"translate(111.4326 9.947031) scale(0.13 -0.13)\">\n     <use xlink:href=\"#DejaVuSansMono-73\"/>\n    </g>\n   </g>\n   <g id=\"text_18\">\n    <!--   -->\n    <g style=\"fill: #444443\" transform=\"translate(117.9612 9.947031) scale(0.13 -0.13)\">\n     <use xlink:href=\"#DejaVuSansMono-20\"/>\n    </g>\n   </g>\n   <g id=\"text_19\">\n    <!-- - -->\n    <g style=\"fill: #444443\" transform=\"translate(124.4898 9.947031) scale(0.13 -0.13)\">\n     <defs>\n      <path id=\"DejaVuSansMono-2d\" d=\"M 1113 2009  L 2741 2009  L 2741 1497  L 1113 1497  L 1113 2009  z \" transform=\"scale(0.015625)\"/>\n     </defs>\n     <use xlink:href=\"#DejaVuSansMono-2d\"/>\n    </g>\n   </g>\n   <g id=\"text_20\">\n    <!--   -->\n    <g style=\"fill: #444443\" transform=\"translate(131.0184 9.947031) scale(0.13 -0.13)\">\n     <use xlink:href=\"#DejaVuSansMono-20\"/>\n    </g>\n   </g>\n   <g id=\"text_21\">\n    <!-- l -->\n    <g style=\"fill: #444443\" transform=\"translate(137.547 9.947031) scale(0.13 -0.13)\">\n     <use xlink:href=\"#DejaVuSansMono-6c\"/>\n    </g>\n   </g>\n   <g id=\"text_22\">\n    <!-- 2 -->\n    <g style=\"fill: #444443\" transform=\"translate(144.0756 9.947031) scale(0.13 -0.13)\">\n     <use xlink:href=\"#DejaVuSansMono-32\"/>\n    </g>\n   </g>\n   <g id=\"text_23\">\n    <!-- _ -->\n    <g style=\"fill: #444443\" transform=\"translate(150.6042 9.947031) scale(0.13 -0.13)\">\n     <use xlink:href=\"#DejaVuSansMono-5f\"/>\n    </g>\n   </g>\n   <g id=\"text_24\">\n    <!-- b -->\n    <g style=\"fill: #444443\" transform=\"translate(157.1328 9.947031) scale(0.13 -0.13)\">\n     <use xlink:href=\"#DejaVuSansMono-62\"/>\n    </g>\n   </g>\n   <g id=\"text_25\">\n    <!-- _ -->\n    <g style=\"fill: #444443\" transform=\"translate(163.6614 9.947031) scale(0.13 -0.13)\">\n     <use xlink:href=\"#DejaVuSansMono-5f\"/>\n    </g>\n   </g>\n   <g id=\"text_26\">\n    <!-- g -->\n    <g style=\"fill: #444443\" transform=\"translate(170.19 9.947031) scale(0.13 -0.13)\">\n     <defs>\n      <path id=\"DejaVuSansMono-67\" d=\"M 2681 1778  Q 2681 2425 2470 2761  Q 2259 3097 1856 3097  Q 1434 3097 1212 2761  Q 991 2425 991 1778  Q 991 1131 1214 792  Q 1438 453 1863 453  Q 2259 453 2470 793  Q 2681 1134 2681 1778  z M 3256 225  Q 3256 -563 2884 -969  Q 2513 -1375 1791 -1375  Q 1553 -1375 1293 -1331  Q 1034 -1288 775 -1203  L 775 -634  Q 1081 -778 1331 -847  Q 1581 -916 1791 -916  Q 2256 -916 2468 -662  Q 2681 -409 2681 141  L 2681 166  L 2681 556  Q 2544 263 2306 119  Q 2069 -25 1728 -25  Q 1116 -25 750 465  Q 384 956 384 1778  Q 384 2603 750 3093  Q 1116 3584 1728 3584  Q 2066 3584 2300 3450  Q 2534 3316 2681 3034  L 2681 3488  L 3256 3488  L 3256 225  z \" transform=\"scale(0.015625)\"/>\n     </defs>\n     <use xlink:href=\"#DejaVuSansMono-67\"/>\n    </g>\n   </g>\n   <g id=\"text_27\">\n    <!-- r -->\n    <g style=\"fill: #444443\" transform=\"translate(176.7186 9.947031) scale(0.13 -0.13)\">\n     <defs>\n      <path id=\"DejaVuSansMono-72\" d=\"M 3609 2778  Q 3425 2922 3234 2987  Q 3044 3053 2816 3053  Q 2278 3053 1993 2715  Q 1709 2378 1709 1741  L 1709 0  L 1131 0  L 1131 3500  L 1709 3500  L 1709 2816  Q 1853 3188 2151 3386  Q 2450 3584 2859 3584  Q 3072 3584 3256 3531  Q 3441 3478 3609 3366  L 3609 2778  z \" transform=\"scale(0.015625)\"/>\n     </defs>\n     <use xlink:href=\"#DejaVuSansMono-72\"/>\n    </g>\n   </g>\n   <g id=\"text_28\">\n    <!-- a -->\n    <g style=\"fill: #444443\" transform=\"translate(183.2472 9.947031) scale(0.13 -0.13)\">\n     <use xlink:href=\"#DejaVuSansMono-61\"/>\n    </g>\n   </g>\n   <g id=\"text_29\">\n    <!-- d -->\n    <g style=\"fill: #444443\" transform=\"translate(189.7758 9.947031) scale(0.13 -0.13)\">\n     <defs>\n      <path id=\"DejaVuSansMono-64\" d=\"M 2681 3053  L 2681 4863  L 3256 4863  L 3256 0  L 2681 0  L 2681 441  Q 2538 181 2298 45  Q 2059 -91 1747 -91  Q 1113 -91 748 401  Q 384 894 384 1759  Q 384 2613 750 3098  Q 1116 3584 1747 3584  Q 2063 3584 2303 3448  Q 2544 3313 2681 3053  z M 991 1747  Q 991 1078 1203 737  Q 1416 397 1831 397  Q 2247 397 2464 740  Q 2681 1084 2681 1747  Q 2681 2413 2464 2755  Q 2247 3097 1831 3097  Q 1416 3097 1203 2756  Q 991 2416 991 1747  z \" transform=\"scale(0.015625)\"/>\n     </defs>\n     <use xlink:href=\"#DejaVuSansMono-64\"/>\n    </g>\n   </g>\n   <g id=\"text_30\">\n    <!-- i -->\n    <g style=\"fill: #444443\" transform=\"translate(196.3044 9.947031) scale(0.13 -0.13)\">\n     <use xlink:href=\"#DejaVuSansMono-69\"/>\n    </g>\n   </g>\n   <g id=\"text_31\">\n    <!-- e -->\n    <g style=\"fill: #444443\" transform=\"translate(202.833 9.947031) scale(0.13 -0.13)\">\n     <defs>\n      <path id=\"DejaVuSansMono-65\" d=\"M 3475 1894  L 3475 1613  L 984 1613  L 984 1594  Q 984 1022 1282 709  Q 1581 397 2125 397  Q 2400 397 2700 484  Q 3000 572 3341 750  L 3341 178  Q 3013 44 2708 -23  Q 2403 -91 2119 -91  Q 1303 -91 843 398  Q 384 888 384 1747  Q 384 2584 834 3084  Q 1284 3584 2034 3584  Q 2703 3584 3089 3131  Q 3475 2678 3475 1894  z M 2900 2063  Q 2888 2569 2661 2833  Q 2434 3097 2009 3097  Q 1594 3097 1325 2822  Q 1056 2547 1006 2059  L 2900 2063  z \" transform=\"scale(0.015625)\"/>\n     </defs>\n     <use xlink:href=\"#DejaVuSansMono-65\"/>\n    </g>\n   </g>\n   <g id=\"text_32\">\n    <!-- n -->\n    <g style=\"fill: #444443\" transform=\"translate(209.3616 9.947031) scale(0.13 -0.13)\">\n     <defs>\n      <path id=\"DejaVuSansMono-6e\" d=\"M 3284 2169  L 3284 0  L 2706 0  L 2706 2169  Q 2706 2641 2540 2862  Q 2375 3084 2022 3084  Q 1619 3084 1401 2798  Q 1184 2513 1184 1978  L 1184 0  L 609 0  L 609 3500  L 1184 3500  L 1184 2975  Q 1338 3275 1600 3429  Q 1863 3584 2222 3584  Q 2756 3584 3020 3232  Q 3284 2881 3284 2169  z \" transform=\"scale(0.015625)\"/>\n     </defs>\n     <use xlink:href=\"#DejaVuSansMono-6e\"/>\n    </g>\n   </g>\n   <g id=\"text_33\">\n    <!-- t -->\n    <g style=\"fill: #444443\" transform=\"translate(215.8902 9.947031) scale(0.13 -0.13)\">\n     <defs>\n      <path id=\"DejaVuSansMono-74\" d=\"M 1919 4494  L 1919 3500  L 3225 3500  L 3225 3053  L 1919 3053  L 1919 1153  Q 1919 766 2066 612  Q 2213 459 2578 459  L 3225 459  L 3225 0  L 2522 0  Q 1875 0 1609 259  Q 1344 519 1344 1153  L 1344 3053  L 409 3053  L 409 3500  L 1344 3500  L 1344 4494  L 1919 4494  z \" transform=\"scale(0.015625)\"/>\n     </defs>\n     <use xlink:href=\"#DejaVuSansMono-74\"/>\n    </g>\n   </g>\n   <g id=\"text_34\">\n    <!--   -->\n    <g style=\"fill: #444443\" transform=\"translate(222.4188 9.947031) scale(0.13 -0.13)\">\n     <use xlink:href=\"#DejaVuSansMono-20\"/>\n    </g>\n   </g>\n   <g id=\"text_35\">\n    <!-- * -->\n    <g style=\"fill: #444443\" transform=\"translate(228.9474 9.947031) scale(0.13 -0.13)\">\n     <defs>\n      <path id=\"DejaVuSansMono-2a\" d=\"M 3334 3897  L 2216 3291  L 3334 2681  L 3156 2375  L 2106 3009  L 2106 1831  L 1747 1831  L 1747 3009  L 697 2375  L 519 2681  L 1638 3291  L 519 3897  L 697 4206  L 1747 3572  L 1747 4750  L 2106 4750  L 2106 3572  L 3156 4206  L 3334 3897  z \" transform=\"scale(0.015625)\"/>\n     </defs>\n     <use xlink:href=\"#DejaVuSansMono-2a\"/>\n    </g>\n   </g>\n   <g id=\"text_36\">\n    <!--   -->\n    <g style=\"fill: #444443\" transform=\"translate(235.476 9.947031) scale(0.13 -0.13)\">\n     <use xlink:href=\"#DejaVuSansMono-20\"/>\n    </g>\n   </g>\n   <g id=\"text_37\">\n    <!-- l -->\n    <g style=\"fill: #444443\" transform=\"translate(242.0046 9.947031) scale(0.13 -0.13)\">\n     <use xlink:href=\"#DejaVuSansMono-6c\"/>\n    </g>\n   </g>\n   <g id=\"text_38\">\n    <!-- r -->\n    <g style=\"fill: #444443\" transform=\"translate(248.5332 9.947031) scale(0.13 -0.13)\">\n     <use xlink:href=\"#DejaVuSansMono-72\"/>\n    </g>\n   </g>\n   <g id=\"text_39\">\n    <!-- 1 -->\n    <g transform=\"translate(22.730501 31.735416) rotate(-90) scale(0.09 -0.09)\">\n     <defs>\n      <path id=\"DejaVuSans-31\" d=\"M 794 531  L 1825 531  L 1825 4091  L 703 3866  L 703 4441  L 1819 4666  L 2450 4666  L 2450 531  L 3481 531  L 3481 0  L 794 0  L 794 531  z \" transform=\"scale(0.015625)\"/>\n     </defs>\n     <use xlink:href=\"#DejaVuSans-31\"/>\n    </g>\n   </g>\n   <g id=\"text_40\">\n    <!-- 1 -->\n    <g transform=\"translate(26.961975 22.297107) scale(0.09 -0.09)\">\n     <use xlink:href=\"#DejaVuSans-31\"/>\n    </g>\n   </g>\n   <g id=\"text_41\">\n    <!-- &lt;${\\mathit{float64}}$&gt; -->\n    <g transform=\"translate(11.6251 40.766381) scale(0.07 -0.07)\">\n     <defs>\n      <path id=\"DejaVuSans-3c\" d=\"M 4684 3150  L 1459 2003  L 4684 863  L 4684 294  L 678 1747  L 678 2266  L 4684 3719  L 4684 3150  z \" transform=\"scale(0.015625)\"/>\n      <path id=\"DejaVuSans-Oblique-66\" d=\"M 3059 4863  L 2969 4384  L 2419 4384  Q 2106 4384 1964 4261  Q 1822 4138 1753 3809  L 1691 3500  L 2638 3500  L 2553 3053  L 1606 3053  L 1013 0  L 434 0  L 1031 3053  L 481 3053  L 563 3500  L 1113 3500  L 1159 3744  Q 1278 4363 1576 4613  Q 1875 4863 2516 4863  L 3059 4863  z \" transform=\"scale(0.015625)\"/>\n      <path id=\"DejaVuSans-Oblique-6c\" d=\"M 1172 4863  L 1747 4863  L 800 0  L 225 0  L 1172 4863  z \" transform=\"scale(0.015625)\"/>\n      <path id=\"DejaVuSans-Oblique-6f\" d=\"M 1625 -91  Q 1009 -91 651 289  Q 294 669 294 1325  Q 294 1706 417 2101  Q 541 2497 738 2766  Q 1047 3184 1428 3384  Q 1809 3584 2291 3584  Q 2888 3584 3255 3212  Q 3622 2841 3622 2241  Q 3622 1825 3500 1412  Q 3378 1000 3181 728  Q 2875 309 2494 109  Q 2113 -91 1625 -91  z M 891 1344  Q 891 869 1089 633  Q 1288 397 1691 397  Q 2269 397 2648 901  Q 3028 1406 3028 2181  Q 3028 2634 2825 2865  Q 2622 3097 2228 3097  Q 1903 3097 1650 2945  Q 1397 2794 1197 2484  Q 1050 2253 970 1956  Q 891 1659 891 1344  z \" transform=\"scale(0.015625)\"/>\n      <path id=\"DejaVuSans-Oblique-61\" d=\"M 3438 1997  L 3047 0  L 2472 0  L 2578 531  Q 2325 219 2001 64  Q 1678 -91 1281 -91  Q 834 -91 548 182  Q 263 456 263 884  Q 263 1497 752 1853  Q 1241 2209 2100 2209  L 2900 2209  L 2931 2363  Q 2938 2388 2941 2417  Q 2944 2447 2944 2509  Q 2944 2788 2717 2942  Q 2491 3097 2081 3097  Q 1800 3097 1504 3025  Q 1209 2953 897 2809  L 997 3341  Q 1322 3463 1633 3523  Q 1944 3584 2234 3584  Q 2853 3584 3176 3315  Q 3500 3047 3500 2534  Q 3500 2431 3484 2292  Q 3469 2153 3438 1997  z M 2816 1759  L 2241 1759  Q 1534 1759 1195 1570  Q 856 1381 856 984  Q 856 709 1029 553  Q 1203 397 1509 397  Q 1978 397 2328 733  Q 2678 1069 2791 1631  L 2816 1759  z \" transform=\"scale(0.015625)\"/>\n      <path id=\"DejaVuSans-Oblique-74\" d=\"M 2706 3500  L 2619 3053  L 1472 3053  L 1100 1153  Q 1081 1047 1072 975  Q 1063 903 1063 863  Q 1063 663 1183 572  Q 1303 481 1569 481  L 2150 481  L 2053 0  L 1503 0  Q 991 0 739 200  Q 488 400 488 806  Q 488 878 497 964  Q 506 1050 525 1153  L 897 3053  L 409 3053  L 500 3500  L 978 3500  L 1172 4494  L 1747 4494  L 1556 3500  L 2706 3500  z \" transform=\"scale(0.015625)\"/>\n      <path id=\"DejaVuSans-36\" d=\"M 2113 2584  Q 1688 2584 1439 2293  Q 1191 2003 1191 1497  Q 1191 994 1439 701  Q 1688 409 2113 409  Q 2538 409 2786 701  Q 3034 994 3034 1497  Q 3034 2003 2786 2293  Q 2538 2584 2113 2584  z M 3366 4563  L 3366 3988  Q 3128 4100 2886 4159  Q 2644 4219 2406 4219  Q 1781 4219 1451 3797  Q 1122 3375 1075 2522  Q 1259 2794 1537 2939  Q 1816 3084 2150 3084  Q 2853 3084 3261 2657  Q 3669 2231 3669 1497  Q 3669 778 3244 343  Q 2819 -91 2113 -91  Q 1303 -91 875 529  Q 447 1150 447 2328  Q 447 3434 972 4092  Q 1497 4750 2381 4750  Q 2619 4750 2861 4703  Q 3103 4656 3366 4563  z \" transform=\"scale(0.015625)\"/>\n      <path id=\"DejaVuSans-34\" d=\"M 2419 4116  L 825 1625  L 2419 1625  L 2419 4116  z M 2253 4666  L 3047 4666  L 3047 1625  L 3713 1625  L 3713 1100  L 3047 1100  L 3047 0  L 2419 0  L 2419 1100  L 313 1100  L 313 1709  L 2253 4666  z \" transform=\"scale(0.015625)\"/>\n      <path id=\"DejaVuSans-3e\" d=\"M 678 3150  L 678 3719  L 4684 2266  L 4684 1747  L 678 294  L 678 863  L 3897 2003  L 678 3150  z \" transform=\"scale(0.015625)\"/>\n     </defs>\n     <use xlink:href=\"#DejaVuSans-3c\" transform=\"translate(0 0.015625)\"/>\n     <use xlink:href=\"#DejaVuSans-Oblique-66\" transform=\"translate(83.789062 0.015625)\"/>\n     <use xlink:href=\"#DejaVuSans-Oblique-6c\" transform=\"translate(118.994141 0.015625)\"/>\n     <use xlink:href=\"#DejaVuSans-Oblique-6f\" transform=\"translate(146.777344 0.015625)\"/>\n     <use xlink:href=\"#DejaVuSans-Oblique-61\" transform=\"translate(207.958984 0.015625)\"/>\n     <use xlink:href=\"#DejaVuSans-Oblique-74\" transform=\"translate(269.238281 0.015625)\"/>\n     <use xlink:href=\"#DejaVuSans-36\" transform=\"translate(308.447266 0.015625)\"/>\n     <use xlink:href=\"#DejaVuSans-34\" transform=\"translate(372.070312 0.015625)\"/>\n     <use xlink:href=\"#DejaVuSans-3e\" transform=\"translate(435.693359 0.015625)\"/>\n    </g>\n   </g>\n   <g id=\"text_42\">\n    <!-- 1 -->\n    <g transform=\"translate(88.016501 31.735416) rotate(-90) scale(0.09 -0.09)\">\n     <use xlink:href=\"#DejaVuSans-31\"/>\n    </g>\n   </g>\n   <g id=\"text_43\">\n    <!-- 1 -->\n    <g transform=\"translate(92.247975 22.297107) scale(0.09 -0.09)\">\n     <use xlink:href=\"#DejaVuSans-31\"/>\n    </g>\n   </g>\n   <g id=\"text_44\">\n    <!-- &lt;${\\mathit{float64}}$&gt; -->\n    <g transform=\"translate(76.9111 40.766381) scale(0.07 -0.07)\">\n     <use xlink:href=\"#DejaVuSans-3c\" transform=\"translate(0 0.015625)\"/>\n     <use xlink:href=\"#DejaVuSans-Oblique-66\" transform=\"translate(83.789062 0.015625)\"/>\n     <use xlink:href=\"#DejaVuSans-Oblique-6c\" transform=\"translate(118.994141 0.015625)\"/>\n     <use xlink:href=\"#DejaVuSans-Oblique-6f\" transform=\"translate(146.777344 0.015625)\"/>\n     <use xlink:href=\"#DejaVuSans-Oblique-61\" transform=\"translate(207.958984 0.015625)\"/>\n     <use xlink:href=\"#DejaVuSans-Oblique-74\" transform=\"translate(269.238281 0.015625)\"/>\n     <use xlink:href=\"#DejaVuSans-36\" transform=\"translate(308.447266 0.015625)\"/>\n     <use xlink:href=\"#DejaVuSans-34\" transform=\"translate(372.070312 0.015625)\"/>\n     <use xlink:href=\"#DejaVuSans-3e\" transform=\"translate(435.693359 0.015625)\"/>\n    </g>\n   </g>\n   <g id=\"text_45\">\n    <!-- 1 -->\n    <g transform=\"translate(177.119775 22.297107) scale(0.09 -0.09)\">\n     <use xlink:href=\"#DejaVuSans-31\"/>\n    </g>\n   </g>\n   <g id=\"text_46\">\n    <!-- &lt;${\\mathit{float64}}$&gt; -->\n    <g transform=\"translate(161.7829 35.488493) scale(0.07 -0.07)\">\n     <use xlink:href=\"#DejaVuSans-3c\" transform=\"translate(0 0.015625)\"/>\n     <use xlink:href=\"#DejaVuSans-Oblique-66\" transform=\"translate(83.789062 0.015625)\"/>\n     <use xlink:href=\"#DejaVuSans-Oblique-6c\" transform=\"translate(118.994141 0.015625)\"/>\n     <use xlink:href=\"#DejaVuSans-Oblique-6f\" transform=\"translate(146.777344 0.015625)\"/>\n     <use xlink:href=\"#DejaVuSans-Oblique-61\" transform=\"translate(207.958984 0.015625)\"/>\n     <use xlink:href=\"#DejaVuSans-Oblique-74\" transform=\"translate(269.238281 0.015625)\"/>\n     <use xlink:href=\"#DejaVuSans-36\" transform=\"translate(308.447266 0.015625)\"/>\n     <use xlink:href=\"#DejaVuSans-34\" transform=\"translate(372.070312 0.015625)\"/>\n     <use xlink:href=\"#DejaVuSans-3e\" transform=\"translate(435.693359 0.015625)\"/>\n    </g>\n   </g>\n  </g>\n </g>\n <defs>\n  <clipPath id=\"p01641cab37\">\n   <rect x=\"0\" y=\"4.901991\" width=\"255.0618\" height=\"29.991083\"/>\n  </clipPath>\n </defs>\n</svg>"
          },
          "metadata": {}
        },
        {
          "output_type": "stream",
          "name": "stderr",
          "text": [
            "WARNING:matplotlib.font_manager:findfont: Font family 'Consolas' not found.\n",
            "WARNING:matplotlib.font_manager:findfont: Font family 'Consolas' not found.\n",
            "WARNING:matplotlib.font_manager:findfont: Font family 'Consolas' not found.\n",
            "WARNING:matplotlib.font_manager:findfont: Font family 'Consolas' not found.\n",
            "WARNING:matplotlib.font_manager:findfont: Font family 'Consolas' not found.\n",
            "WARNING:matplotlib.font_manager:findfont: Font family 'Consolas' not found.\n",
            "WARNING:matplotlib.font_manager:findfont: Font family 'Consolas' not found.\n",
            "WARNING:matplotlib.font_manager:findfont: Font family 'Consolas' not found.\n",
            "WARNING:matplotlib.font_manager:findfont: Font family 'Consolas' not found.\n",
            "WARNING:matplotlib.font_manager:findfont: Font family 'Consolas' not found.\n",
            "WARNING:matplotlib.font_manager:findfont: Font family 'Consolas' not found.\n",
            "WARNING:matplotlib.font_manager:findfont: Font family 'Consolas' not found.\n",
            "WARNING:matplotlib.font_manager:findfont: Font family 'Consolas' not found.\n",
            "WARNING:matplotlib.font_manager:findfont: Font family 'Consolas' not found.\n",
            "WARNING:matplotlib.font_manager:findfont: Font family 'Consolas' not found.\n",
            "WARNING:matplotlib.font_manager:findfont: Font family 'Consolas' not found.\n",
            "WARNING:matplotlib.font_manager:findfont: Font family 'Consolas' not found.\n",
            "WARNING:matplotlib.font_manager:findfont: Font family 'Consolas' not found.\n",
            "WARNING:matplotlib.font_manager:findfont: Font family 'Consolas' not found.\n",
            "WARNING:matplotlib.font_manager:findfont: Font family 'Arial' not found.\n",
            "WARNING:matplotlib.font_manager:findfont: Font family 'Arial' not found.\n",
            "WARNING:matplotlib.font_manager:findfont: Font family 'Arial' not found.\n",
            "WARNING:matplotlib.font_manager:findfont: Font family 'Arial' not found.\n",
            "WARNING:matplotlib.font_manager:findfont: Font family 'Consolas' not found.\n",
            "WARNING:matplotlib.font_manager:findfont: Font family 'Consolas' not found.\n",
            "WARNING:matplotlib.font_manager:findfont: Font family 'Consolas' not found.\n",
            "WARNING:matplotlib.font_manager:findfont: Font family 'Consolas' not found.\n",
            "WARNING:matplotlib.font_manager:findfont: Font family 'Consolas' not found.\n",
            "WARNING:matplotlib.font_manager:findfont: Font family 'Consolas' not found.\n",
            "WARNING:matplotlib.font_manager:findfont: Font family 'Consolas' not found.\n",
            "WARNING:matplotlib.font_manager:findfont: Font family 'Consolas' not found.\n",
            "WARNING:matplotlib.font_manager:findfont: Font family 'Consolas' not found.\n",
            "WARNING:matplotlib.font_manager:findfont: Font family 'Consolas' not found.\n",
            "WARNING:matplotlib.font_manager:findfont: Font family 'Consolas' not found.\n",
            "WARNING:matplotlib.font_manager:findfont: Font family 'Consolas' not found.\n",
            "WARNING:matplotlib.font_manager:findfont: Font family 'Consolas' not found.\n",
            "WARNING:matplotlib.font_manager:findfont: Font family 'Consolas' not found.\n",
            "WARNING:matplotlib.font_manager:findfont: Font family 'Consolas' not found.\n",
            "WARNING:matplotlib.font_manager:findfont: Font family 'Consolas' not found.\n",
            "WARNING:matplotlib.font_manager:findfont: Font family 'Consolas' not found.\n",
            "WARNING:matplotlib.font_manager:findfont: Font family 'Consolas' not found.\n",
            "WARNING:matplotlib.font_manager:findfont: Font family 'Consolas' not found.\n",
            "WARNING:matplotlib.font_manager:findfont: Font family 'Consolas' not found.\n",
            "WARNING:matplotlib.font_manager:findfont: Font family 'Consolas' not found.\n",
            "WARNING:matplotlib.font_manager:findfont: Font family 'Consolas' not found.\n",
            "WARNING:matplotlib.font_manager:findfont: Font family 'Consolas' not found.\n",
            "WARNING:matplotlib.font_manager:findfont: Font family 'Consolas' not found.\n",
            "WARNING:matplotlib.font_manager:findfont: Font family 'Consolas' not found.\n",
            "WARNING:matplotlib.font_manager:findfont: Font family 'Consolas' not found.\n",
            "WARNING:matplotlib.font_manager:findfont: Font family 'Consolas' not found.\n",
            "WARNING:matplotlib.font_manager:findfont: Font family 'Consolas' not found.\n",
            "WARNING:matplotlib.font_manager:findfont: Font family 'Consolas' not found.\n",
            "WARNING:matplotlib.font_manager:findfont: Font family 'Consolas' not found.\n",
            "WARNING:matplotlib.font_manager:findfont: Font family 'Consolas' not found.\n",
            "WARNING:matplotlib.font_manager:findfont: Font family 'Consolas' not found.\n",
            "WARNING:matplotlib.font_manager:findfont: Font family 'Consolas' not found.\n",
            "WARNING:matplotlib.font_manager:findfont: Font family 'Consolas' not found.\n",
            "WARNING:matplotlib.font_manager:findfont: Font family 'Consolas' not found.\n",
            "WARNING:matplotlib.font_manager:findfont: Font family 'Consolas' not found.\n",
            "WARNING:matplotlib.font_manager:findfont: Font family 'Consolas' not found.\n",
            "WARNING:matplotlib.font_manager:findfont: Font family 'Consolas' not found.\n",
            "WARNING:matplotlib.font_manager:findfont: Font family 'Consolas' not found.\n",
            "WARNING:matplotlib.font_manager:findfont: Font family 'Consolas' not found.\n",
            "WARNING:matplotlib.font_manager:findfont: Font family 'Consolas' not found.\n",
            "WARNING:matplotlib.font_manager:findfont: Font family 'Consolas' not found.\n",
            "WARNING:matplotlib.font_manager:findfont: Font family 'Consolas' not found.\n",
            "WARNING:matplotlib.font_manager:findfont: Font family 'Consolas' not found.\n",
            "WARNING:matplotlib.font_manager:findfont: Font family 'Consolas' not found.\n",
            "WARNING:matplotlib.font_manager:findfont: Font family 'Consolas' not found.\n",
            "WARNING:matplotlib.font_manager:findfont: Font family 'Consolas' not found.\n",
            "WARNING:matplotlib.font_manager:findfont: Font family 'Consolas' not found.\n",
            "WARNING:matplotlib.font_manager:findfont: Font family 'Consolas' not found.\n",
            "WARNING:matplotlib.font_manager:findfont: Font family 'Consolas' not found.\n",
            "WARNING:matplotlib.font_manager:findfont: Font family 'Consolas' not found.\n",
            "WARNING:matplotlib.font_manager:findfont: Font family 'Consolas' not found.\n",
            "WARNING:matplotlib.font_manager:findfont: Font family 'Consolas' not found.\n",
            "WARNING:matplotlib.font_manager:findfont: Font family 'Consolas' not found.\n",
            "WARNING:matplotlib.font_manager:findfont: Font family 'Consolas' not found.\n",
            "WARNING:matplotlib.font_manager:findfont: Font family 'Consolas' not found.\n",
            "WARNING:matplotlib.font_manager:findfont: Font family 'Consolas' not found.\n",
            "WARNING:matplotlib.font_manager:findfont: Font family 'Consolas' not found.\n",
            "WARNING:matplotlib.font_manager:findfont: Font family 'Consolas' not found.\n",
            "WARNING:matplotlib.font_manager:findfont: Font family 'Consolas' not found.\n",
            "WARNING:matplotlib.font_manager:findfont: Font family 'Consolas' not found.\n",
            "WARNING:matplotlib.font_manager:findfont: Font family 'Consolas' not found.\n",
            "WARNING:matplotlib.font_manager:findfont: Font family 'Consolas' not found.\n",
            "WARNING:matplotlib.font_manager:findfont: Font family 'Arial' not found.\n",
            "WARNING:matplotlib.font_manager:findfont: Font family 'Arial' not found.\n",
            "WARNING:matplotlib.font_manager:findfont: Font family 'Arial' not found.\n",
            "WARNING:matplotlib.font_manager:findfont: Font family 'Arial' not found.\n",
            "WARNING:matplotlib.font_manager:findfont: Font family 'Arial' not found.\n",
            "WARNING:matplotlib.font_manager:findfont: Font family 'Arial' not found.\n",
            "WARNING:matplotlib.font_manager:findfont: Font family 'Arial' not found.\n",
            "WARNING:matplotlib.font_manager:findfont: Font family 'Arial' not found.\n",
            "WARNING:matplotlib.font_manager:findfont: Font family 'Arial' not found.\n",
            "WARNING:matplotlib.font_manager:findfont: Font family 'Arial' not found.\n",
            "WARNING:matplotlib.font_manager:findfont: Font family 'Consolas' not found.\n",
            "WARNING:matplotlib.font_manager:findfont: Font family 'Consolas' not found.\n",
            "WARNING:matplotlib.font_manager:findfont: Font family 'Consolas' not found.\n",
            "WARNING:matplotlib.font_manager:findfont: Font family 'Consolas' not found.\n",
            "WARNING:matplotlib.font_manager:findfont: Font family 'Consolas' not found.\n",
            "WARNING:matplotlib.font_manager:findfont: Font family 'Consolas' not found.\n",
            "WARNING:matplotlib.font_manager:findfont: Font family 'Consolas' not found.\n",
            "WARNING:matplotlib.font_manager:findfont: Font family 'Consolas' not found.\n",
            "WARNING:matplotlib.font_manager:findfont: Font family 'Consolas' not found.\n",
            "WARNING:matplotlib.font_manager:findfont: Font family 'Consolas' not found.\n",
            "WARNING:matplotlib.font_manager:findfont: Font family 'Consolas' not found.\n",
            "WARNING:matplotlib.font_manager:findfont: Font family 'Consolas' not found.\n",
            "WARNING:matplotlib.font_manager:findfont: Font family 'Consolas' not found.\n",
            "WARNING:matplotlib.font_manager:findfont: Font family 'Consolas' not found.\n",
            "WARNING:matplotlib.font_manager:findfont: Font family 'Consolas' not found.\n",
            "WARNING:matplotlib.font_manager:findfont: Font family 'Consolas' not found.\n",
            "WARNING:matplotlib.font_manager:findfont: Font family 'Consolas' not found.\n",
            "WARNING:matplotlib.font_manager:findfont: Font family 'Consolas' not found.\n",
            "WARNING:matplotlib.font_manager:findfont: Font family 'Consolas' not found.\n",
            "WARNING:matplotlib.font_manager:findfont: Font family 'Consolas' not found.\n",
            "WARNING:matplotlib.font_manager:findfont: Font family 'Consolas' not found.\n",
            "WARNING:matplotlib.font_manager:findfont: Font family 'Consolas' not found.\n",
            "WARNING:matplotlib.font_manager:findfont: Font family 'Consolas' not found.\n",
            "WARNING:matplotlib.font_manager:findfont: Font family 'Consolas' not found.\n",
            "WARNING:matplotlib.font_manager:findfont: Font family 'Consolas' not found.\n",
            "WARNING:matplotlib.font_manager:findfont: Font family 'Consolas' not found.\n",
            "WARNING:matplotlib.font_manager:findfont: Font family 'Consolas' not found.\n",
            "WARNING:matplotlib.font_manager:findfont: Font family 'Consolas' not found.\n",
            "WARNING:matplotlib.font_manager:findfont: Font family 'Consolas' not found.\n",
            "WARNING:matplotlib.font_manager:findfont: Font family 'Consolas' not found.\n",
            "WARNING:matplotlib.font_manager:findfont: Font family 'Consolas' not found.\n",
            "WARNING:matplotlib.font_manager:findfont: Font family 'Consolas' not found.\n",
            "WARNING:matplotlib.font_manager:findfont: Font family 'Consolas' not found.\n",
            "WARNING:matplotlib.font_manager:findfont: Font family 'Consolas' not found.\n",
            "WARNING:matplotlib.font_manager:findfont: Font family 'Consolas' not found.\n",
            "WARNING:matplotlib.font_manager:findfont: Font family 'Consolas' not found.\n",
            "WARNING:matplotlib.font_manager:findfont: Font family 'Consolas' not found.\n",
            "WARNING:matplotlib.font_manager:findfont: Font family 'Consolas' not found.\n",
            "WARNING:matplotlib.font_manager:findfont: Font family 'Consolas' not found.\n",
            "WARNING:matplotlib.font_manager:findfont: Font family 'Consolas' not found.\n",
            "WARNING:matplotlib.font_manager:findfont: Font family 'Consolas' not found.\n",
            "WARNING:matplotlib.font_manager:findfont: Font family 'Consolas' not found.\n",
            "WARNING:matplotlib.font_manager:findfont: Font family 'Consolas' not found.\n",
            "WARNING:matplotlib.font_manager:findfont: Font family 'Consolas' not found.\n",
            "WARNING:matplotlib.font_manager:findfont: Font family 'Consolas' not found.\n",
            "WARNING:matplotlib.font_manager:findfont: Font family 'Consolas' not found.\n",
            "WARNING:matplotlib.font_manager:findfont: Font family 'Consolas' not found.\n",
            "WARNING:matplotlib.font_manager:findfont: Font family 'Consolas' not found.\n",
            "WARNING:matplotlib.font_manager:findfont: Font family 'Consolas' not found.\n",
            "WARNING:matplotlib.font_manager:findfont: Font family 'Consolas' not found.\n",
            "WARNING:matplotlib.font_manager:findfont: Font family 'Consolas' not found.\n",
            "WARNING:matplotlib.font_manager:findfont: Font family 'Consolas' not found.\n",
            "WARNING:matplotlib.font_manager:findfont: Font family 'Consolas' not found.\n",
            "WARNING:matplotlib.font_manager:findfont: Font family 'Consolas' not found.\n",
            "WARNING:matplotlib.font_manager:findfont: Font family 'Consolas' not found.\n",
            "WARNING:matplotlib.font_manager:findfont: Font family 'Consolas' not found.\n",
            "WARNING:matplotlib.font_manager:findfont: Font family 'Consolas' not found.\n",
            "WARNING:matplotlib.font_manager:findfont: Font family 'Consolas' not found.\n",
            "WARNING:matplotlib.font_manager:findfont: Font family 'Consolas' not found.\n",
            "WARNING:matplotlib.font_manager:findfont: Font family 'Consolas' not found.\n",
            "WARNING:matplotlib.font_manager:findfont: Font family 'Consolas' not found.\n",
            "WARNING:matplotlib.font_manager:findfont: Font family 'Consolas' not found.\n",
            "WARNING:matplotlib.font_manager:findfont: Font family 'Consolas' not found.\n",
            "WARNING:matplotlib.font_manager:findfont: Font family 'Arial' not found.\n",
            "WARNING:matplotlib.font_manager:findfont: Font family 'Arial' not found.\n",
            "WARNING:matplotlib.font_manager:findfont: Font family 'Arial' not found.\n",
            "WARNING:matplotlib.font_manager:findfont: Font family 'Arial' not found.\n",
            "WARNING:matplotlib.font_manager:findfont: Font family 'Arial' not found.\n",
            "WARNING:matplotlib.font_manager:findfont: Font family 'Arial' not found.\n",
            "WARNING:matplotlib.font_manager:findfont: Font family 'Arial' not found.\n",
            "WARNING:matplotlib.font_manager:findfont: Font family 'Arial' not found.\n",
            "WARNING:matplotlib.font_manager:findfont: Font family 'Arial' not found.\n",
            "WARNING:matplotlib.font_manager:findfont: Font family 'Arial' not found.\n"
          ]
        },
        {
          "output_type": "display_data",
          "data": {
            "text/plain": [
              "<IPython.core.display.SVG object>"
            ],
            "image/svg+xml": "<svg xmlns:xlink=\"http://www.w3.org/1999/xlink\" xmlns=\"http://www.w3.org/2000/svg\" width=\"295.531206pt\" height=\"54.546474pt\" viewBox=\"0 0 295.531206 54.546474\" version=\"1.1\">\n <metadata>\n  <rdf:RDF xmlns:dc=\"http://purl.org/dc/elements/1.1/\" xmlns:cc=\"http://creativecommons.org/ns#\" xmlns:rdf=\"http://www.w3.org/1999/02/22-rdf-syntax-ns#\">\n   <cc:Work>\n    <dc:type rdf:resource=\"http://purl.org/dc/dcmitype/StillImage\"/>\n    <dc:date>2023-08-04T00:59:53.412076</dc:date>\n    <dc:format>image/svg+xml</dc:format>\n    <dc:creator>\n     <cc:Agent>\n      <dc:title>Matplotlib v3.7.1, https://matplotlib.org/</dc:title>\n     </cc:Agent>\n    </dc:creator>\n   </cc:Work>\n  </rdf:RDF>\n </metadata>\n <defs>\n  <style type=\"text/css\">*{stroke-linejoin: round; stroke-linecap: butt}</style>\n </defs>\n <g id=\"figure_1\">\n  <g id=\"patch_1\">\n   <path d=\"M 0 54.546474  L 295.531206 54.546474  L 295.531206 0  L 0 0  z \" style=\"fill: #ffffff\"/>\n  </g>\n  <g id=\"axes_1\">\n   <g id=\"patch_2\">\n    <path d=\"M 37.00656 46.385787  L 42.22944 46.385787  L 42.22944 23.683107  L 37.00656 23.683107  z \" clip-path=\"url(#pef42528a39)\" style=\"fill: #a8e1b0; fill-opacity: 0.75; stroke: #808080; stroke-width: 0.7; stroke-linejoin: miter\"/>\n   </g>\n   <g id=\"patch_3\">\n    <path d=\"M 121.87836 46.385787  L 127.10124 46.385787  L 127.10124 23.683107  L 121.87836 23.683107  z \" clip-path=\"url(#pef42528a39)\" style=\"fill: #a8e1b0; fill-opacity: 0.75; stroke: #808080; stroke-width: 0.7; stroke-linejoin: miter\"/>\n   </g>\n   <g id=\"patch_4\">\n    <path d=\"M 216.54306 46.385787  L 221.76594 46.385787  L 221.76594 23.683107  L 216.54306 23.683107  z \" clip-path=\"url(#pef42528a39)\" style=\"fill: #a8e1b0; fill-opacity: 0.75; stroke: #808080; stroke-width: 0.7; stroke-linejoin: miter\"/>\n   </g>\n   <g id=\"line2d_1\">\n    <path d=\"M 6.32214 13.762608  L 72.91386 13.762608  \" clip-path=\"url(#pef42528a39)\" style=\"fill: none; stroke: #c2c2c2; stroke-width: 0.5; stroke-linecap: square\"/>\n   </g>\n   <g id=\"line2d_2\">\n    <path d=\"M 91.19394 13.762608  L 157.78566 13.762608  \" clip-path=\"url(#pef42528a39)\" style=\"fill: none; stroke: #c2c2c2; stroke-width: 0.5; stroke-linecap: square\"/>\n   </g>\n   <g id=\"line2d_3\">\n    <path d=\"M 176.06574 13.762608  L 262.24326 13.762608  \" clip-path=\"url(#pef42528a39)\" style=\"fill: none; stroke: #c2c2c2; stroke-width: 0.5; stroke-linecap: square\"/>\n   </g>\n   <g id=\"text_1\">\n    <!-- l -->\n    <g style=\"fill: #444443\" transform=\"translate(6.975 9.947031) scale(0.13 -0.13)\">\n     <defs>\n      <path id=\"DejaVuSansMono-6c\" d=\"M 1997 1269  Q 1997 881 2139 684  Q 2281 488 2559 488  L 3231 488  L 3231 0  L 2503 0  Q 1988 0 1705 331  Q 1422 663 1422 1269  L 1422 4447  L 500 4447  L 500 4897  L 1997 4897  L 1997 1269  z \" transform=\"scale(0.015625)\"/>\n     </defs>\n     <use xlink:href=\"#DejaVuSansMono-6c\"/>\n    </g>\n   </g>\n   <g id=\"text_2\">\n    <!-- 2 -->\n    <g style=\"fill: #444443\" transform=\"translate(13.5036 9.947031) scale(0.13 -0.13)\">\n     <defs>\n      <path id=\"DejaVuSansMono-32\" d=\"M 1166 531  L 3309 531  L 3309 0  L 475 0  L 475 531  Q 1059 1147 1496 1619  Q 1934 2091 2100 2284  Q 2413 2666 2522 2902  Q 2631 3138 2631 3384  Q 2631 3775 2401 3997  Q 2172 4219 1772 4219  Q 1488 4219 1175 4116  Q 863 4013 513 3803  L 513 4441  Q 834 4594 1145 4672  Q 1456 4750 1759 4750  Q 2444 4750 2861 4386  Q 3278 4022 3278 3431  Q 3278 3131 3139 2831  Q 3000 2531 2688 2169  Q 2513 1966 2180 1606  Q 1847 1247 1166 531  z \" transform=\"scale(0.015625)\"/>\n     </defs>\n     <use xlink:href=\"#DejaVuSansMono-32\"/>\n    </g>\n   </g>\n   <g id=\"text_3\">\n    <!-- _ -->\n    <g style=\"fill: #444443\" transform=\"translate(20.0322 9.947031) scale(0.13 -0.13)\">\n     <defs>\n      <path id=\"DejaVuSansMono-5f\" d=\"M 3853 -1259  L 3853 -1509  L 0 -1509  L 0 -1259  L 3853 -1259  z \" transform=\"scale(0.015625)\"/>\n     </defs>\n     <use xlink:href=\"#DejaVuSansMono-5f\"/>\n    </g>\n   </g>\n   <g id=\"text_4\">\n    <!-- w -->\n    <g style=\"fill: #444443\" transform=\"translate(26.5608 9.947031) scale(0.13 -0.13)\">\n     <defs>\n      <path id=\"DejaVuSansMono-77\" d=\"M 0 3500  L 569 3500  L 1178 672  L 1678 2478  L 2169 2478  L 2675 672  L 3284 3500  L 3853 3500  L 3034 0  L 2484 0  L 1925 1919  L 1369 0  L 819 0  L 0 3500  z \" transform=\"scale(0.015625)\"/>\n     </defs>\n     <use xlink:href=\"#DejaVuSansMono-77\"/>\n    </g>\n   </g>\n   <g id=\"text_5\">\n    <!-- e -->\n    <g style=\"fill: #444443\" transform=\"translate(33.0894 9.947031) scale(0.13 -0.13)\">\n     <defs>\n      <path id=\"DejaVuSansMono-65\" d=\"M 3475 1894  L 3475 1613  L 984 1613  L 984 1594  Q 984 1022 1282 709  Q 1581 397 2125 397  Q 2400 397 2700 484  Q 3000 572 3341 750  L 3341 178  Q 3013 44 2708 -23  Q 2403 -91 2119 -91  Q 1303 -91 843 398  Q 384 888 384 1747  Q 384 2584 834 3084  Q 1284 3584 2034 3584  Q 2703 3584 3089 3131  Q 3475 2678 3475 1894  z M 2900 2063  Q 2888 2569 2661 2833  Q 2434 3097 2009 3097  Q 1594 3097 1325 2822  Q 1056 2547 1006 2059  L 2900 2063  z \" transform=\"scale(0.015625)\"/>\n     </defs>\n     <use xlink:href=\"#DejaVuSansMono-65\"/>\n    </g>\n   </g>\n   <g id=\"text_6\">\n    <!-- i -->\n    <g style=\"fill: #444443\" transform=\"translate(39.618 9.947031) scale(0.13 -0.13)\">\n     <defs>\n      <path id=\"DejaVuSansMono-69\" d=\"M 800 3500  L 2272 3500  L 2272 447  L 3413 447  L 3413 0  L 556 0  L 556 447  L 1697 447  L 1697 3053  L 800 3053  L 800 3500  z M 1697 4863  L 2272 4863  L 2272 4134  L 1697 4134  L 1697 4863  z \" transform=\"scale(0.015625)\"/>\n     </defs>\n     <use xlink:href=\"#DejaVuSansMono-69\"/>\n    </g>\n   </g>\n   <g id=\"text_7\">\n    <!-- g -->\n    <g style=\"fill: #444443\" transform=\"translate(46.1466 9.947031) scale(0.13 -0.13)\">\n     <defs>\n      <path id=\"DejaVuSansMono-67\" d=\"M 2681 1778  Q 2681 2425 2470 2761  Q 2259 3097 1856 3097  Q 1434 3097 1212 2761  Q 991 2425 991 1778  Q 991 1131 1214 792  Q 1438 453 1863 453  Q 2259 453 2470 793  Q 2681 1134 2681 1778  z M 3256 225  Q 3256 -563 2884 -969  Q 2513 -1375 1791 -1375  Q 1553 -1375 1293 -1331  Q 1034 -1288 775 -1203  L 775 -634  Q 1081 -778 1331 -847  Q 1581 -916 1791 -916  Q 2256 -916 2468 -662  Q 2681 -409 2681 141  L 2681 166  L 2681 556  Q 2544 263 2306 119  Q 2069 -25 1728 -25  Q 1116 -25 750 465  Q 384 956 384 1778  Q 384 2603 750 3093  Q 1116 3584 1728 3584  Q 2066 3584 2300 3450  Q 2534 3316 2681 3034  L 2681 3488  L 3256 3488  L 3256 225  z \" transform=\"scale(0.015625)\"/>\n     </defs>\n     <use xlink:href=\"#DejaVuSansMono-67\"/>\n    </g>\n   </g>\n   <g id=\"text_8\">\n    <!-- h -->\n    <g style=\"fill: #444443\" transform=\"translate(52.6752 9.947031) scale(0.13 -0.13)\">\n     <defs>\n      <path id=\"DejaVuSansMono-68\" d=\"M 3284 2169  L 3284 0  L 2706 0  L 2706 2169  Q 2706 2641 2540 2862  Q 2375 3084 2022 3084  Q 1619 3084 1401 2798  Q 1184 2513 1184 1978  L 1184 0  L 609 0  L 609 4863  L 1184 4863  L 1184 2975  Q 1338 3275 1600 3429  Q 1863 3584 2222 3584  Q 2756 3584 3020 3232  Q 3284 2881 3284 2169  z \" transform=\"scale(0.015625)\"/>\n     </defs>\n     <use xlink:href=\"#DejaVuSansMono-68\"/>\n    </g>\n   </g>\n   <g id=\"text_9\">\n    <!-- t -->\n    <g style=\"fill: #444443\" transform=\"translate(59.2038 9.947031) scale(0.13 -0.13)\">\n     <defs>\n      <path id=\"DejaVuSansMono-74\" d=\"M 1919 4494  L 1919 3500  L 3225 3500  L 3225 3053  L 1919 3053  L 1919 1153  Q 1919 766 2066 612  Q 2213 459 2578 459  L 3225 459  L 3225 0  L 2522 0  Q 1875 0 1609 259  Q 1344 519 1344 1153  L 1344 3053  L 409 3053  L 409 3500  L 1344 3500  L 1344 4494  L 1919 4494  z \" transform=\"scale(0.015625)\"/>\n     </defs>\n     <use xlink:href=\"#DejaVuSansMono-74\"/>\n    </g>\n   </g>\n   <g id=\"text_10\">\n    <!-- s -->\n    <g style=\"fill: #444443\" transform=\"translate(65.7324 9.947031) scale(0.13 -0.13)\">\n     <defs>\n      <path id=\"DejaVuSansMono-73\" d=\"M 3041 3378  L 3041 2816  Q 2794 2959 2544 3031  Q 2294 3103 2034 3103  Q 1644 3103 1451 2976  Q 1259 2850 1259 2591  Q 1259 2356 1403 2240  Q 1547 2125 2119 2016  L 2350 1972  Q 2778 1891 2998 1647  Q 3219 1403 3219 1013  Q 3219 494 2850 201  Q 2481 -91 1825 -91  Q 1566 -91 1281 -36  Q 997 19 666 128  L 666 722  Q 988 556 1281 473  Q 1575 391 1838 391  Q 2219 391 2428 545  Q 2638 700 2638 978  Q 2638 1378 1872 1531  L 1847 1538  L 1631 1581  Q 1134 1678 906 1908  Q 678 2138 678 2534  Q 678 3038 1018 3311  Q 1359 3584 1991 3584  Q 2272 3584 2531 3532  Q 2791 3481 3041 3378  z \" transform=\"scale(0.015625)\"/>\n     </defs>\n     <use xlink:href=\"#DejaVuSansMono-73\"/>\n    </g>\n   </g>\n   <g id=\"text_11\">\n    <!--   -->\n    <g style=\"fill: #444443\" transform=\"translate(72.261 9.947031) scale(0.13 -0.13)\">\n     <defs>\n      <path id=\"DejaVuSansMono-20\" transform=\"scale(0.015625)\"/>\n     </defs>\n     <use xlink:href=\"#DejaVuSansMono-20\"/>\n    </g>\n   </g>\n   <g id=\"text_12\">\n    <!-- = -->\n    <g style=\"fill: #444443\" transform=\"translate(78.7896 9.947031) scale(0.13 -0.13)\">\n     <defs>\n      <path id=\"DejaVuSansMono-3d\" d=\"M 275 1638  L 3578 1638  L 3578 1100  L 275 1100  L 275 1638  z M 275 2906  L 3578 2906  L 3578 2375  L 275 2375  L 275 2906  z \" transform=\"scale(0.015625)\"/>\n     </defs>\n     <use xlink:href=\"#DejaVuSansMono-3d\"/>\n    </g>\n   </g>\n   <g id=\"text_13\">\n    <!--   -->\n    <g style=\"fill: #444443\" transform=\"translate(85.3182 9.947031) scale(0.13 -0.13)\">\n     <use xlink:href=\"#DejaVuSansMono-20\"/>\n    </g>\n   </g>\n   <g id=\"text_14\">\n    <!-- l -->\n    <g style=\"fill: #444443\" transform=\"translate(91.8468 9.947031) scale(0.13 -0.13)\">\n     <use xlink:href=\"#DejaVuSansMono-6c\"/>\n    </g>\n   </g>\n   <g id=\"text_15\">\n    <!-- 2 -->\n    <g style=\"fill: #444443\" transform=\"translate(98.3754 9.947031) scale(0.13 -0.13)\">\n     <use xlink:href=\"#DejaVuSansMono-32\"/>\n    </g>\n   </g>\n   <g id=\"text_16\">\n    <!-- _ -->\n    <g style=\"fill: #444443\" transform=\"translate(104.904 9.947031) scale(0.13 -0.13)\">\n     <use xlink:href=\"#DejaVuSansMono-5f\"/>\n    </g>\n   </g>\n   <g id=\"text_17\">\n    <!-- w -->\n    <g style=\"fill: #444443\" transform=\"translate(111.4326 9.947031) scale(0.13 -0.13)\">\n     <use xlink:href=\"#DejaVuSansMono-77\"/>\n    </g>\n   </g>\n   <g id=\"text_18\">\n    <!-- e -->\n    <g style=\"fill: #444443\" transform=\"translate(117.9612 9.947031) scale(0.13 -0.13)\">\n     <use xlink:href=\"#DejaVuSansMono-65\"/>\n    </g>\n   </g>\n   <g id=\"text_19\">\n    <!-- i -->\n    <g style=\"fill: #444443\" transform=\"translate(124.4898 9.947031) scale(0.13 -0.13)\">\n     <use xlink:href=\"#DejaVuSansMono-69\"/>\n    </g>\n   </g>\n   <g id=\"text_20\">\n    <!-- g -->\n    <g style=\"fill: #444443\" transform=\"translate(131.0184 9.947031) scale(0.13 -0.13)\">\n     <use xlink:href=\"#DejaVuSansMono-67\"/>\n    </g>\n   </g>\n   <g id=\"text_21\">\n    <!-- h -->\n    <g style=\"fill: #444443\" transform=\"translate(137.547 9.947031) scale(0.13 -0.13)\">\n     <use xlink:href=\"#DejaVuSansMono-68\"/>\n    </g>\n   </g>\n   <g id=\"text_22\">\n    <!-- t -->\n    <g style=\"fill: #444443\" transform=\"translate(144.0756 9.947031) scale(0.13 -0.13)\">\n     <use xlink:href=\"#DejaVuSansMono-74\"/>\n    </g>\n   </g>\n   <g id=\"text_23\">\n    <!-- s -->\n    <g style=\"fill: #444443\" transform=\"translate(150.6042 9.947031) scale(0.13 -0.13)\">\n     <use xlink:href=\"#DejaVuSansMono-73\"/>\n    </g>\n   </g>\n   <g id=\"text_24\">\n    <!--   -->\n    <g style=\"fill: #444443\" transform=\"translate(157.1328 9.947031) scale(0.13 -0.13)\">\n     <use xlink:href=\"#DejaVuSansMono-20\"/>\n    </g>\n   </g>\n   <g id=\"text_25\">\n    <!-- + -->\n    <g style=\"fill: #444443\" transform=\"translate(163.6614 9.947031) scale(0.13 -0.13)\">\n     <defs>\n      <path id=\"DejaVuSansMono-2b\" d=\"M 2188 3659  L 2188 2272  L 3578 2272  L 3578 1741  L 2188 1741  L 2188 353  L 1663 353  L 1663 1741  L 275 1741  L 275 2272  L 1663 2272  L 1663 3659  L 2188 3659  z \" transform=\"scale(0.015625)\"/>\n     </defs>\n     <use xlink:href=\"#DejaVuSansMono-2b\"/>\n    </g>\n   </g>\n   <g id=\"text_26\">\n    <!--   -->\n    <g style=\"fill: #444443\" transform=\"translate(170.19 9.947031) scale(0.13 -0.13)\">\n     <use xlink:href=\"#DejaVuSansMono-20\"/>\n    </g>\n   </g>\n   <g id=\"text_27\">\n    <!-- l -->\n    <g style=\"fill: #444443\" transform=\"translate(176.7186 9.947031) scale(0.13 -0.13)\">\n     <use xlink:href=\"#DejaVuSansMono-6c\"/>\n    </g>\n   </g>\n   <g id=\"text_28\">\n    <!-- 2 -->\n    <g style=\"fill: #444443\" transform=\"translate(183.2472 9.947031) scale(0.13 -0.13)\">\n     <use xlink:href=\"#DejaVuSansMono-32\"/>\n    </g>\n   </g>\n   <g id=\"text_29\">\n    <!-- _ -->\n    <g style=\"fill: #444443\" transform=\"translate(189.7758 9.947031) scale(0.13 -0.13)\">\n     <use xlink:href=\"#DejaVuSansMono-5f\"/>\n    </g>\n   </g>\n   <g id=\"text_30\">\n    <!-- w -->\n    <g style=\"fill: #444443\" transform=\"translate(196.3044 9.947031) scale(0.13 -0.13)\">\n     <use xlink:href=\"#DejaVuSansMono-77\"/>\n    </g>\n   </g>\n   <g id=\"text_31\">\n    <!-- _ -->\n    <g style=\"fill: #444443\" transform=\"translate(202.833 9.947031) scale(0.13 -0.13)\">\n     <use xlink:href=\"#DejaVuSansMono-5f\"/>\n    </g>\n   </g>\n   <g id=\"text_32\">\n    <!-- g -->\n    <g style=\"fill: #444443\" transform=\"translate(209.3616 9.947031) scale(0.13 -0.13)\">\n     <use xlink:href=\"#DejaVuSansMono-67\"/>\n    </g>\n   </g>\n   <g id=\"text_33\">\n    <!-- r -->\n    <g style=\"fill: #444443\" transform=\"translate(215.8902 9.947031) scale(0.13 -0.13)\">\n     <defs>\n      <path id=\"DejaVuSansMono-72\" d=\"M 3609 2778  Q 3425 2922 3234 2987  Q 3044 3053 2816 3053  Q 2278 3053 1993 2715  Q 1709 2378 1709 1741  L 1709 0  L 1131 0  L 1131 3500  L 1709 3500  L 1709 2816  Q 1853 3188 2151 3386  Q 2450 3584 2859 3584  Q 3072 3584 3256 3531  Q 3441 3478 3609 3366  L 3609 2778  z \" transform=\"scale(0.015625)\"/>\n     </defs>\n     <use xlink:href=\"#DejaVuSansMono-72\"/>\n    </g>\n   </g>\n   <g id=\"text_34\">\n    <!-- a -->\n    <g style=\"fill: #444443\" transform=\"translate(222.4188 9.947031) scale(0.13 -0.13)\">\n     <defs>\n      <path id=\"DejaVuSansMono-61\" d=\"M 2194 1759  L 2003 1759  Q 1500 1759 1245 1582  Q 991 1406 991 1056  Q 991 741 1181 566  Q 1372 391 1709 391  Q 2184 391 2456 720  Q 2728 1050 2731 1631  L 2731 1759  L 2194 1759  z M 3309 1997  L 3309 0  L 2731 0  L 2731 519  Q 2547 206 2267 57  Q 1988 -91 1588 -91  Q 1053 -91 734 211  Q 416 513 416 1019  Q 416 1603 808 1906  Q 1200 2209 1959 2209  L 2731 2209  L 2731 2300  Q 2728 2719 2518 2908  Q 2309 3097 1850 3097  Q 1556 3097 1256 3012  Q 956 2928 672 2766  L 672 3341  Q 991 3463 1283 3523  Q 1575 3584 1850 3584  Q 2284 3584 2592 3456  Q 2900 3328 3091 3072  Q 3209 2916 3259 2686  Q 3309 2456 3309 1997  z \" transform=\"scale(0.015625)\"/>\n     </defs>\n     <use xlink:href=\"#DejaVuSansMono-61\"/>\n    </g>\n   </g>\n   <g id=\"text_35\">\n    <!-- d -->\n    <g style=\"fill: #444443\" transform=\"translate(228.9474 9.947031) scale(0.13 -0.13)\">\n     <defs>\n      <path id=\"DejaVuSansMono-64\" d=\"M 2681 3053  L 2681 4863  L 3256 4863  L 3256 0  L 2681 0  L 2681 441  Q 2538 181 2298 45  Q 2059 -91 1747 -91  Q 1113 -91 748 401  Q 384 894 384 1759  Q 384 2613 750 3098  Q 1116 3584 1747 3584  Q 2063 3584 2303 3448  Q 2544 3313 2681 3053  z M 991 1747  Q 991 1078 1203 737  Q 1416 397 1831 397  Q 2247 397 2464 740  Q 2681 1084 2681 1747  Q 2681 2413 2464 2755  Q 2247 3097 1831 3097  Q 1416 3097 1203 2756  Q 991 2416 991 1747  z \" transform=\"scale(0.015625)\"/>\n     </defs>\n     <use xlink:href=\"#DejaVuSansMono-64\"/>\n    </g>\n   </g>\n   <g id=\"text_36\">\n    <!-- i -->\n    <g style=\"fill: #444443\" transform=\"translate(235.476 9.947031) scale(0.13 -0.13)\">\n     <use xlink:href=\"#DejaVuSansMono-69\"/>\n    </g>\n   </g>\n   <g id=\"text_37\">\n    <!-- e -->\n    <g style=\"fill: #444443\" transform=\"translate(242.0046 9.947031) scale(0.13 -0.13)\">\n     <use xlink:href=\"#DejaVuSansMono-65\"/>\n    </g>\n   </g>\n   <g id=\"text_38\">\n    <!-- n -->\n    <g style=\"fill: #444443\" transform=\"translate(248.5332 9.947031) scale(0.13 -0.13)\">\n     <defs>\n      <path id=\"DejaVuSansMono-6e\" d=\"M 3284 2169  L 3284 0  L 2706 0  L 2706 2169  Q 2706 2641 2540 2862  Q 2375 3084 2022 3084  Q 1619 3084 1401 2798  Q 1184 2513 1184 1978  L 1184 0  L 609 0  L 609 3500  L 1184 3500  L 1184 2975  Q 1338 3275 1600 3429  Q 1863 3584 2222 3584  Q 2756 3584 3020 3232  Q 3284 2881 3284 2169  z \" transform=\"scale(0.015625)\"/>\n     </defs>\n     <use xlink:href=\"#DejaVuSansMono-6e\"/>\n    </g>\n   </g>\n   <g id=\"text_39\">\n    <!-- t -->\n    <g style=\"fill: #444443\" transform=\"translate(255.0618 9.947031) scale(0.13 -0.13)\">\n     <use xlink:href=\"#DejaVuSansMono-74\"/>\n    </g>\n   </g>\n   <g id=\"text_40\">\n    <!--   -->\n    <g style=\"fill: #444443\" transform=\"translate(261.5904 9.947031) scale(0.13 -0.13)\">\n     <use xlink:href=\"#DejaVuSansMono-20\"/>\n    </g>\n   </g>\n   <g id=\"text_41\">\n    <!-- * -->\n    <g style=\"fill: #444443\" transform=\"translate(268.119 9.947031) scale(0.13 -0.13)\">\n     <defs>\n      <path id=\"DejaVuSansMono-2a\" d=\"M 3334 3897  L 2216 3291  L 3334 2681  L 3156 2375  L 2106 3009  L 2106 1831  L 1747 1831  L 1747 3009  L 697 2375  L 519 2681  L 1638 3291  L 519 3897  L 697 4206  L 1747 3572  L 1747 4750  L 2106 4750  L 2106 3572  L 3156 4206  L 3334 3897  z \" transform=\"scale(0.015625)\"/>\n     </defs>\n     <use xlink:href=\"#DejaVuSansMono-2a\"/>\n    </g>\n   </g>\n   <g id=\"text_42\">\n    <!--   -->\n    <g style=\"fill: #444443\" transform=\"translate(274.6476 9.947031) scale(0.13 -0.13)\">\n     <use xlink:href=\"#DejaVuSansMono-20\"/>\n    </g>\n   </g>\n   <g id=\"text_43\">\n    <!-- l -->\n    <g style=\"fill: #444443\" transform=\"translate(281.1762 9.947031) scale(0.13 -0.13)\">\n     <use xlink:href=\"#DejaVuSansMono-6c\"/>\n    </g>\n   </g>\n   <g id=\"text_44\">\n    <!-- r -->\n    <g style=\"fill: #444443\" transform=\"translate(287.7048 9.947031) scale(0.13 -0.13)\">\n     <use xlink:href=\"#DejaVuSansMono-72\"/>\n    </g>\n   </g>\n   <g id=\"text_45\">\n    <!-- 2 -->\n    <g transform=\"translate(35.134841 37.897572) rotate(-90) scale(0.09 -0.09)\">\n     <defs>\n      <path id=\"DejaVuSans-32\" d=\"M 1228 531  L 3431 531  L 3431 0  L 469 0  L 469 531  Q 828 903 1448 1529  Q 2069 2156 2228 2338  Q 2531 2678 2651 2914  Q 2772 3150 2772 3378  Q 2772 3750 2511 3984  Q 2250 4219 1831 4219  Q 1534 4219 1204 4116  Q 875 4013 500 3803  L 500 4441  Q 881 4594 1212 4672  Q 1544 4750 1819 4750  Q 2544 4750 2975 4387  Q 3406 4025 3406 3419  Q 3406 3131 3298 2873  Q 3191 2616 2906 2266  Q 2828 2175 2409 1742  Q 1991 1309 1228 531  z \" transform=\"scale(0.015625)\"/>\n     </defs>\n     <use xlink:href=\"#DejaVuSans-32\"/>\n    </g>\n   </g>\n   <g id=\"text_46\">\n    <!-- 1 -->\n    <g transform=\"translate(36.754875 22.297107) scale(0.09 -0.09)\">\n     <defs>\n      <path id=\"DejaVuSans-31\" d=\"M 794 531  L 1825 531  L 1825 4091  L 703 3866  L 703 4441  L 1819 4666  L 2450 4666  L 2450 531  L 3481 531  L 3481 0  L 794 0  L 794 531  z \" transform=\"scale(0.015625)\"/>\n     </defs>\n     <use xlink:href=\"#DejaVuSans-31\"/>\n    </g>\n   </g>\n   <g id=\"text_47\">\n    <!-- &lt;${\\mathit{float64}}$&gt; -->\n    <g transform=\"translate(21.418 53.090693) scale(0.07 -0.07)\">\n     <defs>\n      <path id=\"DejaVuSans-3c\" d=\"M 4684 3150  L 1459 2003  L 4684 863  L 4684 294  L 678 1747  L 678 2266  L 4684 3719  L 4684 3150  z \" transform=\"scale(0.015625)\"/>\n      <path id=\"DejaVuSans-Oblique-66\" d=\"M 3059 4863  L 2969 4384  L 2419 4384  Q 2106 4384 1964 4261  Q 1822 4138 1753 3809  L 1691 3500  L 2638 3500  L 2553 3053  L 1606 3053  L 1013 0  L 434 0  L 1031 3053  L 481 3053  L 563 3500  L 1113 3500  L 1159 3744  Q 1278 4363 1576 4613  Q 1875 4863 2516 4863  L 3059 4863  z \" transform=\"scale(0.015625)\"/>\n      <path id=\"DejaVuSans-Oblique-6c\" d=\"M 1172 4863  L 1747 4863  L 800 0  L 225 0  L 1172 4863  z \" transform=\"scale(0.015625)\"/>\n      <path id=\"DejaVuSans-Oblique-6f\" d=\"M 1625 -91  Q 1009 -91 651 289  Q 294 669 294 1325  Q 294 1706 417 2101  Q 541 2497 738 2766  Q 1047 3184 1428 3384  Q 1809 3584 2291 3584  Q 2888 3584 3255 3212  Q 3622 2841 3622 2241  Q 3622 1825 3500 1412  Q 3378 1000 3181 728  Q 2875 309 2494 109  Q 2113 -91 1625 -91  z M 891 1344  Q 891 869 1089 633  Q 1288 397 1691 397  Q 2269 397 2648 901  Q 3028 1406 3028 2181  Q 3028 2634 2825 2865  Q 2622 3097 2228 3097  Q 1903 3097 1650 2945  Q 1397 2794 1197 2484  Q 1050 2253 970 1956  Q 891 1659 891 1344  z \" transform=\"scale(0.015625)\"/>\n      <path id=\"DejaVuSans-Oblique-61\" d=\"M 3438 1997  L 3047 0  L 2472 0  L 2578 531  Q 2325 219 2001 64  Q 1678 -91 1281 -91  Q 834 -91 548 182  Q 263 456 263 884  Q 263 1497 752 1853  Q 1241 2209 2100 2209  L 2900 2209  L 2931 2363  Q 2938 2388 2941 2417  Q 2944 2447 2944 2509  Q 2944 2788 2717 2942  Q 2491 3097 2081 3097  Q 1800 3097 1504 3025  Q 1209 2953 897 2809  L 997 3341  Q 1322 3463 1633 3523  Q 1944 3584 2234 3584  Q 2853 3584 3176 3315  Q 3500 3047 3500 2534  Q 3500 2431 3484 2292  Q 3469 2153 3438 1997  z M 2816 1759  L 2241 1759  Q 1534 1759 1195 1570  Q 856 1381 856 984  Q 856 709 1029 553  Q 1203 397 1509 397  Q 1978 397 2328 733  Q 2678 1069 2791 1631  L 2816 1759  z \" transform=\"scale(0.015625)\"/>\n      <path id=\"DejaVuSans-Oblique-74\" d=\"M 2706 3500  L 2619 3053  L 1472 3053  L 1100 1153  Q 1081 1047 1072 975  Q 1063 903 1063 863  Q 1063 663 1183 572  Q 1303 481 1569 481  L 2150 481  L 2053 0  L 1503 0  Q 991 0 739 200  Q 488 400 488 806  Q 488 878 497 964  Q 506 1050 525 1153  L 897 3053  L 409 3053  L 500 3500  L 978 3500  L 1172 4494  L 1747 4494  L 1556 3500  L 2706 3500  z \" transform=\"scale(0.015625)\"/>\n      <path id=\"DejaVuSans-36\" d=\"M 2113 2584  Q 1688 2584 1439 2293  Q 1191 2003 1191 1497  Q 1191 994 1439 701  Q 1688 409 2113 409  Q 2538 409 2786 701  Q 3034 994 3034 1497  Q 3034 2003 2786 2293  Q 2538 2584 2113 2584  z M 3366 4563  L 3366 3988  Q 3128 4100 2886 4159  Q 2644 4219 2406 4219  Q 1781 4219 1451 3797  Q 1122 3375 1075 2522  Q 1259 2794 1537 2939  Q 1816 3084 2150 3084  Q 2853 3084 3261 2657  Q 3669 2231 3669 1497  Q 3669 778 3244 343  Q 2819 -91 2113 -91  Q 1303 -91 875 529  Q 447 1150 447 2328  Q 447 3434 972 4092  Q 1497 4750 2381 4750  Q 2619 4750 2861 4703  Q 3103 4656 3366 4563  z \" transform=\"scale(0.015625)\"/>\n      <path id=\"DejaVuSans-34\" d=\"M 2419 4116  L 825 1625  L 2419 1625  L 2419 4116  z M 2253 4666  L 3047 4666  L 3047 1625  L 3713 1625  L 3713 1100  L 3047 1100  L 3047 0  L 2419 0  L 2419 1100  L 313 1100  L 313 1709  L 2253 4666  z \" transform=\"scale(0.015625)\"/>\n      <path id=\"DejaVuSans-3e\" d=\"M 678 3150  L 678 3719  L 4684 2266  L 4684 1747  L 678 294  L 678 863  L 3897 2003  L 678 3150  z \" transform=\"scale(0.015625)\"/>\n     </defs>\n     <use xlink:href=\"#DejaVuSans-3c\" transform=\"translate(0 0.015625)\"/>\n     <use xlink:href=\"#DejaVuSans-Oblique-66\" transform=\"translate(83.789062 0.015625)\"/>\n     <use xlink:href=\"#DejaVuSans-Oblique-6c\" transform=\"translate(118.994141 0.015625)\"/>\n     <use xlink:href=\"#DejaVuSans-Oblique-6f\" transform=\"translate(146.777344 0.015625)\"/>\n     <use xlink:href=\"#DejaVuSans-Oblique-61\" transform=\"translate(207.958984 0.015625)\"/>\n     <use xlink:href=\"#DejaVuSans-Oblique-74\" transform=\"translate(269.238281 0.015625)\"/>\n     <use xlink:href=\"#DejaVuSans-36\" transform=\"translate(308.447266 0.015625)\"/>\n     <use xlink:href=\"#DejaVuSans-34\" transform=\"translate(372.070312 0.015625)\"/>\n     <use xlink:href=\"#DejaVuSans-3e\" transform=\"translate(435.693359 0.015625)\"/>\n    </g>\n   </g>\n   <g id=\"text_48\">\n    <!-- 2 -->\n    <g transform=\"translate(120.006641 37.897572) rotate(-90) scale(0.09 -0.09)\">\n     <use xlink:href=\"#DejaVuSans-32\"/>\n    </g>\n   </g>\n   <g id=\"text_49\">\n    <!-- 1 -->\n    <g transform=\"translate(121.626675 22.297107) scale(0.09 -0.09)\">\n     <use xlink:href=\"#DejaVuSans-31\"/>\n    </g>\n   </g>\n   <g id=\"text_50\">\n    <!-- &lt;${\\mathit{float64}}$&gt; -->\n    <g transform=\"translate(106.2898 53.090693) scale(0.07 -0.07)\">\n     <use xlink:href=\"#DejaVuSans-3c\" transform=\"translate(0 0.015625)\"/>\n     <use xlink:href=\"#DejaVuSans-Oblique-66\" transform=\"translate(83.789062 0.015625)\"/>\n     <use xlink:href=\"#DejaVuSans-Oblique-6c\" transform=\"translate(118.994141 0.015625)\"/>\n     <use xlink:href=\"#DejaVuSans-Oblique-6f\" transform=\"translate(146.777344 0.015625)\"/>\n     <use xlink:href=\"#DejaVuSans-Oblique-61\" transform=\"translate(207.958984 0.015625)\"/>\n     <use xlink:href=\"#DejaVuSans-Oblique-74\" transform=\"translate(269.238281 0.015625)\"/>\n     <use xlink:href=\"#DejaVuSans-36\" transform=\"translate(308.447266 0.015625)\"/>\n     <use xlink:href=\"#DejaVuSans-34\" transform=\"translate(372.070312 0.015625)\"/>\n     <use xlink:href=\"#DejaVuSans-3e\" transform=\"translate(435.693359 0.015625)\"/>\n    </g>\n   </g>\n   <g id=\"text_51\">\n    <!-- 2 -->\n    <g transform=\"translate(214.671341 37.897572) rotate(-90) scale(0.09 -0.09)\">\n     <use xlink:href=\"#DejaVuSans-32\"/>\n    </g>\n   </g>\n   <g id=\"text_52\">\n    <!-- 1 -->\n    <g transform=\"translate(216.291375 22.297107) scale(0.09 -0.09)\">\n     <use xlink:href=\"#DejaVuSans-31\"/>\n    </g>\n   </g>\n   <g id=\"text_53\">\n    <!-- &lt;${\\mathit{float64}}$&gt; -->\n    <g transform=\"translate(200.9545 53.090693) scale(0.07 -0.07)\">\n     <use xlink:href=\"#DejaVuSans-3c\" transform=\"translate(0 0.015625)\"/>\n     <use xlink:href=\"#DejaVuSans-Oblique-66\" transform=\"translate(83.789062 0.015625)\"/>\n     <use xlink:href=\"#DejaVuSans-Oblique-6c\" transform=\"translate(118.994141 0.015625)\"/>\n     <use xlink:href=\"#DejaVuSans-Oblique-6f\" transform=\"translate(146.777344 0.015625)\"/>\n     <use xlink:href=\"#DejaVuSans-Oblique-61\" transform=\"translate(207.958984 0.015625)\"/>\n     <use xlink:href=\"#DejaVuSans-Oblique-74\" transform=\"translate(269.238281 0.015625)\"/>\n     <use xlink:href=\"#DejaVuSans-36\" transform=\"translate(308.447266 0.015625)\"/>\n     <use xlink:href=\"#DejaVuSans-34\" transform=\"translate(372.070312 0.015625)\"/>\n     <use xlink:href=\"#DejaVuSans-3e\" transform=\"translate(435.693359 0.015625)\"/>\n    </g>\n   </g>\n  </g>\n </g>\n <defs>\n  <clipPath id=\"pef42528a39\">\n   <rect x=\"0\" y=\"4.901991\" width=\"294.2334\" height=\"42.315395\"/>\n  </clipPath>\n </defs>\n</svg>"
          },
          "metadata": {}
        },
        {
          "output_type": "execute_result",
          "data": {
            "text/plain": [
              "array([[0.30875992],\n",
              "       [0.1651654 ]])"
            ]
          },
          "metadata": {},
          "execution_count": 26
        }
      ]
    },
    {
      "cell_type": "code",
      "source": [
        "with exp():\n",
        "  l1_activated_gradient = output_gradient @ l2_weights.T\n",
        "\n",
        "l1_activated_gradient"
      ],
      "metadata": {
        "colab": {
          "base_uri": "https://localhost:8080/",
          "height": 1000
        },
        "id": "EC4rSb4RD0L7",
        "outputId": "ec28fc9b-527f-46cb-c7bb-f97612975659"
      },
      "execution_count": 32,
      "outputs": [
        {
          "output_type": "stream",
          "name": "stderr",
          "text": [
            "WARNING:matplotlib.font_manager:findfont: Font family 'Consolas' not found.\n",
            "WARNING:matplotlib.font_manager:findfont: Font family 'Consolas' not found.\n",
            "WARNING:matplotlib.font_manager:findfont: Font family 'Consolas' not found.\n",
            "WARNING:matplotlib.font_manager:findfont: Font family 'Consolas' not found.\n",
            "WARNING:matplotlib.font_manager:findfont: Font family 'Consolas' not found.\n",
            "WARNING:matplotlib.font_manager:findfont: Font family 'Consolas' not found.\n",
            "WARNING:matplotlib.font_manager:findfont: Font family 'Consolas' not found.\n",
            "WARNING:matplotlib.font_manager:findfont: Font family 'Consolas' not found.\n",
            "WARNING:matplotlib.font_manager:findfont: Font family 'Consolas' not found.\n",
            "WARNING:matplotlib.font_manager:findfont: Font family 'Consolas' not found.\n",
            "WARNING:matplotlib.font_manager:findfont: Font family 'Consolas' not found.\n",
            "WARNING:matplotlib.font_manager:findfont: Font family 'Consolas' not found.\n",
            "WARNING:matplotlib.font_manager:findfont: Font family 'Consolas' not found.\n",
            "WARNING:matplotlib.font_manager:findfont: Font family 'Consolas' not found.\n",
            "WARNING:matplotlib.font_manager:findfont: Font family 'Consolas' not found.\n",
            "WARNING:matplotlib.font_manager:findfont: Font family 'Consolas' not found.\n",
            "WARNING:matplotlib.font_manager:findfont: Font family 'Consolas' not found.\n",
            "WARNING:matplotlib.font_manager:findfont: Font family 'Consolas' not found.\n",
            "WARNING:matplotlib.font_manager:findfont: Font family 'Consolas' not found.\n",
            "WARNING:matplotlib.font_manager:findfont: Font family 'Consolas' not found.\n",
            "WARNING:matplotlib.font_manager:findfont: Font family 'Consolas' not found.\n",
            "WARNING:matplotlib.font_manager:findfont: Font family 'Consolas' not found.\n",
            "WARNING:matplotlib.font_manager:findfont: Font family 'Consolas' not found.\n",
            "WARNING:matplotlib.font_manager:findfont: Font family 'Consolas' not found.\n",
            "WARNING:matplotlib.font_manager:findfont: Font family 'Consolas' not found.\n",
            "WARNING:matplotlib.font_manager:findfont: Font family 'Consolas' not found.\n",
            "WARNING:matplotlib.font_manager:findfont: Font family 'Arial' not found.\n",
            "WARNING:matplotlib.font_manager:findfont: Font family 'Arial' not found.\n",
            "WARNING:matplotlib.font_manager:findfont: Font family 'Arial' not found.\n",
            "WARNING:matplotlib.font_manager:findfont: Font family 'Arial' not found.\n",
            "WARNING:matplotlib.font_manager:findfont: Font family 'Arial' not found.\n",
            "WARNING:matplotlib.font_manager:findfont: Font family 'Consolas' not found.\n",
            "WARNING:matplotlib.font_manager:findfont: Font family 'Consolas' not found.\n",
            "WARNING:matplotlib.font_manager:findfont: Font family 'Consolas' not found.\n",
            "WARNING:matplotlib.font_manager:findfont: Font family 'Consolas' not found.\n",
            "WARNING:matplotlib.font_manager:findfont: Font family 'Consolas' not found.\n",
            "WARNING:matplotlib.font_manager:findfont: Font family 'Consolas' not found.\n",
            "WARNING:matplotlib.font_manager:findfont: Font family 'Consolas' not found.\n",
            "WARNING:matplotlib.font_manager:findfont: Font family 'Consolas' not found.\n",
            "WARNING:matplotlib.font_manager:findfont: Font family 'Consolas' not found.\n",
            "WARNING:matplotlib.font_manager:findfont: Font family 'Consolas' not found.\n",
            "WARNING:matplotlib.font_manager:findfont: Font family 'Consolas' not found.\n",
            "WARNING:matplotlib.font_manager:findfont: Font family 'Consolas' not found.\n",
            "WARNING:matplotlib.font_manager:findfont: Font family 'Consolas' not found.\n",
            "WARNING:matplotlib.font_manager:findfont: Font family 'Consolas' not found.\n",
            "WARNING:matplotlib.font_manager:findfont: Font family 'Consolas' not found.\n",
            "WARNING:matplotlib.font_manager:findfont: Font family 'Consolas' not found.\n",
            "WARNING:matplotlib.font_manager:findfont: Font family 'Consolas' not found.\n",
            "WARNING:matplotlib.font_manager:findfont: Font family 'Consolas' not found.\n",
            "WARNING:matplotlib.font_manager:findfont: Font family 'Consolas' not found.\n",
            "WARNING:matplotlib.font_manager:findfont: Font family 'Consolas' not found.\n",
            "WARNING:matplotlib.font_manager:findfont: Font family 'Consolas' not found.\n",
            "WARNING:matplotlib.font_manager:findfont: Font family 'Consolas' not found.\n",
            "WARNING:matplotlib.font_manager:findfont: Font family 'Consolas' not found.\n",
            "WARNING:matplotlib.font_manager:findfont: Font family 'Consolas' not found.\n",
            "WARNING:matplotlib.font_manager:findfont: Font family 'Consolas' not found.\n",
            "WARNING:matplotlib.font_manager:findfont: Font family 'Consolas' not found.\n",
            "WARNING:matplotlib.font_manager:findfont: Font family 'Consolas' not found.\n",
            "WARNING:matplotlib.font_manager:findfont: Font family 'Consolas' not found.\n",
            "WARNING:matplotlib.font_manager:findfont: Font family 'Consolas' not found.\n",
            "WARNING:matplotlib.font_manager:findfont: Font family 'Consolas' not found.\n",
            "WARNING:matplotlib.font_manager:findfont: Font family 'Consolas' not found.\n",
            "WARNING:matplotlib.font_manager:findfont: Font family 'Consolas' not found.\n",
            "WARNING:matplotlib.font_manager:findfont: Font family 'Consolas' not found.\n",
            "WARNING:matplotlib.font_manager:findfont: Font family 'Consolas' not found.\n",
            "WARNING:matplotlib.font_manager:findfont: Font family 'Consolas' not found.\n",
            "WARNING:matplotlib.font_manager:findfont: Font family 'Consolas' not found.\n",
            "WARNING:matplotlib.font_manager:findfont: Font family 'Consolas' not found.\n",
            "WARNING:matplotlib.font_manager:findfont: Font family 'Consolas' not found.\n",
            "WARNING:matplotlib.font_manager:findfont: Font family 'Consolas' not found.\n",
            "WARNING:matplotlib.font_manager:findfont: Font family 'Consolas' not found.\n",
            "WARNING:matplotlib.font_manager:findfont: Font family 'Consolas' not found.\n",
            "WARNING:matplotlib.font_manager:findfont: Font family 'Consolas' not found.\n",
            "WARNING:matplotlib.font_manager:findfont: Font family 'Consolas' not found.\n",
            "WARNING:matplotlib.font_manager:findfont: Font family 'Consolas' not found.\n",
            "WARNING:matplotlib.font_manager:findfont: Font family 'Consolas' not found.\n",
            "WARNING:matplotlib.font_manager:findfont: Font family 'Consolas' not found.\n",
            "WARNING:matplotlib.font_manager:findfont: Font family 'Consolas' not found.\n",
            "WARNING:matplotlib.font_manager:findfont: Font family 'Consolas' not found.\n",
            "WARNING:matplotlib.font_manager:findfont: Font family 'Consolas' not found.\n",
            "WARNING:matplotlib.font_manager:findfont: Font family 'Consolas' not found.\n",
            "WARNING:matplotlib.font_manager:findfont: Font family 'Consolas' not found.\n",
            "WARNING:matplotlib.font_manager:findfont: Font family 'Consolas' not found.\n",
            "WARNING:matplotlib.font_manager:findfont: Font family 'Consolas' not found.\n",
            "WARNING:matplotlib.font_manager:findfont: Font family 'Consolas' not found.\n",
            "WARNING:matplotlib.font_manager:findfont: Font family 'Consolas' not found.\n",
            "WARNING:matplotlib.font_manager:findfont: Font family 'Consolas' not found.\n",
            "WARNING:matplotlib.font_manager:findfont: Font family 'Consolas' not found.\n",
            "WARNING:matplotlib.font_manager:findfont: Font family 'Consolas' not found.\n",
            "WARNING:matplotlib.font_manager:findfont: Font family 'Consolas' not found.\n",
            "WARNING:matplotlib.font_manager:findfont: Font family 'Consolas' not found.\n",
            "WARNING:matplotlib.font_manager:findfont: Font family 'Consolas' not found.\n",
            "WARNING:matplotlib.font_manager:findfont: Font family 'Consolas' not found.\n",
            "WARNING:matplotlib.font_manager:findfont: Font family 'Consolas' not found.\n",
            "WARNING:matplotlib.font_manager:findfont: Font family 'Consolas' not found.\n",
            "WARNING:matplotlib.font_manager:findfont: Font family 'Consolas' not found.\n",
            "WARNING:matplotlib.font_manager:findfont: Font family 'Consolas' not found.\n",
            "WARNING:matplotlib.font_manager:findfont: Font family 'Consolas' not found.\n",
            "WARNING:matplotlib.font_manager:findfont: Font family 'Consolas' not found.\n",
            "WARNING:matplotlib.font_manager:findfont: Font family 'Consolas' not found.\n",
            "WARNING:matplotlib.font_manager:findfont: Font family 'Consolas' not found.\n",
            "WARNING:matplotlib.font_manager:findfont: Font family 'Consolas' not found.\n",
            "WARNING:matplotlib.font_manager:findfont: Font family 'Consolas' not found.\n",
            "WARNING:matplotlib.font_manager:findfont: Font family 'Consolas' not found.\n",
            "WARNING:matplotlib.font_manager:findfont: Font family 'Consolas' not found.\n",
            "WARNING:matplotlib.font_manager:findfont: Font family 'Consolas' not found.\n",
            "WARNING:matplotlib.font_manager:findfont: Font family 'Consolas' not found.\n",
            "WARNING:matplotlib.font_manager:findfont: Font family 'Consolas' not found.\n",
            "WARNING:matplotlib.font_manager:findfont: Font family 'Consolas' not found.\n",
            "WARNING:matplotlib.font_manager:findfont: Font family 'Consolas' not found.\n",
            "WARNING:matplotlib.font_manager:findfont: Font family 'Consolas' not found.\n",
            "WARNING:matplotlib.font_manager:findfont: Font family 'Arial' not found.\n",
            "WARNING:matplotlib.font_manager:findfont: Font family 'Arial' not found.\n",
            "WARNING:matplotlib.font_manager:findfont: Font family 'Arial' not found.\n",
            "WARNING:matplotlib.font_manager:findfont: Font family 'Arial' not found.\n",
            "WARNING:matplotlib.font_manager:findfont: Font family 'Arial' not found.\n",
            "WARNING:matplotlib.font_manager:findfont: Font family 'Arial' not found.\n",
            "WARNING:matplotlib.font_manager:findfont: Font family 'Arial' not found.\n",
            "WARNING:matplotlib.font_manager:findfont: Font family 'Arial' not found.\n",
            "WARNING:matplotlib.font_manager:findfont: Font family 'Arial' not found.\n",
            "WARNING:matplotlib.font_manager:findfont: Font family 'Arial' not found.\n",
            "WARNING:matplotlib.font_manager:findfont: Font family 'Arial' not found.\n",
            "WARNING:matplotlib.font_manager:findfont: Font family 'Consolas' not found.\n",
            "WARNING:matplotlib.font_manager:findfont: Font family 'Consolas' not found.\n",
            "WARNING:matplotlib.font_manager:findfont: Font family 'Consolas' not found.\n",
            "WARNING:matplotlib.font_manager:findfont: Font family 'Consolas' not found.\n",
            "WARNING:matplotlib.font_manager:findfont: Font family 'Consolas' not found.\n",
            "WARNING:matplotlib.font_manager:findfont: Font family 'Consolas' not found.\n",
            "WARNING:matplotlib.font_manager:findfont: Font family 'Consolas' not found.\n",
            "WARNING:matplotlib.font_manager:findfont: Font family 'Consolas' not found.\n",
            "WARNING:matplotlib.font_manager:findfont: Font family 'Consolas' not found.\n",
            "WARNING:matplotlib.font_manager:findfont: Font family 'Consolas' not found.\n",
            "WARNING:matplotlib.font_manager:findfont: Font family 'Consolas' not found.\n",
            "WARNING:matplotlib.font_manager:findfont: Font family 'Consolas' not found.\n",
            "WARNING:matplotlib.font_manager:findfont: Font family 'Consolas' not found.\n",
            "WARNING:matplotlib.font_manager:findfont: Font family 'Consolas' not found.\n",
            "WARNING:matplotlib.font_manager:findfont: Font family 'Consolas' not found.\n",
            "WARNING:matplotlib.font_manager:findfont: Font family 'Consolas' not found.\n",
            "WARNING:matplotlib.font_manager:findfont: Font family 'Consolas' not found.\n",
            "WARNING:matplotlib.font_manager:findfont: Font family 'Consolas' not found.\n",
            "WARNING:matplotlib.font_manager:findfont: Font family 'Consolas' not found.\n",
            "WARNING:matplotlib.font_manager:findfont: Font family 'Consolas' not found.\n",
            "WARNING:matplotlib.font_manager:findfont: Font family 'Consolas' not found.\n",
            "WARNING:matplotlib.font_manager:findfont: Font family 'Consolas' not found.\n",
            "WARNING:matplotlib.font_manager:findfont: Font family 'Consolas' not found.\n",
            "WARNING:matplotlib.font_manager:findfont: Font family 'Consolas' not found.\n",
            "WARNING:matplotlib.font_manager:findfont: Font family 'Consolas' not found.\n",
            "WARNING:matplotlib.font_manager:findfont: Font family 'Consolas' not found.\n",
            "WARNING:matplotlib.font_manager:findfont: Font family 'Consolas' not found.\n",
            "WARNING:matplotlib.font_manager:findfont: Font family 'Consolas' not found.\n",
            "WARNING:matplotlib.font_manager:findfont: Font family 'Consolas' not found.\n",
            "WARNING:matplotlib.font_manager:findfont: Font family 'Consolas' not found.\n",
            "WARNING:matplotlib.font_manager:findfont: Font family 'Consolas' not found.\n",
            "WARNING:matplotlib.font_manager:findfont: Font family 'Consolas' not found.\n",
            "WARNING:matplotlib.font_manager:findfont: Font family 'Consolas' not found.\n",
            "WARNING:matplotlib.font_manager:findfont: Font family 'Consolas' not found.\n",
            "WARNING:matplotlib.font_manager:findfont: Font family 'Consolas' not found.\n",
            "WARNING:matplotlib.font_manager:findfont: Font family 'Consolas' not found.\n",
            "WARNING:matplotlib.font_manager:findfont: Font family 'Consolas' not found.\n",
            "WARNING:matplotlib.font_manager:findfont: Font family 'Consolas' not found.\n",
            "WARNING:matplotlib.font_manager:findfont: Font family 'Consolas' not found.\n",
            "WARNING:matplotlib.font_manager:findfont: Font family 'Consolas' not found.\n",
            "WARNING:matplotlib.font_manager:findfont: Font family 'Consolas' not found.\n",
            "WARNING:matplotlib.font_manager:findfont: Font family 'Consolas' not found.\n",
            "WARNING:matplotlib.font_manager:findfont: Font family 'Consolas' not found.\n",
            "WARNING:matplotlib.font_manager:findfont: Font family 'Consolas' not found.\n",
            "WARNING:matplotlib.font_manager:findfont: Font family 'Consolas' not found.\n",
            "WARNING:matplotlib.font_manager:findfont: Font family 'Consolas' not found.\n",
            "WARNING:matplotlib.font_manager:findfont: Font family 'Consolas' not found.\n",
            "WARNING:matplotlib.font_manager:findfont: Font family 'Consolas' not found.\n",
            "WARNING:matplotlib.font_manager:findfont: Font family 'Consolas' not found.\n",
            "WARNING:matplotlib.font_manager:findfont: Font family 'Consolas' not found.\n",
            "WARNING:matplotlib.font_manager:findfont: Font family 'Consolas' not found.\n",
            "WARNING:matplotlib.font_manager:findfont: Font family 'Consolas' not found.\n",
            "WARNING:matplotlib.font_manager:findfont: Font family 'Consolas' not found.\n",
            "WARNING:matplotlib.font_manager:findfont: Font family 'Consolas' not found.\n",
            "WARNING:matplotlib.font_manager:findfont: Font family 'Consolas' not found.\n",
            "WARNING:matplotlib.font_manager:findfont: Font family 'Consolas' not found.\n",
            "WARNING:matplotlib.font_manager:findfont: Font family 'Consolas' not found.\n",
            "WARNING:matplotlib.font_manager:findfont: Font family 'Consolas' not found.\n",
            "WARNING:matplotlib.font_manager:findfont: Font family 'Consolas' not found.\n",
            "WARNING:matplotlib.font_manager:findfont: Font family 'Consolas' not found.\n",
            "WARNING:matplotlib.font_manager:findfont: Font family 'Consolas' not found.\n",
            "WARNING:matplotlib.font_manager:findfont: Font family 'Consolas' not found.\n",
            "WARNING:matplotlib.font_manager:findfont: Font family 'Consolas' not found.\n",
            "WARNING:matplotlib.font_manager:findfont: Font family 'Consolas' not found.\n",
            "WARNING:matplotlib.font_manager:findfont: Font family 'Consolas' not found.\n",
            "WARNING:matplotlib.font_manager:findfont: Font family 'Consolas' not found.\n",
            "WARNING:matplotlib.font_manager:findfont: Font family 'Consolas' not found.\n",
            "WARNING:matplotlib.font_manager:findfont: Font family 'Consolas' not found.\n",
            "WARNING:matplotlib.font_manager:findfont: Font family 'Consolas' not found.\n",
            "WARNING:matplotlib.font_manager:findfont: Font family 'Consolas' not found.\n",
            "WARNING:matplotlib.font_manager:findfont: Font family 'Consolas' not found.\n",
            "WARNING:matplotlib.font_manager:findfont: Font family 'Consolas' not found.\n",
            "WARNING:matplotlib.font_manager:findfont: Font family 'Consolas' not found.\n",
            "WARNING:matplotlib.font_manager:findfont: Font family 'Consolas' not found.\n",
            "WARNING:matplotlib.font_manager:findfont: Font family 'Consolas' not found.\n",
            "WARNING:matplotlib.font_manager:findfont: Font family 'Consolas' not found.\n",
            "WARNING:matplotlib.font_manager:findfont: Font family 'Consolas' not found.\n",
            "WARNING:matplotlib.font_manager:findfont: Font family 'Consolas' not found.\n",
            "WARNING:matplotlib.font_manager:findfont: Font family 'Consolas' not found.\n",
            "WARNING:matplotlib.font_manager:findfont: Font family 'Consolas' not found.\n",
            "WARNING:matplotlib.font_manager:findfont: Font family 'Arial' not found.\n",
            "WARNING:matplotlib.font_manager:findfont: Font family 'Arial' not found.\n",
            "WARNING:matplotlib.font_manager:findfont: Font family 'Arial' not found.\n",
            "WARNING:matplotlib.font_manager:findfont: Font family 'Arial' not found.\n",
            "WARNING:matplotlib.font_manager:findfont: Font family 'Arial' not found.\n",
            "WARNING:matplotlib.font_manager:findfont: Font family 'Arial' not found.\n",
            "WARNING:matplotlib.font_manager:findfont: Font family 'Arial' not found.\n",
            "WARNING:matplotlib.font_manager:findfont: Font family 'Arial' not found.\n",
            "WARNING:matplotlib.font_manager:findfont: Font family 'Arial' not found.\n",
            "WARNING:matplotlib.font_manager:findfont: Font family 'Arial' not found.\n",
            "WARNING:matplotlib.font_manager:findfont: Font family 'Arial' not found.\n"
          ]
        },
        {
          "output_type": "display_data",
          "data": {
            "text/plain": [
              "<IPython.core.display.SVG object>"
            ],
            "image/svg+xml": "<svg xmlns:xlink=\"http://www.w3.org/1999/xlink\" xmlns=\"http://www.w3.org/2000/svg\" width=\"360.817206pt\" height=\"54.546474pt\" viewBox=\"0 0 360.817206 54.546474\" version=\"1.1\">\n <metadata>\n  <rdf:RDF xmlns:dc=\"http://purl.org/dc/elements/1.1/\" xmlns:cc=\"http://creativecommons.org/ns#\" xmlns:rdf=\"http://www.w3.org/1999/02/22-rdf-syntax-ns#\">\n   <cc:Work>\n    <dc:type rdf:resource=\"http://purl.org/dc/dcmitype/StillImage\"/>\n    <dc:date>2023-08-04T01:10:31.255816</dc:date>\n    <dc:format>image/svg+xml</dc:format>\n    <dc:creator>\n     <cc:Agent>\n      <dc:title>Matplotlib v3.7.1, https://matplotlib.org/</dc:title>\n     </cc:Agent>\n    </dc:creator>\n   </cc:Work>\n  </rdf:RDF>\n </metadata>\n <defs>\n  <style type=\"text/css\">*{stroke-linejoin: round; stroke-linecap: butt}</style>\n </defs>\n <g id=\"figure_1\">\n  <g id=\"patch_1\">\n   <path d=\"M 0 54.546474  L 360.817206 54.546474  L 360.817206 0  L 0 0  z \" style=\"fill: #ffffff\"/>\n  </g>\n  <g id=\"axes_1\">\n   <g id=\"patch_2\">\n    <path d=\"M 64.10025 46.385787  L 86.95035 46.385787  L 86.95035 23.683107  L 64.10025 23.683107  z \" clip-path=\"url(#p6a99af20a5)\" style=\"fill: #a8e1b0; fill-opacity: 0.75; stroke: #808080; stroke-width: 0.7; stroke-linejoin: miter\"/>\n   </g>\n   <g id=\"patch_3\">\n    <path d=\"M 210.01446 46.385787  L 215.23734 46.385787  L 215.23734 23.683107  L 210.01446 23.683107  z \" clip-path=\"url(#p6a99af20a5)\" style=\"fill: #a8e1b0; fill-opacity: 0.75; stroke: #808080; stroke-width: 0.7; stroke-linejoin: miter\"/>\n   </g>\n   <g id=\"patch_4\">\n    <path d=\"M 308.92275 28.872291  L 331.77285 28.872291  L 331.77285 23.683107  L 308.92275 23.683107  z \" clip-path=\"url(#p6a99af20a5)\" style=\"fill: #a8e1b0; fill-opacity: 0.75; stroke: #808080; stroke-width: 0.7; stroke-linejoin: miter\"/>\n   </g>\n   <g id=\"line2d_1\">\n    <path d=\"M 6.32214 13.762608  L 144.72846 13.762608  \" clip-path=\"url(#p6a99af20a5)\" style=\"fill: none; stroke: #c2c2c2; stroke-width: 0.5; stroke-linecap: square\"/>\n   </g>\n   <g id=\"line2d_2\">\n    <path d=\"M 163.00854 13.762608  L 262.24326 13.762608  \" clip-path=\"url(#p6a99af20a5)\" style=\"fill: none; stroke: #c2c2c2; stroke-width: 0.5; stroke-linecap: square\"/>\n   </g>\n   <g id=\"line2d_3\">\n    <path d=\"M 280.52334 13.762608  L 360.17226 13.762608  \" clip-path=\"url(#p6a99af20a5)\" style=\"fill: none; stroke: #c2c2c2; stroke-width: 0.5; stroke-linecap: square\"/>\n   </g>\n   <g id=\"text_1\">\n    <!-- l -->\n    <g style=\"fill: #444443\" transform=\"translate(6.975 9.947031) scale(0.13 -0.13)\">\n     <defs>\n      <path id=\"DejaVuSansMono-6c\" d=\"M 1997 1269  Q 1997 881 2139 684  Q 2281 488 2559 488  L 3231 488  L 3231 0  L 2503 0  Q 1988 0 1705 331  Q 1422 663 1422 1269  L 1422 4447  L 500 4447  L 500 4897  L 1997 4897  L 1997 1269  z \" transform=\"scale(0.015625)\"/>\n     </defs>\n     <use xlink:href=\"#DejaVuSansMono-6c\"/>\n    </g>\n   </g>\n   <g id=\"text_2\">\n    <!-- 1 -->\n    <g style=\"fill: #444443\" transform=\"translate(13.5036 9.947031) scale(0.13 -0.13)\">\n     <defs>\n      <path id=\"DejaVuSansMono-31\" d=\"M 844 531  L 1825 531  L 1825 4097  L 769 3859  L 769 4434  L 1819 4666  L 2450 4666  L 2450 531  L 3419 531  L 3419 0  L 844 0  L 844 531  z \" transform=\"scale(0.015625)\"/>\n     </defs>\n     <use xlink:href=\"#DejaVuSansMono-31\"/>\n    </g>\n   </g>\n   <g id=\"text_3\">\n    <!-- _ -->\n    <g style=\"fill: #444443\" transform=\"translate(20.0322 9.947031) scale(0.13 -0.13)\">\n     <defs>\n      <path id=\"DejaVuSansMono-5f\" d=\"M 3853 -1259  L 3853 -1509  L 0 -1509  L 0 -1259  L 3853 -1259  z \" transform=\"scale(0.015625)\"/>\n     </defs>\n     <use xlink:href=\"#DejaVuSansMono-5f\"/>\n    </g>\n   </g>\n   <g id=\"text_4\">\n    <!-- a -->\n    <g style=\"fill: #444443\" transform=\"translate(26.5608 9.947031) scale(0.13 -0.13)\">\n     <defs>\n      <path id=\"DejaVuSansMono-61\" d=\"M 2194 1759  L 2003 1759  Q 1500 1759 1245 1582  Q 991 1406 991 1056  Q 991 741 1181 566  Q 1372 391 1709 391  Q 2184 391 2456 720  Q 2728 1050 2731 1631  L 2731 1759  L 2194 1759  z M 3309 1997  L 3309 0  L 2731 0  L 2731 519  Q 2547 206 2267 57  Q 1988 -91 1588 -91  Q 1053 -91 734 211  Q 416 513 416 1019  Q 416 1603 808 1906  Q 1200 2209 1959 2209  L 2731 2209  L 2731 2300  Q 2728 2719 2518 2908  Q 2309 3097 1850 3097  Q 1556 3097 1256 3012  Q 956 2928 672 2766  L 672 3341  Q 991 3463 1283 3523  Q 1575 3584 1850 3584  Q 2284 3584 2592 3456  Q 2900 3328 3091 3072  Q 3209 2916 3259 2686  Q 3309 2456 3309 1997  z \" transform=\"scale(0.015625)\"/>\n     </defs>\n     <use xlink:href=\"#DejaVuSansMono-61\"/>\n    </g>\n   </g>\n   <g id=\"text_5\">\n    <!-- c -->\n    <g style=\"fill: #444443\" transform=\"translate(33.0894 9.947031) scale(0.13 -0.13)\">\n     <defs>\n      <path id=\"DejaVuSansMono-63\" d=\"M 3316 178  Q 3084 44 2839 -23  Q 2594 -91 2338 -91  Q 1525 -91 1067 396  Q 609 884 609 1747  Q 609 2609 1067 3096  Q 1525 3584 2338 3584  Q 2591 3584 2831 3518  Q 3072 3453 3316 3316  L 3316 2713  Q 3088 2916 2858 3006  Q 2628 3097 2338 3097  Q 1797 3097 1506 2747  Q 1216 2397 1216 1747  Q 1216 1100 1508 748  Q 1800 397 2338 397  Q 2638 397 2875 489  Q 3113 581 3316 775  L 3316 178  z \" transform=\"scale(0.015625)\"/>\n     </defs>\n     <use xlink:href=\"#DejaVuSansMono-63\"/>\n    </g>\n   </g>\n   <g id=\"text_6\">\n    <!-- t -->\n    <g style=\"fill: #444443\" transform=\"translate(39.618 9.947031) scale(0.13 -0.13)\">\n     <defs>\n      <path id=\"DejaVuSansMono-74\" d=\"M 1919 4494  L 1919 3500  L 3225 3500  L 3225 3053  L 1919 3053  L 1919 1153  Q 1919 766 2066 612  Q 2213 459 2578 459  L 3225 459  L 3225 0  L 2522 0  Q 1875 0 1609 259  Q 1344 519 1344 1153  L 1344 3053  L 409 3053  L 409 3500  L 1344 3500  L 1344 4494  L 1919 4494  z \" transform=\"scale(0.015625)\"/>\n     </defs>\n     <use xlink:href=\"#DejaVuSansMono-74\"/>\n    </g>\n   </g>\n   <g id=\"text_7\">\n    <!-- i -->\n    <g style=\"fill: #444443\" transform=\"translate(46.1466 9.947031) scale(0.13 -0.13)\">\n     <defs>\n      <path id=\"DejaVuSansMono-69\" d=\"M 800 3500  L 2272 3500  L 2272 447  L 3413 447  L 3413 0  L 556 0  L 556 447  L 1697 447  L 1697 3053  L 800 3053  L 800 3500  z M 1697 4863  L 2272 4863  L 2272 4134  L 1697 4134  L 1697 4863  z \" transform=\"scale(0.015625)\"/>\n     </defs>\n     <use xlink:href=\"#DejaVuSansMono-69\"/>\n    </g>\n   </g>\n   <g id=\"text_8\">\n    <!-- v -->\n    <g style=\"fill: #444443\" transform=\"translate(52.6752 9.947031) scale(0.13 -0.13)\">\n     <defs>\n      <path id=\"DejaVuSansMono-76\" d=\"M 313 3500  L 909 3500  L 1925 563  L 2944 3500  L 3541 3500  L 2297 0  L 1556 0  L 313 3500  z \" transform=\"scale(0.015625)\"/>\n     </defs>\n     <use xlink:href=\"#DejaVuSansMono-76\"/>\n    </g>\n   </g>\n   <g id=\"text_9\">\n    <!-- a -->\n    <g style=\"fill: #444443\" transform=\"translate(59.2038 9.947031) scale(0.13 -0.13)\">\n     <use xlink:href=\"#DejaVuSansMono-61\"/>\n    </g>\n   </g>\n   <g id=\"text_10\">\n    <!-- t -->\n    <g style=\"fill: #444443\" transform=\"translate(65.7324 9.947031) scale(0.13 -0.13)\">\n     <use xlink:href=\"#DejaVuSansMono-74\"/>\n    </g>\n   </g>\n   <g id=\"text_11\">\n    <!-- e -->\n    <g style=\"fill: #444443\" transform=\"translate(72.261 9.947031) scale(0.13 -0.13)\">\n     <defs>\n      <path id=\"DejaVuSansMono-65\" d=\"M 3475 1894  L 3475 1613  L 984 1613  L 984 1594  Q 984 1022 1282 709  Q 1581 397 2125 397  Q 2400 397 2700 484  Q 3000 572 3341 750  L 3341 178  Q 3013 44 2708 -23  Q 2403 -91 2119 -91  Q 1303 -91 843 398  Q 384 888 384 1747  Q 384 2584 834 3084  Q 1284 3584 2034 3584  Q 2703 3584 3089 3131  Q 3475 2678 3475 1894  z M 2900 2063  Q 2888 2569 2661 2833  Q 2434 3097 2009 3097  Q 1594 3097 1325 2822  Q 1056 2547 1006 2059  L 2900 2063  z \" transform=\"scale(0.015625)\"/>\n     </defs>\n     <use xlink:href=\"#DejaVuSansMono-65\"/>\n    </g>\n   </g>\n   <g id=\"text_12\">\n    <!-- d -->\n    <g style=\"fill: #444443\" transform=\"translate(78.7896 9.947031) scale(0.13 -0.13)\">\n     <defs>\n      <path id=\"DejaVuSansMono-64\" d=\"M 2681 3053  L 2681 4863  L 3256 4863  L 3256 0  L 2681 0  L 2681 441  Q 2538 181 2298 45  Q 2059 -91 1747 -91  Q 1113 -91 748 401  Q 384 894 384 1759  Q 384 2613 750 3098  Q 1116 3584 1747 3584  Q 2063 3584 2303 3448  Q 2544 3313 2681 3053  z M 991 1747  Q 991 1078 1203 737  Q 1416 397 1831 397  Q 2247 397 2464 740  Q 2681 1084 2681 1747  Q 2681 2413 2464 2755  Q 2247 3097 1831 3097  Q 1416 3097 1203 2756  Q 991 2416 991 1747  z \" transform=\"scale(0.015625)\"/>\n     </defs>\n     <use xlink:href=\"#DejaVuSansMono-64\"/>\n    </g>\n   </g>\n   <g id=\"text_13\">\n    <!-- _ -->\n    <g style=\"fill: #444443\" transform=\"translate(85.3182 9.947031) scale(0.13 -0.13)\">\n     <use xlink:href=\"#DejaVuSansMono-5f\"/>\n    </g>\n   </g>\n   <g id=\"text_14\">\n    <!-- g -->\n    <g style=\"fill: #444443\" transform=\"translate(91.8468 9.947031) scale(0.13 -0.13)\">\n     <defs>\n      <path id=\"DejaVuSansMono-67\" d=\"M 2681 1778  Q 2681 2425 2470 2761  Q 2259 3097 1856 3097  Q 1434 3097 1212 2761  Q 991 2425 991 1778  Q 991 1131 1214 792  Q 1438 453 1863 453  Q 2259 453 2470 793  Q 2681 1134 2681 1778  z M 3256 225  Q 3256 -563 2884 -969  Q 2513 -1375 1791 -1375  Q 1553 -1375 1293 -1331  Q 1034 -1288 775 -1203  L 775 -634  Q 1081 -778 1331 -847  Q 1581 -916 1791 -916  Q 2256 -916 2468 -662  Q 2681 -409 2681 141  L 2681 166  L 2681 556  Q 2544 263 2306 119  Q 2069 -25 1728 -25  Q 1116 -25 750 465  Q 384 956 384 1778  Q 384 2603 750 3093  Q 1116 3584 1728 3584  Q 2066 3584 2300 3450  Q 2534 3316 2681 3034  L 2681 3488  L 3256 3488  L 3256 225  z \" transform=\"scale(0.015625)\"/>\n     </defs>\n     <use xlink:href=\"#DejaVuSansMono-67\"/>\n    </g>\n   </g>\n   <g id=\"text_15\">\n    <!-- r -->\n    <g style=\"fill: #444443\" transform=\"translate(98.3754 9.947031) scale(0.13 -0.13)\">\n     <defs>\n      <path id=\"DejaVuSansMono-72\" d=\"M 3609 2778  Q 3425 2922 3234 2987  Q 3044 3053 2816 3053  Q 2278 3053 1993 2715  Q 1709 2378 1709 1741  L 1709 0  L 1131 0  L 1131 3500  L 1709 3500  L 1709 2816  Q 1853 3188 2151 3386  Q 2450 3584 2859 3584  Q 3072 3584 3256 3531  Q 3441 3478 3609 3366  L 3609 2778  z \" transform=\"scale(0.015625)\"/>\n     </defs>\n     <use xlink:href=\"#DejaVuSansMono-72\"/>\n    </g>\n   </g>\n   <g id=\"text_16\">\n    <!-- a -->\n    <g style=\"fill: #444443\" transform=\"translate(104.904 9.947031) scale(0.13 -0.13)\">\n     <use xlink:href=\"#DejaVuSansMono-61\"/>\n    </g>\n   </g>\n   <g id=\"text_17\">\n    <!-- d -->\n    <g style=\"fill: #444443\" transform=\"translate(111.4326 9.947031) scale(0.13 -0.13)\">\n     <use xlink:href=\"#DejaVuSansMono-64\"/>\n    </g>\n   </g>\n   <g id=\"text_18\">\n    <!-- i -->\n    <g style=\"fill: #444443\" transform=\"translate(117.9612 9.947031) scale(0.13 -0.13)\">\n     <use xlink:href=\"#DejaVuSansMono-69\"/>\n    </g>\n   </g>\n   <g id=\"text_19\">\n    <!-- e -->\n    <g style=\"fill: #444443\" transform=\"translate(124.4898 9.947031) scale(0.13 -0.13)\">\n     <use xlink:href=\"#DejaVuSansMono-65\"/>\n    </g>\n   </g>\n   <g id=\"text_20\">\n    <!-- n -->\n    <g style=\"fill: #444443\" transform=\"translate(131.0184 9.947031) scale(0.13 -0.13)\">\n     <defs>\n      <path id=\"DejaVuSansMono-6e\" d=\"M 3284 2169  L 3284 0  L 2706 0  L 2706 2169  Q 2706 2641 2540 2862  Q 2375 3084 2022 3084  Q 1619 3084 1401 2798  Q 1184 2513 1184 1978  L 1184 0  L 609 0  L 609 3500  L 1184 3500  L 1184 2975  Q 1338 3275 1600 3429  Q 1863 3584 2222 3584  Q 2756 3584 3020 3232  Q 3284 2881 3284 2169  z \" transform=\"scale(0.015625)\"/>\n     </defs>\n     <use xlink:href=\"#DejaVuSansMono-6e\"/>\n    </g>\n   </g>\n   <g id=\"text_21\">\n    <!-- t -->\n    <g style=\"fill: #444443\" transform=\"translate(137.547 9.947031) scale(0.13 -0.13)\">\n     <use xlink:href=\"#DejaVuSansMono-74\"/>\n    </g>\n   </g>\n   <g id=\"text_22\">\n    <!--   -->\n    <g style=\"fill: #444443\" transform=\"translate(144.0756 9.947031) scale(0.13 -0.13)\">\n     <defs>\n      <path id=\"DejaVuSansMono-20\" transform=\"scale(0.015625)\"/>\n     </defs>\n     <use xlink:href=\"#DejaVuSansMono-20\"/>\n    </g>\n   </g>\n   <g id=\"text_23\">\n    <!-- = -->\n    <g style=\"fill: #444443\" transform=\"translate(150.6042 9.947031) scale(0.13 -0.13)\">\n     <defs>\n      <path id=\"DejaVuSansMono-3d\" d=\"M 275 1638  L 3578 1638  L 3578 1100  L 275 1100  L 275 1638  z M 275 2906  L 3578 2906  L 3578 2375  L 275 2375  L 275 2906  z \" transform=\"scale(0.015625)\"/>\n     </defs>\n     <use xlink:href=\"#DejaVuSansMono-3d\"/>\n    </g>\n   </g>\n   <g id=\"text_24\">\n    <!--   -->\n    <g style=\"fill: #444443\" transform=\"translate(157.1328 9.947031) scale(0.13 -0.13)\">\n     <use xlink:href=\"#DejaVuSansMono-20\"/>\n    </g>\n   </g>\n   <g id=\"text_25\">\n    <!-- o -->\n    <g style=\"fill: #444443\" transform=\"translate(163.6614 9.947031) scale(0.13 -0.13)\">\n     <defs>\n      <path id=\"DejaVuSansMono-6f\" d=\"M 1925 3097  Q 1488 3097 1263 2756  Q 1038 2416 1038 1747  Q 1038 1081 1263 739  Q 1488 397 1925 397  Q 2366 397 2591 739  Q 2816 1081 2816 1747  Q 2816 2416 2591 2756  Q 2366 3097 1925 3097  z M 1925 3584  Q 2653 3584 3039 3112  Q 3425 2641 3425 1747  Q 3425 850 3040 379  Q 2656 -91 1925 -91  Q 1197 -91 812 379  Q 428 850 428 1747  Q 428 2641 812 3112  Q 1197 3584 1925 3584  z \" transform=\"scale(0.015625)\"/>\n     </defs>\n     <use xlink:href=\"#DejaVuSansMono-6f\"/>\n    </g>\n   </g>\n   <g id=\"text_26\">\n    <!-- u -->\n    <g style=\"fill: #444443\" transform=\"translate(170.19 9.947031) scale(0.13 -0.13)\">\n     <defs>\n      <path id=\"DejaVuSansMono-75\" d=\"M 609 1325  L 609 3494  L 1184 3494  L 1184 1325  Q 1184 853 1351 631  Q 1519 409 1869 409  Q 2275 409 2490 695  Q 2706 981 2706 1516  L 2706 3494  L 3284 3494  L 3284 0  L 2706 0  L 2706 525  Q 2553 222 2289 65  Q 2025 -91 1672 -91  Q 1134 -91 871 261  Q 609 613 609 1325  z \" transform=\"scale(0.015625)\"/>\n     </defs>\n     <use xlink:href=\"#DejaVuSansMono-75\"/>\n    </g>\n   </g>\n   <g id=\"text_27\">\n    <!-- t -->\n    <g style=\"fill: #444443\" transform=\"translate(176.7186 9.947031) scale(0.13 -0.13)\">\n     <use xlink:href=\"#DejaVuSansMono-74\"/>\n    </g>\n   </g>\n   <g id=\"text_28\">\n    <!-- p -->\n    <g style=\"fill: #444443\" transform=\"translate(183.2472 9.947031) scale(0.13 -0.13)\">\n     <defs>\n      <path id=\"DejaVuSansMono-70\" d=\"M 1172 441  L 1172 -1331  L 594 -1331  L 594 3500  L 1172 3500  L 1172 3053  Q 1316 3313 1555 3448  Q 1794 3584 2106 3584  Q 2741 3584 3102 3093  Q 3463 2603 3463 1734  Q 3463 881 3100 395  Q 2738 -91 2106 -91  Q 1788 -91 1548 45  Q 1309 181 1172 441  z M 2859 1747  Q 2859 2416 2648 2756  Q 2438 3097 2022 3097  Q 1603 3097 1387 2755  Q 1172 2413 1172 1747  Q 1172 1084 1387 740  Q 1603 397 2022 397  Q 2438 397 2648 737  Q 2859 1078 2859 1747  z \" transform=\"scale(0.015625)\"/>\n     </defs>\n     <use xlink:href=\"#DejaVuSansMono-70\"/>\n    </g>\n   </g>\n   <g id=\"text_29\">\n    <!-- u -->\n    <g style=\"fill: #444443\" transform=\"translate(189.7758 9.947031) scale(0.13 -0.13)\">\n     <use xlink:href=\"#DejaVuSansMono-75\"/>\n    </g>\n   </g>\n   <g id=\"text_30\">\n    <!-- t -->\n    <g style=\"fill: #444443\" transform=\"translate(196.3044 9.947031) scale(0.13 -0.13)\">\n     <use xlink:href=\"#DejaVuSansMono-74\"/>\n    </g>\n   </g>\n   <g id=\"text_31\">\n    <!-- _ -->\n    <g style=\"fill: #444443\" transform=\"translate(202.833 9.947031) scale(0.13 -0.13)\">\n     <use xlink:href=\"#DejaVuSansMono-5f\"/>\n    </g>\n   </g>\n   <g id=\"text_32\">\n    <!-- g -->\n    <g style=\"fill: #444443\" transform=\"translate(209.3616 9.947031) scale(0.13 -0.13)\">\n     <use xlink:href=\"#DejaVuSansMono-67\"/>\n    </g>\n   </g>\n   <g id=\"text_33\">\n    <!-- r -->\n    <g style=\"fill: #444443\" transform=\"translate(215.8902 9.947031) scale(0.13 -0.13)\">\n     <use xlink:href=\"#DejaVuSansMono-72\"/>\n    </g>\n   </g>\n   <g id=\"text_34\">\n    <!-- a -->\n    <g style=\"fill: #444443\" transform=\"translate(222.4188 9.947031) scale(0.13 -0.13)\">\n     <use xlink:href=\"#DejaVuSansMono-61\"/>\n    </g>\n   </g>\n   <g id=\"text_35\">\n    <!-- d -->\n    <g style=\"fill: #444443\" transform=\"translate(228.9474 9.947031) scale(0.13 -0.13)\">\n     <use xlink:href=\"#DejaVuSansMono-64\"/>\n    </g>\n   </g>\n   <g id=\"text_36\">\n    <!-- i -->\n    <g style=\"fill: #444443\" transform=\"translate(235.476 9.947031) scale(0.13 -0.13)\">\n     <use xlink:href=\"#DejaVuSansMono-69\"/>\n    </g>\n   </g>\n   <g id=\"text_37\">\n    <!-- e -->\n    <g style=\"fill: #444443\" transform=\"translate(242.0046 9.947031) scale(0.13 -0.13)\">\n     <use xlink:href=\"#DejaVuSansMono-65\"/>\n    </g>\n   </g>\n   <g id=\"text_38\">\n    <!-- n -->\n    <g style=\"fill: #444443\" transform=\"translate(248.5332 9.947031) scale(0.13 -0.13)\">\n     <use xlink:href=\"#DejaVuSansMono-6e\"/>\n    </g>\n   </g>\n   <g id=\"text_39\">\n    <!-- t -->\n    <g style=\"fill: #444443\" transform=\"translate(255.0618 9.947031) scale(0.13 -0.13)\">\n     <use xlink:href=\"#DejaVuSansMono-74\"/>\n    </g>\n   </g>\n   <g id=\"text_40\">\n    <!--   -->\n    <g style=\"fill: #444443\" transform=\"translate(261.5904 9.947031) scale(0.13 -0.13)\">\n     <use xlink:href=\"#DejaVuSansMono-20\"/>\n    </g>\n   </g>\n   <g id=\"text_41\">\n    <!-- @ -->\n    <g style=\"fill: #444443\" transform=\"translate(268.119 9.947031) scale(0.13 -0.13)\">\n     <defs>\n      <path id=\"DejaVuSansMono-40\" d=\"M 3244 1703  Q 3244 2106 3044 2348  Q 2844 2591 2509 2591  Q 2175 2591 1973 2348  Q 1772 2106 1772 1703  Q 1772 1297 1973 1055  Q 2175 813 2509 813  Q 2844 813 3044 1055  Q 3244 1297 3244 1703  z M 3681 422  L 3231 422  L 3231 769  Q 3116 572 2911 465  Q 2706 359 2450 359  Q 1947 359 1617 737  Q 1288 1116 1288 1703  Q 1288 2291 1617 2669  Q 1947 3047 2450 3047  Q 2700 3047 2909 2937  Q 3119 2828 3231 2638  L 3231 2834  Q 3231 3322 2956 3619  Q 2681 3916 2228 3916  Q 1459 3916 1004 3317  Q 550 2719 550 1697  Q 550 669 1065 59  Q 1581 -550 2438 -550  Q 2606 -550 2775 -519  Q 2944 -488 3122 -422  L 3272 -844  Q 3075 -922 2883 -959  Q 2691 -997 2509 -997  Q 1394 -997 739 -269  Q 84 459 84 1697  Q 84 2916 671 3637  Q 1259 4359 2247 4359  Q 2900 4359 3290 3943  Q 3681 3528 3681 2828  L 3681 422  z \" transform=\"scale(0.015625)\"/>\n     </defs>\n     <use xlink:href=\"#DejaVuSansMono-40\"/>\n    </g>\n   </g>\n   <g id=\"text_42\">\n    <!--   -->\n    <g style=\"fill: #444443\" transform=\"translate(274.6476 9.947031) scale(0.13 -0.13)\">\n     <use xlink:href=\"#DejaVuSansMono-20\"/>\n    </g>\n   </g>\n   <g id=\"text_43\">\n    <!-- l -->\n    <g style=\"fill: #444443\" transform=\"translate(281.1762 9.947031) scale(0.13 -0.13)\">\n     <use xlink:href=\"#DejaVuSansMono-6c\"/>\n    </g>\n   </g>\n   <g id=\"text_44\">\n    <!-- 2 -->\n    <g style=\"fill: #444443\" transform=\"translate(287.7048 9.947031) scale(0.13 -0.13)\">\n     <defs>\n      <path id=\"DejaVuSansMono-32\" d=\"M 1166 531  L 3309 531  L 3309 0  L 475 0  L 475 531  Q 1059 1147 1496 1619  Q 1934 2091 2100 2284  Q 2413 2666 2522 2902  Q 2631 3138 2631 3384  Q 2631 3775 2401 3997  Q 2172 4219 1772 4219  Q 1488 4219 1175 4116  Q 863 4013 513 3803  L 513 4441  Q 834 4594 1145 4672  Q 1456 4750 1759 4750  Q 2444 4750 2861 4386  Q 3278 4022 3278 3431  Q 3278 3131 3139 2831  Q 3000 2531 2688 2169  Q 2513 1966 2180 1606  Q 1847 1247 1166 531  z \" transform=\"scale(0.015625)\"/>\n     </defs>\n     <use xlink:href=\"#DejaVuSansMono-32\"/>\n    </g>\n   </g>\n   <g id=\"text_45\">\n    <!-- _ -->\n    <g style=\"fill: #444443\" transform=\"translate(294.2334 9.947031) scale(0.13 -0.13)\">\n     <use xlink:href=\"#DejaVuSansMono-5f\"/>\n    </g>\n   </g>\n   <g id=\"text_46\">\n    <!-- w -->\n    <g style=\"fill: #444443\" transform=\"translate(300.762 9.947031) scale(0.13 -0.13)\">\n     <defs>\n      <path id=\"DejaVuSansMono-77\" d=\"M 0 3500  L 569 3500  L 1178 672  L 1678 2478  L 2169 2478  L 2675 672  L 3284 3500  L 3853 3500  L 3034 0  L 2484 0  L 1925 1919  L 1369 0  L 819 0  L 0 3500  z \" transform=\"scale(0.015625)\"/>\n     </defs>\n     <use xlink:href=\"#DejaVuSansMono-77\"/>\n    </g>\n   </g>\n   <g id=\"text_47\">\n    <!-- e -->\n    <g style=\"fill: #444443\" transform=\"translate(307.2906 9.947031) scale(0.13 -0.13)\">\n     <use xlink:href=\"#DejaVuSansMono-65\"/>\n    </g>\n   </g>\n   <g id=\"text_48\">\n    <!-- i -->\n    <g style=\"fill: #444443\" transform=\"translate(313.8192 9.947031) scale(0.13 -0.13)\">\n     <use xlink:href=\"#DejaVuSansMono-69\"/>\n    </g>\n   </g>\n   <g id=\"text_49\">\n    <!-- g -->\n    <g style=\"fill: #444443\" transform=\"translate(320.3478 9.947031) scale(0.13 -0.13)\">\n     <use xlink:href=\"#DejaVuSansMono-67\"/>\n    </g>\n   </g>\n   <g id=\"text_50\">\n    <!-- h -->\n    <g style=\"fill: #444443\" transform=\"translate(326.8764 9.947031) scale(0.13 -0.13)\">\n     <defs>\n      <path id=\"DejaVuSansMono-68\" d=\"M 3284 2169  L 3284 0  L 2706 0  L 2706 2169  Q 2706 2641 2540 2862  Q 2375 3084 2022 3084  Q 1619 3084 1401 2798  Q 1184 2513 1184 1978  L 1184 0  L 609 0  L 609 4863  L 1184 4863  L 1184 2975  Q 1338 3275 1600 3429  Q 1863 3584 2222 3584  Q 2756 3584 3020 3232  Q 3284 2881 3284 2169  z \" transform=\"scale(0.015625)\"/>\n     </defs>\n     <use xlink:href=\"#DejaVuSansMono-68\"/>\n    </g>\n   </g>\n   <g id=\"text_51\">\n    <!-- t -->\n    <g style=\"fill: #444443\" transform=\"translate(333.405 9.947031) scale(0.13 -0.13)\">\n     <use xlink:href=\"#DejaVuSansMono-74\"/>\n    </g>\n   </g>\n   <g id=\"text_52\">\n    <!-- s -->\n    <g style=\"fill: #444443\" transform=\"translate(339.9336 9.947031) scale(0.13 -0.13)\">\n     <defs>\n      <path id=\"DejaVuSansMono-73\" d=\"M 3041 3378  L 3041 2816  Q 2794 2959 2544 3031  Q 2294 3103 2034 3103  Q 1644 3103 1451 2976  Q 1259 2850 1259 2591  Q 1259 2356 1403 2240  Q 1547 2125 2119 2016  L 2350 1972  Q 2778 1891 2998 1647  Q 3219 1403 3219 1013  Q 3219 494 2850 201  Q 2481 -91 1825 -91  Q 1566 -91 1281 -36  Q 997 19 666 128  L 666 722  Q 988 556 1281 473  Q 1575 391 1838 391  Q 2219 391 2428 545  Q 2638 700 2638 978  Q 2638 1378 1872 1531  L 1847 1538  L 1631 1581  Q 1134 1678 906 1908  Q 678 2138 678 2534  Q 678 3038 1018 3311  Q 1359 3584 1991 3584  Q 2272 3584 2531 3532  Q 2791 3481 3041 3378  z \" transform=\"scale(0.015625)\"/>\n     </defs>\n     <use xlink:href=\"#DejaVuSansMono-73\"/>\n    </g>\n   </g>\n   <g id=\"text_53\">\n    <!-- . -->\n    <g style=\"fill: #444443\" transform=\"translate(346.4622 9.947031) scale(0.13 -0.13)\">\n     <defs>\n      <path id=\"DejaVuSansMono-2e\" d=\"M 1528 953  L 2316 953  L 2316 0  L 1528 0  L 1528 953  z \" transform=\"scale(0.015625)\"/>\n     </defs>\n     <use xlink:href=\"#DejaVuSansMono-2e\"/>\n    </g>\n   </g>\n   <g id=\"text_54\">\n    <!-- T -->\n    <g style=\"fill: #444443\" transform=\"translate(352.9908 9.947031) scale(0.13 -0.13)\">\n     <defs>\n      <path id=\"DejaVuSansMono-54\" d=\"M 147 4666  L 3706 4666  L 3706 4134  L 2247 4134  L 2247 0  L 1613 0  L 1613 4134  L 147 4134  L 147 4666  z \" transform=\"scale(0.015625)\"/>\n     </defs>\n     <use xlink:href=\"#DejaVuSansMono-54\"/>\n    </g>\n   </g>\n   <g id=\"text_55\">\n    <!-- 5 -->\n    <g transform=\"translate(62.228531 37.897572) rotate(-90) scale(0.09 -0.09)\">\n     <defs>\n      <path id=\"DejaVuSans-35\" d=\"M 691 4666  L 3169 4666  L 3169 4134  L 1269 4134  L 1269 2991  Q 1406 3038 1543 3061  Q 1681 3084 1819 3084  Q 2600 3084 3056 2656  Q 3513 2228 3513 1497  Q 3513 744 3044 326  Q 2575 -91 1722 -91  Q 1428 -91 1123 -41  Q 819 9 494 109  L 494 744  Q 775 591 1075 516  Q 1375 441 1709 441  Q 2250 441 2565 725  Q 2881 1009 2881 1497  Q 2881 1984 2565 2268  Q 2250 2553 1709 2553  Q 1456 2553 1204 2497  Q 953 2441 691 2322  L 691 4666  z \" transform=\"scale(0.015625)\"/>\n     </defs>\n     <use xlink:href=\"#DejaVuSans-35\"/>\n    </g>\n   </g>\n   <g id=\"text_56\">\n    <!-- 2 -->\n    <g transform=\"translate(72.662175 22.297107) scale(0.09 -0.09)\">\n     <defs>\n      <path id=\"DejaVuSans-32\" d=\"M 1228 531  L 3431 531  L 3431 0  L 469 0  L 469 531  Q 828 903 1448 1529  Q 2069 2156 2228 2338  Q 2531 2678 2651 2914  Q 2772 3150 2772 3378  Q 2772 3750 2511 3984  Q 2250 4219 1831 4219  Q 1534 4219 1204 4116  Q 875 4013 500 3803  L 500 4441  Q 881 4594 1212 4672  Q 1544 4750 1819 4750  Q 2544 4750 2975 4387  Q 3406 4025 3406 3419  Q 3406 3131 3298 2873  Q 3191 2616 2906 2266  Q 2828 2175 2409 1742  Q 1991 1309 1228 531  z \" transform=\"scale(0.015625)\"/>\n     </defs>\n     <use xlink:href=\"#DejaVuSans-32\"/>\n    </g>\n   </g>\n   <g id=\"text_57\">\n    <!-- &lt;${\\mathit{float64}}$&gt; -->\n    <g transform=\"translate(57.3253 53.090693) scale(0.07 -0.07)\">\n     <defs>\n      <path id=\"DejaVuSans-3c\" d=\"M 4684 3150  L 1459 2003  L 4684 863  L 4684 294  L 678 1747  L 678 2266  L 4684 3719  L 4684 3150  z \" transform=\"scale(0.015625)\"/>\n      <path id=\"DejaVuSans-Oblique-66\" d=\"M 3059 4863  L 2969 4384  L 2419 4384  Q 2106 4384 1964 4261  Q 1822 4138 1753 3809  L 1691 3500  L 2638 3500  L 2553 3053  L 1606 3053  L 1013 0  L 434 0  L 1031 3053  L 481 3053  L 563 3500  L 1113 3500  L 1159 3744  Q 1278 4363 1576 4613  Q 1875 4863 2516 4863  L 3059 4863  z \" transform=\"scale(0.015625)\"/>\n      <path id=\"DejaVuSans-Oblique-6c\" d=\"M 1172 4863  L 1747 4863  L 800 0  L 225 0  L 1172 4863  z \" transform=\"scale(0.015625)\"/>\n      <path id=\"DejaVuSans-Oblique-6f\" d=\"M 1625 -91  Q 1009 -91 651 289  Q 294 669 294 1325  Q 294 1706 417 2101  Q 541 2497 738 2766  Q 1047 3184 1428 3384  Q 1809 3584 2291 3584  Q 2888 3584 3255 3212  Q 3622 2841 3622 2241  Q 3622 1825 3500 1412  Q 3378 1000 3181 728  Q 2875 309 2494 109  Q 2113 -91 1625 -91  z M 891 1344  Q 891 869 1089 633  Q 1288 397 1691 397  Q 2269 397 2648 901  Q 3028 1406 3028 2181  Q 3028 2634 2825 2865  Q 2622 3097 2228 3097  Q 1903 3097 1650 2945  Q 1397 2794 1197 2484  Q 1050 2253 970 1956  Q 891 1659 891 1344  z \" transform=\"scale(0.015625)\"/>\n      <path id=\"DejaVuSans-Oblique-61\" d=\"M 3438 1997  L 3047 0  L 2472 0  L 2578 531  Q 2325 219 2001 64  Q 1678 -91 1281 -91  Q 834 -91 548 182  Q 263 456 263 884  Q 263 1497 752 1853  Q 1241 2209 2100 2209  L 2900 2209  L 2931 2363  Q 2938 2388 2941 2417  Q 2944 2447 2944 2509  Q 2944 2788 2717 2942  Q 2491 3097 2081 3097  Q 1800 3097 1504 3025  Q 1209 2953 897 2809  L 997 3341  Q 1322 3463 1633 3523  Q 1944 3584 2234 3584  Q 2853 3584 3176 3315  Q 3500 3047 3500 2534  Q 3500 2431 3484 2292  Q 3469 2153 3438 1997  z M 2816 1759  L 2241 1759  Q 1534 1759 1195 1570  Q 856 1381 856 984  Q 856 709 1029 553  Q 1203 397 1509 397  Q 1978 397 2328 733  Q 2678 1069 2791 1631  L 2816 1759  z \" transform=\"scale(0.015625)\"/>\n      <path id=\"DejaVuSans-Oblique-74\" d=\"M 2706 3500  L 2619 3053  L 1472 3053  L 1100 1153  Q 1081 1047 1072 975  Q 1063 903 1063 863  Q 1063 663 1183 572  Q 1303 481 1569 481  L 2150 481  L 2053 0  L 1503 0  Q 991 0 739 200  Q 488 400 488 806  Q 488 878 497 964  Q 506 1050 525 1153  L 897 3053  L 409 3053  L 500 3500  L 978 3500  L 1172 4494  L 1747 4494  L 1556 3500  L 2706 3500  z \" transform=\"scale(0.015625)\"/>\n      <path id=\"DejaVuSans-36\" d=\"M 2113 2584  Q 1688 2584 1439 2293  Q 1191 2003 1191 1497  Q 1191 994 1439 701  Q 1688 409 2113 409  Q 2538 409 2786 701  Q 3034 994 3034 1497  Q 3034 2003 2786 2293  Q 2538 2584 2113 2584  z M 3366 4563  L 3366 3988  Q 3128 4100 2886 4159  Q 2644 4219 2406 4219  Q 1781 4219 1451 3797  Q 1122 3375 1075 2522  Q 1259 2794 1537 2939  Q 1816 3084 2150 3084  Q 2853 3084 3261 2657  Q 3669 2231 3669 1497  Q 3669 778 3244 343  Q 2819 -91 2113 -91  Q 1303 -91 875 529  Q 447 1150 447 2328  Q 447 3434 972 4092  Q 1497 4750 2381 4750  Q 2619 4750 2861 4703  Q 3103 4656 3366 4563  z \" transform=\"scale(0.015625)\"/>\n      <path id=\"DejaVuSans-34\" d=\"M 2419 4116  L 825 1625  L 2419 1625  L 2419 4116  z M 2253 4666  L 3047 4666  L 3047 1625  L 3713 1625  L 3713 1100  L 3047 1100  L 3047 0  L 2419 0  L 2419 1100  L 313 1100  L 313 1709  L 2253 4666  z \" transform=\"scale(0.015625)\"/>\n      <path id=\"DejaVuSans-3e\" d=\"M 678 3150  L 678 3719  L 4684 2266  L 4684 1747  L 678 294  L 678 863  L 3897 2003  L 678 3150  z \" transform=\"scale(0.015625)\"/>\n     </defs>\n     <use xlink:href=\"#DejaVuSans-3c\" transform=\"translate(0 0.015625)\"/>\n     <use xlink:href=\"#DejaVuSans-Oblique-66\" transform=\"translate(83.789062 0.015625)\"/>\n     <use xlink:href=\"#DejaVuSans-Oblique-6c\" transform=\"translate(118.994141 0.015625)\"/>\n     <use xlink:href=\"#DejaVuSans-Oblique-6f\" transform=\"translate(146.777344 0.015625)\"/>\n     <use xlink:href=\"#DejaVuSans-Oblique-61\" transform=\"translate(207.958984 0.015625)\"/>\n     <use xlink:href=\"#DejaVuSans-Oblique-74\" transform=\"translate(269.238281 0.015625)\"/>\n     <use xlink:href=\"#DejaVuSans-36\" transform=\"translate(308.447266 0.015625)\"/>\n     <use xlink:href=\"#DejaVuSans-34\" transform=\"translate(372.070312 0.015625)\"/>\n     <use xlink:href=\"#DejaVuSans-3e\" transform=\"translate(435.693359 0.015625)\"/>\n    </g>\n   </g>\n   <g id=\"text_58\">\n    <!-- 5 -->\n    <g transform=\"translate(208.142741 37.897572) rotate(-90) scale(0.09 -0.09)\">\n     <use xlink:href=\"#DejaVuSans-35\"/>\n    </g>\n   </g>\n   <g id=\"text_59\">\n    <!-- 1 -->\n    <g transform=\"translate(209.762775 22.297107) scale(0.09 -0.09)\">\n     <defs>\n      <path id=\"DejaVuSans-31\" d=\"M 794 531  L 1825 531  L 1825 4091  L 703 3866  L 703 4441  L 1819 4666  L 2450 4666  L 2450 531  L 3481 531  L 3481 0  L 794 0  L 794 531  z \" transform=\"scale(0.015625)\"/>\n     </defs>\n     <use xlink:href=\"#DejaVuSans-31\"/>\n    </g>\n   </g>\n   <g id=\"text_60\">\n    <!-- &lt;${\\mathit{float64}}$&gt; -->\n    <g transform=\"translate(194.4259 53.090693) scale(0.07 -0.07)\">\n     <use xlink:href=\"#DejaVuSans-3c\" transform=\"translate(0 0.015625)\"/>\n     <use xlink:href=\"#DejaVuSans-Oblique-66\" transform=\"translate(83.789062 0.015625)\"/>\n     <use xlink:href=\"#DejaVuSans-Oblique-6c\" transform=\"translate(118.994141 0.015625)\"/>\n     <use xlink:href=\"#DejaVuSans-Oblique-6f\" transform=\"translate(146.777344 0.015625)\"/>\n     <use xlink:href=\"#DejaVuSans-Oblique-61\" transform=\"translate(207.958984 0.015625)\"/>\n     <use xlink:href=\"#DejaVuSans-Oblique-74\" transform=\"translate(269.238281 0.015625)\"/>\n     <use xlink:href=\"#DejaVuSans-36\" transform=\"translate(308.447266 0.015625)\"/>\n     <use xlink:href=\"#DejaVuSans-34\" transform=\"translate(372.070312 0.015625)\"/>\n     <use xlink:href=\"#DejaVuSans-3e\" transform=\"translate(435.693359 0.015625)\"/>\n    </g>\n   </g>\n   <g id=\"text_61\">\n    <!-- 1 -->\n    <g transform=\"translate(307.051031 29.140824) rotate(-90) scale(0.09 -0.09)\">\n     <use xlink:href=\"#DejaVuSans-31\"/>\n    </g>\n   </g>\n   <g id=\"text_62\">\n    <!-- 2 -->\n    <g transform=\"translate(317.484675 22.297107) scale(0.09 -0.09)\">\n     <use xlink:href=\"#DejaVuSans-32\"/>\n    </g>\n   </g>\n   <g id=\"text_63\">\n    <!-- &lt;${\\mathit{float64}}$&gt; -->\n    <g transform=\"translate(302.1478 35.577197) scale(0.07 -0.07)\">\n     <use xlink:href=\"#DejaVuSans-3c\" transform=\"translate(0 0.015625)\"/>\n     <use xlink:href=\"#DejaVuSans-Oblique-66\" transform=\"translate(83.789062 0.015625)\"/>\n     <use xlink:href=\"#DejaVuSans-Oblique-6c\" transform=\"translate(118.994141 0.015625)\"/>\n     <use xlink:href=\"#DejaVuSans-Oblique-6f\" transform=\"translate(146.777344 0.015625)\"/>\n     <use xlink:href=\"#DejaVuSans-Oblique-61\" transform=\"translate(207.958984 0.015625)\"/>\n     <use xlink:href=\"#DejaVuSans-Oblique-74\" transform=\"translate(269.238281 0.015625)\"/>\n     <use xlink:href=\"#DejaVuSans-36\" transform=\"translate(308.447266 0.015625)\"/>\n     <use xlink:href=\"#DejaVuSans-34\" transform=\"translate(372.070312 0.015625)\"/>\n     <use xlink:href=\"#DejaVuSans-3e\" transform=\"translate(435.693359 0.015625)\"/>\n    </g>\n   </g>\n  </g>\n </g>\n <defs>\n  <clipPath id=\"p6a99af20a5\">\n   <rect x=\"0\" y=\"4.901991\" width=\"359.5194\" height=\"42.315395\"/>\n  </clipPath>\n </defs>\n</svg>"
          },
          "metadata": {}
        },
        {
          "output_type": "execute_result",
          "data": {
            "text/plain": [
              "array([[-10.99339709,  -5.88071407],\n",
              "       [-11.51828896,  -6.16149525],\n",
              "       [-12.04318084,  -6.44227643],\n",
              "       [  8.83053383,   4.72373044],\n",
              "       [  5.46350686,   2.92260175]])"
            ]
          },
          "metadata": {},
          "execution_count": 32
        }
      ]
    },
    {
      "cell_type": "code",
      "source": [
        "temps = np.arange(-50, 50)\n",
        "\n",
        "plt.plot(temps, np.maximum(0, temps))"
      ],
      "metadata": {
        "colab": {
          "base_uri": "https://localhost:8080/",
          "height": 447
        },
        "id": "av9EVnqHE_kt",
        "outputId": "596bd033-7649-4a86-b30b-940982fe4640"
      },
      "execution_count": 29,
      "outputs": [
        {
          "output_type": "execute_result",
          "data": {
            "text/plain": [
              "[<matplotlib.lines.Line2D at 0x7fc2e20df760>]"
            ]
          },
          "metadata": {},
          "execution_count": 29
        },
        {
          "output_type": "display_data",
          "data": {
            "text/plain": [
              "<Figure size 640x480 with 1 Axes>"
            ],
            "image/png": "[encoded data removed]"
          },
          "metadata": {}
        }
      ]
    },
    {
      "cell_type": "code",
      "source": [
        "activation = np.maximum(0, temps)\n",
        "\n",
        "plt.plot(temps[1:], activation[1:] - np.roll(activation, 1)[1:])"
      ],
      "metadata": {
        "colab": {
          "base_uri": "https://localhost:8080/",
          "height": 447
        },
        "id": "inJWd1QuFSfD",
        "outputId": "944b88a7-9f0f-458d-f3b7-a21c97350fc6"
      },
      "execution_count": 30,
      "outputs": [
        {
          "output_type": "execute_result",
          "data": {
            "text/plain": [
              "[<matplotlib.lines.Line2D at 0x7fc2de6bb2b0>]"
            ]
          },
          "metadata": {},
          "execution_count": 30
        },
        {
          "output_type": "display_data",
          "data": {
            "text/plain": [
              "<Figure size 640x480 with 1 Axes>"
            ],
            "image/png": "[encoded data removed]"
          },
          "metadata": {}
        }
      ]
    },
    {
      "cell_type": "code",
      "source": [
        "with exp():\n",
        "  l1_output_gradient = l1_activated_gradient * np.heaviside(l1_output, 0)\n",
        "\n",
        "l1_output_gradient"
      ],
      "metadata": {
        "colab": {
          "base_uri": "https://localhost:8080/",
          "height": 1000
        },
        "id": "8CMyNxNLFjm-",
        "outputId": "e9855757-260b-41a9-91e5-1a6e9d89b249"
      },
      "execution_count": 33,
      "outputs": [
        {
          "output_type": "stream",
          "name": "stderr",
          "text": [
            "WARNING:matplotlib.font_manager:findfont: Font family 'Consolas' not found.\n",
            "WARNING:matplotlib.font_manager:findfont: Font family 'Consolas' not found.\n",
            "WARNING:matplotlib.font_manager:findfont: Font family 'Consolas' not found.\n",
            "WARNING:matplotlib.font_manager:findfont: Font family 'Consolas' not found.\n",
            "WARNING:matplotlib.font_manager:findfont: Font family 'Consolas' not found.\n",
            "WARNING:matplotlib.font_manager:findfont: Font family 'Consolas' not found.\n",
            "WARNING:matplotlib.font_manager:findfont: Font family 'Consolas' not found.\n",
            "WARNING:matplotlib.font_manager:findfont: Font family 'Consolas' not found.\n",
            "WARNING:matplotlib.font_manager:findfont: Font family 'Consolas' not found.\n",
            "WARNING:matplotlib.font_manager:findfont: Font family 'Consolas' not found.\n",
            "WARNING:matplotlib.font_manager:findfont: Font family 'Consolas' not found.\n",
            "WARNING:matplotlib.font_manager:findfont: Font family 'Consolas' not found.\n",
            "WARNING:matplotlib.font_manager:findfont: Font family 'Consolas' not found.\n",
            "WARNING:matplotlib.font_manager:findfont: Font family 'Consolas' not found.\n",
            "WARNING:matplotlib.font_manager:findfont: Font family 'Consolas' not found.\n",
            "WARNING:matplotlib.font_manager:findfont: Font family 'Consolas' not found.\n",
            "WARNING:matplotlib.font_manager:findfont: Font family 'Consolas' not found.\n",
            "WARNING:matplotlib.font_manager:findfont: Font family 'Consolas' not found.\n",
            "WARNING:matplotlib.font_manager:findfont: Font family 'Consolas' not found.\n",
            "WARNING:matplotlib.font_manager:findfont: Font family 'Consolas' not found.\n",
            "WARNING:matplotlib.font_manager:findfont: Font family 'Consolas' not found.\n",
            "WARNING:matplotlib.font_manager:findfont: Font family 'Consolas' not found.\n",
            "WARNING:matplotlib.font_manager:findfont: Font family 'Consolas' not found.\n",
            "WARNING:matplotlib.font_manager:findfont: Font family 'Consolas' not found.\n",
            "WARNING:matplotlib.font_manager:findfont: Font family 'Consolas' not found.\n",
            "WARNING:matplotlib.font_manager:findfont: Font family 'Consolas' not found.\n",
            "WARNING:matplotlib.font_manager:findfont: Font family 'Consolas' not found.\n",
            "WARNING:matplotlib.font_manager:findfont: Font family 'Arial' not found.\n",
            "WARNING:matplotlib.font_manager:findfont: Font family 'Arial' not found.\n",
            "WARNING:matplotlib.font_manager:findfont: Font family 'Arial' not found.\n",
            "WARNING:matplotlib.font_manager:findfont: Font family 'Arial' not found.\n",
            "WARNING:matplotlib.font_manager:findfont: Font family 'Consolas' not found.\n",
            "WARNING:matplotlib.font_manager:findfont: Font family 'Consolas' not found.\n",
            "WARNING:matplotlib.font_manager:findfont: Font family 'Consolas' not found.\n",
            "WARNING:matplotlib.font_manager:findfont: Font family 'Consolas' not found.\n",
            "WARNING:matplotlib.font_manager:findfont: Font family 'Consolas' not found.\n",
            "WARNING:matplotlib.font_manager:findfont: Font family 'Consolas' not found.\n",
            "WARNING:matplotlib.font_manager:findfont: Font family 'Consolas' not found.\n",
            "WARNING:matplotlib.font_manager:findfont: Font family 'Consolas' not found.\n",
            "WARNING:matplotlib.font_manager:findfont: Font family 'Consolas' not found.\n",
            "WARNING:matplotlib.font_manager:findfont: Font family 'Consolas' not found.\n",
            "WARNING:matplotlib.font_manager:findfont: Font family 'Consolas' not found.\n",
            "WARNING:matplotlib.font_manager:findfont: Font family 'Consolas' not found.\n",
            "WARNING:matplotlib.font_manager:findfont: Font family 'Consolas' not found.\n",
            "WARNING:matplotlib.font_manager:findfont: Font family 'Consolas' not found.\n",
            "WARNING:matplotlib.font_manager:findfont: Font family 'Consolas' not found.\n",
            "WARNING:matplotlib.font_manager:findfont: Font family 'Consolas' not found.\n",
            "WARNING:matplotlib.font_manager:findfont: Font family 'Consolas' not found.\n",
            "WARNING:matplotlib.font_manager:findfont: Font family 'Consolas' not found.\n",
            "WARNING:matplotlib.font_manager:findfont: Font family 'Consolas' not found.\n",
            "WARNING:matplotlib.font_manager:findfont: Font family 'Consolas' not found.\n",
            "WARNING:matplotlib.font_manager:findfont: Font family 'Consolas' not found.\n",
            "WARNING:matplotlib.font_manager:findfont: Font family 'Consolas' not found.\n",
            "WARNING:matplotlib.font_manager:findfont: Font family 'Consolas' not found.\n",
            "WARNING:matplotlib.font_manager:findfont: Font family 'Consolas' not found.\n",
            "WARNING:matplotlib.font_manager:findfont: Font family 'Consolas' not found.\n",
            "WARNING:matplotlib.font_manager:findfont: Font family 'Consolas' not found.\n",
            "WARNING:matplotlib.font_manager:findfont: Font family 'Consolas' not found.\n",
            "WARNING:matplotlib.font_manager:findfont: Font family 'Consolas' not found.\n",
            "WARNING:matplotlib.font_manager:findfont: Font family 'Consolas' not found.\n",
            "WARNING:matplotlib.font_manager:findfont: Font family 'Consolas' not found.\n",
            "WARNING:matplotlib.font_manager:findfont: Font family 'Consolas' not found.\n",
            "WARNING:matplotlib.font_manager:findfont: Font family 'Consolas' not found.\n",
            "WARNING:matplotlib.font_manager:findfont: Font family 'Consolas' not found.\n",
            "WARNING:matplotlib.font_manager:findfont: Font family 'Consolas' not found.\n",
            "WARNING:matplotlib.font_manager:findfont: Font family 'Consolas' not found.\n",
            "WARNING:matplotlib.font_manager:findfont: Font family 'Consolas' not found.\n",
            "WARNING:matplotlib.font_manager:findfont: Font family 'Consolas' not found.\n",
            "WARNING:matplotlib.font_manager:findfont: Font family 'Consolas' not found.\n",
            "WARNING:matplotlib.font_manager:findfont: Font family 'Consolas' not found.\n",
            "WARNING:matplotlib.font_manager:findfont: Font family 'Consolas' not found.\n",
            "WARNING:matplotlib.font_manager:findfont: Font family 'Consolas' not found.\n",
            "WARNING:matplotlib.font_manager:findfont: Font family 'Consolas' not found.\n",
            "WARNING:matplotlib.font_manager:findfont: Font family 'Consolas' not found.\n",
            "WARNING:matplotlib.font_manager:findfont: Font family 'Consolas' not found.\n",
            "WARNING:matplotlib.font_manager:findfont: Font family 'Consolas' not found.\n",
            "WARNING:matplotlib.font_manager:findfont: Font family 'Consolas' not found.\n",
            "WARNING:matplotlib.font_manager:findfont: Font family 'Consolas' not found.\n",
            "WARNING:matplotlib.font_manager:findfont: Font family 'Consolas' not found.\n",
            "WARNING:matplotlib.font_manager:findfont: Font family 'Consolas' not found.\n",
            "WARNING:matplotlib.font_manager:findfont: Font family 'Consolas' not found.\n",
            "WARNING:matplotlib.font_manager:findfont: Font family 'Consolas' not found.\n",
            "WARNING:matplotlib.font_manager:findfont: Font family 'Consolas' not found.\n",
            "WARNING:matplotlib.font_manager:findfont: Font family 'Consolas' not found.\n",
            "WARNING:matplotlib.font_manager:findfont: Font family 'Consolas' not found.\n",
            "WARNING:matplotlib.font_manager:findfont: Font family 'Consolas' not found.\n",
            "WARNING:matplotlib.font_manager:findfont: Font family 'Consolas' not found.\n",
            "WARNING:matplotlib.font_manager:findfont: Font family 'Consolas' not found.\n",
            "WARNING:matplotlib.font_manager:findfont: Font family 'Consolas' not found.\n",
            "WARNING:matplotlib.font_manager:findfont: Font family 'Consolas' not found.\n",
            "WARNING:matplotlib.font_manager:findfont: Font family 'Consolas' not found.\n",
            "WARNING:matplotlib.font_manager:findfont: Font family 'Consolas' not found.\n",
            "WARNING:matplotlib.font_manager:findfont: Font family 'Consolas' not found.\n",
            "WARNING:matplotlib.font_manager:findfont: Font family 'Consolas' not found.\n",
            "WARNING:matplotlib.font_manager:findfont: Font family 'Consolas' not found.\n",
            "WARNING:matplotlib.font_manager:findfont: Font family 'Consolas' not found.\n",
            "WARNING:matplotlib.font_manager:findfont: Font family 'Consolas' not found.\n",
            "WARNING:matplotlib.font_manager:findfont: Font family 'Consolas' not found.\n",
            "WARNING:matplotlib.font_manager:findfont: Font family 'Consolas' not found.\n",
            "WARNING:matplotlib.font_manager:findfont: Font family 'Consolas' not found.\n",
            "WARNING:matplotlib.font_manager:findfont: Font family 'Consolas' not found.\n",
            "WARNING:matplotlib.font_manager:findfont: Font family 'Consolas' not found.\n",
            "WARNING:matplotlib.font_manager:findfont: Font family 'Consolas' not found.\n",
            "WARNING:matplotlib.font_manager:findfont: Font family 'Consolas' not found.\n",
            "WARNING:matplotlib.font_manager:findfont: Font family 'Consolas' not found.\n",
            "WARNING:matplotlib.font_manager:findfont: Font family 'Consolas' not found.\n",
            "WARNING:matplotlib.font_manager:findfont: Font family 'Consolas' not found.\n",
            "WARNING:matplotlib.font_manager:findfont: Font family 'Consolas' not found.\n",
            "WARNING:matplotlib.font_manager:findfont: Font family 'Consolas' not found.\n",
            "WARNING:matplotlib.font_manager:findfont: Font family 'Consolas' not found.\n",
            "WARNING:matplotlib.font_manager:findfont: Font family 'Consolas' not found.\n",
            "WARNING:matplotlib.font_manager:findfont: Font family 'Consolas' not found.\n",
            "WARNING:matplotlib.font_manager:findfont: Font family 'Consolas' not found.\n",
            "WARNING:matplotlib.font_manager:findfont: Font family 'Consolas' not found.\n",
            "WARNING:matplotlib.font_manager:findfont: Font family 'Consolas' not found.\n",
            "WARNING:matplotlib.font_manager:findfont: Font family 'Consolas' not found.\n",
            "WARNING:matplotlib.font_manager:findfont: Font family 'Consolas' not found.\n",
            "WARNING:matplotlib.font_manager:findfont: Font family 'Consolas' not found.\n",
            "WARNING:matplotlib.font_manager:findfont: Font family 'Consolas' not found.\n",
            "WARNING:matplotlib.font_manager:findfont: Font family 'Consolas' not found.\n",
            "WARNING:matplotlib.font_manager:findfont: Font family 'Consolas' not found.\n",
            "WARNING:matplotlib.font_manager:findfont: Font family 'Consolas' not found.\n",
            "WARNING:matplotlib.font_manager:findfont: Font family 'Consolas' not found.\n",
            "WARNING:matplotlib.font_manager:findfont: Font family 'Consolas' not found.\n",
            "WARNING:matplotlib.font_manager:findfont: Font family 'Consolas' not found.\n",
            "WARNING:matplotlib.font_manager:findfont: Font family 'Consolas' not found.\n",
            "WARNING:matplotlib.font_manager:findfont: Font family 'Consolas' not found.\n",
            "WARNING:matplotlib.font_manager:findfont: Font family 'Consolas' not found.\n",
            "WARNING:matplotlib.font_manager:findfont: Font family 'Consolas' not found.\n",
            "WARNING:matplotlib.font_manager:findfont: Font family 'Arial' not found.\n",
            "WARNING:matplotlib.font_manager:findfont: Font family 'Arial' not found.\n",
            "WARNING:matplotlib.font_manager:findfont: Font family 'Arial' not found.\n",
            "WARNING:matplotlib.font_manager:findfont: Font family 'Arial' not found.\n",
            "WARNING:matplotlib.font_manager:findfont: Font family 'Arial' not found.\n",
            "WARNING:matplotlib.font_manager:findfont: Font family 'Arial' not found.\n",
            "WARNING:matplotlib.font_manager:findfont: Font family 'Arial' not found.\n",
            "WARNING:matplotlib.font_manager:findfont: Font family 'Arial' not found.\n",
            "WARNING:matplotlib.font_manager:findfont: Font family 'Arial' not found.\n",
            "WARNING:matplotlib.font_manager:findfont: Font family 'Arial' not found.\n",
            "WARNING:matplotlib.font_manager:findfont: Font family 'Consolas' not found.\n",
            "WARNING:matplotlib.font_manager:findfont: Font family 'Consolas' not found.\n",
            "WARNING:matplotlib.font_manager:findfont: Font family 'Consolas' not found.\n",
            "WARNING:matplotlib.font_manager:findfont: Font family 'Consolas' not found.\n",
            "WARNING:matplotlib.font_manager:findfont: Font family 'Consolas' not found.\n",
            "WARNING:matplotlib.font_manager:findfont: Font family 'Consolas' not found.\n",
            "WARNING:matplotlib.font_manager:findfont: Font family 'Consolas' not found.\n",
            "WARNING:matplotlib.font_manager:findfont: Font family 'Consolas' not found.\n",
            "WARNING:matplotlib.font_manager:findfont: Font family 'Consolas' not found.\n",
            "WARNING:matplotlib.font_manager:findfont: Font family 'Consolas' not found.\n",
            "WARNING:matplotlib.font_manager:findfont: Font family 'Consolas' not found.\n",
            "WARNING:matplotlib.font_manager:findfont: Font family 'Consolas' not found.\n",
            "WARNING:matplotlib.font_manager:findfont: Font family 'Consolas' not found.\n",
            "WARNING:matplotlib.font_manager:findfont: Font family 'Consolas' not found.\n",
            "WARNING:matplotlib.font_manager:findfont: Font family 'Consolas' not found.\n",
            "WARNING:matplotlib.font_manager:findfont: Font family 'Consolas' not found.\n",
            "WARNING:matplotlib.font_manager:findfont: Font family 'Consolas' not found.\n",
            "WARNING:matplotlib.font_manager:findfont: Font family 'Consolas' not found.\n",
            "WARNING:matplotlib.font_manager:findfont: Font family 'Consolas' not found.\n",
            "WARNING:matplotlib.font_manager:findfont: Font family 'Consolas' not found.\n",
            "WARNING:matplotlib.font_manager:findfont: Font family 'Consolas' not found.\n",
            "WARNING:matplotlib.font_manager:findfont: Font family 'Consolas' not found.\n",
            "WARNING:matplotlib.font_manager:findfont: Font family 'Consolas' not found.\n",
            "WARNING:matplotlib.font_manager:findfont: Font family 'Consolas' not found.\n",
            "WARNING:matplotlib.font_manager:findfont: Font family 'Consolas' not found.\n",
            "WARNING:matplotlib.font_manager:findfont: Font family 'Consolas' not found.\n",
            "WARNING:matplotlib.font_manager:findfont: Font family 'Consolas' not found.\n",
            "WARNING:matplotlib.font_manager:findfont: Font family 'Consolas' not found.\n",
            "WARNING:matplotlib.font_manager:findfont: Font family 'Consolas' not found.\n",
            "WARNING:matplotlib.font_manager:findfont: Font family 'Consolas' not found.\n",
            "WARNING:matplotlib.font_manager:findfont: Font family 'Consolas' not found.\n",
            "WARNING:matplotlib.font_manager:findfont: Font family 'Consolas' not found.\n",
            "WARNING:matplotlib.font_manager:findfont: Font family 'Consolas' not found.\n",
            "WARNING:matplotlib.font_manager:findfont: Font family 'Consolas' not found.\n",
            "WARNING:matplotlib.font_manager:findfont: Font family 'Consolas' not found.\n",
            "WARNING:matplotlib.font_manager:findfont: Font family 'Consolas' not found.\n",
            "WARNING:matplotlib.font_manager:findfont: Font family 'Consolas' not found.\n",
            "WARNING:matplotlib.font_manager:findfont: Font family 'Consolas' not found.\n",
            "WARNING:matplotlib.font_manager:findfont: Font family 'Consolas' not found.\n",
            "WARNING:matplotlib.font_manager:findfont: Font family 'Consolas' not found.\n",
            "WARNING:matplotlib.font_manager:findfont: Font family 'Consolas' not found.\n",
            "WARNING:matplotlib.font_manager:findfont: Font family 'Consolas' not found.\n",
            "WARNING:matplotlib.font_manager:findfont: Font family 'Consolas' not found.\n",
            "WARNING:matplotlib.font_manager:findfont: Font family 'Consolas' not found.\n",
            "WARNING:matplotlib.font_manager:findfont: Font family 'Consolas' not found.\n",
            "WARNING:matplotlib.font_manager:findfont: Font family 'Consolas' not found.\n",
            "WARNING:matplotlib.font_manager:findfont: Font family 'Consolas' not found.\n",
            "WARNING:matplotlib.font_manager:findfont: Font family 'Consolas' not found.\n",
            "WARNING:matplotlib.font_manager:findfont: Font family 'Consolas' not found.\n",
            "WARNING:matplotlib.font_manager:findfont: Font family 'Consolas' not found.\n",
            "WARNING:matplotlib.font_manager:findfont: Font family 'Consolas' not found.\n",
            "WARNING:matplotlib.font_manager:findfont: Font family 'Consolas' not found.\n",
            "WARNING:matplotlib.font_manager:findfont: Font family 'Consolas' not found.\n",
            "WARNING:matplotlib.font_manager:findfont: Font family 'Consolas' not found.\n",
            "WARNING:matplotlib.font_manager:findfont: Font family 'Consolas' not found.\n",
            "WARNING:matplotlib.font_manager:findfont: Font family 'Consolas' not found.\n",
            "WARNING:matplotlib.font_manager:findfont: Font family 'Consolas' not found.\n",
            "WARNING:matplotlib.font_manager:findfont: Font family 'Consolas' not found.\n",
            "WARNING:matplotlib.font_manager:findfont: Font family 'Consolas' not found.\n",
            "WARNING:matplotlib.font_manager:findfont: Font family 'Consolas' not found.\n",
            "WARNING:matplotlib.font_manager:findfont: Font family 'Consolas' not found.\n",
            "WARNING:matplotlib.font_manager:findfont: Font family 'Consolas' not found.\n",
            "WARNING:matplotlib.font_manager:findfont: Font family 'Consolas' not found.\n",
            "WARNING:matplotlib.font_manager:findfont: Font family 'Consolas' not found.\n",
            "WARNING:matplotlib.font_manager:findfont: Font family 'Consolas' not found.\n",
            "WARNING:matplotlib.font_manager:findfont: Font family 'Consolas' not found.\n",
            "WARNING:matplotlib.font_manager:findfont: Font family 'Consolas' not found.\n",
            "WARNING:matplotlib.font_manager:findfont: Font family 'Consolas' not found.\n",
            "WARNING:matplotlib.font_manager:findfont: Font family 'Consolas' not found.\n",
            "WARNING:matplotlib.font_manager:findfont: Font family 'Consolas' not found.\n",
            "WARNING:matplotlib.font_manager:findfont: Font family 'Consolas' not found.\n",
            "WARNING:matplotlib.font_manager:findfont: Font family 'Consolas' not found.\n",
            "WARNING:matplotlib.font_manager:findfont: Font family 'Consolas' not found.\n",
            "WARNING:matplotlib.font_manager:findfont: Font family 'Consolas' not found.\n",
            "WARNING:matplotlib.font_manager:findfont: Font family 'Consolas' not found.\n",
            "WARNING:matplotlib.font_manager:findfont: Font family 'Consolas' not found.\n",
            "WARNING:matplotlib.font_manager:findfont: Font family 'Consolas' not found.\n",
            "WARNING:matplotlib.font_manager:findfont: Font family 'Consolas' not found.\n",
            "WARNING:matplotlib.font_manager:findfont: Font family 'Consolas' not found.\n",
            "WARNING:matplotlib.font_manager:findfont: Font family 'Consolas' not found.\n",
            "WARNING:matplotlib.font_manager:findfont: Font family 'Consolas' not found.\n",
            "WARNING:matplotlib.font_manager:findfont: Font family 'Consolas' not found.\n",
            "WARNING:matplotlib.font_manager:findfont: Font family 'Consolas' not found.\n",
            "WARNING:matplotlib.font_manager:findfont: Font family 'Consolas' not found.\n",
            "WARNING:matplotlib.font_manager:findfont: Font family 'Consolas' not found.\n",
            "WARNING:matplotlib.font_manager:findfont: Font family 'Consolas' not found.\n",
            "WARNING:matplotlib.font_manager:findfont: Font family 'Consolas' not found.\n",
            "WARNING:matplotlib.font_manager:findfont: Font family 'Consolas' not found.\n",
            "WARNING:matplotlib.font_manager:findfont: Font family 'Consolas' not found.\n",
            "WARNING:matplotlib.font_manager:findfont: Font family 'Consolas' not found.\n",
            "WARNING:matplotlib.font_manager:findfont: Font family 'Consolas' not found.\n",
            "WARNING:matplotlib.font_manager:findfont: Font family 'Consolas' not found.\n",
            "WARNING:matplotlib.font_manager:findfont: Font family 'Consolas' not found.\n",
            "WARNING:matplotlib.font_manager:findfont: Font family 'Consolas' not found.\n",
            "WARNING:matplotlib.font_manager:findfont: Font family 'Consolas' not found.\n",
            "WARNING:matplotlib.font_manager:findfont: Font family 'Consolas' not found.\n",
            "WARNING:matplotlib.font_manager:findfont: Font family 'Consolas' not found.\n",
            "WARNING:matplotlib.font_manager:findfont: Font family 'Consolas' not found.\n",
            "WARNING:matplotlib.font_manager:findfont: Font family 'Arial' not found.\n",
            "WARNING:matplotlib.font_manager:findfont: Font family 'Arial' not found.\n",
            "WARNING:matplotlib.font_manager:findfont: Font family 'Arial' not found.\n",
            "WARNING:matplotlib.font_manager:findfont: Font family 'Arial' not found.\n",
            "WARNING:matplotlib.font_manager:findfont: Font family 'Arial' not found.\n",
            "WARNING:matplotlib.font_manager:findfont: Font family 'Arial' not found.\n",
            "WARNING:matplotlib.font_manager:findfont: Font family 'Arial' not found.\n",
            "WARNING:matplotlib.font_manager:findfont: Font family 'Arial' not found.\n",
            "WARNING:matplotlib.font_manager:findfont: Font family 'Arial' not found.\n",
            "WARNING:matplotlib.font_manager:findfont: Font family 'Arial' not found.\n"
          ]
        },
        {
          "output_type": "display_data",
          "data": {
            "text/plain": [
              "<IPython.core.display.SVG object>"
            ],
            "image/svg+xml": "<svg xmlns:xlink=\"http://www.w3.org/1999/xlink\" xmlns=\"http://www.w3.org/2000/svg\" width=\"471.803406pt\" height=\"54.546474pt\" viewBox=\"0 0 471.803406 54.546474\" version=\"1.1\">\n <metadata>\n  <rdf:RDF xmlns:dc=\"http://purl.org/dc/elements/1.1/\" xmlns:cc=\"http://creativecommons.org/ns#\" xmlns:rdf=\"http://www.w3.org/1999/02/22-rdf-syntax-ns#\">\n   <cc:Work>\n    <dc:type rdf:resource=\"http://purl.org/dc/dcmitype/StillImage\"/>\n    <dc:date>2023-08-04T01:10:41.163584</dc:date>\n    <dc:format>image/svg+xml</dc:format>\n    <dc:creator>\n     <cc:Agent>\n      <dc:title>Matplotlib v3.7.1, https://matplotlib.org/</dc:title>\n     </cc:Agent>\n    </dc:creator>\n   </cc:Work>\n  </rdf:RDF>\n </metadata>\n <defs>\n  <style type=\"text/css\">*{stroke-linejoin: round; stroke-linecap: butt}</style>\n </defs>\n <g id=\"figure_1\">\n  <g id=\"patch_1\">\n   <path d=\"M 0 54.546474  L 471.803406 54.546474  L 471.803406 0  L 0 0  z \" style=\"fill: #ffffff\"/>\n  </g>\n  <g id=\"axes_1\">\n   <g id=\"patch_2\">\n    <path d=\"M 54.30735 46.385787  L 77.15745 46.385787  L 77.15745 23.683107  L 54.30735 23.683107  z \" clip-path=\"url(#p1f5696d66f)\" style=\"fill: #a8e1b0; fill-opacity: 0.75; stroke: #808080; stroke-width: 0.7; stroke-linejoin: miter\"/>\n   </g>\n   <g id=\"patch_3\">\n    <path d=\"M 201.20085 46.385787  L 224.05095 46.385787  L 224.05095 23.683107  L 201.20085 23.683107  z \" clip-path=\"url(#p1f5696d66f)\" style=\"fill: #a8e1b0; fill-opacity: 0.75; stroke: #808080; stroke-width: 0.7; stroke-linejoin: miter\"/>\n   </g>\n   <g id=\"patch_4\">\n    <path d=\"M 403.58745 46.385787  L 426.43755 46.385787  L 426.43755 23.683107  L 403.58745 23.683107  z \" clip-path=\"url(#p1f5696d66f)\" style=\"fill: #a8e1b0; fill-opacity: 0.75; stroke: #808080; stroke-width: 0.7; stroke-linejoin: miter\"/>\n   </g>\n   <g id=\"line2d_1\">\n    <path d=\"M 6.32214 13.762608  L 125.14266 13.762608  \" clip-path=\"url(#p1f5696d66f)\" style=\"fill: none; stroke: #c2c2c2; stroke-width: 0.5; stroke-linecap: square\"/>\n   </g>\n   <g id=\"line2d_2\">\n    <path d=\"M 143.42274 13.762608  L 281.82906 13.762608  \" clip-path=\"url(#p1f5696d66f)\" style=\"fill: none; stroke: #c2c2c2; stroke-width: 0.5; stroke-linecap: square\"/>\n   </g>\n   <g id=\"line2d_3\">\n    <path d=\"M 384.98094 13.762608  L 445.04406 13.762608  \" clip-path=\"url(#p1f5696d66f)\" style=\"fill: none; stroke: #c2c2c2; stroke-width: 0.5; stroke-linecap: square\"/>\n   </g>\n   <g id=\"text_1\">\n    <!-- l -->\n    <g style=\"fill: #444443\" transform=\"translate(6.975 9.947031) scale(0.13 -0.13)\">\n     <defs>\n      <path id=\"DejaVuSansMono-6c\" d=\"M 1997 1269  Q 1997 881 2139 684  Q 2281 488 2559 488  L 3231 488  L 3231 0  L 2503 0  Q 1988 0 1705 331  Q 1422 663 1422 1269  L 1422 4447  L 500 4447  L 500 4897  L 1997 4897  L 1997 1269  z \" transform=\"scale(0.015625)\"/>\n     </defs>\n     <use xlink:href=\"#DejaVuSansMono-6c\"/>\n    </g>\n   </g>\n   <g id=\"text_2\">\n    <!-- 1 -->\n    <g style=\"fill: #444443\" transform=\"translate(13.5036 9.947031) scale(0.13 -0.13)\">\n     <defs>\n      <path id=\"DejaVuSansMono-31\" d=\"M 844 531  L 1825 531  L 1825 4097  L 769 3859  L 769 4434  L 1819 4666  L 2450 4666  L 2450 531  L 3419 531  L 3419 0  L 844 0  L 844 531  z \" transform=\"scale(0.015625)\"/>\n     </defs>\n     <use xlink:href=\"#DejaVuSansMono-31\"/>\n    </g>\n   </g>\n   <g id=\"text_3\">\n    <!-- _ -->\n    <g style=\"fill: #444443\" transform=\"translate(20.0322 9.947031) scale(0.13 -0.13)\">\n     <defs>\n      <path id=\"DejaVuSansMono-5f\" d=\"M 3853 -1259  L 3853 -1509  L 0 -1509  L 0 -1259  L 3853 -1259  z \" transform=\"scale(0.015625)\"/>\n     </defs>\n     <use xlink:href=\"#DejaVuSansMono-5f\"/>\n    </g>\n   </g>\n   <g id=\"text_4\">\n    <!-- o -->\n    <g style=\"fill: #444443\" transform=\"translate(26.5608 9.947031) scale(0.13 -0.13)\">\n     <defs>\n      <path id=\"DejaVuSansMono-6f\" d=\"M 1925 3097  Q 1488 3097 1263 2756  Q 1038 2416 1038 1747  Q 1038 1081 1263 739  Q 1488 397 1925 397  Q 2366 397 2591 739  Q 2816 1081 2816 1747  Q 2816 2416 2591 2756  Q 2366 3097 1925 3097  z M 1925 3584  Q 2653 3584 3039 3112  Q 3425 2641 3425 1747  Q 3425 850 3040 379  Q 2656 -91 1925 -91  Q 1197 -91 812 379  Q 428 850 428 1747  Q 428 2641 812 3112  Q 1197 3584 1925 3584  z \" transform=\"scale(0.015625)\"/>\n     </defs>\n     <use xlink:href=\"#DejaVuSansMono-6f\"/>\n    </g>\n   </g>\n   <g id=\"text_5\">\n    <!-- u -->\n    <g style=\"fill: #444443\" transform=\"translate(33.0894 9.947031) scale(0.13 -0.13)\">\n     <defs>\n      <path id=\"DejaVuSansMono-75\" d=\"M 609 1325  L 609 3494  L 1184 3494  L 1184 1325  Q 1184 853 1351 631  Q 1519 409 1869 409  Q 2275 409 2490 695  Q 2706 981 2706 1516  L 2706 3494  L 3284 3494  L 3284 0  L 2706 0  L 2706 525  Q 2553 222 2289 65  Q 2025 -91 1672 -91  Q 1134 -91 871 261  Q 609 613 609 1325  z \" transform=\"scale(0.015625)\"/>\n     </defs>\n     <use xlink:href=\"#DejaVuSansMono-75\"/>\n    </g>\n   </g>\n   <g id=\"text_6\">\n    <!-- t -->\n    <g style=\"fill: #444443\" transform=\"translate(39.618 9.947031) scale(0.13 -0.13)\">\n     <defs>\n      <path id=\"DejaVuSansMono-74\" d=\"M 1919 4494  L 1919 3500  L 3225 3500  L 3225 3053  L 1919 3053  L 1919 1153  Q 1919 766 2066 612  Q 2213 459 2578 459  L 3225 459  L 3225 0  L 2522 0  Q 1875 0 1609 259  Q 1344 519 1344 1153  L 1344 3053  L 409 3053  L 409 3500  L 1344 3500  L 1344 4494  L 1919 4494  z \" transform=\"scale(0.015625)\"/>\n     </defs>\n     <use xlink:href=\"#DejaVuSansMono-74\"/>\n    </g>\n   </g>\n   <g id=\"text_7\">\n    <!-- p -->\n    <g style=\"fill: #444443\" transform=\"translate(46.1466 9.947031) scale(0.13 -0.13)\">\n     <defs>\n      <path id=\"DejaVuSansMono-70\" d=\"M 1172 441  L 1172 -1331  L 594 -1331  L 594 3500  L 1172 3500  L 1172 3053  Q 1316 3313 1555 3448  Q 1794 3584 2106 3584  Q 2741 3584 3102 3093  Q 3463 2603 3463 1734  Q 3463 881 3100 395  Q 2738 -91 2106 -91  Q 1788 -91 1548 45  Q 1309 181 1172 441  z M 2859 1747  Q 2859 2416 2648 2756  Q 2438 3097 2022 3097  Q 1603 3097 1387 2755  Q 1172 2413 1172 1747  Q 1172 1084 1387 740  Q 1603 397 2022 397  Q 2438 397 2648 737  Q 2859 1078 2859 1747  z \" transform=\"scale(0.015625)\"/>\n     </defs>\n     <use xlink:href=\"#DejaVuSansMono-70\"/>\n    </g>\n   </g>\n   <g id=\"text_8\">\n    <!-- u -->\n    <g style=\"fill: #444443\" transform=\"translate(52.6752 9.947031) scale(0.13 -0.13)\">\n     <use xlink:href=\"#DejaVuSansMono-75\"/>\n    </g>\n   </g>\n   <g id=\"text_9\">\n    <!-- t -->\n    <g style=\"fill: #444443\" transform=\"translate(59.2038 9.947031) scale(0.13 -0.13)\">\n     <use xlink:href=\"#DejaVuSansMono-74\"/>\n    </g>\n   </g>\n   <g id=\"text_10\">\n    <!-- _ -->\n    <g style=\"fill: #444443\" transform=\"translate(65.7324 9.947031) scale(0.13 -0.13)\">\n     <use xlink:href=\"#DejaVuSansMono-5f\"/>\n    </g>\n   </g>\n   <g id=\"text_11\">\n    <!-- g -->\n    <g style=\"fill: #444443\" transform=\"translate(72.261 9.947031) scale(0.13 -0.13)\">\n     <defs>\n      <path id=\"DejaVuSansMono-67\" d=\"M 2681 1778  Q 2681 2425 2470 2761  Q 2259 3097 1856 3097  Q 1434 3097 1212 2761  Q 991 2425 991 1778  Q 991 1131 1214 792  Q 1438 453 1863 453  Q 2259 453 2470 793  Q 2681 1134 2681 1778  z M 3256 225  Q 3256 -563 2884 -969  Q 2513 -1375 1791 -1375  Q 1553 -1375 1293 -1331  Q 1034 -1288 775 -1203  L 775 -634  Q 1081 -778 1331 -847  Q 1581 -916 1791 -916  Q 2256 -916 2468 -662  Q 2681 -409 2681 141  L 2681 166  L 2681 556  Q 2544 263 2306 119  Q 2069 -25 1728 -25  Q 1116 -25 750 465  Q 384 956 384 1778  Q 384 2603 750 3093  Q 1116 3584 1728 3584  Q 2066 3584 2300 3450  Q 2534 3316 2681 3034  L 2681 3488  L 3256 3488  L 3256 225  z \" transform=\"scale(0.015625)\"/>\n     </defs>\n     <use xlink:href=\"#DejaVuSansMono-67\"/>\n    </g>\n   </g>\n   <g id=\"text_12\">\n    <!-- r -->\n    <g style=\"fill: #444443\" transform=\"translate(78.7896 9.947031) scale(0.13 -0.13)\">\n     <defs>\n      <path id=\"DejaVuSansMono-72\" d=\"M 3609 2778  Q 3425 2922 3234 2987  Q 3044 3053 2816 3053  Q 2278 3053 1993 2715  Q 1709 2378 1709 1741  L 1709 0  L 1131 0  L 1131 3500  L 1709 3500  L 1709 2816  Q 1853 3188 2151 3386  Q 2450 3584 2859 3584  Q 3072 3584 3256 3531  Q 3441 3478 3609 3366  L 3609 2778  z \" transform=\"scale(0.015625)\"/>\n     </defs>\n     <use xlink:href=\"#DejaVuSansMono-72\"/>\n    </g>\n   </g>\n   <g id=\"text_13\">\n    <!-- a -->\n    <g style=\"fill: #444443\" transform=\"translate(85.3182 9.947031) scale(0.13 -0.13)\">\n     <defs>\n      <path id=\"DejaVuSansMono-61\" d=\"M 2194 1759  L 2003 1759  Q 1500 1759 1245 1582  Q 991 1406 991 1056  Q 991 741 1181 566  Q 1372 391 1709 391  Q 2184 391 2456 720  Q 2728 1050 2731 1631  L 2731 1759  L 2194 1759  z M 3309 1997  L 3309 0  L 2731 0  L 2731 519  Q 2547 206 2267 57  Q 1988 -91 1588 -91  Q 1053 -91 734 211  Q 416 513 416 1019  Q 416 1603 808 1906  Q 1200 2209 1959 2209  L 2731 2209  L 2731 2300  Q 2728 2719 2518 2908  Q 2309 3097 1850 3097  Q 1556 3097 1256 3012  Q 956 2928 672 2766  L 672 3341  Q 991 3463 1283 3523  Q 1575 3584 1850 3584  Q 2284 3584 2592 3456  Q 2900 3328 3091 3072  Q 3209 2916 3259 2686  Q 3309 2456 3309 1997  z \" transform=\"scale(0.015625)\"/>\n     </defs>\n     <use xlink:href=\"#DejaVuSansMono-61\"/>\n    </g>\n   </g>\n   <g id=\"text_14\">\n    <!-- d -->\n    <g style=\"fill: #444443\" transform=\"translate(91.8468 9.947031) scale(0.13 -0.13)\">\n     <defs>\n      <path id=\"DejaVuSansMono-64\" d=\"M 2681 3053  L 2681 4863  L 3256 4863  L 3256 0  L 2681 0  L 2681 441  Q 2538 181 2298 45  Q 2059 -91 1747 -91  Q 1113 -91 748 401  Q 384 894 384 1759  Q 384 2613 750 3098  Q 1116 3584 1747 3584  Q 2063 3584 2303 3448  Q 2544 3313 2681 3053  z M 991 1747  Q 991 1078 1203 737  Q 1416 397 1831 397  Q 2247 397 2464 740  Q 2681 1084 2681 1747  Q 2681 2413 2464 2755  Q 2247 3097 1831 3097  Q 1416 3097 1203 2756  Q 991 2416 991 1747  z \" transform=\"scale(0.015625)\"/>\n     </defs>\n     <use xlink:href=\"#DejaVuSansMono-64\"/>\n    </g>\n   </g>\n   <g id=\"text_15\">\n    <!-- i -->\n    <g style=\"fill: #444443\" transform=\"translate(98.3754 9.947031) scale(0.13 -0.13)\">\n     <defs>\n      <path id=\"DejaVuSansMono-69\" d=\"M 800 3500  L 2272 3500  L 2272 447  L 3413 447  L 3413 0  L 556 0  L 556 447  L 1697 447  L 1697 3053  L 800 3053  L 800 3500  z M 1697 4863  L 2272 4863  L 2272 4134  L 1697 4134  L 1697 4863  z \" transform=\"scale(0.015625)\"/>\n     </defs>\n     <use xlink:href=\"#DejaVuSansMono-69\"/>\n    </g>\n   </g>\n   <g id=\"text_16\">\n    <!-- e -->\n    <g style=\"fill: #444443\" transform=\"translate(104.904 9.947031) scale(0.13 -0.13)\">\n     <defs>\n      <path id=\"DejaVuSansMono-65\" d=\"M 3475 1894  L 3475 1613  L 984 1613  L 984 1594  Q 984 1022 1282 709  Q 1581 397 2125 397  Q 2400 397 2700 484  Q 3000 572 3341 750  L 3341 178  Q 3013 44 2708 -23  Q 2403 -91 2119 -91  Q 1303 -91 843 398  Q 384 888 384 1747  Q 384 2584 834 3084  Q 1284 3584 2034 3584  Q 2703 3584 3089 3131  Q 3475 2678 3475 1894  z M 2900 2063  Q 2888 2569 2661 2833  Q 2434 3097 2009 3097  Q 1594 3097 1325 2822  Q 1056 2547 1006 2059  L 2900 2063  z \" transform=\"scale(0.015625)\"/>\n     </defs>\n     <use xlink:href=\"#DejaVuSansMono-65\"/>\n    </g>\n   </g>\n   <g id=\"text_17\">\n    <!-- n -->\n    <g style=\"fill: #444443\" transform=\"translate(111.4326 9.947031) scale(0.13 -0.13)\">\n     <defs>\n      <path id=\"DejaVuSansMono-6e\" d=\"M 3284 2169  L 3284 0  L 2706 0  L 2706 2169  Q 2706 2641 2540 2862  Q 2375 3084 2022 3084  Q 1619 3084 1401 2798  Q 1184 2513 1184 1978  L 1184 0  L 609 0  L 609 3500  L 1184 3500  L 1184 2975  Q 1338 3275 1600 3429  Q 1863 3584 2222 3584  Q 2756 3584 3020 3232  Q 3284 2881 3284 2169  z \" transform=\"scale(0.015625)\"/>\n     </defs>\n     <use xlink:href=\"#DejaVuSansMono-6e\"/>\n    </g>\n   </g>\n   <g id=\"text_18\">\n    <!-- t -->\n    <g style=\"fill: #444443\" transform=\"translate(117.9612 9.947031) scale(0.13 -0.13)\">\n     <use xlink:href=\"#DejaVuSansMono-74\"/>\n    </g>\n   </g>\n   <g id=\"text_19\">\n    <!--   -->\n    <g style=\"fill: #444443\" transform=\"translate(124.4898 9.947031) scale(0.13 -0.13)\">\n     <defs>\n      <path id=\"DejaVuSansMono-20\" transform=\"scale(0.015625)\"/>\n     </defs>\n     <use xlink:href=\"#DejaVuSansMono-20\"/>\n    </g>\n   </g>\n   <g id=\"text_20\">\n    <!-- = -->\n    <g style=\"fill: #444443\" transform=\"translate(131.0184 9.947031) scale(0.13 -0.13)\">\n     <defs>\n      <path id=\"DejaVuSansMono-3d\" d=\"M 275 1638  L 3578 1638  L 3578 1100  L 275 1100  L 275 1638  z M 275 2906  L 3578 2906  L 3578 2375  L 275 2375  L 275 2906  z \" transform=\"scale(0.015625)\"/>\n     </defs>\n     <use xlink:href=\"#DejaVuSansMono-3d\"/>\n    </g>\n   </g>\n   <g id=\"text_21\">\n    <!--   -->\n    <g style=\"fill: #444443\" transform=\"translate(137.547 9.947031) scale(0.13 -0.13)\">\n     <use xlink:href=\"#DejaVuSansMono-20\"/>\n    </g>\n   </g>\n   <g id=\"text_22\">\n    <!-- l -->\n    <g style=\"fill: #444443\" transform=\"translate(144.0756 9.947031) scale(0.13 -0.13)\">\n     <use xlink:href=\"#DejaVuSansMono-6c\"/>\n    </g>\n   </g>\n   <g id=\"text_23\">\n    <!-- 1 -->\n    <g style=\"fill: #444443\" transform=\"translate(150.6042 9.947031) scale(0.13 -0.13)\">\n     <use xlink:href=\"#DejaVuSansMono-31\"/>\n    </g>\n   </g>\n   <g id=\"text_24\">\n    <!-- _ -->\n    <g style=\"fill: #444443\" transform=\"translate(157.1328 9.947031) scale(0.13 -0.13)\">\n     <use xlink:href=\"#DejaVuSansMono-5f\"/>\n    </g>\n   </g>\n   <g id=\"text_25\">\n    <!-- a -->\n    <g style=\"fill: #444443\" transform=\"translate(163.6614 9.947031) scale(0.13 -0.13)\">\n     <use xlink:href=\"#DejaVuSansMono-61\"/>\n    </g>\n   </g>\n   <g id=\"text_26\">\n    <!-- c -->\n    <g style=\"fill: #444443\" transform=\"translate(170.19 9.947031) scale(0.13 -0.13)\">\n     <defs>\n      <path id=\"DejaVuSansMono-63\" d=\"M 3316 178  Q 3084 44 2839 -23  Q 2594 -91 2338 -91  Q 1525 -91 1067 396  Q 609 884 609 1747  Q 609 2609 1067 3096  Q 1525 3584 2338 3584  Q 2591 3584 2831 3518  Q 3072 3453 3316 3316  L 3316 2713  Q 3088 2916 2858 3006  Q 2628 3097 2338 3097  Q 1797 3097 1506 2747  Q 1216 2397 1216 1747  Q 1216 1100 1508 748  Q 1800 397 2338 397  Q 2638 397 2875 489  Q 3113 581 3316 775  L 3316 178  z \" transform=\"scale(0.015625)\"/>\n     </defs>\n     <use xlink:href=\"#DejaVuSansMono-63\"/>\n    </g>\n   </g>\n   <g id=\"text_27\">\n    <!-- t -->\n    <g style=\"fill: #444443\" transform=\"translate(176.7186 9.947031) scale(0.13 -0.13)\">\n     <use xlink:href=\"#DejaVuSansMono-74\"/>\n    </g>\n   </g>\n   <g id=\"text_28\">\n    <!-- i -->\n    <g style=\"fill: #444443\" transform=\"translate(183.2472 9.947031) scale(0.13 -0.13)\">\n     <use xlink:href=\"#DejaVuSansMono-69\"/>\n    </g>\n   </g>\n   <g id=\"text_29\">\n    <!-- v -->\n    <g style=\"fill: #444443\" transform=\"translate(189.7758 9.947031) scale(0.13 -0.13)\">\n     <defs>\n      <path id=\"DejaVuSansMono-76\" d=\"M 313 3500  L 909 3500  L 1925 563  L 2944 3500  L 3541 3500  L 2297 0  L 1556 0  L 313 3500  z \" transform=\"scale(0.015625)\"/>\n     </defs>\n     <use xlink:href=\"#DejaVuSansMono-76\"/>\n    </g>\n   </g>\n   <g id=\"text_30\">\n    <!-- a -->\n    <g style=\"fill: #444443\" transform=\"translate(196.3044 9.947031) scale(0.13 -0.13)\">\n     <use xlink:href=\"#DejaVuSansMono-61\"/>\n    </g>\n   </g>\n   <g id=\"text_31\">\n    <!-- t -->\n    <g style=\"fill: #444443\" transform=\"translate(202.833 9.947031) scale(0.13 -0.13)\">\n     <use xlink:href=\"#DejaVuSansMono-74\"/>\n    </g>\n   </g>\n   <g id=\"text_32\">\n    <!-- e -->\n    <g style=\"fill: #444443\" transform=\"translate(209.3616 9.947031) scale(0.13 -0.13)\">\n     <use xlink:href=\"#DejaVuSansMono-65\"/>\n    </g>\n   </g>\n   <g id=\"text_33\">\n    <!-- d -->\n    <g style=\"fill: #444443\" transform=\"translate(215.8902 9.947031) scale(0.13 -0.13)\">\n     <use xlink:href=\"#DejaVuSansMono-64\"/>\n    </g>\n   </g>\n   <g id=\"text_34\">\n    <!-- _ -->\n    <g style=\"fill: #444443\" transform=\"translate(222.4188 9.947031) scale(0.13 -0.13)\">\n     <use xlink:href=\"#DejaVuSansMono-5f\"/>\n    </g>\n   </g>\n   <g id=\"text_35\">\n    <!-- g -->\n    <g style=\"fill: #444443\" transform=\"translate(228.9474 9.947031) scale(0.13 -0.13)\">\n     <use xlink:href=\"#DejaVuSansMono-67\"/>\n    </g>\n   </g>\n   <g id=\"text_36\">\n    <!-- r -->\n    <g style=\"fill: #444443\" transform=\"translate(235.476 9.947031) scale(0.13 -0.13)\">\n     <use xlink:href=\"#DejaVuSansMono-72\"/>\n    </g>\n   </g>\n   <g id=\"text_37\">\n    <!-- a -->\n    <g style=\"fill: #444443\" transform=\"translate(242.0046 9.947031) scale(0.13 -0.13)\">\n     <use xlink:href=\"#DejaVuSansMono-61\"/>\n    </g>\n   </g>\n   <g id=\"text_38\">\n    <!-- d -->\n    <g style=\"fill: #444443\" transform=\"translate(248.5332 9.947031) scale(0.13 -0.13)\">\n     <use xlink:href=\"#DejaVuSansMono-64\"/>\n    </g>\n   </g>\n   <g id=\"text_39\">\n    <!-- i -->\n    <g style=\"fill: #444443\" transform=\"translate(255.0618 9.947031) scale(0.13 -0.13)\">\n     <use xlink:href=\"#DejaVuSansMono-69\"/>\n    </g>\n   </g>\n   <g id=\"text_40\">\n    <!-- e -->\n    <g style=\"fill: #444443\" transform=\"translate(261.5904 9.947031) scale(0.13 -0.13)\">\n     <use xlink:href=\"#DejaVuSansMono-65\"/>\n    </g>\n   </g>\n   <g id=\"text_41\">\n    <!-- n -->\n    <g style=\"fill: #444443\" transform=\"translate(268.119 9.947031) scale(0.13 -0.13)\">\n     <use xlink:href=\"#DejaVuSansMono-6e\"/>\n    </g>\n   </g>\n   <g id=\"text_42\">\n    <!-- t -->\n    <g style=\"fill: #444443\" transform=\"translate(274.6476 9.947031) scale(0.13 -0.13)\">\n     <use xlink:href=\"#DejaVuSansMono-74\"/>\n    </g>\n   </g>\n   <g id=\"text_43\">\n    <!--   -->\n    <g style=\"fill: #444443\" transform=\"translate(281.1762 9.947031) scale(0.13 -0.13)\">\n     <use xlink:href=\"#DejaVuSansMono-20\"/>\n    </g>\n   </g>\n   <g id=\"text_44\">\n    <!-- * -->\n    <g style=\"fill: #444443\" transform=\"translate(287.7048 9.947031) scale(0.13 -0.13)\">\n     <defs>\n      <path id=\"DejaVuSansMono-2a\" d=\"M 3334 3897  L 2216 3291  L 3334 2681  L 3156 2375  L 2106 3009  L 2106 1831  L 1747 1831  L 1747 3009  L 697 2375  L 519 2681  L 1638 3291  L 519 3897  L 697 4206  L 1747 3572  L 1747 4750  L 2106 4750  L 2106 3572  L 3156 4206  L 3334 3897  z \" transform=\"scale(0.015625)\"/>\n     </defs>\n     <use xlink:href=\"#DejaVuSansMono-2a\"/>\n    </g>\n   </g>\n   <g id=\"text_45\">\n    <!--   -->\n    <g style=\"fill: #444443\" transform=\"translate(294.2334 9.947031) scale(0.13 -0.13)\">\n     <use xlink:href=\"#DejaVuSansMono-20\"/>\n    </g>\n   </g>\n   <g id=\"text_46\">\n    <!-- n -->\n    <g style=\"fill: #444443\" transform=\"translate(300.762 9.947031) scale(0.13 -0.13)\">\n     <use xlink:href=\"#DejaVuSansMono-6e\"/>\n    </g>\n   </g>\n   <g id=\"text_47\">\n    <!-- p -->\n    <g style=\"fill: #444443\" transform=\"translate(307.2906 9.947031) scale(0.13 -0.13)\">\n     <use xlink:href=\"#DejaVuSansMono-70\"/>\n    </g>\n   </g>\n   <g id=\"text_48\">\n    <!-- . -->\n    <g style=\"fill: #444443\" transform=\"translate(313.8192 9.947031) scale(0.13 -0.13)\">\n     <defs>\n      <path id=\"DejaVuSansMono-2e\" d=\"M 1528 953  L 2316 953  L 2316 0  L 1528 0  L 1528 953  z \" transform=\"scale(0.015625)\"/>\n     </defs>\n     <use xlink:href=\"#DejaVuSansMono-2e\"/>\n    </g>\n   </g>\n   <g id=\"text_49\">\n    <!-- h -->\n    <g style=\"fill: #444443\" transform=\"translate(320.3478 9.947031) scale(0.13 -0.13)\">\n     <defs>\n      <path id=\"DejaVuSansMono-68\" d=\"M 3284 2169  L 3284 0  L 2706 0  L 2706 2169  Q 2706 2641 2540 2862  Q 2375 3084 2022 3084  Q 1619 3084 1401 2798  Q 1184 2513 1184 1978  L 1184 0  L 609 0  L 609 4863  L 1184 4863  L 1184 2975  Q 1338 3275 1600 3429  Q 1863 3584 2222 3584  Q 2756 3584 3020 3232  Q 3284 2881 3284 2169  z \" transform=\"scale(0.015625)\"/>\n     </defs>\n     <use xlink:href=\"#DejaVuSansMono-68\"/>\n    </g>\n   </g>\n   <g id=\"text_50\">\n    <!-- e -->\n    <g style=\"fill: #444443\" transform=\"translate(326.8764 9.947031) scale(0.13 -0.13)\">\n     <use xlink:href=\"#DejaVuSansMono-65\"/>\n    </g>\n   </g>\n   <g id=\"text_51\">\n    <!-- a -->\n    <g style=\"fill: #444443\" transform=\"translate(333.405 9.947031) scale(0.13 -0.13)\">\n     <use xlink:href=\"#DejaVuSansMono-61\"/>\n    </g>\n   </g>\n   <g id=\"text_52\">\n    <!-- v -->\n    <g style=\"fill: #444443\" transform=\"translate(339.9336 9.947031) scale(0.13 -0.13)\">\n     <use xlink:href=\"#DejaVuSansMono-76\"/>\n    </g>\n   </g>\n   <g id=\"text_53\">\n    <!-- i -->\n    <g style=\"fill: #444443\" transform=\"translate(346.4622 9.947031) scale(0.13 -0.13)\">\n     <use xlink:href=\"#DejaVuSansMono-69\"/>\n    </g>\n   </g>\n   <g id=\"text_54\">\n    <!-- s -->\n    <g style=\"fill: #444443\" transform=\"translate(352.9908 9.947031) scale(0.13 -0.13)\">\n     <defs>\n      <path id=\"DejaVuSansMono-73\" d=\"M 3041 3378  L 3041 2816  Q 2794 2959 2544 3031  Q 2294 3103 2034 3103  Q 1644 3103 1451 2976  Q 1259 2850 1259 2591  Q 1259 2356 1403 2240  Q 1547 2125 2119 2016  L 2350 1972  Q 2778 1891 2998 1647  Q 3219 1403 3219 1013  Q 3219 494 2850 201  Q 2481 -91 1825 -91  Q 1566 -91 1281 -36  Q 997 19 666 128  L 666 722  Q 988 556 1281 473  Q 1575 391 1838 391  Q 2219 391 2428 545  Q 2638 700 2638 978  Q 2638 1378 1872 1531  L 1847 1538  L 1631 1581  Q 1134 1678 906 1908  Q 678 2138 678 2534  Q 678 3038 1018 3311  Q 1359 3584 1991 3584  Q 2272 3584 2531 3532  Q 2791 3481 3041 3378  z \" transform=\"scale(0.015625)\"/>\n     </defs>\n     <use xlink:href=\"#DejaVuSansMono-73\"/>\n    </g>\n   </g>\n   <g id=\"text_55\">\n    <!-- i -->\n    <g style=\"fill: #444443\" transform=\"translate(359.5194 9.947031) scale(0.13 -0.13)\">\n     <use xlink:href=\"#DejaVuSansMono-69\"/>\n    </g>\n   </g>\n   <g id=\"text_56\">\n    <!-- d -->\n    <g style=\"fill: #444443\" transform=\"translate(366.048 9.947031) scale(0.13 -0.13)\">\n     <use xlink:href=\"#DejaVuSansMono-64\"/>\n    </g>\n   </g>\n   <g id=\"text_57\">\n    <!-- e -->\n    <g style=\"fill: #444443\" transform=\"translate(372.5766 9.947031) scale(0.13 -0.13)\">\n     <use xlink:href=\"#DejaVuSansMono-65\"/>\n    </g>\n   </g>\n   <g id=\"text_58\">\n    <!-- ( -->\n    <g style=\"fill: #444443\" transform=\"translate(379.1052 9.947031) scale(0.13 -0.13)\">\n     <defs>\n      <path id=\"DejaVuSansMono-28\" d=\"M 2766 4856  Q 2350 4144 2145 3436  Q 1941 2728 1941 2009  Q 1941 1294 2145 584  Q 2350 -125 2766 -844  L 2266 -844  Q 1794 -100 1562 604  Q 1331 1309 1331 2009  Q 1331 2706 1562 3412  Q 1794 4119 2266 4856  L 2766 4856  z \" transform=\"scale(0.015625)\"/>\n     </defs>\n     <use xlink:href=\"#DejaVuSansMono-28\"/>\n    </g>\n   </g>\n   <g id=\"text_59\">\n    <!-- l -->\n    <g style=\"fill: #444443\" transform=\"translate(385.6338 9.947031) scale(0.13 -0.13)\">\n     <use xlink:href=\"#DejaVuSansMono-6c\"/>\n    </g>\n   </g>\n   <g id=\"text_60\">\n    <!-- 1 -->\n    <g style=\"fill: #444443\" transform=\"translate(392.1624 9.947031) scale(0.13 -0.13)\">\n     <use xlink:href=\"#DejaVuSansMono-31\"/>\n    </g>\n   </g>\n   <g id=\"text_61\">\n    <!-- _ -->\n    <g style=\"fill: #444443\" transform=\"translate(398.691 9.947031) scale(0.13 -0.13)\">\n     <use xlink:href=\"#DejaVuSansMono-5f\"/>\n    </g>\n   </g>\n   <g id=\"text_62\">\n    <!-- o -->\n    <g style=\"fill: #444443\" transform=\"translate(405.2196 9.947031) scale(0.13 -0.13)\">\n     <use xlink:href=\"#DejaVuSansMono-6f\"/>\n    </g>\n   </g>\n   <g id=\"text_63\">\n    <!-- u -->\n    <g style=\"fill: #444443\" transform=\"translate(411.7482 9.947031) scale(0.13 -0.13)\">\n     <use xlink:href=\"#DejaVuSansMono-75\"/>\n    </g>\n   </g>\n   <g id=\"text_64\">\n    <!-- t -->\n    <g style=\"fill: #444443\" transform=\"translate(418.2768 9.947031) scale(0.13 -0.13)\">\n     <use xlink:href=\"#DejaVuSansMono-74\"/>\n    </g>\n   </g>\n   <g id=\"text_65\">\n    <!-- p -->\n    <g style=\"fill: #444443\" transform=\"translate(424.8054 9.947031) scale(0.13 -0.13)\">\n     <use xlink:href=\"#DejaVuSansMono-70\"/>\n    </g>\n   </g>\n   <g id=\"text_66\">\n    <!-- u -->\n    <g style=\"fill: #444443\" transform=\"translate(431.334 9.947031) scale(0.13 -0.13)\">\n     <use xlink:href=\"#DejaVuSansMono-75\"/>\n    </g>\n   </g>\n   <g id=\"text_67\">\n    <!-- t -->\n    <g style=\"fill: #444443\" transform=\"translate(437.8626 9.947031) scale(0.13 -0.13)\">\n     <use xlink:href=\"#DejaVuSansMono-74\"/>\n    </g>\n   </g>\n   <g id=\"text_68\">\n    <!-- , -->\n    <g style=\"fill: #444443\" transform=\"translate(444.3912 9.947031) scale(0.13 -0.13)\">\n     <defs>\n      <path id=\"DejaVuSansMono-2c\" d=\"M 1569 947  L 2356 947  L 2356 300  L 1741 -897  L 1259 -897  L 1569 300  L 1569 947  z \" transform=\"scale(0.015625)\"/>\n     </defs>\n     <use xlink:href=\"#DejaVuSansMono-2c\"/>\n    </g>\n   </g>\n   <g id=\"text_69\">\n    <!--   -->\n    <g style=\"fill: #444443\" transform=\"translate(450.9198 9.947031) scale(0.13 -0.13)\">\n     <use xlink:href=\"#DejaVuSansMono-20\"/>\n    </g>\n   </g>\n   <g id=\"text_70\">\n    <!-- 0 -->\n    <g style=\"fill: #444443\" transform=\"translate(457.4484 9.947031) scale(0.13 -0.13)\">\n     <defs>\n      <path id=\"DejaVuSansMono-30\" d=\"M 1509 2344  Q 1509 2516 1629 2641  Q 1750 2766 1919 2766  Q 2094 2766 2219 2641  Q 2344 2516 2344 2344  Q 2344 2169 2220 2047  Q 2097 1925 1919 1925  Q 1744 1925 1626 2044  Q 1509 2163 1509 2344  z M 1925 4250  Q 1484 4250 1267 3775  Q 1050 3300 1050 2328  Q 1050 1359 1267 884  Q 1484 409 1925 409  Q 2369 409 2586 884  Q 2803 1359 2803 2328  Q 2803 3300 2586 3775  Q 2369 4250 1925 4250  z M 1925 4750  Q 2672 4750 3055 4137  Q 3438 3525 3438 2328  Q 3438 1134 3055 521  Q 2672 -91 1925 -91  Q 1178 -91 797 521  Q 416 1134 416 2328  Q 416 3525 797 4137  Q 1178 4750 1925 4750  z \" transform=\"scale(0.015625)\"/>\n     </defs>\n     <use xlink:href=\"#DejaVuSansMono-30\"/>\n    </g>\n   </g>\n   <g id=\"text_71\">\n    <!-- ) -->\n    <g style=\"fill: #444443\" transform=\"translate(463.977 9.947031) scale(0.13 -0.13)\">\n     <defs>\n      <path id=\"DejaVuSansMono-29\" d=\"M 1088 4856  L 1588 4856  Q 2059 4119 2290 3412  Q 2522 2706 2522 2009  Q 2522 1306 2290 600  Q 2059 -106 1588 -844  L 1088 -844  Q 1503 -119 1708 590  Q 1913 1300 1913 2009  Q 1913 2722 1708 3431  Q 1503 4141 1088 4856  z \" transform=\"scale(0.015625)\"/>\n     </defs>\n     <use xlink:href=\"#DejaVuSansMono-29\"/>\n    </g>\n   </g>\n   <g id=\"text_72\">\n    <!-- 5 -->\n    <g transform=\"translate(52.435631 37.897572) rotate(-90) scale(0.09 -0.09)\">\n     <defs>\n      <path id=\"DejaVuSans-35\" d=\"M 691 4666  L 3169 4666  L 3169 4134  L 1269 4134  L 1269 2991  Q 1406 3038 1543 3061  Q 1681 3084 1819 3084  Q 2600 3084 3056 2656  Q 3513 2228 3513 1497  Q 3513 744 3044 326  Q 2575 -91 1722 -91  Q 1428 -91 1123 -41  Q 819 9 494 109  L 494 744  Q 775 591 1075 516  Q 1375 441 1709 441  Q 2250 441 2565 725  Q 2881 1009 2881 1497  Q 2881 1984 2565 2268  Q 2250 2553 1709 2553  Q 1456 2553 1204 2497  Q 953 2441 691 2322  L 691 4666  z \" transform=\"scale(0.015625)\"/>\n     </defs>\n     <use xlink:href=\"#DejaVuSans-35\"/>\n    </g>\n   </g>\n   <g id=\"text_73\">\n    <!-- 2 -->\n    <g transform=\"translate(62.869275 22.297107) scale(0.09 -0.09)\">\n     <defs>\n      <path id=\"DejaVuSans-32\" d=\"M 1228 531  L 3431 531  L 3431 0  L 469 0  L 469 531  Q 828 903 1448 1529  Q 2069 2156 2228 2338  Q 2531 2678 2651 2914  Q 2772 3150 2772 3378  Q 2772 3750 2511 3984  Q 2250 4219 1831 4219  Q 1534 4219 1204 4116  Q 875 4013 500 3803  L 500 4441  Q 881 4594 1212 4672  Q 1544 4750 1819 4750  Q 2544 4750 2975 4387  Q 3406 4025 3406 3419  Q 3406 3131 3298 2873  Q 3191 2616 2906 2266  Q 2828 2175 2409 1742  Q 1991 1309 1228 531  z \" transform=\"scale(0.015625)\"/>\n     </defs>\n     <use xlink:href=\"#DejaVuSans-32\"/>\n    </g>\n   </g>\n   <g id=\"text_74\">\n    <!-- &lt;${\\mathit{float64}}$&gt; -->\n    <g transform=\"translate(47.5324 53.090693) scale(0.07 -0.07)\">\n     <defs>\n      <path id=\"DejaVuSans-3c\" d=\"M 4684 3150  L 1459 2003  L 4684 863  L 4684 294  L 678 1747  L 678 2266  L 4684 3719  L 4684 3150  z \" transform=\"scale(0.015625)\"/>\n      <path id=\"DejaVuSans-Oblique-66\" d=\"M 3059 4863  L 2969 4384  L 2419 4384  Q 2106 4384 1964 4261  Q 1822 4138 1753 3809  L 1691 3500  L 2638 3500  L 2553 3053  L 1606 3053  L 1013 0  L 434 0  L 1031 3053  L 481 3053  L 563 3500  L 1113 3500  L 1159 3744  Q 1278 4363 1576 4613  Q 1875 4863 2516 4863  L 3059 4863  z \" transform=\"scale(0.015625)\"/>\n      <path id=\"DejaVuSans-Oblique-6c\" d=\"M 1172 4863  L 1747 4863  L 800 0  L 225 0  L 1172 4863  z \" transform=\"scale(0.015625)\"/>\n      <path id=\"DejaVuSans-Oblique-6f\" d=\"M 1625 -91  Q 1009 -91 651 289  Q 294 669 294 1325  Q 294 1706 417 2101  Q 541 2497 738 2766  Q 1047 3184 1428 3384  Q 1809 3584 2291 3584  Q 2888 3584 3255 3212  Q 3622 2841 3622 2241  Q 3622 1825 3500 1412  Q 3378 1000 3181 728  Q 2875 309 2494 109  Q 2113 -91 1625 -91  z M 891 1344  Q 891 869 1089 633  Q 1288 397 1691 397  Q 2269 397 2648 901  Q 3028 1406 3028 2181  Q 3028 2634 2825 2865  Q 2622 3097 2228 3097  Q 1903 3097 1650 2945  Q 1397 2794 1197 2484  Q 1050 2253 970 1956  Q 891 1659 891 1344  z \" transform=\"scale(0.015625)\"/>\n      <path id=\"DejaVuSans-Oblique-61\" d=\"M 3438 1997  L 3047 0  L 2472 0  L 2578 531  Q 2325 219 2001 64  Q 1678 -91 1281 -91  Q 834 -91 548 182  Q 263 456 263 884  Q 263 1497 752 1853  Q 1241 2209 2100 2209  L 2900 2209  L 2931 2363  Q 2938 2388 2941 2417  Q 2944 2447 2944 2509  Q 2944 2788 2717 2942  Q 2491 3097 2081 3097  Q 1800 3097 1504 3025  Q 1209 2953 897 2809  L 997 3341  Q 1322 3463 1633 3523  Q 1944 3584 2234 3584  Q 2853 3584 3176 3315  Q 3500 3047 3500 2534  Q 3500 2431 3484 2292  Q 3469 2153 3438 1997  z M 2816 1759  L 2241 1759  Q 1534 1759 1195 1570  Q 856 1381 856 984  Q 856 709 1029 553  Q 1203 397 1509 397  Q 1978 397 2328 733  Q 2678 1069 2791 1631  L 2816 1759  z \" transform=\"scale(0.015625)\"/>\n      <path id=\"DejaVuSans-Oblique-74\" d=\"M 2706 3500  L 2619 3053  L 1472 3053  L 1100 1153  Q 1081 1047 1072 975  Q 1063 903 1063 863  Q 1063 663 1183 572  Q 1303 481 1569 481  L 2150 481  L 2053 0  L 1503 0  Q 991 0 739 200  Q 488 400 488 806  Q 488 878 497 964  Q 506 1050 525 1153  L 897 3053  L 409 3053  L 500 3500  L 978 3500  L 1172 4494  L 1747 4494  L 1556 3500  L 2706 3500  z \" transform=\"scale(0.015625)\"/>\n      <path id=\"DejaVuSans-36\" d=\"M 2113 2584  Q 1688 2584 1439 2293  Q 1191 2003 1191 1497  Q 1191 994 1439 701  Q 1688 409 2113 409  Q 2538 409 2786 701  Q 3034 994 3034 1497  Q 3034 2003 2786 2293  Q 2538 2584 2113 2584  z M 3366 4563  L 3366 3988  Q 3128 4100 2886 4159  Q 2644 4219 2406 4219  Q 1781 4219 1451 3797  Q 1122 3375 1075 2522  Q 1259 2794 1537 2939  Q 1816 3084 2150 3084  Q 2853 3084 3261 2657  Q 3669 2231 3669 1497  Q 3669 778 3244 343  Q 2819 -91 2113 -91  Q 1303 -91 875 529  Q 447 1150 447 2328  Q 447 3434 972 4092  Q 1497 4750 2381 4750  Q 2619 4750 2861 4703  Q 3103 4656 3366 4563  z \" transform=\"scale(0.015625)\"/>\n      <path id=\"DejaVuSans-34\" d=\"M 2419 4116  L 825 1625  L 2419 1625  L 2419 4116  z M 2253 4666  L 3047 4666  L 3047 1625  L 3713 1625  L 3713 1100  L 3047 1100  L 3047 0  L 2419 0  L 2419 1100  L 313 1100  L 313 1709  L 2253 4666  z \" transform=\"scale(0.015625)\"/>\n      <path id=\"DejaVuSans-3e\" d=\"M 678 3150  L 678 3719  L 4684 2266  L 4684 1747  L 678 294  L 678 863  L 3897 2003  L 678 3150  z \" transform=\"scale(0.015625)\"/>\n     </defs>\n     <use xlink:href=\"#DejaVuSans-3c\" transform=\"translate(0 0.015625)\"/>\n     <use xlink:href=\"#DejaVuSans-Oblique-66\" transform=\"translate(83.789062 0.015625)\"/>\n     <use xlink:href=\"#DejaVuSans-Oblique-6c\" transform=\"translate(118.994141 0.015625)\"/>\n     <use xlink:href=\"#DejaVuSans-Oblique-6f\" transform=\"translate(146.777344 0.015625)\"/>\n     <use xlink:href=\"#DejaVuSans-Oblique-61\" transform=\"translate(207.958984 0.015625)\"/>\n     <use xlink:href=\"#DejaVuSans-Oblique-74\" transform=\"translate(269.238281 0.015625)\"/>\n     <use xlink:href=\"#DejaVuSans-36\" transform=\"translate(308.447266 0.015625)\"/>\n     <use xlink:href=\"#DejaVuSans-34\" transform=\"translate(372.070312 0.015625)\"/>\n     <use xlink:href=\"#DejaVuSans-3e\" transform=\"translate(435.693359 0.015625)\"/>\n    </g>\n   </g>\n   <g id=\"text_75\">\n    <!-- 5 -->\n    <g transform=\"translate(199.329131 37.897572) rotate(-90) scale(0.09 -0.09)\">\n     <use xlink:href=\"#DejaVuSans-35\"/>\n    </g>\n   </g>\n   <g id=\"text_76\">\n    <!-- 2 -->\n    <g transform=\"translate(209.762775 22.297107) scale(0.09 -0.09)\">\n     <use xlink:href=\"#DejaVuSans-32\"/>\n    </g>\n   </g>\n   <g id=\"text_77\">\n    <!-- &lt;${\\mathit{float64}}$&gt; -->\n    <g transform=\"translate(194.4259 53.090693) scale(0.07 -0.07)\">\n     <use xlink:href=\"#DejaVuSans-3c\" transform=\"translate(0 0.015625)\"/>\n     <use xlink:href=\"#DejaVuSans-Oblique-66\" transform=\"translate(83.789062 0.015625)\"/>\n     <use xlink:href=\"#DejaVuSans-Oblique-6c\" transform=\"translate(118.994141 0.015625)\"/>\n     <use xlink:href=\"#DejaVuSans-Oblique-6f\" transform=\"translate(146.777344 0.015625)\"/>\n     <use xlink:href=\"#DejaVuSans-Oblique-61\" transform=\"translate(207.958984 0.015625)\"/>\n     <use xlink:href=\"#DejaVuSans-Oblique-74\" transform=\"translate(269.238281 0.015625)\"/>\n     <use xlink:href=\"#DejaVuSans-36\" transform=\"translate(308.447266 0.015625)\"/>\n     <use xlink:href=\"#DejaVuSans-34\" transform=\"translate(372.070312 0.015625)\"/>\n     <use xlink:href=\"#DejaVuSans-3e\" transform=\"translate(435.693359 0.015625)\"/>\n    </g>\n   </g>\n   <g id=\"text_78\">\n    <!-- 5 -->\n    <g transform=\"translate(401.715731 37.897572) rotate(-90) scale(0.09 -0.09)\">\n     <use xlink:href=\"#DejaVuSans-35\"/>\n    </g>\n   </g>\n   <g id=\"text_79\">\n    <!-- 2 -->\n    <g transform=\"translate(412.149375 22.297107) scale(0.09 -0.09)\">\n     <use xlink:href=\"#DejaVuSans-32\"/>\n    </g>\n   </g>\n   <g id=\"text_80\">\n    <!-- &lt;${\\mathit{float64}}$&gt; -->\n    <g transform=\"translate(396.8125 53.090693) scale(0.07 -0.07)\">\n     <use xlink:href=\"#DejaVuSans-3c\" transform=\"translate(0 0.015625)\"/>\n     <use xlink:href=\"#DejaVuSans-Oblique-66\" transform=\"translate(83.789062 0.015625)\"/>\n     <use xlink:href=\"#DejaVuSans-Oblique-6c\" transform=\"translate(118.994141 0.015625)\"/>\n     <use xlink:href=\"#DejaVuSans-Oblique-6f\" transform=\"translate(146.777344 0.015625)\"/>\n     <use xlink:href=\"#DejaVuSans-Oblique-61\" transform=\"translate(207.958984 0.015625)\"/>\n     <use xlink:href=\"#DejaVuSans-Oblique-74\" transform=\"translate(269.238281 0.015625)\"/>\n     <use xlink:href=\"#DejaVuSans-36\" transform=\"translate(308.447266 0.015625)\"/>\n     <use xlink:href=\"#DejaVuSans-34\" transform=\"translate(372.070312 0.015625)\"/>\n     <use xlink:href=\"#DejaVuSans-3e\" transform=\"translate(435.693359 0.015625)\"/>\n    </g>\n   </g>\n  </g>\n </g>\n <defs>\n  <clipPath id=\"p1f5696d66f\">\n   <rect x=\"0\" y=\"4.901991\" width=\"470.5056\" height=\"42.315395\"/>\n  </clipPath>\n </defs>\n</svg>"
          },
          "metadata": {}
        },
        {
          "output_type": "execute_result",
          "data": {
            "text/plain": [
              "array([[-10.99339709,  -5.88071407],\n",
              "       [-11.51828896,  -6.16149525],\n",
              "       [-12.04318084,  -6.44227643],\n",
              "       [  0.        ,   4.72373044],\n",
              "       [  5.46350686,   2.92260175]])"
            ]
          },
          "metadata": {},
          "execution_count": 33
        }
      ]
    },
    {
      "cell_type": "code",
      "source": [
        "from sympy.simplify.fu import L\n",
        "l1_w_gradient = input.T @ l1_output_gradient\n",
        "l1_b_gradient = np.mean(l1_output_gradient, axis=0)\n",
        "\n",
        "l1_weights -= l1_w_gradient *lr\n",
        "l1_bias -= l1_b_gradient * lr\n"
      ],
      "metadata": {
        "id": "qHpZOqpZGN3x"
      },
      "execution_count": 39,
      "outputs": []
    },
    {
      "cell_type": "code",
      "source": [
        "l1_weights"
      ],
      "metadata": {
        "colab": {
          "base_uri": "https://localhost:8080/"
        },
        "id": "IztrPMzmG3Dp",
        "outputId": "0a2a4d76-e0c1-46c5-a525-e3540a593bd2"
      },
      "execution_count": 40,
      "outputs": [
        {
          "output_type": "execute_result",
          "data": {
            "text/plain": [
              "array([[0.85175071, 0.1179292 ]])"
            ]
          },
          "metadata": {},
          "execution_count": 40
        }
      ]
    },
    {
      "cell_type": "code",
      "source": [
        "l1_bias"
      ],
      "metadata": {
        "colab": {
          "base_uri": "https://localhost:8080/"
        },
        "id": "zlSMXLtOG5nP",
        "outputId": "14447dd2-6333-477c-b45a-e47ab215608b"
      },
      "execution_count": 41,
      "outputs": [
        {
          "output_type": "execute_result",
          "data": {
            "text/plain": [
              "array([[11.99005818, 10.00002168]])"
            ]
          },
          "metadata": {},
          "execution_count": 41
        }
      ]
    },
    {
      "cell_type": "markdown",
      "source": [
        "1. Run the network forward pass, and get the output.\n",
        "2. Compute gradient with respect to the output of network. (the mse_grad function)\n",
        "3. For each layer in the network:\n",
        "- Compute the gradient with respect to the pre nonlinearity output (if the layer has a nonlinearity)\n",
        "- Compute the gradient with respect to the weights\n",
        "- Compute the gradient with respect to the biases\n",
        "- Compute the gradient with respect to the input to the layer\n",
        "4. Update the parameters in the network using gradient descent."
      ],
      "metadata": {
        "id": "bTL5N1TOHF79"
      }
    },
    {
      "cell_type": "code",
      "source": [
        "import numpy as np\n",
        "from sklearn.preprocessing import StandardScaler\n",
        "\n",
        "predictors = [\"tmax\", \"tmin\", \"rain\"]\n",
        "target = \"tmax_tomorrow\"\n",
        "\n",
        "scaler = StandardScaler()\n",
        "data[predictors] = scaler.fit_transform(data[predictors])\n",
        "\n",
        "split_data = np.split(data, [int(.7 * len(data)), int(.85 * len(data))])\n",
        "(train_x, train_y), (valid_x, valid_y), (test_x, test_y) = [[d[predictors].to_numpy(), d[[target]].to_numpy()]\n",
        "                                                            for d in split_data]"
      ],
      "metadata": {
        "id": "LuT6v7yEH55g"
      },
      "execution_count": 42,
      "outputs": []
    },
    {
      "cell_type": "code",
      "source": [
        "def init_layers(inputs):\n",
        "  layers = []\n",
        "  for i in range(1, len(inputs)):\n",
        "    layers.append([\n",
        "        np.random.rand(inputs[i-1], inputs[1]) / 5 - .1,\n",
        "                       np.ones((1, inputs[i]))\n",
        "    ])\n",
        "    return layers\n",
        "\n",
        "layer_conf = [3, 10, 10 , 1]\n",
        "layers = init_layers(layer_conf)"
      ],
      "metadata": {
        "id": "Lo54ZBjOVMem"
      },
      "execution_count": 44,
      "outputs": []
    },
    {
      "cell_type": "code",
      "source": [
        "def forward(batch, layers):\n",
        "  hiddens = [batch.copy()]\n",
        "  for i in range(len(layers)):\n",
        "    batch = np.matmul(batch, layers[i][0]) + layers[i][1]\n",
        "    if i < len(layers) - 1:\n",
        "      batch = np.maximum(batch, 0)\n",
        "    hiddens.append(batch.copy())\n",
        "  return batch, hiddens"
      ],
      "metadata": {
        "id": "6EbDlM7IV44V"
      },
      "execution_count": 45,
      "outputs": []
    },
    {
      "cell_type": "code",
      "source": [
        "def mse(actual, predicted):\n",
        "  return (actual - predicted) **2\n",
        "\n",
        "def mse_grad(actual, predicted):\n",
        "  return predicted - actual"
      ],
      "metadata": {
        "id": "Pi-ovBljW5u7"
      },
      "execution_count": 54,
      "outputs": []
    },
    {
      "cell_type": "code",
      "source": [
        "def backward(layers, hidden, grad, lr):\n",
        "  for i in range(len(layers)-1, -1, -1):\n",
        "    if i != len(layers) - 1:\n",
        "      grad = np.multiply(grad, np.heaviside(hidden[i+1], 0))\n",
        "\n",
        "    w_grad = hidden[i].T @ grad\n",
        "    b_grad = np.mean(grad, axis=0)\n",
        "    layers[i][0] -= w_grad * lr\n",
        "    layers[i][1] -= b_grad * lr\n",
        "    grad = grad @ layers[i][0].T\n",
        "\n",
        "  return layers"
      ],
      "metadata": {
        "id": "PKeS0XmqXJIX"
      },
      "execution_count": 59,
      "outputs": []
    },
    {
      "cell_type": "code",
      "source": [
        "lr = 1e-6\n",
        "\n",
        "epochs = 10\n",
        "batch_size = 8\n",
        "\n",
        "layers = init_layers(layer_conf)\n",
        "\n",
        "for epoch in range(epochs):\n",
        "  epoch_loss = 0\n",
        "\n",
        "  for i in range(0, train_x.shape[0], batch_size):\n",
        "    x_batch = train_x[i:(i+batch_size)]\n",
        "    y_batch = train_y[i:(i+batch_size)]\n",
        "\n",
        "    pred, hidden = forward(x_batch, layers)\n",
        "\n",
        "    loss = mse_grad(y_batch, pred)\n",
        "    epoch_loss += np.mean(loss ** 2)\n",
        "\n",
        "    layers = backward(layers, hidden, loss, lr)\n",
        "\n",
        "  valid_preds, _ = forward(valid_x, layers)\n",
        "\n",
        "  print(f\"Epoch {epoch} Train MSE: {epoch_loss / (train_x.shape[0] / batch_size)} Valid MSE: {np.mean(mse(valid_preds, valid_y))}\")"
      ],
      "metadata": {
        "colab": {
          "base_uri": "https://localhost:8080/"
        },
        "id": "Mb3RJLCNX-ua",
        "outputId": "b062642e-53de-4404-9de1-5cd9391502b2"
      },
      "execution_count": 62,
      "outputs": [
        {
          "output_type": "stream",
          "name": "stdout",
          "text": [
            "Epoch 0 Train MSE: 4196.8032603929105 Valid MSE: 4448.360114428051\n",
            "Epoch 1 Train MSE: 4186.6626039718385 Valid MSE: 4437.861928245674\n",
            "Epoch 2 Train MSE: 4176.553049661865 Valid MSE: 4427.40196231988\n",
            "Epoch 3 Train MSE: 4166.47433645812 Valid MSE: 4416.9797952833105\n",
            "Epoch 4 Train MSE: 4156.426209456664 Valid MSE: 4406.595014770753\n",
            "Epoch 5 Train MSE: 4146.408419673979 Valid MSE: 4396.247217190736\n",
            "Epoch 6 Train MSE: 4136.420723871941 Valid MSE: 4385.936007503365\n",
            "Epoch 7 Train MSE: 4126.462884388237 Valid MSE: 4375.660999004211\n",
            "Epoch 8 Train MSE: 4116.534668971779 Valid MSE: 4365.421813114082\n",
            "Epoch 9 Train MSE: 4106.635850623271 Valid MSE: 4355.2180791745195\n"
          ]
        }
      ]
    },
    {
      "cell_type": "code",
      "source": [
        "layers[0]"
      ],
      "metadata": {
        "colab": {
          "base_uri": "https://localhost:8080/"
        },
        "id": "EYcwbO99d7f8",
        "outputId": "b92e8f21-2d2c-404d-e87c-f653ae1af251"
      },
      "execution_count": 63,
      "outputs": [
        {
          "output_type": "execute_result",
          "data": {
            "text/plain": [
              "[array([[ 0.0033377 ,  0.08900864,  0.01638607,  0.1017821 ,  0.06670159,\n",
              "          0.07006146,  0.10460939,  0.09544968,  0.06387542,  0.05041442],\n",
              "        [ 0.44874016,  0.46225456,  0.37660875,  0.39524301,  0.4600428 ,\n",
              "          0.31588118,  0.3785449 ,  0.43589704,  0.44151212,  0.47175042],\n",
              "        [-0.04439513, -0.15233261, -0.06739136, -0.05945992, -0.07403505,\n",
              "         -0.16572688, -0.15918551, -0.02341541, -0.17290465, -0.11851902]]),\n",
              " array([[1.75540049, 1.75551514, 1.75541024, 1.7555093 , 1.75547857,\n",
              "         1.75547825, 1.75552427, 1.75550182, 1.75548671, 1.75546733]])]"
            ]
          },
          "metadata": {},
          "execution_count": 63
        }
      ]
    },
    {
      "cell_type": "code",
      "source": [
        "pred, _ = forward(test_x, layers)\n",
        "np.mean(mse(test_y, pred))\n"
      ],
      "metadata": {
        "colab": {
          "base_uri": "https://localhost:8080/"
        },
        "id": "1KSKlN66d-Xy",
        "outputId": "a07287eb-6b4a-43a2-8646-8c43e6bcb104"
      },
      "execution_count": 64,
      "outputs": [
        {
          "output_type": "execute_result",
          "data": {
            "text/plain": [
              "4496.9281429033135"
            ]
          },
          "metadata": {},
          "execution_count": 64
        }
      ]
    }
  ]
}